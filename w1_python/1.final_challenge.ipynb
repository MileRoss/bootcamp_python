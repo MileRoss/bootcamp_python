{
 "cells": [
  {
   "cell_type": "markdown",
   "id": "17b5011f-fe01-4ae3-97a7-a79c2f353088",
   "metadata": {},
   "source": [
    "1. Create a function that returns the sum of the two lowest positive numbers given an array of minimum 2 integers. No floats or empty arrays will be passed.\n",
    "Bonus: Try to not modify the original array."
   ]
  },
  {
   "cell_type": "code",
   "execution_count": null,
   "id": "4713cdbe-f004-4cb1-a22a-5755c1c79d76",
   "metadata": {},
   "outputs": [],
   "source": [
    "from typing import List\n",
    "\n",
    "def sum_two_smallest_numbers(integers: List[int]) -> int:\n",
    "    sorted_integers = sorted(integers)\n",
    "    return sorted_integers[0] + sorted_integers[1]\n",
    "  \n",
    "integers = [14, 2, 3]\n",
    "result = sum_two_smallest_numbers(integers)\n",
    "print(result)"
   ]
  },
  {
   "cell_type": "markdown",
   "id": "b615805d-0933-423f-a7b2-5c71357d7412",
   "metadata": {},
   "source": [
    "2. You are given an array (which will have a length of at least 3, but could be very large) containing integers.\\\n",
    "The array is either entirely comprised of odd integers or entirely comprised of even integers except for a single integer N.\\\n",
    "Write a method that takes the array as an argument and returns this \"outlier\" N.\n",
    "\n",
    "Specification\n",
    "- find_outlier(integers)\n",
    "- Parameters\n",
    "- **integers**: Array (of Integers)\n",
    "- **Return Value**\n",
    "- **Integer** - The only odd or even number\n",
    "- **Examples**:\n",
    "\n",
    "| integers                       | Return Value |\n",
    "|--------------------------------|--------------|\n",
    "| [2, 4, 0, 4, 11, 2602, 36]     | 11           |\n",
    "| [160, 3, 1719, 19, 13, -21]    | 160          |"
   ]
  },
  {
   "cell_type": "code",
   "execution_count": null,
   "id": "43791d9e-9432-4b27-92f3-ec90614eeed6",
   "metadata": {},
   "outputs": [],
   "source": [
    "from typing import List\n",
    "\n",
    "def find_outlier(integers: List[int]) -> int:\n",
    "    odds = []\n",
    "    evens = []\n",
    "    for integer in integers:\n",
    "        if integer % 2 == 0:\n",
    "            evens.append(integer)\n",
    "        else:\n",
    "            odds.append(integer)\n",
    "\n",
    "    return evens[0] if len(evens) == 1 else odds[0]\n",
    "\n",
    "integers = [160,3,1719,19,13,-21]\n",
    "find_outlier(integers)"
   ]
  },
  {
   "cell_type": "markdown",
   "id": "f26a5c8b-7588-4e6f-947c-54ea8aa6479c",
   "metadata": {},
   "source": [
    "3. Complete the function: \n",
    "\n",
    "```python\n",
    "def merge_strings(a: str, b: str) -> str:\n",
    "    \n",
    "    return \"\"\n",
    "```\n",
    "The function must merge strings a and b, and then return a single merged string. A merge operation on two strings is described as follows:\n",
    "\n",
    "Append alternating characters from a and b, respectively, to some new string, mergedString.\\\n",
    "Once all of the characters in one of the strings have been merged, append the remaining characters in the other string to mergedString.\n",
    "\n",
    "- **Specification**: merge_strings(a, b)\n",
    "- **Parameters**: `a`: `String`, `b`: `String`\n",
    "- **Return Value**: `String` - The `mergedString`\n",
    "\n",
    "- **Constraints**\n",
    "- \\(1 \\leq \\text{a length} \\leq 25000\\)\n",
    "- \\(1 \\leq \\text{b length} \\leq 25000\\)\n",
    "\n",
    "- **Examples**:\n",
    "| a     | b     | Return Value |\n",
    "|-------|-------|--------------|\n",
    "| \"abc\" | \"def\" | \"adbcef\"     |\n",
    "| \"ab\"  | \"def\" | \"adbef\"      |\n",
    "| \"abc\" | \"de\"  | \"adbce\"      |"
   ]
  },
  {
   "cell_type": "code",
   "execution_count": null,
   "id": "3acc0532-293f-492c-ab51-9242efdabd08",
   "metadata": {},
   "outputs": [],
   "source": [
    "def merge_strings(a: str, b: str) -> str:\n",
    "    merged = []\n",
    "    len_a, len_b = len(a), len(b)\n",
    "    min_len = min(len_a, len_b)\n",
    "    \n",
    "    for i in range(min_len):\n",
    "        merged.append(a[i])\n",
    "        merged.append(b[i])\n",
    "    \n",
    "    if len_a > min_len:\n",
    "        merged.extend(a[min_len:])\n",
    "    elif len_b > min_len:\n",
    "        merged.extend(b[min_len:])\n",
    "    \n",
    "    return ''.join(merged)\n",
    "\n",
    "# Example usage with variables a and b\n",
    "a = \"abc\"\n",
    "b = \"def\"\n",
    "print(merge_strings(a, b))  # Output: \"adbecf\"\n",
    "\n",
    "a = \"ab\"\n",
    "b = \"def\"\n",
    "print(merge_strings(a, b))  # Output: \"adbef\"\n",
    "\n",
    "a = \"abc\"\n",
    "b = \"de\"\n",
    "print(merge_strings(a, b))  # Output: \"adbce\""
   ]
  },
  {
   "cell_type": "markdown",
   "id": "852dc97d-d3f6-40b3-b116-ac5f524359f5",
   "metadata": {},
   "source": [
    "4. In this little assignment you are given a string of space separated numbers, and have to return the highest and lowest number.\n",
    "\n",
    "```python\n",
    "def high_and_low(numbers: str) -> str:\n",
    "    \n",
    "    return \"\"\n",
    "```"
   ]
  },
  {
   "cell_type": "code",
   "execution_count": null,
   "id": "3b0847d0-e658-4f06-a8b3-0eab7f33f1e8",
   "metadata": {},
   "outputs": [],
   "source": [
    "def high_and_low(numbers: str) -> str:\n",
    "    numbers_split = numbers.split(\" \")\n",
    "    numbers_int = [int(number) for number in numbers_split]\n",
    "    numbers_sorted = sorted(numbers_int)\n",
    "    return f\"{numbers_sorted[-1]} {numbers_sorted[0]}\"\n",
    "\n",
    "\n",
    "numbers = \"1 9 3 4 -5\"\n",
    "high_and_low(numbers)"
   ]
  },
  {
   "cell_type": "markdown",
   "id": "c48a248a-d3fa-4fea-ba9f-95f42f824076",
   "metadata": {},
   "source": [
    "5. Write a function that takes a string input,and returns the first character that is not repeated anywhere in the string.\\\n",
    "Characters in strings consist of printable characters.\\\n",
    "As an added challenge, upper- and lowercase letters are considered the same character, but the function should return the correct case for the initial letter.\\\n",
    "For example, the input 'sTreSS' should return 'T'.\n",
    "\n",
    "If a string contains all repeating characters, it should return the empty string (\"\").\n",
    "\n",
    "```python\n",
    "def first_non_repeating_letter(s: str) -> str:\n",
    "    \n",
    "    return \"\"\n",
    "```\n",
    "\n",
    "Documentation\n",
    "- first_non_repeating_letter(s)\n",
    "- **Parameters**: `s`: `String` - a string to be parsed\n",
    "- **Return Value**: `String` - the first character that is not repeated anywhere in the string\n",
    "- **Examples**:\n",
    "| s        | Return Value |\n",
    "|----------|--------------|\n",
    "| \"stress\" | \"t\"          |\n",
    "| \"STreSS\" | \"T\"          |\n",
    "\n",
    "- **Example #1 Explanation**\n",
    "- In the input `\"stress\"`, the function should return `\"t\"`, since the letter `t` only occurs once in the string, and occurs first in the string.\n",
    "\n",
    "- **Tip**: You could search for a method that counts the number of occurrences of a character in a string."
   ]
  },
  {
   "cell_type": "code",
   "execution_count": null,
   "id": "fb5ee2cd-ee87-47bd-a617-e3b7cf676f18",
   "metadata": {},
   "outputs": [],
   "source": [
    "def first_non_repeating_letter(s: str) -> str:\n",
    "    lower_s = s.lower()\n",
    "    letters = [letter for letter in s if lower_s.count(letter.lower()) == 1]\n",
    "    return letters[0]\n",
    "\n",
    "s1 = \"stress\"\n",
    "print(first_non_repeating_letter(s1))  # Output: \"t\"\n",
    "\n",
    "s2 = \"sTreSS\"\n",
    "print(first_non_repeating_letter(s2))  # Output: \"T\""
   ]
  }
 ],
 "metadata": {
  "kernelspec": {
   "display_name": "Python 3 (ipykernel)",
   "language": "python",
   "name": "python3"
  },
  "language_info": {
   "codemirror_mode": {
    "name": "ipython",
    "version": 3
   },
   "file_extension": ".py",
   "mimetype": "text/x-python",
   "name": "python",
   "nbconvert_exporter": "python",
   "pygments_lexer": "ipython3",
   "version": "3.11.8"
  }
 },
 "nbformat": 4,
 "nbformat_minor": 5
}
