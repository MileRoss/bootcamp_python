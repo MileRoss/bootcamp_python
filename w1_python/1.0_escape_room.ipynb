{
 "cells": [
  {
   "cell_type": "markdown",
   "id": "11cea21f-5dcc-49aa-a6de-60f607e3291c",
   "metadata": {},
   "source": [
    "<img src=\"https://raw.githubusercontent.com/ta-data-lis/python-project/master/escape-room-plan.jpg\" width=400 height=400>"
   ]
  },
  {
   "cell_type": "code",
   "execution_count": null,
   "id": "0d1a0fb0",
   "metadata": {},
   "outputs": [],
   "source": [
    "rooms = {\n",
    "    \"game_room\": {\"couch\": \"nothing\",\n",
    "                  \"piano\": \"key\",\n",
    "                  \"door A\": \"door\"},\n",
    "    \"bedroom_1\": {\"queen bed\": \"key\",\n",
    "                  \"door A\": \"door\",\n",
    "                  \"door B\": \"door\",\n",
    "                  \"door C\": \"door\"},\n",
    "    \"bedroom_2\": {\"double bed\": \"key\",\n",
    "                  \"dresser\": \"key\",\n",
    "                  \"door B\": \"door\"},\n",
    "    \"living_room\": {\"dining table\": \"nothing\",\n",
    "                    \"door C\": \"door\",\n",
    "                    \"door D\": \"door\"}\n",
    "}\n",
    "\n",
    "keys = set()"
   ]
  },
  {
   "cell_type": "code",
   "execution_count": null,
   "id": "1b281dad-d5e4-482e-9d82-69d7159a3d0d",
   "metadata": {},
   "outputs": [],
   "source": [
    "def game_room_f():\n",
    "    found_key = False\n",
    "    objects = list(rooms['game_room'])\n",
    "    \n",
    "    while not found_key:\n",
    "        move = input(f\"Which one of these objects do you wish to explore: {objects}\").strip().lower()\n",
    "        if move == \"piano\":\n",
    "            print(\"You've found the key to door A.\")\n",
    "            keys.add(\"door_A_key\")\n",
    "            found_key = True\n",
    "        elif move == \"couch\":\n",
    "            print(\"Try elsewhere.\")\n",
    "        elif move == \"door a\":\n",
    "            print(\"This is the door to bedroom 1. You need to find the key.\")\n",
    "        else:\n",
    "            print(\"Only type the name of the object offered above.\")"
   ]
  },
  {
   "cell_type": "code",
   "execution_count": null,
   "id": "18265c2c-72ec-4477-a9b5-9ecf17391c3b",
   "metadata": {},
   "outputs": [],
   "source": [
    "def bedroom_1_f():\n",
    "    found_key = False\n",
    "    objects = list(rooms['bedroom_1'])\n",
    "    \n",
    "    while not found_key:\n",
    "        move = input(f\"Which one of these objects do you wish to explore: {objects}\").strip().lower()\n",
    "        if move == \"queen bed\":\n",
    "            print(\"You've found the key to door B.\")\n",
    "            keys.add(\"door_B_key\")\n",
    "            found_key = True\n",
    "        elif move == \"door a\":\n",
    "            print(\"Try other rooms.\")\n",
    "        elif move == \"door b\":\n",
    "            print(\"This is the door to bedroom 2. You need to find the key.\")\n",
    "        elif move == \"door c\":\n",
    "            print(\"This is the door to the living room. You need to find the key.\")\n",
    "        else:\n",
    "            print(\"Only type the name of the object offered above.\")"
   ]
  },
  {
   "cell_type": "code",
   "execution_count": null,
   "id": "563548c1-ef7b-4991-9bb8-76818512c548",
   "metadata": {},
   "outputs": [],
   "source": [
    "def bedroom_2_f():\n",
    "    found_key = False\n",
    "    objects = list(rooms['bedroom_2'])\n",
    "    \n",
    "    while not found_key:\n",
    "        move = input(f\"Which one of these objects do you wish to explore: {objects}\").strip().lower()\n",
    "        if move == \"double bed\":\n",
    "            print(\"You've found the key to door C.\")\n",
    "            keys.add(\"door_C_key\")\n",
    "        elif move == \"dresser\":\n",
    "            print(\"You've found the key to door D.\")\n",
    "            keys.add(\"door_D_key\")\n",
    "            found_key = True\n",
    "        elif move == \"door b\":\n",
    "            print(\"This is the door to bedroom 2. You need to find the key.\")\n",
    "        else:\n",
    "            print(\"Only type the name of the object offered above.\")"
   ]
  },
  {
   "cell_type": "code",
   "execution_count": null,
   "id": "71f90ca7-f7f0-42ba-9454-feda9c5c780d",
   "metadata": {},
   "outputs": [],
   "source": [
    "def living_room_f():\n",
    "    found_exit = False\n",
    "    objects = list(rooms['living_room'])\n",
    "    \n",
    "    while not found_exit:\n",
    "        move = input(f\"Which one of these objects do you wish to explore: {objects}\").strip().lower()\n",
    "        if move == \"dining table\" or move == \"door c\":\n",
    "            print(\"Try elsewhere.\")\n",
    "        elif move == \"door d\":\n",
    "            print(\"You're free! Congrats!\")\n",
    "            found_exit = True\n",
    "        else:\n",
    "            print(\"Only type the name of the object offered above.\")"
   ]
  },
  {
   "cell_type": "code",
   "execution_count": null,
   "id": "1273440b-e1cb-42da-9431-35d71341f328",
   "metadata": {},
   "outputs": [],
   "source": [
    "def game():\n",
    "    game_room_f()\n",
    "    bedroom_1_f()\n",
    "    bedroom_2_f()\n",
    "    living_room_f()\n",
    "\n",
    "game()"
   ]
  }
 ],
 "metadata": {
  "kernelspec": {
   "display_name": "Python 3 (ipykernel)",
   "language": "python",
   "name": "python3"
  },
  "language_info": {
   "codemirror_mode": {
    "name": "ipython",
    "version": 3
   },
   "file_extension": ".py",
   "mimetype": "text/x-python",
   "name": "python",
   "nbconvert_exporter": "python",
   "pygments_lexer": "ipython3",
   "version": "3.11.8"
  }
 },
 "nbformat": 4,
 "nbformat_minor": 5
}
