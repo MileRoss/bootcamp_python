{
 "cells": [
  {
   "cell_type": "markdown",
   "id": "25d7736c-ba17-4aff-b6bb-66eba20fbf4e",
   "metadata": {},
   "source": [
    "# Lab | Error Handling"
   ]
  },
  {
   "cell_type": "code",
   "execution_count": 1,
   "id": "d6895869",
   "metadata": {},
   "outputs": [
    {
     "name": "stdout",
     "output_type": "stream",
     "text": [
      "How many t-shirts do you have in inventory?  1\n",
      "How many mugs do you have in inventory?  1\n",
      "How many hats do you have in inventory?  1\n",
      "How many books do you have in inventory?  1\n",
      "How many keychains do you have in inventory?  q\n",
      "Error: You must enter a number.\n",
      "How many keychains do you have in inventory?  -1\n",
      "Error: You must enter a positive number.\n",
      "How many keychains do you have in inventory?  1\n",
      "{'t-shirt': 1, 'mug': 1, 'hat': 1, 'book': 1, 'keychain': 1}\n"
     ]
    }
   ],
   "source": [
    "\"\"\"\n",
    "Step 1: Define the function for initializing the inventory with error handling.\n",
    "   - If the user enters an invalid quantity (e.g., a negative value or a non-numeric value),\n",
    "   display an error message and ask them to re-enter the quantity for that product.\n",
    "   - Use a try-except block to handle the error and\n",
    "   continue prompting the user until a valid quantity is entered.\n",
    "\"\"\"\n",
    "\n",
    "\n",
    "products = [\"t-shirt\", \"mug\", \"hat\", \"book\", \"keychain\"]\n",
    "\n",
    "def initialize_inventory(products):\n",
    "    \n",
    "    inventory = {}\n",
    "    \n",
    "    for product in products:\n",
    "        valid_quantity = False\n",
    "        \n",
    "        while not valid_quantity:\n",
    "            \n",
    "            try:\n",
    "                quantity = int(input(f\"How many {product}s do you have in inventory?  \"))\n",
    "                \n",
    "                if quantity >= 0:\n",
    "                    inventory[product] = quantity\n",
    "                    valid_quantity = True\n",
    "                \n",
    "                else:\n",
    "                    print(\"Error: You must enter a positive number.\")\n",
    "        \n",
    "            except ValueError:\n",
    "                print(\"Error: You must enter a number.\")\n",
    "        \n",
    "    return inventory\n",
    "\n",
    "inventory = initialize_inventory(products)\n",
    "\n",
    "print(inventory)"
   ]
  },
  {
   "cell_type": "code",
   "execution_count": 2,
   "id": "8faefd34",
   "metadata": {},
   "outputs": [
    {
     "name": "stdout",
     "output_type": "stream",
     "text": [
      "Enter the price of t-shirt: 1\n",
      "Enter the price of mug: 1\n",
      "Enter the price of hat: 1\n",
      "Enter the price of book: 1\n",
      "Enter the price of keychain: -1\n",
      "Error: You must enter a positive number.\n",
      "Enter the price of keychain: q\n",
      "Error: You must enter a number.\n",
      "Enter the price of keychain: 1\n",
      "{'t-shirt': 1, 'mug': 1, 'hat': 1, 'book': 1, 'keychain': 1}\n"
     ]
    }
   ],
   "source": [
    "\"\"\"2. Modify the `calculate_total_price` function to include error handling.\n",
    "   - If the user enters an invalid price (e.g., a negative value or a non-numeric value),\n",
    "   display an error message and\n",
    "   ask them to re-enter the price for that product.\n",
    "   - Use a try-except block to handle the error and continue prompting the user until a valid price is entered.\n",
    "\"\"\"\n",
    "\n",
    "\n",
    "def total_price_of_customer_order(products):\n",
    "    \n",
    "    total_price_of_customer_order = {}\n",
    "    \n",
    "    for product in products:\n",
    "        valid_price = False\n",
    "        \n",
    "        while not valid_price:\n",
    "            \n",
    "            try:\n",
    "                price = int(input(f\"Enter the price of {product}: \"))\n",
    "                \n",
    "                if price >= 0:\n",
    "                    total_price_of_customer_order[product] = price\n",
    "                    valid_price = True\n",
    "                    \n",
    "                else:\n",
    "                    print(\"Error: You must enter a positive number.\")\n",
    "        \n",
    "            except ValueError:\n",
    "                print(\"Error: You must enter a number.\")            \n",
    "    \n",
    "    return total_price_of_customer_order\n",
    "\n",
    "total_price_of_customer_order = total_price_of_customer_order(products)\n",
    "\n",
    "print(total_price_of_customer_order)"
   ]
  },
  {
   "cell_type": "code",
   "execution_count": 3,
   "id": "28e954ba",
   "metadata": {},
   "outputs": [
    {
     "name": "stdout",
     "output_type": "stream",
     "text": [
      "From the following selection, enter the name of a product that you wish to order.\n",
      "['t-shirt', 'mug', 'hat', 'book', 'keychain']a\n",
      "Enter a valid product name.\n",
      "Type YES to continue ordering, or NO to stop.  YES\n",
      "Thanks\n",
      "['t-shirt', 'mug', 'hat', 'book', 'keychain']mug\n",
      "Type YES to continue ordering, or NO to stop.  YES\n",
      "Thanks\n",
      "['t-shirt', 'mug', 'hat', 'book', 'keychain']hat\n",
      "Type YES to continue ordering, or NO to stop.  NO\n",
      "Thanks\n",
      "Thanks\n",
      "{'hat', 'mug'}\n"
     ]
    }
   ],
   "source": [
    "\"\"\"\n",
    "3. Modify the `get_customer_orders` function to include error handling.\n",
    "   \n",
    "   - If the user enters an invalid number of orders (e.g., a negative value or a non-numeric value),\n",
    "   display an error message and ask them to re-enter the number of orders.\n",
    "   \n",
    "   - If the user enters an invalid product name (e.g., a product name that is not in the inventory),\n",
    "   or that doesn't have stock available,\n",
    "   display an error message and\n",
    "   ask them to re-enter the product name.\n",
    "   *Hint: you will need to pass inventory as a parameter*\n",
    "   \n",
    "   - Use a try-except block to handle the error and\n",
    "   continue prompting the user until a valid product name is entered.\n",
    "   \"\"\"\n",
    "\n",
    "\n",
    "def get_customer_orders(products, inventory):\n",
    "    customer_orders = set()\n",
    "\n",
    "    user_final = \"YES\"\n",
    "    \n",
    "    print(\"From the following selection, enter the name of a product that you wish to order.\")\n",
    "\n",
    "    while user_final != \"NO\":\n",
    "        try:\n",
    "            product = input(f\"{products}\")\n",
    "            if product in inventory and inventory[product] > 0:\n",
    "                customer_orders.add(product)\n",
    "                inventory[product] -= 1\n",
    "            elif product in inventory and inventory[product] == 0:\n",
    "                print(f\"The {product} is out of stock.\")\n",
    "            else:\n",
    "                print(\"Enter a valid product name.\")\n",
    "                \n",
    "            user_final = input(\"Type YES to continue ordering, or NO to stop.  \")    \n",
    "            if user_final == \"NO\":\n",
    "                print(\"Thanks\")\n",
    "        except ValueError:\n",
    "            print(\"Enter a valid number.\")\n",
    "        finally:\n",
    "            print(\"Thanks\")\n",
    "\n",
    "    return customer_orders\n",
    "\n",
    "customer_orders = get_customer_orders(products, inventory)\n",
    "print(customer_orders)"
   ]
  }
 ],
 "metadata": {
  "kernelspec": {
   "display_name": "Python 3 (ipykernel)",
   "language": "python",
   "name": "python3"
  },
  "language_info": {
   "codemirror_mode": {
    "name": "ipython",
    "version": 3
   },
   "file_extension": ".py",
   "mimetype": "text/x-python",
   "name": "python",
   "nbconvert_exporter": "python",
   "pygments_lexer": "ipython3",
   "version": "3.11.5"
  }
 },
 "nbformat": 4,
 "nbformat_minor": 5
}
