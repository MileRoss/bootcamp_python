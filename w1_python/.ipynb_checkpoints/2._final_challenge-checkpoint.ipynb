{
 "cells": [
  {
   "cell_type": "code",
   "execution_count": null,
   "id": "072b9e45-bc14-42f4-a72c-873adc990ab6",
   "metadata": {},
   "outputs": [],
   "source": [
    "import pandas as pd\n",
    "\n",
    "def analyze(factbook_pop, factbook_obesity):\n",
    "    df_pop = pd.read_csv(factbook_pop, usecols=[\"Name\", \"Value\"])\n",
    "    df_obe = pd.read_csv(factbook_obesity, usecols=[\"Name\", \"Value\"])\n",
    "    df_pop.rename(columns={\"Value\": \"Population\"}, inplace=True)\n",
    "    df_obe.rename(columns={\"Value\": \"Obesity Rate\"}, inplace=True)\n",
    "    df = pd.merge(df_pop, df_obe, how=\"inner\", on=\"Name\")\n",
    "    df = (df[(df[\"Population\"] > 10**7) & (df[\"Obesity Rate\"] > 20.)]\n",
    "            .sort_values(\"Obesity Rate\", ascending=False)\n",
    "            .head(10)\n",
    "            .rename(columns={\"Name\": \"Country\"})\n",
    "            .reset_index(drop=True))\n",
    "    df.index += 1\n",
    "    return df\n",
    "    "
   ]
  },
  {
   "cell_type": "code",
   "execution_count": 30,
   "id": "a76b1dd2-6537-468d-8c5f-97a310da0ded",
   "metadata": {},
   "outputs": [],
   "source": [
    "import pandas as pd\n",
    "\n",
    "\n",
    "def how_many_times_better_is_focused(df: pd.DataFrame) -> float:\n",
    "    \"\"\" Returns how many times better it is to focus than divide attention, by average \"\"\"\n",
    "    return (\n",
    "        df[df.attention == \"focused\"][\"score\"].mean() /\n",
    "        df[df.attention == \"divided\"][\"score\"].mean()\n",
    "    )\n",
    "\n",
    "def highest_average_solutions(df: pd.DataFrame) -> int:\n",
    "    \"\"\" Returns the solutions id with the highest average score \"\"\"\n",
    "    return (\n",
    "      df.solutions[\n",
    "        df.groupby(\"solutions\")[\"score\"]\n",
    "          .mean()\n",
    "          .agg([\"idxmax\"])\n",
    "      ]\n",
    "      .index[0]\n",
    "    )\n",
    "\n",
    "def top_10_scoring_subjects(df: pd.DataFrame) -> pd.DataFrame:\n",
    "    \"\"\" Returns df of top 10 subjects ranked by score, descending,\n",
    "        with ties broken by subject id ascending, index reset:\n",
    "        \n",
    "       subject     score\n",
    "    0       12  8.333333\n",
    "    1       14  7.666667\n",
    "    2       15  7.666667\n",
    "    3       16  7.000000\n",
    "    4       18  7.000000\n",
    "    5        8  6.666667\n",
    "    6       13  6.666667\n",
    "    7       17  6.666667\n",
    "    8        4  5.666667\n",
    "    9        5  5.666667\n",
    "    \"\"\"\n",
    "    return (\n",
    "      df.groupby(\"subject\")[\"score\"]\n",
    "        .mean()\n",
    "        .reset_index()\n",
    "        .sort_values([\"score\", \"subject\"], ascending=[0, 1])\n",
    "        .head(10)\n",
    "        .reset_index(drop=True)\n",
    "    )"
   ]
  }
 ],
 "metadata": {
  "kernelspec": {
   "display_name": "Python 3 (ipykernel)",
   "language": "python",
   "name": "python3"
  },
  "language_info": {
   "codemirror_mode": {
    "name": "ipython",
    "version": 3
   },
   "file_extension": ".py",
   "mimetype": "text/x-python",
   "name": "python",
   "nbconvert_exporter": "python",
   "pygments_lexer": "ipython3",
   "version": "3.11.8"
  }
 },
 "nbformat": 4,
 "nbformat_minor": 5
}
