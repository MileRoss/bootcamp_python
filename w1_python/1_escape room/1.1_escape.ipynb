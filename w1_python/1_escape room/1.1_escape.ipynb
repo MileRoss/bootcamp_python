{
 "cells": [
  {
   "cell_type": "code",
   "execution_count": 5,
   "id": "0d1a0fb0",
   "metadata": {},
   "outputs": [
    {
     "ename": "SyntaxError",
     "evalue": "unterminated string literal (detected at line 23) (2332465170.py, line 23)",
     "output_type": "error",
     "traceback": [
      "\u001b[0;36m  Cell \u001b[0;32mIn[5], line 23\u001b[0;36m\u001b[0m\n\u001b[0;31m    \"\"\"\"\u001b[0m\n\u001b[0m       ^\u001b[0m\n\u001b[0;31mSyntaxError\u001b[0m\u001b[0;31m:\u001b[0m unterminated string literal (detected at line 23)\n"
     ]
    }
   ],
   "source": [
    "\"\"\"\n",
    "\"Deliver a main.ipynb file with your Python game solution and the .py file(s) containing your functions\"\n",
    "\n",
    "Dictionaries to be global or local variable?\n",
    "deliverables or optional?: Add Error Handling messages for the dev.\n",
    "Error message for the game player when s/he gives input not in the list?\n",
    "Separate codes into modules?\n",
    "deliverables: Convert functions to comprehensions, as per instructions.\n",
    "Also use lambdas?\n",
    "\n",
    "google slides:\n",
    "possible topics, from the self-guided (research team part)\n",
    "- Interpreting Python errors\n",
    "- flow control - coding best practices\n",
    "- \n",
    "\n",
    "possible topics, from the lessons and mandatory labs\n",
    "- data structures\n",
    "- flow control\n",
    "- functions\n",
    "- list, dict, set, comprehensions\n",
    "- \n",
    "\"\"\"\""
   ]
  },
  {
   "cell_type": "code",
   "execution_count": null,
   "id": "2ab55d93",
   "metadata": {},
   "outputs": [],
   "source": [
    "def next_move_decision(*args):\n",
    "  # here we can try/ except for when user inputs something else\n",
    "  print(\"Where do you wanna go?\")\n",
    "  for arg in args:\n",
    "    print(arg)\n",
    "  answer_user= input(\"Choose one of the above.\")\n",
    "  print(f\"You have chosen\", answer_user,\".\\n\")\n",
    "  return answer_user"
   ]
  },
  {
   "cell_type": "code",
   "execution_count": 1,
   "id": "0bce60b2",
   "metadata": {},
   "outputs": [],
   "source": [
    "def search_room(current_action,current_position,INIT_GAME_STATE,rooms_all):\n",
    "  next_room = False\n",
    "\n",
    "  while next_room == False:\n",
    "    if current_action == \"nothing\":\n",
    "      while current_action == \"nothing\":\n",
    "        print(\"There is nothing there\\n\")\n",
    "        current_position = next_move_decision(list(rooms_all[\"game_room\"].keys()))\n",
    "        current_action = rooms_all[\"game_room\"][current_position]\n",
    "    if current_action == \"key\" and (\"key a\" not in INIT_GAME_STATE[\"keys_collected\"]):\n",
    "      print(\"Congratulations you found a key!\\n\")\n",
    "      INIT_GAME_STATE[\"keys_collected\"].append(\"key a\")\n",
    "      print(\"Choose your next move\")\n",
    "      current_position = next_move_decision(list(rooms_all[\"game_room\"].keys()))\n",
    "      current_action = rooms_all[\"game_room\"][current_position]\n",
    "    if current_action == \"key\" and (\"key a\" in INIT_GAME_STATE[\"keys_collected\"]):\n",
    "      print(\"You have already collected the key from there.\\n\")\n",
    "      current_position = next_move_decision(list(rooms_all[\"game_room\"].keys()))\n",
    "      current_action = rooms_all[\"game_room\"][current_position]\n",
    "    if current_action == \"open\":\n",
    "      if \"key a\" in INIT_GAME_STATE[\"keys_collected\"]:\n",
    "        print(\"Congratulations, you move to another room!\\n\")\n",
    "        INIT_GAME_STATE[\"current_room\"] = \"bedroom_1\"\n",
    "        print(INIT_GAME_STATE[\"current_room\"])\n",
    "        next_room = True\n",
    "      # here user moved to next room, and the game state is updated\n",
    "      else:\n",
    "        print(\"You do not have the key for that door\")\n"
   ]
  },
  {
   "cell_type": "code",
   "execution_count": 2,
   "id": "b87f7fb0",
   "metadata": {},
   "outputs": [],
   "source": [
    "rooms_all = {\"game_room\":{\"couch\": \"nothing\",\"piano\": \"key\", \"door\":\"open\"},\"bedroom_1\":{\"queen bed\":\"key\", \"door_B\":\"open\", \"door_C\":\"open\"},\"bedroom_2\": {\"double bed\":\"key to door C\", \"dresser\": \"key to exit\" },\"living_room\": {\"dining table\": \"nothing\", \"door\": \"exit!\"}}\n",
    "\n",
    "INIT_GAME_STATE = {\n",
    "    \"current_room\": \"game_room\",\n",
    "    \"keys_collected\": [],\n",
    "    \"target_room\": \"outside\"}\n"
   ]
  },
  {
   "cell_type": "code",
   "execution_count": 3,
   "id": "b57b3bbd",
   "metadata": {},
   "outputs": [
    {
     "name": "stdout",
     "output_type": "stream",
     "text": [
      "The game starts, you find yourself in the Game room\n"
     ]
    },
    {
     "ename": "NameError",
     "evalue": "name 'next_move_decision' is not defined",
     "output_type": "error",
     "traceback": [
      "\u001b[0;31m---------------------------------------------------------------------------\u001b[0m",
      "\u001b[0;31mNameError\u001b[0m                                 Traceback (most recent call last)",
      "Cell \u001b[0;32mIn[3], line 3\u001b[0m\n\u001b[1;32m      1\u001b[0m \u001b[38;5;28mprint\u001b[39m(\u001b[38;5;124m\"\u001b[39m\u001b[38;5;124mThe game starts, you find yourself in the Game room\u001b[39m\u001b[38;5;124m\"\u001b[39m)\n\u001b[1;32m      2\u001b[0m \u001b[38;5;66;03m#game room\u001b[39;00m\n\u001b[0;32m----> 3\u001b[0m current_position \u001b[38;5;241m=\u001b[39m next_move_decision(\u001b[38;5;28mlist\u001b[39m(rooms_all[\u001b[38;5;124m\"\u001b[39m\u001b[38;5;124mgame_room\u001b[39m\u001b[38;5;124m\"\u001b[39m]\u001b[38;5;241m.\u001b[39mkeys()))\n\u001b[1;32m      4\u001b[0m current_action \u001b[38;5;241m=\u001b[39m rooms_all[\u001b[38;5;124m\"\u001b[39m\u001b[38;5;124mgame_room\u001b[39m\u001b[38;5;124m\"\u001b[39m][current_position]\n\u001b[1;32m      5\u001b[0m search_room(current_action,current_position,INIT_GAME_STATE,rooms_all)\n",
      "\u001b[0;31mNameError\u001b[0m: name 'next_move_decision' is not defined"
     ]
    }
   ],
   "source": [
    "print(\"The game starts, you find yourself in the Game room\")\n",
    "#game room\n",
    "current_position = next_move_decision(list(rooms_all[\"game_room\"].keys()))\n",
    "current_action = rooms_all[\"game_room\"][current_position]\n",
    "search_room(current_action,current_position,INIT_GAME_STATE,rooms_all)\n",
    "\n",
    "# bedroom_1\n",
    "current_position = next_move_decision(list(rooms_all[\"bedroom_1\"].keys()))\n",
    "current_action = rooms_all[\"bedroom_1\"][current_position]\n",
    "search_room(current_action,current_position,INIT_GAME_STATE,rooms_all)\n",
    "\n",
    "# bedroom_2\n",
    "current_position = next_move_decision(list(rooms_all[\"bedroom_2\"].keys()))\n",
    "current_action = rooms_all[\"bedroom_2\"][current_position]\n",
    "search_room(current_action,current_position,INIT_GAME_STATE,rooms_all)\n",
    "\n",
    "# living room"
   ]
  },
  {
   "cell_type": "code",
   "execution_count": null,
   "id": "fa583548",
   "metadata": {},
   "outputs": [],
   "source": []
  },
  {
   "cell_type": "code",
   "execution_count": null,
   "id": "2cd38d9b",
   "metadata": {},
   "outputs": [],
   "source": []
  }
 ],
 "metadata": {
  "kernelspec": {
   "display_name": "Python 3 (ipykernel)",
   "language": "python",
   "name": "python3"
  },
  "language_info": {
   "codemirror_mode": {
    "name": "ipython",
    "version": 3
   },
   "file_extension": ".py",
   "mimetype": "text/x-python",
   "name": "python",
   "nbconvert_exporter": "python",
   "pygments_lexer": "ipython3",
   "version": "3.11.5"
  }
 },
 "nbformat": 4,
 "nbformat_minor": 5
}
