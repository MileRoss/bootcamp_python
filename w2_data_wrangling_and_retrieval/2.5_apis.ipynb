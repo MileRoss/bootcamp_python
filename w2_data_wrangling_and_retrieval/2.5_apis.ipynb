{
 "cells": [
  {
   "cell_type": "markdown",
   "id": "a6795d4c-fdfe-4f6d-ad6b-2479d9b0826d",
   "metadata": {
    "toc": true
   },
   "source": [
    "# Table of Contents\n",
    "   1. [Web Communication Fundamentals](#web-communication-fundamentals)\n",
    "      1. [DNS, IP](#dns-ip)\n",
    "      2. [HTTP](#http)\n",
    "      3. [URL](#url)\n",
    "   2. [HTTP Requests and Responses](#http-requests-and-responses)\n",
    "      1. [Requests](#requests)\n",
    "      2. [Response](#response)\n",
    "   3. [APIs](#apis)\n",
    "      1. [RESTful APIs](#restful-apis)\n",
    "   4. [Requests in Python](#requests-in-python)\n",
    "      1. [GET](#get)\n",
    "         1. [Accessing an endpoint](#accessing-an-endpoint)\n",
    "         2. [Response headers](#response-headers)\n",
    "         3. [Parameters](#parameters)\n",
    "         4. [Request Headers](#request-headers)\n",
    "   5. [APIs examples](#apis-examples)\n",
    "      1. [NewsAPI](#newsapi)\n",
    "         1. [💡 Check for understanding](#check-for-understanding-1)\n",
    "      2. [Pokemon API](#pokemon-api)\n",
    "         1. [json_normalize()](#json_normalize)\n",
    "      3. [Coincap API](#coincap-api)\n",
    "      4. [Api Jokes](#api-jokes)\n",
    "         1. [💡 Check for understanding](#check-for-understanding-2)\n",
    "   6. [API Wrappers](#api-wrappers)\n",
    "   7. [Summary](#summary)\n",
    "   8. [Glossary](#glossary)\n",
    "   9. [Further materials](#further-materials)"
   ]
  },
  {
   "cell_type": "markdown",
   "id": "78337d49-bd91-4990-b1d6-fd2d4c03e6df",
   "metadata": {},
   "source": [
    "## Web Communication Fundamentals\n",
    "### DNS, IP\n",
    "[How do we connect to www.google.com?](https://www.youtube.com/watch?v=sUhEqT_HSBI&ab_channel=ProfeSang)\n",
    "* **DNS (Domain Name System)**: it's essentially the phonebook of the internet. Humans access information online through domain names, like \"google.com\". Web browsers, however, interact through Internet Protocol (IP) addresses. In this example, the DNS maps the internet address www.google.com to the server's IP: 216.58.222.196\n",
    " * **IP**: Server identification. A code that allows information to be sent and received by the correct parties\n",
    " * **Domain Providers**: Sell and purchase Internet domains\n",
    " \n",
    "*When making API calls to specific domains, the DNS translates the human-readable domain name into an IP address.*"
   ]
  },
  {
   "cell_type": "markdown",
   "id": "216e4441-45eb-4a0a-b578-f4f056a724b1",
   "metadata": {},
   "source": [
    "### HTTP\n",
    "**H**yper **T**ext **T**ransfer **P**rotocol\n",
    "- HTTP is a communications protocol that provides a structure for requests between the client and the server on a network.\n",
    "- For example, the web browser on the user's computer (the client) uses the HTTP protocol to request information from a website on a server.\n",
    "\n",
    "*We will use APIs that employ the **HTTP** protocol as transport.*"
   ]
  },
  {
   "cell_type": "markdown",
   "id": "1b9f3b1b-af11-419a-bd55-771a937b72dc",
   "metadata": {},
   "source": [
    "### URL\n",
    "Contains information about the resource being requested from the **server**.\n",
    "![](https://github.com/data-bootcamp-v4/lessons/blob/main/img/http.png?raw=true)\n",
    "Examples:\n",
    "\n",
    "- https://www.google.com/webhp?authuser=2\n",
    "- https://www.towardsdatascience.com\n",
    "- https://www.ironhack.com/\n",
    "    - Protocol: https (https == http is the same, but https is encrypted)\n",
    "    - Domain Name --> ironhack\n",
    "    - TLD (Top-Level Domain) --> .com\n",
    "\n",
    "*When calling an API, you specify the URL of the API endpoint, which tells the system where to send the request.*"
   ]
  },
  {
   "cell_type": "markdown",
   "id": "5fd2c3c5-1e3e-44a2-923b-c6dc1bb19f7c",
   "metadata": {},
   "source": [
    "## HTTP Requests and Responses\n",
    "**Requests** and **responses** are fundamental components of the client-server communication model.\n",
    "### Requests\n",
    "These are queries or calls **sent by the client** (such as a web browser or other software) **to the server** in order to receive information (a **response**). \n",
    "\n",
    "A request typically consists of:\n",
    "- A method (such as GET, POST, PUT, DELETE) that defines the action to be performed\n",
    "     * GET: read the information of the resource, without modifying it in any way. Accessing the website from the browser **gets** information.\n",
    "- The URL or endpoint specifying the resource\n",
    "- Optional additional information such as:\n",
    "    - Headers (metadata): User-Agent, Accept-Language\n",
    "    - Parameters\n",
    "    - Body content. \n",
    "    \n",
    "For example, a client might send a GET request to retrieve information from a web page or a POST request to submit form data."
   ]
  },
  {
   "cell_type": "markdown",
   "id": "03152bb9-ab13-458c-94d2-f5cb53117056",
   "metadata": {},
   "source": [
    "### Response\n",
    "These are the answers or data sent **by the server back to the client in reply to a request**. \n",
    "\n",
    "A response typically includes:\n",
    "- A status code that indicates the success or failure of the request\n",
    "- Headers with meta-information about the server's behavior\n",
    "- The actual content or data (if applicable), such as HTML, JSON (similar to a Python dictionary), images, or other media types.\n",
    "\n",
    "An important part of the **header** is the **status code**. This code is a numerical value that indicates the server's result. There are different status codes depending on whether the server has managed to carry out the request or has not managed to do anything. These are some groups of status codes:\n",
    "\n",
    "- **2xx successful**: the request was successfully received, understood, and accepted\n",
    "- **3xx redirection**: more actions are required to complete the request\n",
    "- **4xx client error**: the request contains incorrect syntax or cannot be fulfilled\n",
    "- **5xx server error**: the server has failed to complete an apparently valid request\n",
    "\n",
    "Complete list:\n",
    "https://en.wikipedia.org/wiki/List_of_HTTP_status_codes\n",
    "\n",
    "Much more fun:\n",
    "https://http.cat/"
   ]
  },
  {
   "cell_type": "markdown",
   "id": "1f1ad409-99e9-4701-b879-f81d13ece283",
   "metadata": {
    "tags": []
   },
   "source": [
    "## APIs\n",
    "**A**pplication **P**rogramming **I**nterface\n",
    "\n",
    "- APIs define a set of rules and protocols that allow different software applications to communicate with each other.\n",
    "- The client calls the server through an API, and the server responds.\n",
    "-  Within a project, the backend may want to share information with the frontend without access to the database."
   ]
  },
  {
   "cell_type": "markdown",
   "id": "b86f18cb-8590-4a6e-896b-c5e465e7719f",
   "metadata": {},
   "source": [
    "### RESTful APIs\n",
    "As a data analyst, you often need to access data from various sources. RESTful APIs provide a **standardized way** to retrieve, update, or delete data from other systems.\n",
    "- Usually, **we (the client) send a request, and they (the server) return a response, often in JSON - JavaScript Object Notation - format**. While JSON looks similar to the dictionaries we're used to in Python, it's worth noting that when represented as raw text (e.g., in an API response), the entire JSON structure is a *string*. However, within that structure, JSON can represent various data types like numbers, booleans, and arrays, not just strings.\n",
    "\n",
    "- APIs always need to provide documentation for their various services: **endpoints**.  Each endpoint is a different URL.  \n",
    "- Sometimes we have to pass **parameters** to an API endpoint, similar to when we pass parameters to a Python function.\n",
    "\n",
    "At this point in the Bootcamp, **reading documentation becomes essential**, as each API will \"work\" differently, and to use it, we will need to know what it requires.\n",
    "\n",
    "[Here](https://github.com/public-apis/public-apis) is a repository where you can find several free APIs if you feel like exploring a bit."
   ]
  },
  {
   "cell_type": "markdown",
   "id": "33c6c206-715a-42b8-929c-691d9c66fe4d",
   "metadata": {},
   "source": [
    "## Requests in Python\n",
    "You can make requests to RESTful APIs using libraries like `requests`. "
   ]
  },
  {
   "cell_type": "code",
   "execution_count": 2,
   "id": "54d23d14-7425-45c6-8ba5-74e5db2c047a",
   "metadata": {},
   "outputs": [],
   "source": [
    "# If you don't have it installed you can do use using pip or pip3\n",
    "\n",
    "#!pip install requests"
   ]
  },
  {
   "cell_type": "code",
   "execution_count": 1,
   "id": "9ddac917-8539-46e8-abc9-37111e2fa74c",
   "metadata": {},
   "outputs": [],
   "source": [
    "import requests"
   ]
  },
  {
   "cell_type": "markdown",
   "id": "da5aff9d-8a79-4171-96b1-b7f0d2daf1cd",
   "metadata": {},
   "source": [
    "### GET\n",
    "Making a `GET request` to the API is simply a call to a `URL` that returns information when provided with the appropriate `parameters`. We will only perform **GET** requests.\n",
    "\n",
    "Here is an example on how to make a request with Python:\n",
    "\n",
    "```python\n",
    "url = \"https://api.example.com/products\"\n",
    "response = requests.get(url)\n",
    "\n",
    "if response.status_code == 200:\n",
    "    products = response.json()\n",
    "    # Now you can analyze and work with the products data in Python\n",
    "```\n",
    "#### Accessing an endpoint\n",
    "\n",
    "As we mentioned above, APIs always need to provide documentation for their various services: **endpoints**.  Each endpoint is a different URL.  \n",
    "\n",
    "**Example: ISS API**\n",
    "\n",
    "Let's get information from ISS (International Space Station)! We'll start looking at the [ISS API documentation](https://wheretheiss.at/w/developer)\n",
    "\n",
    "This API allows you to access various data related to the International Space Station (ISS), including its current, past, or future position, timezone information for specific coordinates, and more.\n",
    "\n",
    "**Key Features**\n",
    "- **Authentication**: No authentication is currently required, but future endpoints may include this.\n",
    "- **Rate Limiting**: Limited to approximately 1 request per second.\n",
    "- **Responses**: Default to JSON format, with optional parameters to modify response appearance.\n",
    "- **Endpoints**: Several endpoints provide different types of information:\n",
    "    - **satellites**: Information about satellites, including the ISS.\n",
    "    - **satellites/[id]**: Position, velocity, and related information for a satellite.\n",
    "    - **satellites/[id]/positions**: Position data for specific timestamps.\n",
    "    - **satellites/[id]/tles**: TLE (Two-Line Element Set) data in either JSON or text format.\n",
    "    - **coordinates/[lat,lon]**: Timezone information for specific coordinates.\n",
    "\n",
    "**Examples**\n",
    "- Satellite details: `https://api.wheretheiss.at/v1/satellites`\n",
    "- ISS position: `https://api.wheretheiss.at/v1/satellites/25544`\n",
    "- Coordinates information: `https://api.wheretheiss.at/v1/coordinates/37.795517,-122.393693`\n",
    "\n",
    "**Endpoint satellites**"
   ]
  },
  {
   "cell_type": "code",
   "execution_count": 17,
   "id": "05fad64c-5f20-4b7f-a865-9659b9cc8783",
   "metadata": {},
   "outputs": [],
   "source": [
    "# We'll use the endpoint satellites, we read it gives us information about satellites\n",
    "\n",
    "url = \"https://api.wheretheiss.at/v1/satellites\""
   ]
  },
  {
   "cell_type": "code",
   "execution_count": 18,
   "id": "68f33b09-b943-486c-98e0-2d18b25640c5",
   "metadata": {},
   "outputs": [],
   "source": [
    "response = requests.get(url) # We use get method to make the request and get information from the API"
   ]
  },
  {
   "cell_type": "code",
   "execution_count": 19,
   "id": "67938f79-0981-471e-9201-89352e99775b",
   "metadata": {},
   "outputs": [
    {
     "data": {
      "text/plain": [
       "requests.models.Response"
      ]
     },
     "execution_count": 19,
     "metadata": {},
     "output_type": "execute_result"
    }
   ],
   "source": [
    "type(response) # Lets look at the type of the response"
   ]
  },
  {
   "cell_type": "code",
   "execution_count": 20,
   "id": "310b2c20-4a51-47de-9983-1e266496c951",
   "metadata": {},
   "outputs": [
    {
     "data": {
      "text/plain": [
       "200"
      ]
     },
     "execution_count": 20,
     "metadata": {},
     "output_type": "execute_result"
    }
   ],
   "source": [
    "response.status_code # We can access status code. 200 is OK"
   ]
  },
  {
   "cell_type": "markdown",
   "id": "488cbcbe-2d4d-42c2-b92a-ec76b70b705b",
   "metadata": {},
   "source": [
    "We can access the response content, which returns a string"
   ]
  },
  {
   "cell_type": "code",
   "execution_count": 23,
   "id": "5196a512-6690-49c9-971a-bc9cb2383932",
   "metadata": {},
   "outputs": [
    {
     "data": {
      "text/plain": [
       "b'[{\"name\":\"iss\",\"id\":25544}]'"
      ]
     },
     "execution_count": 23,
     "metadata": {},
     "output_type": "execute_result"
    }
   ],
   "source": [
    "response.content"
   ]
  },
  {
   "cell_type": "markdown",
   "id": "820ad33e-4664-46b6-a51a-0b277ba04c4d",
   "metadata": {},
   "source": [
    "If response Content-Type is json, we can access it better with `.json()`"
   ]
  },
  {
   "cell_type": "code",
   "execution_count": 25,
   "id": "7f44e27c-7866-4e9c-8965-a20ccaef0e43",
   "metadata": {},
   "outputs": [],
   "source": [
    "info = response.json()"
   ]
  },
  {
   "cell_type": "code",
   "execution_count": 37,
   "id": "cd406dbc-74f9-490b-b8c6-73ef02e9b9d4",
   "metadata": {},
   "outputs": [
    {
     "data": {
      "text/plain": [
       "[{'name': 'iss', 'id': 25544}]"
      ]
     },
     "execution_count": 37,
     "metadata": {},
     "output_type": "execute_result"
    }
   ],
   "source": [
    "info"
   ]
  },
  {
   "cell_type": "code",
   "execution_count": 34,
   "id": "992d8cf6-8e5c-448d-bb1c-e9416aefe428",
   "metadata": {},
   "outputs": [
    {
     "data": {
      "text/plain": [
       "list"
      ]
     },
     "execution_count": 34,
     "metadata": {},
     "output_type": "execute_result"
    }
   ],
   "source": [
    "type(info) # It returns a list of dictionaries"
   ]
  },
  {
   "cell_type": "code",
   "execution_count": 40,
   "id": "1a7d7dc2-f2d7-44a7-9bda-e5cc0490dffe",
   "metadata": {},
   "outputs": [
    {
     "data": {
      "text/plain": [
       "25544"
      ]
     },
     "execution_count": 40,
     "metadata": {},
     "output_type": "execute_result"
    }
   ],
   "source": [
    "info[0][\"id\"] # So we can access the id like this"
   ]
  },
  {
   "cell_type": "markdown",
   "id": "903f3024-0998-459d-bb20-60a639def27e",
   "metadata": {},
   "source": [
    "#### Response headers \n",
    "\n",
    "Response headers are part of the HTTP response that a server sends back to the client after a request has been made. These headers provide meta-information about the response and can affect how the client handles the response.\n",
    "\n",
    "Here are some common response headers and what they typically represent:\n",
    "\n",
    "1. **`Date`**: Represents the date and time at which the response was sent.\n",
    "\n",
    "2. **`Server`**: Provides information about the software used by the originating server.\n",
    "\n",
    "3. **`X-Rate-Limit`**: Sometimes used in APIs to inform the client about rate limiting policies, such as the number of allowed requests in a given time frame.\n",
    "\n",
    "4. **`Content-Type`**: Specifies the media type of the resource or data the server is sending back. For example, it could be `application/json` for a JSON object, `text/html` for an HTML page, or `image/png` for an image.\n",
    "\n",
    "And more."
   ]
  },
  {
   "cell_type": "code",
   "execution_count": 64,
   "id": "a53d51bc-2346-4139-a23f-49a34dc3b475",
   "metadata": {},
   "outputs": [
    {
     "data": {
      "text/plain": [
       "{'Date': 'Sat, 20 Jul 2024 17:18:04 GMT', 'Server': 'Apache/2.2.22 (Ubuntu)', 'X-Powered-By': 'PHP/5.3.10-1ubuntu3.26', 'X-Rate-Limit-Limit': '350', 'X-Rate-Limit-Remaining': '339', 'X-Rate-Limit-Interval': '5 minutes', 'Access-Control-Allow-Origin': '*', 'X-Apache-Time': 'D=17602', 'Cache-Control': 'max-age=0, no-cache', 'Content-Length': '312', 'Keep-Alive': 'timeout=15, max=100', 'Connection': 'Keep-Alive', 'Content-Type': 'application/json'}"
      ]
     },
     "execution_count": 64,
     "metadata": {},
     "output_type": "execute_result"
    }
   ],
   "source": [
    "response.headers # We can also access the response headers"
   ]
  },
  {
   "cell_type": "markdown",
   "id": "a46967a4-763f-4d4e-bca9-c3a37742f65e",
   "metadata": {},
   "source": [
    "#### Parameters\n",
    "As we mentioned above, sometimes we can pass **parameters** to an API endpoint, similar to when we pass parameters to a Python function.\n",
    "\n",
    "In the example above, we didn't use any parameters in the endpoint `satellites` since the [documentation](\"https://wheretheiss.at/w/developer\") said *Parameters: None*.\n",
    "\n",
    "API parameters are specific values that you include in a request to an API endpoint to filter, sort, or detail the data that you want to retrieve. They allow you to customize the request to get exactly the information you need.\n",
    "\n",
    "There are several types of parameters that can be used in API requests, such as Path Parameters, Query Parameters, Header Parameters and Request Body Parameters. Let's look at them with an example using another endpoint."
   ]
  },
  {
   "cell_type": "markdown",
   "id": "f854df58-1a0a-4759-9991-30816cf45c92",
   "metadata": {},
   "source": [
    "##### 1. **Path Parameters**\n",
    "\n",
    "These are embedded in the URL path and are used to identify a specific resource. For example, in the URL above `https://api.wheretheiss.at/v1/satellites/25544`, the number `25544` is a path parameter that identifies a specific sattelite.\n",
    "\n",
    "**Endpoint satellites/id**\n",
    "\n",
    "Lets use endpoint satellites/[id] with the id we got from the previous endpoint.\n",
    "Important, we need to provide the whole url for the endpoint as a `string`."
   ]
  },
  {
   "cell_type": "code",
   "execution_count": 90,
   "id": "60e19b4e-1476-456c-8272-a3175708368e",
   "metadata": {},
   "outputs": [],
   "source": [
    "url_iss_position = \"https://api.wheretheiss.at/v1/satellites/\"+str(info[0][\"id\"])"
   ]
  },
  {
   "cell_type": "code",
   "execution_count": 78,
   "id": "42cb7357-ff48-4f7d-81df-8060c7ed794f",
   "metadata": {},
   "outputs": [],
   "source": [
    "response = requests.get(url_iss_position)"
   ]
  },
  {
   "cell_type": "code",
   "execution_count": 79,
   "id": "340a190c-6010-4134-bfd5-f4acc5484e8b",
   "metadata": {},
   "outputs": [
    {
     "data": {
      "text/plain": [
       "200"
      ]
     },
     "execution_count": 79,
     "metadata": {},
     "output_type": "execute_result"
    }
   ],
   "source": [
    "response.status_code"
   ]
  },
  {
   "cell_type": "code",
   "execution_count": 80,
   "id": "a9ddae28-476f-4133-8a25-4e35c3fac891",
   "metadata": {},
   "outputs": [
    {
     "data": {
      "text/plain": [
       "{'name': 'iss',\n",
       " 'id': 25544,\n",
       " 'latitude': 25.063465304875,\n",
       " 'longitude': -33.610288992219,\n",
       " 'altitude': 413.22240301161,\n",
       " 'velocity': 27608.258342002,\n",
       " 'visibility': 'daylight',\n",
       " 'footprint': 4472.8200926487,\n",
       " 'timestamp': 1721497282,\n",
       " 'daynum': 2460512.2370602,\n",
       " 'solar_lat': 20.462692938223,\n",
       " 'solar_lon': 276.26994170687,\n",
       " 'units': 'kilometers'}"
      ]
     },
     "execution_count": 80,
     "metadata": {},
     "output_type": "execute_result"
    }
   ],
   "source": [
    "response.json()"
   ]
  },
  {
   "cell_type": "markdown",
   "id": "7c21289e-ed73-4fdf-8ff2-8ec53d1bedbb",
   "metadata": {},
   "source": [
    "Every time we call the endpoint, the information changes since it gives us the current position of the satellite. Let's check that with a loop to gather information at different times."
   ]
  },
  {
   "cell_type": "code",
   "execution_count": 104,
   "id": "c02e4902-90b6-4f31-8326-2dcee2478aa8",
   "metadata": {},
   "outputs": [],
   "source": [
    "import time\n",
    "\n",
    "positions = []\n",
    "\n",
    "for i in range(10):\n",
    "    response = requests.get(url_iss_position)\n",
    "    data = response.json()\n",
    "    \n",
    "    positions.append(data)\n",
    "    time.sleep(0.5)"
   ]
  },
  {
   "cell_type": "code",
   "execution_count": 105,
   "id": "3801506d-82c7-4c1b-b4ab-81fce6a73b36",
   "metadata": {},
   "outputs": [
    {
     "data": {
      "text/plain": [
       "list"
      ]
     },
     "execution_count": 105,
     "metadata": {},
     "output_type": "execute_result"
    }
   ],
   "source": [
    "type(positions) # We created a list with responses"
   ]
  },
  {
   "cell_type": "code",
   "execution_count": 106,
   "id": "5f3da8cc-7ad5-4313-8bbd-71e733359747",
   "metadata": {},
   "outputs": [
    {
     "data": {
      "text/plain": [
       "dict"
      ]
     },
     "execution_count": 106,
     "metadata": {},
     "output_type": "execute_result"
    }
   ],
   "source": [
    "type(positions[0]) # Is a list of dictionaries"
   ]
  },
  {
   "cell_type": "code",
   "execution_count": 107,
   "id": "8d24d4c8-860c-4a6f-a5ec-db44ed9d4c65",
   "metadata": {},
   "outputs": [
    {
     "data": {
      "text/plain": [
       "{'name': 'iss',\n",
       " 'id': 25544,\n",
       " 'latitude': 39.625501639604,\n",
       " 'longitude': -39.541678044165,\n",
       " 'altitude': 413.95044846502,\n",
       " 'velocity': 27616.039832108,\n",
       " 'visibility': 'daylight',\n",
       " 'footprint': 4476.5571044671,\n",
       " 'timestamp': 1721503186,\n",
       " 'daynum': 2460512.3053935,\n",
       " 'solar_lat': 20.449470447273,\n",
       " 'solar_lon': 251.67075991282,\n",
       " 'units': 'kilometers'}"
      ]
     },
     "execution_count": 107,
     "metadata": {},
     "output_type": "execute_result"
    }
   ],
   "source": [
    "positions[0] # So we can access each dictionary by its position in the list"
   ]
  },
  {
   "cell_type": "code",
   "execution_count": 108,
   "id": "b588249b-ef73-4cd0-8c3f-4a7a46c9156f",
   "metadata": {},
   "outputs": [
    {
     "data": {
      "text/plain": [
       "{'name': 'iss',\n",
       " 'id': 25544,\n",
       " 'latitude': 40.009412439537,\n",
       " 'longitude': -38.90522186263,\n",
       " 'altitude': 413.98911663732,\n",
       " 'velocity': 27616.194753021,\n",
       " 'visibility': 'daylight',\n",
       " 'footprint': 4476.7554797502,\n",
       " 'timestamp': 1721503196,\n",
       " 'daynum': 2460512.3055093,\n",
       " 'solar_lat': 20.449448028754,\n",
       " 'solar_lon': 251.62909451338,\n",
       " 'units': 'kilometers'}"
      ]
     },
     "execution_count": 108,
     "metadata": {},
     "output_type": "execute_result"
    }
   ],
   "source": [
    "positions[9]"
   ]
  },
  {
   "cell_type": "markdown",
   "id": "57c55b8a-1b23-4e9e-8f7b-d24b7a1b375e",
   "metadata": {},
   "source": [
    "Let's extract 10 latitudes from the 10 dictionaries in the list, with 2 decimals."
   ]
  },
  {
   "cell_type": "code",
   "execution_count": 109,
   "id": "3371418e-6637-4857-913f-01fd244bd687",
   "metadata": {},
   "outputs": [],
   "source": [
    "latitudes = [round(p[\"latitude\"], 2) for p in positions]"
   ]
  },
  {
   "cell_type": "code",
   "execution_count": 110,
   "id": "256a7492-b9de-416b-9cad-3b4155f767e4",
   "metadata": {},
   "outputs": [
    {
     "data": {
      "text/plain": [
       "[39.63, 39.66, 39.7, 39.74, 39.78, 39.82, 39.89, 39.93, 39.97, 40.01]"
      ]
     },
     "execution_count": 110,
     "metadata": {},
     "output_type": "execute_result"
    }
   ],
   "source": [
    "latitudes"
   ]
  },
  {
   "cell_type": "code",
   "execution_count": 111,
   "id": "7b841d34-6a6f-4f31-9764-1d5ac4d2f35f",
   "metadata": {},
   "outputs": [
    {
     "data": {
      "text/html": [
       "<div>\n",
       "<style scoped>\n",
       "    .dataframe tbody tr th:only-of-type {\n",
       "        vertical-align: middle;\n",
       "    }\n",
       "\n",
       "    .dataframe tbody tr th {\n",
       "        vertical-align: top;\n",
       "    }\n",
       "\n",
       "    .dataframe thead th {\n",
       "        text-align: right;\n",
       "    }\n",
       "</style>\n",
       "<table border=\"1\" class=\"dataframe\">\n",
       "  <thead>\n",
       "    <tr style=\"text-align: right;\">\n",
       "      <th></th>\n",
       "      <th>name</th>\n",
       "      <th>id</th>\n",
       "      <th>latitude</th>\n",
       "      <th>longitude</th>\n",
       "      <th>altitude</th>\n",
       "      <th>velocity</th>\n",
       "      <th>visibility</th>\n",
       "      <th>footprint</th>\n",
       "      <th>timestamp</th>\n",
       "      <th>daynum</th>\n",
       "      <th>solar_lat</th>\n",
       "      <th>solar_lon</th>\n",
       "      <th>units</th>\n",
       "    </tr>\n",
       "  </thead>\n",
       "  <tbody>\n",
       "    <tr>\n",
       "      <th>0</th>\n",
       "      <td>iss</td>\n",
       "      <td>25544</td>\n",
       "      <td>39.625502</td>\n",
       "      <td>-39.541678</td>\n",
       "      <td>413.950448</td>\n",
       "      <td>27616.039832</td>\n",
       "      <td>daylight</td>\n",
       "      <td>4476.557104</td>\n",
       "      <td>1721503186</td>\n",
       "      <td>2.460512e+06</td>\n",
       "      <td>20.449470</td>\n",
       "      <td>251.670760</td>\n",
       "      <td>kilometers</td>\n",
       "    </tr>\n",
       "    <tr>\n",
       "      <th>1</th>\n",
       "      <td>iss</td>\n",
       "      <td>25544</td>\n",
       "      <td>39.664071</td>\n",
       "      <td>-39.478372</td>\n",
       "      <td>413.954296</td>\n",
       "      <td>27616.055513</td>\n",
       "      <td>daylight</td>\n",
       "      <td>4476.576842</td>\n",
       "      <td>1721503187</td>\n",
       "      <td>2.460512e+06</td>\n",
       "      <td>20.449468</td>\n",
       "      <td>251.666593</td>\n",
       "      <td>kilometers</td>\n",
       "    </tr>\n",
       "    <tr>\n",
       "      <th>2</th>\n",
       "      <td>iss</td>\n",
       "      <td>25544</td>\n",
       "      <td>39.702601</td>\n",
       "      <td>-39.414990</td>\n",
       "      <td>413.958147</td>\n",
       "      <td>27616.071152</td>\n",
       "      <td>daylight</td>\n",
       "      <td>4476.596602</td>\n",
       "      <td>1721503188</td>\n",
       "      <td>2.460512e+06</td>\n",
       "      <td>20.449466</td>\n",
       "      <td>251.662427</td>\n",
       "      <td>kilometers</td>\n",
       "    </tr>\n",
       "    <tr>\n",
       "      <th>3</th>\n",
       "      <td>iss</td>\n",
       "      <td>25544</td>\n",
       "      <td>39.741093</td>\n",
       "      <td>-39.351531</td>\n",
       "      <td>413.962004</td>\n",
       "      <td>27616.086750</td>\n",
       "      <td>daylight</td>\n",
       "      <td>4476.616386</td>\n",
       "      <td>1721503189</td>\n",
       "      <td>2.460512e+06</td>\n",
       "      <td>20.449464</td>\n",
       "      <td>251.658260</td>\n",
       "      <td>kilometers</td>\n",
       "    </tr>\n",
       "    <tr>\n",
       "      <th>4</th>\n",
       "      <td>iss</td>\n",
       "      <td>25544</td>\n",
       "      <td>39.779543</td>\n",
       "      <td>-39.288000</td>\n",
       "      <td>413.965864</td>\n",
       "      <td>27616.102305</td>\n",
       "      <td>daylight</td>\n",
       "      <td>4476.636191</td>\n",
       "      <td>1721503190</td>\n",
       "      <td>2.460512e+06</td>\n",
       "      <td>20.449461</td>\n",
       "      <td>251.654094</td>\n",
       "      <td>kilometers</td>\n",
       "    </tr>\n",
       "    <tr>\n",
       "      <th>5</th>\n",
       "      <td>iss</td>\n",
       "      <td>25544</td>\n",
       "      <td>39.817954</td>\n",
       "      <td>-39.224393</td>\n",
       "      <td>413.969729</td>\n",
       "      <td>27616.117817</td>\n",
       "      <td>daylight</td>\n",
       "      <td>4476.656019</td>\n",
       "      <td>1721503191</td>\n",
       "      <td>2.460512e+06</td>\n",
       "      <td>20.449459</td>\n",
       "      <td>251.649927</td>\n",
       "      <td>kilometers</td>\n",
       "    </tr>\n",
       "    <tr>\n",
       "      <th>6</th>\n",
       "      <td>iss</td>\n",
       "      <td>25544</td>\n",
       "      <td>39.894657</td>\n",
       "      <td>-39.096952</td>\n",
       "      <td>413.977471</td>\n",
       "      <td>27616.148717</td>\n",
       "      <td>daylight</td>\n",
       "      <td>4476.695739</td>\n",
       "      <td>1721503193</td>\n",
       "      <td>2.460512e+06</td>\n",
       "      <td>20.449455</td>\n",
       "      <td>251.641594</td>\n",
       "      <td>kilometers</td>\n",
       "    </tr>\n",
       "    <tr>\n",
       "      <th>7</th>\n",
       "      <td>iss</td>\n",
       "      <td>25544</td>\n",
       "      <td>39.932948</td>\n",
       "      <td>-39.033119</td>\n",
       "      <td>413.981349</td>\n",
       "      <td>27616.164104</td>\n",
       "      <td>daylight</td>\n",
       "      <td>4476.715631</td>\n",
       "      <td>1721503194</td>\n",
       "      <td>2.460512e+06</td>\n",
       "      <td>20.449453</td>\n",
       "      <td>251.637428</td>\n",
       "      <td>kilometers</td>\n",
       "    </tr>\n",
       "    <tr>\n",
       "      <th>8</th>\n",
       "      <td>iss</td>\n",
       "      <td>25544</td>\n",
       "      <td>39.971200</td>\n",
       "      <td>-38.969210</td>\n",
       "      <td>413.985231</td>\n",
       "      <td>27616.179449</td>\n",
       "      <td>daylight</td>\n",
       "      <td>4476.735545</td>\n",
       "      <td>1721503195</td>\n",
       "      <td>2.460512e+06</td>\n",
       "      <td>20.449450</td>\n",
       "      <td>251.633261</td>\n",
       "      <td>kilometers</td>\n",
       "    </tr>\n",
       "    <tr>\n",
       "      <th>9</th>\n",
       "      <td>iss</td>\n",
       "      <td>25544</td>\n",
       "      <td>40.009412</td>\n",
       "      <td>-38.905222</td>\n",
       "      <td>413.989117</td>\n",
       "      <td>27616.194753</td>\n",
       "      <td>daylight</td>\n",
       "      <td>4476.755480</td>\n",
       "      <td>1721503196</td>\n",
       "      <td>2.460512e+06</td>\n",
       "      <td>20.449448</td>\n",
       "      <td>251.629095</td>\n",
       "      <td>kilometers</td>\n",
       "    </tr>\n",
       "  </tbody>\n",
       "</table>\n",
       "</div>"
      ],
      "text/plain": [
       "  name     id   latitude  longitude    altitude      velocity visibility  \\\n",
       "0  iss  25544  39.625502 -39.541678  413.950448  27616.039832   daylight   \n",
       "1  iss  25544  39.664071 -39.478372  413.954296  27616.055513   daylight   \n",
       "2  iss  25544  39.702601 -39.414990  413.958147  27616.071152   daylight   \n",
       "3  iss  25544  39.741093 -39.351531  413.962004  27616.086750   daylight   \n",
       "4  iss  25544  39.779543 -39.288000  413.965864  27616.102305   daylight   \n",
       "5  iss  25544  39.817954 -39.224393  413.969729  27616.117817   daylight   \n",
       "6  iss  25544  39.894657 -39.096952  413.977471  27616.148717   daylight   \n",
       "7  iss  25544  39.932948 -39.033119  413.981349  27616.164104   daylight   \n",
       "8  iss  25544  39.971200 -38.969210  413.985231  27616.179449   daylight   \n",
       "9  iss  25544  40.009412 -38.905222  413.989117  27616.194753   daylight   \n",
       "\n",
       "     footprint   timestamp        daynum  solar_lat   solar_lon       units  \n",
       "0  4476.557104  1721503186  2.460512e+06  20.449470  251.670760  kilometers  \n",
       "1  4476.576842  1721503187  2.460512e+06  20.449468  251.666593  kilometers  \n",
       "2  4476.596602  1721503188  2.460512e+06  20.449466  251.662427  kilometers  \n",
       "3  4476.616386  1721503189  2.460512e+06  20.449464  251.658260  kilometers  \n",
       "4  4476.636191  1721503190  2.460512e+06  20.449461  251.654094  kilometers  \n",
       "5  4476.656019  1721503191  2.460512e+06  20.449459  251.649927  kilometers  \n",
       "6  4476.695739  1721503193  2.460512e+06  20.449455  251.641594  kilometers  \n",
       "7  4476.715631  1721503194  2.460512e+06  20.449453  251.637428  kilometers  \n",
       "8  4476.735545  1721503195  2.460512e+06  20.449450  251.633261  kilometers  \n",
       "9  4476.755480  1721503196  2.460512e+06  20.449448  251.629095  kilometers  "
      ]
     },
     "execution_count": 111,
     "metadata": {},
     "output_type": "execute_result"
    }
   ],
   "source": [
    "import pandas as pd\n",
    "pd.DataFrame(positions) # We can create a dataframe from the API response to work with it better"
   ]
  },
  {
   "cell_type": "markdown",
   "id": "204abde8-009b-4217-8295-51fbde187742",
   "metadata": {
    "tags": []
   },
   "source": [
    "\n",
    "##### 2. **Query Parameters**\n",
    "\n",
    "These are added to the end of the URL after a question mark (`?`) and are often used to filter or sort the response. \n",
    "\n",
    "For example, in the ISS documentation, it mentions that there is a parameter `units` that can take values `miles` or `kilometers`. So in the URL `https://api.wheretheiss.at/v1/satellites/25544?units=miles`, we added `units=miles` which is a query parameter that shows the data in \"miles\". \n",
    "\n",
    "In general, we add the parameters like this `?param1=value1&param2=value2...` at the end of the URL."
   ]
  },
  {
   "cell_type": "code",
   "execution_count": 119,
   "id": "b252f4b2-f739-4d78-8a14-7933b946c309",
   "metadata": {},
   "outputs": [
    {
     "data": {
      "text/plain": [
       "'https://api.wheretheiss.at/v1/satellites/25544'"
      ]
     },
     "execution_count": 119,
     "metadata": {},
     "output_type": "execute_result"
    }
   ],
   "source": [
    "url_iss_position"
   ]
  },
  {
   "cell_type": "code",
   "execution_count": 120,
   "id": "b8bfc174-f81f-41cc-92f4-eec321e1961a",
   "metadata": {},
   "outputs": [],
   "source": [
    "# We saw in the documentation that we can add a parameter units to use miles or kilometers\n",
    "\n",
    "url_iss_position2 = 'https://api.wheretheiss.at/v1/satellites/25544?units=miles'"
   ]
  },
  {
   "cell_type": "code",
   "execution_count": 121,
   "id": "47ead56f-1882-41f4-8850-67a6611fe36d",
   "metadata": {},
   "outputs": [],
   "source": [
    "response = requests.get(url_iss_position2)"
   ]
  },
  {
   "cell_type": "code",
   "execution_count": 122,
   "id": "5a032e2c-abab-4c49-97d1-341d74a22c68",
   "metadata": {},
   "outputs": [
    {
     "data": {
      "text/plain": [
       "200"
      ]
     },
     "execution_count": 122,
     "metadata": {},
     "output_type": "execute_result"
    }
   ],
   "source": [
    "response.status_code"
   ]
  },
  {
   "cell_type": "code",
   "execution_count": 123,
   "id": "395d4fed-6f83-4c96-8cf5-8523ce297e92",
   "metadata": {},
   "outputs": [
    {
     "data": {
      "text/plain": [
       "{'name': 'iss',\n",
       " 'id': 25544,\n",
       " 'latitude': -13.366485042487,\n",
       " 'longitude': 101.22157902734,\n",
       " 'altitude': 262.41358485593,\n",
       " 'velocity': 17128.322341678,\n",
       " 'visibility': 'eclipsed',\n",
       " 'footprint': 2808.1101704677,\n",
       " 'timestamp': 1721505392,\n",
       " 'daynum': 2460512.3309259,\n",
       " 'solar_lat': 20.444523081233,\n",
       " 'solar_lon': 242.47939603187,\n",
       " 'units': 'miles'}"
      ]
     },
     "execution_count": 123,
     "metadata": {},
     "output_type": "execute_result"
    }
   ],
   "source": [
    "response.json()"
   ]
  },
  {
   "cell_type": "markdown",
   "id": "9c50844d-2d2c-4768-8d8b-703a2cb1875c",
   "metadata": {},
   "source": [
    "We can also do it by passing to the argument `params` a dictionary with the parameters in the `get` method."
   ]
  },
  {
   "cell_type": "code",
   "execution_count": 125,
   "id": "cdcdd6f7-628b-4978-8656-23f72ecd5cac",
   "metadata": {},
   "outputs": [],
   "source": [
    "parameters = {\"units\": \"miles\"}"
   ]
  },
  {
   "cell_type": "code",
   "execution_count": 126,
   "id": "31d68523-2258-408f-ac24-0836af707cd9",
   "metadata": {},
   "outputs": [
    {
     "data": {
      "text/plain": [
       "'https://api.wheretheiss.at/v1/satellites/25544'"
      ]
     },
     "execution_count": 126,
     "metadata": {},
     "output_type": "execute_result"
    }
   ],
   "source": [
    "url_iss_position"
   ]
  },
  {
   "cell_type": "code",
   "execution_count": null,
   "id": "2688ca3e-e9ef-44cf-8e28-7c575f2d61be",
   "metadata": {},
   "outputs": [],
   "source": [
    "response = requests.get(\n",
    "    url=url_iss_position,\n",
    "    params=parameters\n",
    ")"
   ]
  },
  {
   "cell_type": "code",
   "execution_count": null,
   "id": "87e3afb1-2e29-4c62-8162-e8b27756be0c",
   "metadata": {},
   "outputs": [],
   "source": [
    "response.json()"
   ]
  },
  {
   "cell_type": "markdown",
   "id": "6aea75ed-be20-475d-98c1-86f4e9d2b1fd",
   "metadata": {},
   "source": [
    "##### 3. **Header Parameters**\n",
    "\n",
    "These are included in the request header and can be used for various purposes, such as authentication (e.g., sending an API key or token), content negotiation (e.g., defining the response format), or custom settings defined by the API. If the API requires authentication, you might include an `Authorization` header with your API key.\n",
    "\n",
    "ISS API mentions that *currently there is no authentication required*. So we'll look at an example with a different API of `authentication` in `header parameters`.\n",
    "\n",
    "#### Request Headers\n",
    "Request headers are key-value pairs sent in an HTTP request to provide information about the request itself.\n",
    "\n",
    "Some request headers are:\n",
    "\n",
    "1. **Content-Type**: Specifies the media type of the resource or data. Common examples include \"application/json\" for JSON data, \"text/html\" for HTML content, and \"application/xml\" for XML data.\n",
    "\n",
    "3. **Authorization**: Contains credentials for authenticating the client with the server, often used with tokens or other forms of authentication.\n",
    "\n",
    "4. **User-Agent**: Provides information about the client (browser or other client), including its version and operating system.\n",
    "\n",
    "\n",
    "In Python's `requests` library, you can include headers in a request by using the `headers` argument, like this:\n",
    "\n",
    "```python\n",
    "headers = {'Content-Type': 'application/json', 'Authorization': 'Bearer YOUR_TOKEN'}\n",
    "response = requests.get(url, headers=headers)\n",
    "```\n",
    "\n",
    "⚠️🚨 ¡Careful with the authentication token! ⚠️🚨  A token is a personal credential for accessing an API, through which your request quota to the API is managed. Therefore, the ideal procedure is to ensure security by storing the token as a variable in an .env file. This way, you can call the environment variable without having to publicly display the token.\n",
    "\n",
    "**Example: News API**\n",
    "\n",
    "The *News API* lets you locate articles and breaking news headlines from news sources and blogs across the web.\n",
    "\n",
    "Let's look at the [NewsAPI Authentication documentation](https://newsapi.org/docs/authentication). It mentions:\n",
    "\n",
    "\"You can attach your API key to a request in one of three ways:\n",
    "\n",
    "- Via the apiKey querystring parameter.\n",
    "- Via the X-Api-Key HTTP header.\n",
    "- Via the Authorization HTTP header. Including Bearer is optional, and be sure not to base 64 encode it like you may have seen in other authentication tutorials.\n",
    "\n",
    "We strongly recommend the either of last two so that your API key isn't visible to others in logs or via request sniffing.\n",
    "\n",
    "If you don't append your API key correctly, or your API key is invalid, you will receive a 401 - Unauthorized HTTP error.\"\n",
    "\n",
    "- Let's look at the documentation for the endpoints to see what **parameters** they accept: [NewsAPI endpoints](https://newsapi.org/docs/endpoints). We see we have the endpoint `/v2/top-headlines` – *returns breaking news headlines for countries, categories, and singular publishers. This is perfect for use with news tickers or anywhere you want to use live up-to-date news headlines.*\n",
    "If we look at the [documentation of that endpoint](https://newsapi.org/docs/endpoints/top-headlines) we see we have more parameters we can add such as `country` or `category`."
   ]
  },
  {
   "cell_type": "code",
   "execution_count": 129,
   "id": "e2853b7d-09f0-46e3-83df-c1a1b03f6b61",
   "metadata": {},
   "outputs": [],
   "source": [
    "url = \"http://newsapi.org/v2/top-headlines\""
   ]
  },
  {
   "cell_type": "code",
   "execution_count": 130,
   "id": "ab2d561c-97fc-4750-9334-f19ce984b2ae",
   "metadata": {},
   "outputs": [],
   "source": [
    "response = requests.get(url)"
   ]
  },
  {
   "cell_type": "code",
   "execution_count": 131,
   "id": "1d44b74a-8282-4f74-bcbb-e030a2d0a26a",
   "metadata": {},
   "outputs": [
    {
     "data": {
      "text/plain": [
       "401"
      ]
     },
     "execution_count": 131,
     "metadata": {},
     "output_type": "execute_result"
    }
   ],
   "source": [
    "response.status_code"
   ]
  },
  {
   "cell_type": "markdown",
   "id": "6c01205a-e732-44bc-9fc0-cb3cefdfc76f",
   "metadata": {},
   "source": [
    "Let's try a made up key, using the apiKey querystring parameter. As we read in the documentation, this is not the recommended way."
   ]
  },
  {
   "cell_type": "code",
   "execution_count": 132,
   "id": "24d14d50-c5dc-4c20-ab4b-4f65d5e61a61",
   "metadata": {},
   "outputs": [],
   "source": [
    "url = f\"http://newsapi.org/v2/top-headlines?country=us&apiKey=manolonodoesnthavekey\""
   ]
  },
  {
   "cell_type": "code",
   "execution_count": 133,
   "id": "2d106abb-06ac-4432-b4ad-2c51fbd90e28",
   "metadata": {},
   "outputs": [
    {
     "data": {
      "text/plain": [
       "'http://newsapi.org/v2/top-headlines?country=us&apiKey=manolonodoesnthavekey'"
      ]
     },
     "execution_count": 133,
     "metadata": {},
     "output_type": "execute_result"
    }
   ],
   "source": [
    "url"
   ]
  },
  {
   "cell_type": "code",
   "execution_count": 134,
   "id": "304ff5dd-8d38-4641-9799-8cd7978434d0",
   "metadata": {},
   "outputs": [],
   "source": [
    "response = requests.get(url)"
   ]
  },
  {
   "cell_type": "code",
   "execution_count": 135,
   "id": "bb9dc34b-21de-4d00-8544-fc9ea2c23f70",
   "metadata": {},
   "outputs": [
    {
     "data": {
      "text/plain": [
       "401"
      ]
     },
     "execution_count": 135,
     "metadata": {},
     "output_type": "execute_result"
    }
   ],
   "source": [
    "response.status_code"
   ]
  },
  {
   "cell_type": "markdown",
   "id": "e829611f-a4a8-4b3d-90a2-31c1bb04fb2b",
   "metadata": {},
   "source": [
    "**4xx**: client error. This means, it is our error.\n",
    "\n",
    "Lets do with a correct key. You should get your own API key through their website. Once we've saved our key, we'll send it via the X-Api-Key HTTP header.\n",
    "\n",
    "##### Saving the API Key\n",
    "\n",
    "Storing an API key directly in your code can expose sensitive information, especially if your code is publicly available (e.g., on a public GitHub repository). The best practice for saving and loading an API key in your code involves the following steps:\n",
    "\n",
    "1. **Storing the API Key**:\n",
    "    - **Use Environment Variables**: Store your API key in an environment variable on your system. This keeps the key out of your codebase and allows you to change it without altering your code.\n",
    "\n",
    "\n",
    "    - **Create a .env File**: If you prefer, you can create a `.env` file (just call it `.env` nothing else before the `.`) in your project directory to store the API key. Inside this file, you would have something like:\n",
    "   \n",
    "       ```\n",
    "       API_KEY=your-api-key-here\n",
    "       ```\n",
    "\n",
    "        - **Add .env to .gitignore**: If you're using a version control system like Git, make sure to add the `.env` file to your `.gitignore` file. This prevents the `.env` file (and therefore your API key) from being uploaded to any public repositories. We'll talk about Git and .gitignore in more detail soon.\n",
    "\n",
    "2. **Load the Key in Your Code**: \n",
    "\n",
    "    You can use libraries like `python-dotenv` to load the key into your code. \n",
    "    You would need to install `python-dotenv` first.\n",
    "    ```python \n",
    "    !pip install python-dotenv\n",
    "\n",
    "    from dotenv import load_dotenv\n",
    "    import os\n",
    "\n",
    "    load_dotenv()\n",
    "    api_key = os.getenv(\"API_KEY\")\n",
    "    ```\n",
    "\n",
    "       \n",
    "    Now, `api_key` contains the value of your API key, and you can use it to authenticate your requests to the API.\n",
    "       \n",
    "\n",
    "Lets do the second approach. Lets save it in an env file and save it in a variable.\n",
    "\n",
    "Make sure your file is named .env and not .env.txt! Is one of the most common errors. If you need, look at the document properties to make sure it doesn't have .txt at the end even if its not showing the .txt when looking at your folder."
   ]
  },
  {
   "cell_type": "code",
   "execution_count": 136,
   "id": "12fa7d1f-37c7-40a7-b60f-e4e264a43574",
   "metadata": {},
   "outputs": [
    {
     "name": "stdout",
     "output_type": "stream",
     "text": [
      "Requirement already satisfied: python-dotenv in /Users/milenko/anaconda3/lib/python3.11/site-packages (1.0.1)\n"
     ]
    }
   ],
   "source": [
    "#!pip install python-dotenv"
   ]
  },
  {
   "cell_type": "code",
   "execution_count": 150,
   "id": "65104c73-28cb-4b84-949b-013d2f0fd1b0",
   "metadata": {},
   "outputs": [],
   "source": [
    "import os\n",
    "from dotenv import load_dotenv, find_dotenv\n",
    "\n",
    "load_dotenv()\n",
    "\n",
    "my_key = os.getenv(\"API_KEY\")"
   ]
  },
  {
   "cell_type": "markdown",
   "id": "c2b8daee-8bbe-4dba-b302-4424bff542ee",
   "metadata": {},
   "source": [
    "If you get an error, make sure you saved the .env file in the same directory as your jupyter notebook. You can use `os.getcwd()` to do so."
   ]
  },
  {
   "cell_type": "code",
   "execution_count": 151,
   "id": "2edcbffe-e4b5-464b-8e5b-9efd3a41ed59",
   "metadata": {},
   "outputs": [
    {
     "data": {
      "text/plain": [
       "'/Users/milenko/My Drive (1307mile@gmail.com)/bootcamp/python/w2_data_wrangling_and_retrieval'"
      ]
     },
     "execution_count": 151,
     "metadata": {},
     "output_type": "execute_result"
    }
   ],
   "source": [
    "os.getcwd()"
   ]
  },
  {
   "cell_type": "markdown",
   "id": "f1e87da8-be8c-4f58-94aa-354b879a7ed6",
   "metadata": {},
   "source": [
    "##### Using the API Key in the Header Parameters"
   ]
  },
  {
   "cell_type": "code",
   "execution_count": 152,
   "id": "c2c03dbc-e8b1-4649-9c71-18e61cc61123",
   "metadata": {},
   "outputs": [],
   "source": [
    "url_top_headlines = \"http://newsapi.org/v2/top-headlines\""
   ]
  },
  {
   "cell_type": "code",
   "execution_count": 153,
   "id": "262b26fd-e3a8-4bc3-a7cb-38901f474817",
   "metadata": {},
   "outputs": [],
   "source": [
    "parameters = {\"country\": \"us\", \"category\": \"science\"}"
   ]
  },
  {
   "cell_type": "code",
   "execution_count": 154,
   "id": "d3f8f790-1a58-4655-99bb-729fccd803eb",
   "metadata": {},
   "outputs": [],
   "source": [
    "headers = {\"X-Api-Key\": my_key}"
   ]
  },
  {
   "cell_type": "code",
   "execution_count": 155,
   "id": "85034bf8-bcc1-4e4e-bcb1-a442b2d65711",
   "metadata": {},
   "outputs": [],
   "source": [
    "response = requests.get(\n",
    "    url=url_top_headlines, \n",
    "    params=parameters, \n",
    "    headers=headers\n",
    ")"
   ]
  },
  {
   "cell_type": "code",
   "execution_count": 156,
   "id": "ad8de9aa-736e-480a-8a4d-1de84dbade07",
   "metadata": {},
   "outputs": [
    {
     "data": {
      "text/plain": [
       "200"
      ]
     },
     "execution_count": 156,
     "metadata": {},
     "output_type": "execute_result"
    }
   ],
   "source": [
    "response.status_code"
   ]
  },
  {
   "cell_type": "code",
   "execution_count": 157,
   "id": "56058048-233a-41f5-a1da-edb8092730de",
   "metadata": {},
   "outputs": [],
   "source": [
    "data = response.json()"
   ]
  },
  {
   "cell_type": "code",
   "execution_count": null,
   "id": "eb07a572-50ca-41b0-b3b3-ec82d0cd3f5f",
   "metadata": {
    "scrolled": true
   },
   "outputs": [],
   "source": [
    "data"
   ]
  },
  {
   "cell_type": "markdown",
   "id": "b6e5c398-c333-4831-b15c-230c63e7ac9c",
   "metadata": {},
   "source": [
    "## APIs examples\n",
    "### NewsAPI"
   ]
  },
  {
   "cell_type": "code",
   "execution_count": 160,
   "id": "f9720542-bc2e-4bd5-af7d-395f6aa420a0",
   "metadata": {},
   "outputs": [
    {
     "data": {
      "text/plain": [
       "dict"
      ]
     },
     "execution_count": 160,
     "metadata": {},
     "output_type": "execute_result"
    }
   ],
   "source": [
    "type(data) # response.json() returns a dictionary"
   ]
  },
  {
   "cell_type": "code",
   "execution_count": 161,
   "id": "541f1c98-0837-4e79-b3bc-8266486acf2f",
   "metadata": {},
   "outputs": [
    {
     "data": {
      "text/plain": [
       "dict_keys(['status', 'totalResults', 'articles'])"
      ]
     },
     "execution_count": 161,
     "metadata": {},
     "output_type": "execute_result"
    }
   ],
   "source": [
    "data.keys() # we can get the keys with method keys()"
   ]
  },
  {
   "cell_type": "code",
   "execution_count": 162,
   "id": "b536335a-008b-41d9-af92-6ff4466da5e9",
   "metadata": {},
   "outputs": [
    {
     "data": {
      "text/plain": [
       "'ok'"
      ]
     },
     "execution_count": 162,
     "metadata": {},
     "output_type": "execute_result"
    }
   ],
   "source": [
    "data.get(\"status\") # we can get a key's value by using get method"
   ]
  },
  {
   "cell_type": "code",
   "execution_count": 163,
   "id": "eee49271-cd78-42f5-972d-dfe9728ea730",
   "metadata": {},
   "outputs": [
    {
     "data": {
      "text/plain": [
       "67"
      ]
     },
     "execution_count": 163,
     "metadata": {},
     "output_type": "execute_result"
    }
   ],
   "source": [
    "data[\"totalResults\"] # or by using dictionary notation to access values"
   ]
  },
  {
   "cell_type": "code",
   "execution_count": 164,
   "id": "f26b202a-2d95-4e36-87e4-9a52f32a4be9",
   "metadata": {},
   "outputs": [
    {
     "data": {
      "text/plain": [
       "67"
      ]
     },
     "execution_count": 164,
     "metadata": {},
     "output_type": "execute_result"
    }
   ],
   "source": [
    "# this is the same as above\n",
    "data.get(\"totalResults\")"
   ]
  },
  {
   "cell_type": "markdown",
   "id": "61e9315e-c94e-41f8-8794-f255eb5220cc",
   "metadata": {},
   "source": [
    "`dict[key]` raises error if the key does not exits  \n",
    "`dict.get(key)` does not raise an error if the key does not exist"
   ]
  },
  {
   "cell_type": "code",
   "execution_count": 165,
   "id": "cc234036-e6d5-450e-9183-76e960220a7f",
   "metadata": {},
   "outputs": [],
   "source": [
    "# lets look at the articles\n",
    "articles = data.get(\"articles\")"
   ]
  },
  {
   "cell_type": "code",
   "execution_count": 166,
   "id": "0fac4939-7f00-4fe8-b758-4dc13e2c6b52",
   "metadata": {},
   "outputs": [
    {
     "data": {
      "text/plain": [
       "list"
      ]
     },
     "execution_count": 166,
     "metadata": {},
     "output_type": "execute_result"
    }
   ],
   "source": [
    "type(articles) # lets see what type it is to know how to access it"
   ]
  },
  {
   "cell_type": "code",
   "execution_count": 167,
   "id": "5988fdf2-5d2a-4236-927f-e8abd9c0fe93",
   "metadata": {},
   "outputs": [
    {
     "data": {
      "text/plain": [
       "20"
      ]
     },
     "execution_count": 167,
     "metadata": {},
     "output_type": "execute_result"
    }
   ],
   "source": [
    "len(articles)"
   ]
  },
  {
   "cell_type": "code",
   "execution_count": 169,
   "id": "2353c5e3-c200-40b5-9529-a4f531dc4d77",
   "metadata": {},
   "outputs": [
    {
     "data": {
      "text/plain": [
       "{'source': {'id': 'google-news', 'name': 'Google News'},\n",
       " 'author': 'Hackaday',\n",
       " 'title': 'The Continuing Venusian Mystery Of Phosphine And Ammonia - Hackaday',\n",
       " 'description': None,\n",
       " 'url': 'https://news.google.com/rss/articles/CBMiWWh0dHBzOi8vaGFja2FkYXkuY29tLzIwMjQvMDcvMTkvdGhlLWNvbnRpbnVpbmctdmVudXNpYW4tbXlzdGVyeS1vZi1waG9zcGhpbmUtYW5kLWFtbW9uaWEv0gEA?oc=5',\n",
       " 'urlToImage': None,\n",
       " 'publishedAt': '2024-07-20T02:00:00Z',\n",
       " 'content': None}"
      ]
     },
     "execution_count": 169,
     "metadata": {},
     "output_type": "execute_result"
    }
   ],
   "source": [
    "articles[0] # since articles is a list, we can access its elements by the index"
   ]
  },
  {
   "cell_type": "code",
   "execution_count": null,
   "id": "a98e38bb-4364-4d3a-817d-6993049f9408",
   "metadata": {},
   "outputs": [],
   "source": [
    "type(articles[0]) # each element inside the list is a dictionary"
   ]
  },
  {
   "cell_type": "code",
   "execution_count": null,
   "id": "18eb15ba-18e3-49c5-997d-050815814e21",
   "metadata": {
    "tags": []
   },
   "outputs": [],
   "source": [
    "display([art[\"title\"] for art in articles]) # lets get all the titles using list comprehension"
   ]
  },
  {
   "cell_type": "code",
   "execution_count": null,
   "id": "e8422609-6ccf-4ddc-b044-b5a951f49ab6",
   "metadata": {},
   "outputs": [],
   "source": [
    "df = pd.DataFrame(articles) # lets create a dataframe with the articles"
   ]
  },
  {
   "cell_type": "code",
   "execution_count": 178,
   "id": "9069dc15-b0e6-4db9-acba-f1b5c0c37a5b",
   "metadata": {
    "scrolled": true
   },
   "outputs": [
    {
     "data": {
      "text/html": [
       "<div>\n",
       "<style scoped>\n",
       "    .dataframe tbody tr th:only-of-type {\n",
       "        vertical-align: middle;\n",
       "    }\n",
       "\n",
       "    .dataframe tbody tr th {\n",
       "        vertical-align: top;\n",
       "    }\n",
       "\n",
       "    .dataframe thead th {\n",
       "        text-align: right;\n",
       "    }\n",
       "</style>\n",
       "<table border=\"1\" class=\"dataframe\">\n",
       "  <thead>\n",
       "    <tr style=\"text-align: right;\">\n",
       "      <th></th>\n",
       "      <th>source</th>\n",
       "      <th>author</th>\n",
       "      <th>title</th>\n",
       "      <th>description</th>\n",
       "      <th>url</th>\n",
       "      <th>urlToImage</th>\n",
       "      <th>publishedAt</th>\n",
       "      <th>content</th>\n",
       "    </tr>\n",
       "  </thead>\n",
       "  <tbody>\n",
       "    <tr>\n",
       "      <th>0</th>\n",
       "      <td>{'id': 'google-news', 'name': 'Google News'}</td>\n",
       "      <td>Hackaday</td>\n",
       "      <td>The Continuing Venusian Mystery Of Phosphine A...</td>\n",
       "      <td>None</td>\n",
       "      <td>https://news.google.com/rss/articles/CBMiWWh0d...</td>\n",
       "      <td>None</td>\n",
       "      <td>2024-07-20T02:00:00Z</td>\n",
       "      <td>None</td>\n",
       "    </tr>\n",
       "    <tr>\n",
       "      <th>1</th>\n",
       "      <td>{'id': 'google-news', 'name': 'Google News'}</td>\n",
       "      <td>Ars Technica</td>\n",
       "      <td>Armada to Apophis—scientists recycle old ideas...</td>\n",
       "      <td>None</td>\n",
       "      <td>https://news.google.com/rss/articles/CBMicWh0d...</td>\n",
       "      <td>None</td>\n",
       "      <td>2024-07-20T00:26:42Z</td>\n",
       "      <td>None</td>\n",
       "    </tr>\n",
       "    <tr>\n",
       "      <th>2</th>\n",
       "      <td>{'id': 'google-news', 'name': 'Google News'}</td>\n",
       "      <td>Space.com</td>\n",
       "      <td>'An oasis in the desert': NASA's Curiosity rov...</td>\n",
       "      <td>None</td>\n",
       "      <td>https://news.google.com/rss/articles/CBMiNmh0d...</td>\n",
       "      <td>None</td>\n",
       "      <td>2024-07-20T00:00:01Z</td>\n",
       "      <td>None</td>\n",
       "    </tr>\n",
       "    <tr>\n",
       "      <th>3</th>\n",
       "      <td>{'id': None, 'name': 'ScienceAlert'}</td>\n",
       "      <td>Universe Today</td>\n",
       "      <td>Scientists Reveal Why Fire Is So Dangerous Dur...</td>\n",
       "      <td>Astronauts face multiple risks during space fl...</td>\n",
       "      <td>https://www.sciencealert.com/scientists-reveal...</td>\n",
       "      <td>https://www.sciencealert.com/images/2024/07/Fi...</td>\n",
       "      <td>2024-07-19T23:01:20Z</td>\n",
       "      <td>Astronauts face multiple risks during space fl...</td>\n",
       "    </tr>\n",
       "    <tr>\n",
       "      <th>4</th>\n",
       "      <td>{'id': 'google-news', 'name': 'Google News'}</td>\n",
       "      <td>Mentalfloss</td>\n",
       "      <td>New Study Sheds Light on the Greenland Shark's...</td>\n",
       "      <td>None</td>\n",
       "      <td>https://news.google.com/rss/articles/CBMiQGh0d...</td>\n",
       "      <td>None</td>\n",
       "      <td>2024-07-19T21:03:00Z</td>\n",
       "      <td>None</td>\n",
       "    </tr>\n",
       "  </tbody>\n",
       "</table>\n",
       "</div>"
      ],
      "text/plain": [
       "                                         source          author  \\\n",
       "0  {'id': 'google-news', 'name': 'Google News'}        Hackaday   \n",
       "1  {'id': 'google-news', 'name': 'Google News'}    Ars Technica   \n",
       "2  {'id': 'google-news', 'name': 'Google News'}       Space.com   \n",
       "3          {'id': None, 'name': 'ScienceAlert'}  Universe Today   \n",
       "4  {'id': 'google-news', 'name': 'Google News'}     Mentalfloss   \n",
       "\n",
       "                                               title  \\\n",
       "0  The Continuing Venusian Mystery Of Phosphine A...   \n",
       "1  Armada to Apophis—scientists recycle old ideas...   \n",
       "2  'An oasis in the desert': NASA's Curiosity rov...   \n",
       "3  Scientists Reveal Why Fire Is So Dangerous Dur...   \n",
       "4  New Study Sheds Light on the Greenland Shark's...   \n",
       "\n",
       "                                         description  \\\n",
       "0                                               None   \n",
       "1                                               None   \n",
       "2                                               None   \n",
       "3  Astronauts face multiple risks during space fl...   \n",
       "4                                               None   \n",
       "\n",
       "                                                 url  \\\n",
       "0  https://news.google.com/rss/articles/CBMiWWh0d...   \n",
       "1  https://news.google.com/rss/articles/CBMicWh0d...   \n",
       "2  https://news.google.com/rss/articles/CBMiNmh0d...   \n",
       "3  https://www.sciencealert.com/scientists-reveal...   \n",
       "4  https://news.google.com/rss/articles/CBMiQGh0d...   \n",
       "\n",
       "                                          urlToImage           publishedAt  \\\n",
       "0                                               None  2024-07-20T02:00:00Z   \n",
       "1                                               None  2024-07-20T00:26:42Z   \n",
       "2                                               None  2024-07-20T00:00:01Z   \n",
       "3  https://www.sciencealert.com/images/2024/07/Fi...  2024-07-19T23:01:20Z   \n",
       "4                                               None  2024-07-19T21:03:00Z   \n",
       "\n",
       "                                             content  \n",
       "0                                               None  \n",
       "1                                               None  \n",
       "2                                               None  \n",
       "3  Astronauts face multiple risks during space fl...  \n",
       "4                                               None  "
      ]
     },
     "execution_count": 178,
     "metadata": {},
     "output_type": "execute_result"
    }
   ],
   "source": [
    "df.head()"
   ]
  },
  {
   "cell_type": "code",
   "execution_count": null,
   "id": "b63bc388",
   "metadata": {},
   "outputs": [],
   "source": [
    "print(type(data)) # response.json() returns a dictionary\n",
    "print(data.keys()) # dict_keys(['key', 'key2', ...])\n",
    "print(data.get(\"status\")) # should say \"ok\"\n",
    "print(data[\"totalResults\"]) # returns an integer with the number of results\n",
    "print(data.get(\"totalResults\")) # same as the previous line\n",
    "# data[\"key\"] raises error if the key not exists; data.get(\"key\") won't raise error\n",
    "\n",
    "articles = data.get(\"articles\")\n",
    "print(type(articles)) # it's a list\n",
    "print(len(articles)) # int, number of articles\n",
    "display(articles[0]) # since articles is a list, we can access its elements by the index\n",
    "print(type(articles[0])) # each element inside the list is a dictionary\n",
    "display([art[\"title\"] for art in articles]) # lets get all the titles using list comprehension\n",
    "df = pd.DataFrame(articles) # lets create a dataframe with the articles\n",
    "df"
   ]
  },
  {
   "cell_type": "markdown",
   "id": "3e21fbb4-6e2d-43ef-a61e-38da7eedc5fe",
   "metadata": {},
   "source": [
    "#### Check for understanding 1\n",
    "\n",
    "1. What data type is the column *source*?\n",
    "2. Since the column *source* is not very useful as it is, create a column called *name* that contains only the name inside the column *source*.\n",
    "3. How many times each unique name appears in the \"name\" column?"
   ]
  },
  {
   "cell_type": "code",
   "execution_count": 242,
   "id": "38caf19b",
   "metadata": {},
   "outputs": [
    {
     "data": {
      "text/plain": [
       "name\n",
       "Google News         15\n",
       "ScienceAlert         1\n",
       "SciTechDaily         1\n",
       "Foxweather.com       1\n",
       "Space.com            1\n",
       "Associated Press     1\n",
       "Name: count, dtype: int64"
      ]
     },
     "execution_count": 242,
     "metadata": {},
     "output_type": "execute_result"
    }
   ],
   "source": [
    "# Step 1: The column \"source\" is object datatype\n",
    "df[\"source\"].dtype\n",
    "\n",
    "# Step 2:\n",
    "df[\"name\"] = df[\"source\"].apply(lambda x: x[\"name\"])\n",
    "\n",
    "# Step 3: Google News appear 15 times. Other 5 unique names in the \"name\" column appear once.\n",
    "df.name.value_counts()"
   ]
  },
  {
   "cell_type": "markdown",
   "id": "be8f6d65-359d-408b-aeb4-64379614377f",
   "metadata": {},
   "source": [
    "### Pokemon API\n",
    "[PokeAPI](https://pokeapi.co/) is a full RESTful API linked to an extensive database detailing everything about the Pokémon main game series.\n",
    "\n",
    "In the documentation we see that we can get lot's of data. Let's look at the endpoint *pokemon*: ```https://pokeapi.co/api/v2/pokemon/{id or name}/``` "
   ]
  },
  {
   "cell_type": "code",
   "execution_count": 244,
   "id": "b59992ec-a9de-4c14-88ef-177df49393a4",
   "metadata": {},
   "outputs": [
    {
     "data": {
      "text/plain": [
       "200"
      ]
     },
     "execution_count": 244,
     "metadata": {},
     "output_type": "execute_result"
    }
   ],
   "source": [
    "res=requests.get('https://pokeapi.co/api/v2/pokemon/25')\n",
    "res.status_code"
   ]
  },
  {
   "cell_type": "code",
   "execution_count": null,
   "id": "b180faa9-b8b2-4ec5-804e-d46941f6132c",
   "metadata": {
    "scrolled": true
   },
   "outputs": [],
   "source": [
    "data=res.json()\n",
    "data"
   ]
  },
  {
   "cell_type": "code",
   "execution_count": null,
   "id": "faa82a7d-35f8-441c-9c65-c4cf34c8ba99",
   "metadata": {},
   "outputs": [],
   "source": [
    "type(data)"
   ]
  },
  {
   "cell_type": "code",
   "execution_count": 246,
   "id": "a4745456-3fa4-4511-a7be-c6eea20db9df",
   "metadata": {},
   "outputs": [
    {
     "data": {
      "text/plain": [
       "dict_keys(['abilities', 'base_experience', 'cries', 'forms', 'game_indices', 'height', 'held_items', 'id', 'is_default', 'location_area_encounters', 'moves', 'name', 'order', 'past_abilities', 'past_types', 'species', 'sprites', 'stats', 'types', 'weight'])"
      ]
     },
     "execution_count": 246,
     "metadata": {},
     "output_type": "execute_result"
    }
   ],
   "source": [
    "data.keys()"
   ]
  },
  {
   "cell_type": "code",
   "execution_count": null,
   "id": "9fa671b3-9a78-49e8-bf57-0781a1fa6b70",
   "metadata": {},
   "outputs": [],
   "source": [
    "# Lets look at the following attributes\n",
    "print(data[\"name\"])\n",
    "print(data[\"weight\"])\n",
    "print(data[\"sprites\"])"
   ]
  },
  {
   "cell_type": "code",
   "execution_count": null,
   "id": "b4ceecb0-9e17-4cfe-a09e-67ae3026652d",
   "metadata": {},
   "outputs": [],
   "source": [
    "# Lets get the pokemon image from sprites - front_default.\n",
    "# Remember we can read the documentation to understand how to get all the information\n",
    "data['sprites']['front_default']"
   ]
  },
  {
   "cell_type": "markdown",
   "id": "5bdb9958-a049-42b2-8c5c-475c7b90601d",
   "metadata": {},
   "source": [
    "We will define a function, `get_pokemon`, that takes an ID number as input. This function fetches details about a Pokémon from the PokeAPI using the given ID, extracts its name, weight, and front-facing image, and then returns this data in a dictionary format. If the ID is invalid or there's an issue with the request, a ValueError is raised."
   ]
  },
  {
   "cell_type": "code",
   "execution_count": 253,
   "id": "04981f9a-157d-49ae-9e5d-0b382d5ab2fd",
   "metadata": {},
   "outputs": [],
   "source": [
    "def get_pokemon(id_number):\n",
    "    res=requests.get('https://pokeapi.co/api/v2/pokemon/{}'.format(id_number))\n",
    "    \n",
    "    if(res.status_code==200):\n",
    "        data = res.json()\n",
    "        return {\"id\": id_number,'name':data['name'], \"weight\":data[\"weight\"],'image':data['sprites']['front_default']}\n",
    "    else:\n",
    "        raise ValueError(\"Cannot get pokemon, id does not exist\")\n"
   ]
  },
  {
   "cell_type": "code",
   "execution_count": 263,
   "id": "96dbff41-1e63-40ee-b409-aed7cce7e7a7",
   "metadata": {},
   "outputs": [
    {
     "data": {
      "text/plain": [
       "{'id': 2,\n",
       " 'name': 'ivysaur',\n",
       " 'weight': 130,\n",
       " 'image': 'https://raw.githubusercontent.com/PokeAPI/sprites/master/sprites/pokemon/2.png'}"
      ]
     },
     "execution_count": 263,
     "metadata": {},
     "output_type": "execute_result"
    }
   ],
   "source": [
    "get_pokemon(2) # Lets use the function for pokemon id 25"
   ]
  },
  {
   "cell_type": "code",
   "execution_count": null,
   "id": "ebf5de4c-1150-4cab-812a-7b6d9f1e807c",
   "metadata": {},
   "outputs": [],
   "source": [
    "[get_pokemon(i+1) for i in range(5)] # Lets use list comprehension to gather information for the first 5 pokemons"
   ]
  },
  {
   "cell_type": "markdown",
   "id": "5d419697-cb8a-4737-8b0b-3a742615f16a",
   "metadata": {},
   "source": [
    "We will now define a function, `print_pokemon`, that takes in a Pokémon dictionary and displays its ID, name, weight, and its image. "
   ]
  },
  {
   "cell_type": "code",
   "execution_count": 282,
   "id": "da875adb-e2d1-4e59-8b2e-ce3e00da5f59",
   "metadata": {},
   "outputs": [],
   "source": [
    "from IPython.display import Image\n",
    "\n",
    "def print_pokemon(poke):\n",
    "    print(str(poke[\"id\"])+\" \" +poke[\"name\"]+ \" \"+str(poke[\"weight\"]) + \" kg\")\n",
    "    display(Image(url=poke['image']))"
   ]
  },
  {
   "cell_type": "markdown",
   "id": "d284e0ef-4d49-42a3-bc50-c1a859a7e41a",
   "metadata": {},
   "source": [
    "After defining this function, we will retrieve and display details for the first 10 Pokémon by iterating through their IDs and using both the `get_pokemon` and `print_pokemon` functions. "
   ]
  },
  {
   "cell_type": "code",
   "execution_count": null,
   "id": "9e8a778b-bf09-4351-b9d6-6adc759566e5",
   "metadata": {},
   "outputs": [],
   "source": [
    "[print_pokemon(get_pokemon(i+1)) for i in range(10)]"
   ]
  },
  {
   "cell_type": "markdown",
   "id": "8ee586a7-a55f-4c14-b3cf-55745308fe84",
   "metadata": {},
   "source": [
    "#### json_normalize()\n",
    "Want the data as a DataFrame instead of a dictionary?\n",
    "\n",
    "The following line creates a DataFrame from the items of the dictionary data. Each key-value pair will be treated as a row, with two columns: the first for the key and the second for the value."
   ]
  },
  {
   "cell_type": "code",
   "execution_count": 287,
   "id": "5455a1bd-a158-4111-9841-750add5b2708",
   "metadata": {},
   "outputs": [
    {
     "data": {
      "text/html": [
       "<div>\n",
       "<style scoped>\n",
       "    .dataframe tbody tr th:only-of-type {\n",
       "        vertical-align: middle;\n",
       "    }\n",
       "\n",
       "    .dataframe tbody tr th {\n",
       "        vertical-align: top;\n",
       "    }\n",
       "\n",
       "    .dataframe thead th {\n",
       "        text-align: right;\n",
       "    }\n",
       "</style>\n",
       "<table border=\"1\" class=\"dataframe\">\n",
       "  <thead>\n",
       "    <tr style=\"text-align: right;\">\n",
       "      <th></th>\n",
       "      <th>0</th>\n",
       "      <th>1</th>\n",
       "    </tr>\n",
       "  </thead>\n",
       "  <tbody>\n",
       "    <tr>\n",
       "      <th>0</th>\n",
       "      <td>abilities</td>\n",
       "      <td>[{'ability': {'name': 'static', 'url': 'https:...</td>\n",
       "    </tr>\n",
       "    <tr>\n",
       "      <th>1</th>\n",
       "      <td>base_experience</td>\n",
       "      <td>112</td>\n",
       "    </tr>\n",
       "    <tr>\n",
       "      <th>2</th>\n",
       "      <td>cries</td>\n",
       "      <td>{'latest': 'https://raw.githubusercontent.com/...</td>\n",
       "    </tr>\n",
       "    <tr>\n",
       "      <th>3</th>\n",
       "      <td>forms</td>\n",
       "      <td>[{'name': 'pikachu', 'url': 'https://pokeapi.c...</td>\n",
       "    </tr>\n",
       "    <tr>\n",
       "      <th>4</th>\n",
       "      <td>game_indices</td>\n",
       "      <td>[{'game_index': 84, 'version': {'name': 'red',...</td>\n",
       "    </tr>\n",
       "    <tr>\n",
       "      <th>5</th>\n",
       "      <td>height</td>\n",
       "      <td>4</td>\n",
       "    </tr>\n",
       "    <tr>\n",
       "      <th>6</th>\n",
       "      <td>held_items</td>\n",
       "      <td>[{'item': {'name': 'oran-berry', 'url': 'https...</td>\n",
       "    </tr>\n",
       "    <tr>\n",
       "      <th>7</th>\n",
       "      <td>id</td>\n",
       "      <td>25</td>\n",
       "    </tr>\n",
       "    <tr>\n",
       "      <th>8</th>\n",
       "      <td>is_default</td>\n",
       "      <td>True</td>\n",
       "    </tr>\n",
       "    <tr>\n",
       "      <th>9</th>\n",
       "      <td>location_area_encounters</td>\n",
       "      <td>https://pokeapi.co/api/v2/pokemon/25/encounters</td>\n",
       "    </tr>\n",
       "    <tr>\n",
       "      <th>10</th>\n",
       "      <td>moves</td>\n",
       "      <td>[{'move': {'name': 'mega-punch', 'url': 'https...</td>\n",
       "    </tr>\n",
       "    <tr>\n",
       "      <th>11</th>\n",
       "      <td>name</td>\n",
       "      <td>pikachu</td>\n",
       "    </tr>\n",
       "    <tr>\n",
       "      <th>12</th>\n",
       "      <td>order</td>\n",
       "      <td>35</td>\n",
       "    </tr>\n",
       "    <tr>\n",
       "      <th>13</th>\n",
       "      <td>past_abilities</td>\n",
       "      <td>[]</td>\n",
       "    </tr>\n",
       "    <tr>\n",
       "      <th>14</th>\n",
       "      <td>past_types</td>\n",
       "      <td>[]</td>\n",
       "    </tr>\n",
       "    <tr>\n",
       "      <th>15</th>\n",
       "      <td>species</td>\n",
       "      <td>{'name': 'pikachu', 'url': 'https://pokeapi.co...</td>\n",
       "    </tr>\n",
       "    <tr>\n",
       "      <th>16</th>\n",
       "      <td>sprites</td>\n",
       "      <td>{'back_default': 'https://raw.githubuserconten...</td>\n",
       "    </tr>\n",
       "    <tr>\n",
       "      <th>17</th>\n",
       "      <td>stats</td>\n",
       "      <td>[{'base_stat': 35, 'effort': 0, 'stat': {'name...</td>\n",
       "    </tr>\n",
       "    <tr>\n",
       "      <th>18</th>\n",
       "      <td>types</td>\n",
       "      <td>[{'slot': 1, 'type': {'name': 'electric', 'url...</td>\n",
       "    </tr>\n",
       "    <tr>\n",
       "      <th>19</th>\n",
       "      <td>weight</td>\n",
       "      <td>60</td>\n",
       "    </tr>\n",
       "  </tbody>\n",
       "</table>\n",
       "</div>"
      ],
      "text/plain": [
       "                           0  \\\n",
       "0                  abilities   \n",
       "1            base_experience   \n",
       "2                      cries   \n",
       "3                      forms   \n",
       "4               game_indices   \n",
       "5                     height   \n",
       "6                 held_items   \n",
       "7                         id   \n",
       "8                 is_default   \n",
       "9   location_area_encounters   \n",
       "10                     moves   \n",
       "11                      name   \n",
       "12                     order   \n",
       "13            past_abilities   \n",
       "14                past_types   \n",
       "15                   species   \n",
       "16                   sprites   \n",
       "17                     stats   \n",
       "18                     types   \n",
       "19                    weight   \n",
       "\n",
       "                                                    1  \n",
       "0   [{'ability': {'name': 'static', 'url': 'https:...  \n",
       "1                                                 112  \n",
       "2   {'latest': 'https://raw.githubusercontent.com/...  \n",
       "3   [{'name': 'pikachu', 'url': 'https://pokeapi.c...  \n",
       "4   [{'game_index': 84, 'version': {'name': 'red',...  \n",
       "5                                                   4  \n",
       "6   [{'item': {'name': 'oran-berry', 'url': 'https...  \n",
       "7                                                  25  \n",
       "8                                                True  \n",
       "9     https://pokeapi.co/api/v2/pokemon/25/encounters  \n",
       "10  [{'move': {'name': 'mega-punch', 'url': 'https...  \n",
       "11                                            pikachu  \n",
       "12                                                 35  \n",
       "13                                                 []  \n",
       "14                                                 []  \n",
       "15  {'name': 'pikachu', 'url': 'https://pokeapi.co...  \n",
       "16  {'back_default': 'https://raw.githubuserconten...  \n",
       "17  [{'base_stat': 35, 'effort': 0, 'stat': {'name...  \n",
       "18  [{'slot': 1, 'type': {'name': 'electric', 'url...  \n",
       "19                                                 60  "
      ]
     },
     "execution_count": 287,
     "metadata": {},
     "output_type": "execute_result"
    }
   ],
   "source": [
    "df = pd.DataFrame(data.items())\n",
    "df"
   ]
  },
  {
   "cell_type": "markdown",
   "id": "175094a5-2fcd-4956-8fb4-e0d59f701ffe",
   "metadata": {},
   "source": [
    "That format is still very hard to work with. Lets use `json_normalize` instead. `json_normalize` is used to normalize semi-structured JSON data into a flat table (DataFrame). It's particularly useful when dealing with nested dictionaries or lists inside JSON."
   ]
  },
  {
   "cell_type": "code",
   "execution_count": 288,
   "id": "def72654-66aa-41cd-900b-d55fae54894d",
   "metadata": {},
   "outputs": [
    {
     "data": {
      "text/html": [
       "<div>\n",
       "<style scoped>\n",
       "    .dataframe tbody tr th:only-of-type {\n",
       "        vertical-align: middle;\n",
       "    }\n",
       "\n",
       "    .dataframe tbody tr th {\n",
       "        vertical-align: top;\n",
       "    }\n",
       "\n",
       "    .dataframe thead th {\n",
       "        text-align: right;\n",
       "    }\n",
       "</style>\n",
       "<table border=\"1\" class=\"dataframe\">\n",
       "  <thead>\n",
       "    <tr style=\"text-align: right;\">\n",
       "      <th></th>\n",
       "      <th>abilities</th>\n",
       "      <th>base_experience</th>\n",
       "      <th>forms</th>\n",
       "      <th>game_indices</th>\n",
       "      <th>height</th>\n",
       "      <th>held_items</th>\n",
       "      <th>id</th>\n",
       "      <th>is_default</th>\n",
       "      <th>location_area_encounters</th>\n",
       "      <th>moves</th>\n",
       "      <th>...</th>\n",
       "      <th>sprites.versions.generation-vi.x-y.front_shiny</th>\n",
       "      <th>sprites.versions.generation-vi.x-y.front_shiny_female</th>\n",
       "      <th>sprites.versions.generation-vii.icons.front_default</th>\n",
       "      <th>sprites.versions.generation-vii.icons.front_female</th>\n",
       "      <th>sprites.versions.generation-vii.ultra-sun-ultra-moon.front_default</th>\n",
       "      <th>sprites.versions.generation-vii.ultra-sun-ultra-moon.front_female</th>\n",
       "      <th>sprites.versions.generation-vii.ultra-sun-ultra-moon.front_shiny</th>\n",
       "      <th>sprites.versions.generation-vii.ultra-sun-ultra-moon.front_shiny_female</th>\n",
       "      <th>sprites.versions.generation-viii.icons.front_default</th>\n",
       "      <th>sprites.versions.generation-viii.icons.front_female</th>\n",
       "    </tr>\n",
       "  </thead>\n",
       "  <tbody>\n",
       "    <tr>\n",
       "      <th>0</th>\n",
       "      <td>[{'ability': {'name': 'static', 'url': 'https:...</td>\n",
       "      <td>112</td>\n",
       "      <td>[{'name': 'pikachu', 'url': 'https://pokeapi.c...</td>\n",
       "      <td>[{'game_index': 84, 'version': {'name': 'red',...</td>\n",
       "      <td>4</td>\n",
       "      <td>[{'item': {'name': 'oran-berry', 'url': 'https...</td>\n",
       "      <td>25</td>\n",
       "      <td>True</td>\n",
       "      <td>https://pokeapi.co/api/v2/pokemon/25/encounters</td>\n",
       "      <td>[{'move': {'name': 'mega-punch', 'url': 'https...</td>\n",
       "      <td>...</td>\n",
       "      <td>https://raw.githubusercontent.com/PokeAPI/spri...</td>\n",
       "      <td>https://raw.githubusercontent.com/PokeAPI/spri...</td>\n",
       "      <td>https://raw.githubusercontent.com/PokeAPI/spri...</td>\n",
       "      <td>None</td>\n",
       "      <td>https://raw.githubusercontent.com/PokeAPI/spri...</td>\n",
       "      <td>https://raw.githubusercontent.com/PokeAPI/spri...</td>\n",
       "      <td>https://raw.githubusercontent.com/PokeAPI/spri...</td>\n",
       "      <td>https://raw.githubusercontent.com/PokeAPI/spri...</td>\n",
       "      <td>https://raw.githubusercontent.com/PokeAPI/spri...</td>\n",
       "      <td>https://raw.githubusercontent.com/PokeAPI/spri...</td>\n",
       "    </tr>\n",
       "  </tbody>\n",
       "</table>\n",
       "<p>1 rows × 141 columns</p>\n",
       "</div>"
      ],
      "text/plain": [
       "                                           abilities  base_experience  \\\n",
       "0  [{'ability': {'name': 'static', 'url': 'https:...              112   \n",
       "\n",
       "                                               forms  \\\n",
       "0  [{'name': 'pikachu', 'url': 'https://pokeapi.c...   \n",
       "\n",
       "                                        game_indices  height  \\\n",
       "0  [{'game_index': 84, 'version': {'name': 'red',...       4   \n",
       "\n",
       "                                          held_items  id  is_default  \\\n",
       "0  [{'item': {'name': 'oran-berry', 'url': 'https...  25        True   \n",
       "\n",
       "                          location_area_encounters  \\\n",
       "0  https://pokeapi.co/api/v2/pokemon/25/encounters   \n",
       "\n",
       "                                               moves  ...  \\\n",
       "0  [{'move': {'name': 'mega-punch', 'url': 'https...  ...   \n",
       "\n",
       "      sprites.versions.generation-vi.x-y.front_shiny  \\\n",
       "0  https://raw.githubusercontent.com/PokeAPI/spri...   \n",
       "\n",
       "   sprites.versions.generation-vi.x-y.front_shiny_female  \\\n",
       "0  https://raw.githubusercontent.com/PokeAPI/spri...       \n",
       "\n",
       "  sprites.versions.generation-vii.icons.front_default  \\\n",
       "0  https://raw.githubusercontent.com/PokeAPI/spri...    \n",
       "\n",
       "  sprites.versions.generation-vii.icons.front_female  \\\n",
       "0                                               None   \n",
       "\n",
       "  sprites.versions.generation-vii.ultra-sun-ultra-moon.front_default  \\\n",
       "0  https://raw.githubusercontent.com/PokeAPI/spri...                   \n",
       "\n",
       "  sprites.versions.generation-vii.ultra-sun-ultra-moon.front_female  \\\n",
       "0  https://raw.githubusercontent.com/PokeAPI/spri...                  \n",
       "\n",
       "   sprites.versions.generation-vii.ultra-sun-ultra-moon.front_shiny  \\\n",
       "0  https://raw.githubusercontent.com/PokeAPI/spri...                  \n",
       "\n",
       "  sprites.versions.generation-vii.ultra-sun-ultra-moon.front_shiny_female  \\\n",
       "0  https://raw.githubusercontent.com/PokeAPI/spri...                        \n",
       "\n",
       "  sprites.versions.generation-viii.icons.front_default  \\\n",
       "0  https://raw.githubusercontent.com/PokeAPI/spri...     \n",
       "\n",
       "  sprites.versions.generation-viii.icons.front_female  \n",
       "0  https://raw.githubusercontent.com/PokeAPI/spri...   \n",
       "\n",
       "[1 rows x 141 columns]"
      ]
     },
     "execution_count": 288,
     "metadata": {},
     "output_type": "execute_result"
    }
   ],
   "source": [
    "df = pd.json_normalize(data)\n",
    "df"
   ]
  },
  {
   "cell_type": "markdown",
   "id": "a879ab4b-1a2e-42f7-8a4b-4bf2c4e8687c",
   "metadata": {},
   "source": [
    "A lot better, even though we still have nested dictionaries or lists inside the dataframe.\n",
    "\n",
    "Let's see again the difference between creating a dataframe directly or using `json_normalize` by using `data[\"abilities\"]`."
   ]
  },
  {
   "cell_type": "code",
   "execution_count": 289,
   "id": "96389cbb-ee4f-4495-ae45-91de38ccc1fa",
   "metadata": {},
   "outputs": [
    {
     "data": {
      "text/html": [
       "<div>\n",
       "<style scoped>\n",
       "    .dataframe tbody tr th:only-of-type {\n",
       "        vertical-align: middle;\n",
       "    }\n",
       "\n",
       "    .dataframe tbody tr th {\n",
       "        vertical-align: top;\n",
       "    }\n",
       "\n",
       "    .dataframe thead th {\n",
       "        text-align: right;\n",
       "    }\n",
       "</style>\n",
       "<table border=\"1\" class=\"dataframe\">\n",
       "  <thead>\n",
       "    <tr style=\"text-align: right;\">\n",
       "      <th></th>\n",
       "      <th>ability</th>\n",
       "      <th>is_hidden</th>\n",
       "      <th>slot</th>\n",
       "    </tr>\n",
       "  </thead>\n",
       "  <tbody>\n",
       "    <tr>\n",
       "      <th>0</th>\n",
       "      <td>{'name': 'static', 'url': 'https://pokeapi.co/...</td>\n",
       "      <td>False</td>\n",
       "      <td>1</td>\n",
       "    </tr>\n",
       "    <tr>\n",
       "      <th>1</th>\n",
       "      <td>{'name': 'lightning-rod', 'url': 'https://poke...</td>\n",
       "      <td>True</td>\n",
       "      <td>3</td>\n",
       "    </tr>\n",
       "  </tbody>\n",
       "</table>\n",
       "</div>"
      ],
      "text/plain": [
       "                                             ability  is_hidden  slot\n",
       "0  {'name': 'static', 'url': 'https://pokeapi.co/...      False     1\n",
       "1  {'name': 'lightning-rod', 'url': 'https://poke...       True     3"
      ]
     },
     "execution_count": 289,
     "metadata": {},
     "output_type": "execute_result"
    }
   ],
   "source": [
    "pd.DataFrame(data[\"abilities\"])"
   ]
  },
  {
   "cell_type": "code",
   "execution_count": 290,
   "id": "04997d49-0438-40e5-b0cf-6244405aa55e",
   "metadata": {},
   "outputs": [
    {
     "data": {
      "text/html": [
       "<div>\n",
       "<style scoped>\n",
       "    .dataframe tbody tr th:only-of-type {\n",
       "        vertical-align: middle;\n",
       "    }\n",
       "\n",
       "    .dataframe tbody tr th {\n",
       "        vertical-align: top;\n",
       "    }\n",
       "\n",
       "    .dataframe thead th {\n",
       "        text-align: right;\n",
       "    }\n",
       "</style>\n",
       "<table border=\"1\" class=\"dataframe\">\n",
       "  <thead>\n",
       "    <tr style=\"text-align: right;\">\n",
       "      <th></th>\n",
       "      <th>is_hidden</th>\n",
       "      <th>slot</th>\n",
       "      <th>ability.name</th>\n",
       "      <th>ability.url</th>\n",
       "    </tr>\n",
       "  </thead>\n",
       "  <tbody>\n",
       "    <tr>\n",
       "      <th>0</th>\n",
       "      <td>False</td>\n",
       "      <td>1</td>\n",
       "      <td>static</td>\n",
       "      <td>https://pokeapi.co/api/v2/ability/9/</td>\n",
       "    </tr>\n",
       "    <tr>\n",
       "      <th>1</th>\n",
       "      <td>True</td>\n",
       "      <td>3</td>\n",
       "      <td>lightning-rod</td>\n",
       "      <td>https://pokeapi.co/api/v2/ability/31/</td>\n",
       "    </tr>\n",
       "  </tbody>\n",
       "</table>\n",
       "</div>"
      ],
      "text/plain": [
       "   is_hidden  slot   ability.name                            ability.url\n",
       "0      False     1         static   https://pokeapi.co/api/v2/ability/9/\n",
       "1       True     3  lightning-rod  https://pokeapi.co/api/v2/ability/31/"
      ]
     },
     "execution_count": 290,
     "metadata": {},
     "output_type": "execute_result"
    }
   ],
   "source": [
    "pd.json_normalize(data[\"abilities\"])"
   ]
  },
  {
   "cell_type": "markdown",
   "id": "4680fda5-270d-45e9-ab0f-abebcfe09088",
   "metadata": {},
   "source": [
    "### Coincap API\n",
    "CoinCap is a useful tool for real-time pricing and market activity for over 1,000 cryptocurrencies. Check the documentation at https://docs.coincap.io/"
   ]
  },
  {
   "cell_type": "code",
   "execution_count": 293,
   "id": "bdfda195-9de8-4e2c-8b01-63161db18060",
   "metadata": {},
   "outputs": [],
   "source": [
    "url = \"http://api.coincap.io/v2/assets\""
   ]
  },
  {
   "cell_type": "code",
   "execution_count": 294,
   "id": "8cdd990d-cf9b-4bdc-bbd9-cb038685efd5",
   "metadata": {},
   "outputs": [],
   "source": [
    "response = requests.get(url)"
   ]
  },
  {
   "cell_type": "code",
   "execution_count": 295,
   "id": "1ea53c95-0868-4440-80ba-13f492e4da6f",
   "metadata": {},
   "outputs": [
    {
     "name": "stdout",
     "output_type": "stream",
     "text": [
      "<Response [200]>\n"
     ]
    }
   ],
   "source": [
    "print(response)"
   ]
  },
  {
   "cell_type": "code",
   "execution_count": 296,
   "id": "8873ba49-0849-40f9-903d-9e49451de9ee",
   "metadata": {},
   "outputs": [],
   "source": [
    "res = response.json()"
   ]
  },
  {
   "cell_type": "code",
   "execution_count": 297,
   "id": "17605693-433c-4581-813a-136209c382e3",
   "metadata": {},
   "outputs": [
    {
     "data": {
      "text/plain": [
       "{'data': [{'id': 'bitcoin',\n",
       "   'rank': '1',\n",
       "   'symbol': 'BTC',\n",
       "   'name': 'Bitcoin',\n",
       "   'supply': '19728778.0000000000000000',\n",
       "   'maxSupply': '21000000.0000000000000000',\n",
       "   'marketCapUsd': '1319228591504.5431471673790992',\n",
       "   'volumeUsd24Hr': '6003420936.7281208218121979',\n",
       "   'priceUsd': '66868.2364160893871464',\n",
       "   'changePercent24Hr': '0.3659635037207530',\n",
       "   'vwap24Hr': '67107.6062863609713849',\n",
       "   'explorer': 'https://blockchain.info/'},\n",
       "  {'id': 'ethereum',\n",
       "   'rank': '2',\n",
       "   'symbol': 'ETH',\n",
       "   'name': 'Ethereum',\n",
       "   'supply': '120228315.0196019700000000',\n",
       "   'maxSupply': None,\n",
       "   'marketCapUsd': '420373002316.5477059037945645',\n",
       "   'volumeUsd24Hr': '3362961605.6427862340324318',\n",
       "   'priceUsd': '3496.4559076454683915',\n",
       "   'changePercent24Hr': '0.0140414430950319',\n",
       "   'vwap24Hr': '3508.8164903300620981',\n",
       "   'explorer': 'https://etherscan.io/'},\n",
       "  {'id': 'tether',\n",
       "   'rank': '3',\n",
       "   'symbol': 'USDT',\n",
       "   'name': 'Tether',\n",
       "   'supply': '114039204814.2764600000000000',\n",
       "   'maxSupply': None,\n",
       "   'marketCapUsd': '114078496131.8572307310232719',\n",
       "   'volumeUsd24Hr': '9245961473.3868054151087385',\n",
       "   'priceUsd': '1.0003445421918257',\n",
       "   'changePercent24Hr': '-0.0271766375295686',\n",
       "   'vwap24Hr': '1.0000606435256973',\n",
       "   'explorer': 'https://www.omniexplorer.info/asset/31'},\n",
       "  {'id': 'binance-coin',\n",
       "   'rank': '4',\n",
       "   'symbol': 'BNB',\n",
       "   'name': 'BNB',\n",
       "   'supply': '166801148.0000000000000000',\n",
       "   'maxSupply': '166801148.0000000000000000',\n",
       "   'marketCapUsd': '99093851807.1105536609491928',\n",
       "   'volumeUsd24Hr': '167747133.9650638549674074',\n",
       "   'priceUsd': '594.0837517923470986',\n",
       "   'changePercent24Hr': '0.4670870832091105',\n",
       "   'vwap24Hr': '595.2242048660781204',\n",
       "   'explorer': 'https://etherscan.io/token/0xB8c77482e45F1F44dE1745F52C74426C631bDD52'},\n",
       "  {'id': 'solana',\n",
       "   'rank': '5',\n",
       "   'symbol': 'SOL',\n",
       "   'name': 'Solana',\n",
       "   'supply': '464344297.8276351000000000',\n",
       "   'maxSupply': None,\n",
       "   'marketCapUsd': '79935622843.3135900085873853',\n",
       "   'volumeUsd24Hr': '588774937.7373472894292529',\n",
       "   'priceUsd': '172.1473122794451635',\n",
       "   'changePercent24Hr': '2.1459226997984046',\n",
       "   'vwap24Hr': '172.7054765818152106',\n",
       "   'explorer': 'https://explorer.solana.com/'},\n",
       "  {'id': 'usd-coin',\n",
       "   'rank': '6',\n",
       "   'symbol': 'USDC',\n",
       "   'name': 'USDC',\n",
       "   'supply': '34089477331.3265720000000000',\n",
       "   'maxSupply': None,\n",
       "   'marketCapUsd': '34087940681.6517888797592493',\n",
       "   'volumeUsd24Hr': '861313412.2247020960487027',\n",
       "   'priceUsd': '0.9999549230497186',\n",
       "   'changePercent24Hr': '-0.0265180460163996',\n",
       "   'vwap24Hr': '1.0002067567180205',\n",
       "   'explorer': 'https://etherscan.io/token/0xa0b86991c6218b36c1d19d4a2e9eb0ce3606eb48'},\n",
       "  {'id': 'xrp',\n",
       "   'rank': '7',\n",
       "   'symbol': 'XRP',\n",
       "   'name': 'XRP',\n",
       "   'supply': '45404028640.0000000000000000',\n",
       "   'maxSupply': '100000000000.0000000000000000',\n",
       "   'marketCapUsd': '26289084652.3071022694708160',\n",
       "   'volumeUsd24Hr': '439194581.2393501458590093',\n",
       "   'priceUsd': '0.5790033492566994',\n",
       "   'changePercent24Hr': '-1.8688268815478529',\n",
       "   'vwap24Hr': '0.5930661234524266',\n",
       "   'explorer': 'https://xrpcharts.ripple.com/#/graph/'},\n",
       "  {'id': 'dogecoin',\n",
       "   'rank': '8',\n",
       "   'symbol': 'DOGE',\n",
       "   'name': 'Dogecoin',\n",
       "   'supply': '145206626383.7052000000000000',\n",
       "   'maxSupply': None,\n",
       "   'marketCapUsd': '19105892384.7825878826469295',\n",
       "   'volumeUsd24Hr': '493179825.2706140358048829',\n",
       "   'priceUsd': '0.1315772761932758',\n",
       "   'changePercent24Hr': '2.8014959743414078',\n",
       "   'vwap24Hr': '0.1327070013999610',\n",
       "   'explorer': 'http://dogechain.info/chain/Dogecoin'},\n",
       "  {'id': 'cardano',\n",
       "   'rank': '9',\n",
       "   'symbol': 'ADA',\n",
       "   'name': 'Cardano',\n",
       "   'supply': '35892037779.7950000000000000',\n",
       "   'maxSupply': '45000000000.0000000000000000',\n",
       "   'marketCapUsd': '15378860785.5793691523840127',\n",
       "   'volumeUsd24Hr': '107984741.9461632830787801',\n",
       "   'priceUsd': '0.4284755543814990',\n",
       "   'changePercent24Hr': '-0.3615818264758641',\n",
       "   'vwap24Hr': '0.4338537420276086',\n",
       "   'explorer': 'https://cardanoexplorer.com/'},\n",
       "  {'id': 'tron',\n",
       "   'rank': '10',\n",
       "   'symbol': 'TRX',\n",
       "   'name': 'TRON',\n",
       "   'supply': '87087927577.9299600000000000',\n",
       "   'maxSupply': None,\n",
       "   'marketCapUsd': '11706279032.2963730307155172',\n",
       "   'volumeUsd24Hr': '79216646.0673140459862700',\n",
       "   'priceUsd': '0.1344190791751371',\n",
       "   'changePercent24Hr': '0.0446199859335239',\n",
       "   'vwap24Hr': '0.1345198223568025',\n",
       "   'explorer': 'https://tronscan.org/#/'},\n",
       "  {'id': 'avalanche',\n",
       "   'rank': '11',\n",
       "   'symbol': 'AVAX',\n",
       "   'name': 'Avalanche',\n",
       "   'supply': '394754873.0577096300000000',\n",
       "   'maxSupply': '715748719.0000000000000000',\n",
       "   'marketCapUsd': '11578975783.2401967629602228',\n",
       "   'volumeUsd24Hr': '111431770.5519406514839423',\n",
       "   'priceUsd': '29.3320654753448835',\n",
       "   'changePercent24Hr': '4.3472142389518977',\n",
       "   'vwap24Hr': '28.9394920865327904',\n",
       "   'explorer': 'https://avascan.info/'},\n",
       "  {'id': 'shiba-inu',\n",
       "   'rank': '12',\n",
       "   'symbol': 'SHIB',\n",
       "   'name': 'Shiba Inu',\n",
       "   'supply': '589270679726919.4000000000000000',\n",
       "   'maxSupply': None,\n",
       "   'marketCapUsd': '10462736809.8508178379411656',\n",
       "   'volumeUsd24Hr': '155523100.6302670428439183',\n",
       "   'priceUsd': '0.0000177554003106',\n",
       "   'changePercent24Hr': '-0.2273797555958152',\n",
       "   'vwap24Hr': '0.0000180273323706',\n",
       "   'explorer': 'https://etherscan.io/token/0x95ad61b0a150d79219dcf64e1e6cc01f0b64c4ce'},\n",
       "  {'id': 'wrapped-bitcoin',\n",
       "   'rank': '13',\n",
       "   'symbol': 'WBTC',\n",
       "   'name': 'Wrapped Bitcoin',\n",
       "   'supply': '154782.1938814600000000',\n",
       "   'maxSupply': None,\n",
       "   'marketCapUsd': '10349461660.0520598874243283',\n",
       "   'volumeUsd24Hr': '16702137.0260673154931647',\n",
       "   'priceUsd': '66864.6786850572676257',\n",
       "   'changePercent24Hr': '0.3379406284971500',\n",
       "   'vwap24Hr': '67013.5972739094715220',\n",
       "   'explorer': 'https://etherscan.io/token/0x2260fac5e5542a773aa44fbcfedf7c193bc2c599'},\n",
       "  {'id': 'polkadot',\n",
       "   'rank': '14',\n",
       "   'symbol': 'DOT',\n",
       "   'name': 'Polkadot',\n",
       "   'supply': '1390359541.7992300000000000',\n",
       "   'maxSupply': None,\n",
       "   'marketCapUsd': '8679991926.8197657477377461',\n",
       "   'volumeUsd24Hr': '50795961.0169746976961262',\n",
       "   'priceUsd': '6.2429836785866210',\n",
       "   'changePercent24Hr': '-0.5497081199786406',\n",
       "   'vwap24Hr': '6.3096874970639099',\n",
       "   'explorer': 'https://polkascan.io/polkadot'},\n",
       "  {'id': 'chainlink',\n",
       "   'rank': '15',\n",
       "   'symbol': 'LINK',\n",
       "   'name': 'Chainlink',\n",
       "   'supply': '608099970.4527867000000000',\n",
       "   'maxSupply': None,\n",
       "   'marketCapUsd': '8670843165.7231518048140948',\n",
       "   'volumeUsd24Hr': '132495395.8877508274666938',\n",
       "   'priceUsd': '14.2589106841542957',\n",
       "   'changePercent24Hr': '1.9819308434179860',\n",
       "   'vwap24Hr': '14.1889989161116649',\n",
       "   'explorer': 'https://etherscan.io/token/0x514910771af9ca656af840dff83e8264ecf986ca'},\n",
       "  {'id': 'bitcoin-cash',\n",
       "   'rank': '16',\n",
       "   'symbol': 'BCH',\n",
       "   'name': 'Bitcoin Cash',\n",
       "   'supply': '19735875.0000000000000000',\n",
       "   'maxSupply': '21000000.0000000000000000',\n",
       "   'marketCapUsd': '7683913473.2813131422729750',\n",
       "   'volumeUsd24Hr': '68131594.0296304904859840',\n",
       "   'priceUsd': '389.3373601769018674',\n",
       "   'changePercent24Hr': '-0.7916067126820888',\n",
       "   'vwap24Hr': '395.2360619282626395',\n",
       "   'explorer': 'https://blockchair.com/bitcoin-cash/blocks'},\n",
       "  {'id': 'near-protocol',\n",
       "   'rank': '17',\n",
       "   'symbol': 'NEAR',\n",
       "   'name': 'NEAR Protocol',\n",
       "   'supply': '1104089984.0000000000000000',\n",
       "   'maxSupply': None,\n",
       "   'marketCapUsd': '6732229425.2674812729096704',\n",
       "   'volumeUsd24Hr': '68200204.3778409432567814',\n",
       "   'priceUsd': '6.0975369062558956',\n",
       "   'changePercent24Hr': '-3.7236190196556103',\n",
       "   'vwap24Hr': '6.2490405313220750',\n",
       "   'explorer': 'https://explorer.nearprotocol.com/'},\n",
       "  {'id': 'litecoin',\n",
       "   'rank': '18',\n",
       "   'symbol': 'LTC',\n",
       "   'name': 'Litecoin',\n",
       "   'supply': '74774574.8575049000000000',\n",
       "   'maxSupply': '84000000.0000000000000000',\n",
       "   'marketCapUsd': '5480247582.2712652144823609',\n",
       "   'volumeUsd24Hr': '104486156.4235662994109714',\n",
       "   'priceUsd': '73.2902539762314568',\n",
       "   'changePercent24Hr': '0.3085494653679285',\n",
       "   'vwap24Hr': '73.3218576245855058',\n",
       "   'explorer': 'http://explorer.litecoin.net/chain/Litecoin'},\n",
       "  {'id': 'multi-collateral-dai',\n",
       "   'rank': '19',\n",
       "   'symbol': 'DAI',\n",
       "   'name': 'Multi Collateral DAI',\n",
       "   'supply': '5347888595.7464075000000000',\n",
       "   'maxSupply': None,\n",
       "   'marketCapUsd': '5342717386.3205129417912495',\n",
       "   'volumeUsd24Hr': '33437507.1438859895890814',\n",
       "   'priceUsd': '0.9990330371821867',\n",
       "   'changePercent24Hr': '-0.0128013655831021',\n",
       "   'vwap24Hr': '1.0006129932377279',\n",
       "   'explorer': 'https://etherscan.io/token/0x89d24a6b4ccb1b6faa2625fe562bdd9a23260359'},\n",
       "  {'id': 'polygon',\n",
       "   'rank': '20',\n",
       "   'symbol': 'MATIC',\n",
       "   'name': 'Polygon',\n",
       "   'supply': '9897682956.6965660000000000',\n",
       "   'maxSupply': None,\n",
       "   'marketCapUsd': '5268819857.5751833060759529',\n",
       "   'volumeUsd24Hr': '63040276.8400563113012594',\n",
       "   'priceUsd': '0.5323286147502239',\n",
       "   'changePercent24Hr': '0.3329565425286019',\n",
       "   'vwap24Hr': '0.5376594373030190',\n",
       "   'explorer': 'https://etherscan.io/token/0x7D1AfA7B718fb893dB30A3aBc0Cfc608AaCfeBB0'},\n",
       "  {'id': 'unus-sed-leo',\n",
       "   'rank': '21',\n",
       "   'symbol': 'LEO',\n",
       "   'name': 'UNUS SED LEO',\n",
       "   'supply': '925935870.9000000000000000',\n",
       "   'maxSupply': None,\n",
       "   'marketCapUsd': '5263519166.0668806413306877',\n",
       "   'volumeUsd24Hr': '8135923.6943559162729385',\n",
       "   'priceUsd': '5.6845396441448963',\n",
       "   'changePercent24Hr': '-0.7460991130727425',\n",
       "   'vwap24Hr': '5.6797814394440565',\n",
       "   'explorer': 'https://eospark.com/account/bitfinexleo1'},\n",
       "  {'id': 'uniswap',\n",
       "   'rank': '22',\n",
       "   'symbol': 'UNI',\n",
       "   'name': 'Uniswap',\n",
       "   'supply': '600034294.7100000000000000',\n",
       "   'maxSupply': None,\n",
       "   'marketCapUsd': '4741919137.7119703940103617',\n",
       "   'volumeUsd24Hr': '62557663.9387649707666737',\n",
       "   'priceUsd': '7.9027468588337388',\n",
       "   'changePercent24Hr': '-0.1007963181674020',\n",
       "   'vwap24Hr': '7.9869117159501447',\n",
       "   'explorer': 'https://etherscan.io/token/0x1f9840a85d5af5bf1d1762f925bdaddc4201f984'},\n",
       "  {'id': 'internet-computer',\n",
       "   'rank': '23',\n",
       "   'symbol': 'ICP',\n",
       "   'name': 'Internet Computer',\n",
       "   'supply': '467029899.0336664000000000',\n",
       "   'maxSupply': None,\n",
       "   'marketCapUsd': '4698793263.9463532950941690',\n",
       "   'volumeUsd24Hr': '27349965.5498368344747508',\n",
       "   'priceUsd': '10.0610116689930279',\n",
       "   'changePercent24Hr': '-1.1067790442154386',\n",
       "   'vwap24Hr': '10.2342729158448913',\n",
       "   'explorer': 'https://www.dfinityexplorer.org/#/'},\n",
       "  {'id': 'fetch',\n",
       "   'rank': '24',\n",
       "   'symbol': 'FET',\n",
       "   'name': 'Artificial Superintelligence Alliance',\n",
       "   'supply': '2520000000.0000000000000000',\n",
       "   'maxSupply': '2630547141.0000000000000000',\n",
       "   'marketCapUsd': '3562417356.0008120640000000',\n",
       "   'volumeUsd24Hr': '43513439.1965711708112995',\n",
       "   'priceUsd': '1.4136576809527032',\n",
       "   'changePercent24Hr': '-2.0645571731932575',\n",
       "   'vwap24Hr': '1.4496370636083250',\n",
       "   'explorer': 'https://etherscan.io/token/0x1d287cc25dad7ccaf76a26bc660c5f7c8e2a05bd'},\n",
       "  {'id': 'ethereum-classic',\n",
       "   'rank': '25',\n",
       "   'symbol': 'ETC',\n",
       "   'name': 'Ethereum Classic',\n",
       "   'supply': '148006772.7971617000000000',\n",
       "   'maxSupply': '210700000.0000000000000000',\n",
       "   'marketCapUsd': '3488587437.6007679824690220',\n",
       "   'volumeUsd24Hr': '53701505.4491454661005303',\n",
       "   'priceUsd': '23.5704581058716795',\n",
       "   'changePercent24Hr': '-0.4467650568179981',\n",
       "   'vwap24Hr': '23.8170492473051905',\n",
       "   'explorer': 'http://gastracker.io/'},\n",
       "  {'id': 'stellar',\n",
       "   'rank': '26',\n",
       "   'symbol': 'XLM',\n",
       "   'name': 'Stellar',\n",
       "   'supply': '29311832267.9978500000000000',\n",
       "   'maxSupply': '50001806812.0000000000000000',\n",
       "   'marketCapUsd': '3026165702.7090898356588898',\n",
       "   'volumeUsd24Hr': '31415892.7887283227179230',\n",
       "   'priceUsd': '0.1032404141454168',\n",
       "   'changePercent24Hr': '-1.6157183075703875',\n",
       "   'vwap24Hr': '0.1043994772055593',\n",
       "   'explorer': 'https://dashboard.stellar.org/'},\n",
       "  {'id': 'monero',\n",
       "   'rank': '27',\n",
       "   'symbol': 'XMR',\n",
       "   'name': 'Monero',\n",
       "   'supply': '18446744.0737095500000000',\n",
       "   'maxSupply': None,\n",
       "   'marketCapUsd': '3008738783.5312518577536549',\n",
       "   'volumeUsd24Hr': '61187882.7019387418574039',\n",
       "   'priceUsd': '163.1040562772988700',\n",
       "   'changePercent24Hr': '0.5386296378352245',\n",
       "   'vwap24Hr': '163.5961399572813353',\n",
       "   'explorer': 'http://moneroblocks.info/'},\n",
       "  {'id': 'stacks',\n",
       "   'rank': '28',\n",
       "   'symbol': 'STX',\n",
       "   'name': 'Stacks',\n",
       "   'supply': '1475265394.6937030000000000',\n",
       "   'maxSupply': '1818000000.0000000000000000',\n",
       "   'marketCapUsd': '2806895263.4934904488594234',\n",
       "   'volumeUsd24Hr': '8351759.2205133709389441',\n",
       "   'priceUsd': '1.9026375007435612',\n",
       "   'changePercent24Hr': '-0.3746706942123249',\n",
       "   'vwap24Hr': '1.9084106073738251',\n",
       "   'explorer': 'https://explorer.xinfin.network/'},\n",
       "  {'id': 'filecoin',\n",
       "   'rank': '29',\n",
       "   'symbol': 'FIL',\n",
       "   'name': 'Filecoin',\n",
       "   'supply': '572074369.0000000000000000',\n",
       "   'maxSupply': None,\n",
       "   'marketCapUsd': '2643352204.5835760349136016',\n",
       "   'volumeUsd24Hr': '70181083.2375686077289562',\n",
       "   'priceUsd': '4.6206443564395664',\n",
       "   'changePercent24Hr': '-0.1853217075454338',\n",
       "   'vwap24Hr': '4.6773760268350035',\n",
       "   'explorer': 'https://protocol.ai'},\n",
       "  {'id': 'maker',\n",
       "   'rank': '30',\n",
       "   'symbol': 'MKR',\n",
       "   'name': 'Maker',\n",
       "   'supply': '930401.8833898900000000',\n",
       "   'maxSupply': '1005577.0000000000000000',\n",
       "   'marketCapUsd': '2622273566.8788866206823083',\n",
       "   'volumeUsd24Hr': '29299980.7560292469206669',\n",
       "   'priceUsd': '2818.4310604840086448',\n",
       "   'changePercent24Hr': '1.5950903565789231',\n",
       "   'vwap24Hr': '2818.1200586553257279',\n",
       "   'explorer': 'https://etherscan.io/token/Maker'},\n",
       "  {'id': 'render-token',\n",
       "   'rank': '31',\n",
       "   'symbol': 'RNDR',\n",
       "   'name': 'Render Token',\n",
       "   'supply': '369614008.1087959400000000',\n",
       "   'maxSupply': '536870912.0000000000000000',\n",
       "   'marketCapUsd': '2504674198.9867488540704970',\n",
       "   'volumeUsd24Hr': '4497704.1038205167152237',\n",
       "   'priceUsd': '6.7764590736222790',\n",
       "   'changePercent24Hr': '-0.9255396544644299',\n",
       "   'vwap24Hr': '6.9477619918419265',\n",
       "   'explorer': 'https://etherscan.io/token/0x6de037ef9ad2725eb40118bb1702ebb27e4aeb24'},\n",
       "  {'id': 'vechain',\n",
       "   'rank': '32',\n",
       "   'symbol': 'VET',\n",
       "   'name': 'VeChain',\n",
       "   'supply': '80985041177.0000000000000000',\n",
       "   'maxSupply': '86712634466.0000000000000000',\n",
       "   'marketCapUsd': '2428038905.5792505302091203',\n",
       "   'volumeUsd24Hr': '17392120.9851311850925503',\n",
       "   'priceUsd': '0.0299813258138939',\n",
       "   'changePercent24Hr': '-2.8770236492831104',\n",
       "   'vwap24Hr': '0.0305618851141879',\n",
       "   'explorer': 'https://explore.veforge.com/'},\n",
       "  {'id': 'crypto-com-coin',\n",
       "   'rank': '33',\n",
       "   'symbol': 'CRO',\n",
       "   'name': 'Crypto.com Coin',\n",
       "   'supply': '25263013692.0000000000000000',\n",
       "   'maxSupply': '30263013692.0000000000000000',\n",
       "   'marketCapUsd': '2353777122.8127132557134428',\n",
       "   'volumeUsd24Hr': '1954140.9296306951832875',\n",
       "   'priceUsd': '0.0931708762663609',\n",
       "   'changePercent24Hr': '-1.4577483363742025',\n",
       "   'vwap24Hr': '0.0941107435506279',\n",
       "   'explorer': 'https://etherscan.io/token/0xa0b73e1ff0b80914ab6fe0444e65848c4c34450b'},\n",
       "  {'id': 'arweave',\n",
       "   'rank': '34',\n",
       "   'symbol': 'AR',\n",
       "   'name': 'Arweave',\n",
       "   'supply': '65652466.0000000000000000',\n",
       "   'maxSupply': '66000000.0000000000000000',\n",
       "   'marketCapUsd': '2216060761.9745022134785034',\n",
       "   'volumeUsd24Hr': '26084286.9924938883588638',\n",
       "   'priceUsd': '33.7544177239968749',\n",
       "   'changePercent24Hr': '0.6732283475266753',\n",
       "   'vwap24Hr': '34.1450573174082853',\n",
       "   'explorer': 'https://viewblock.io/arweave'},\n",
       "  {'id': 'the-graph',\n",
       "   'rank': '35',\n",
       "   'symbol': 'GRT',\n",
       "   'name': 'The Graph',\n",
       "   'supply': '9548531509.1654740000000000',\n",
       "   'maxSupply': None,\n",
       "   'marketCapUsd': '2045412230.5002625637989493',\n",
       "   'volumeUsd24Hr': '18049914.7382386034476339',\n",
       "   'priceUsd': '0.2142122302824163',\n",
       "   'changePercent24Hr': '-0.4254855130541584',\n",
       "   'vwap24Hr': '0.2167498619851506',\n",
       "   'explorer': 'https://etherscan.io/token/0xc944e90c64b2c07662a292be6244bdf05cda44a7'},\n",
       "  {'id': 'injective-protocol',\n",
       "   'rank': '36',\n",
       "   'symbol': 'INJ',\n",
       "   'name': 'Injective',\n",
       "   'supply': '73005554.3300000000000000',\n",
       "   'maxSupply': '100000000.0000000000000000',\n",
       "   'marketCapUsd': '1963072279.7416047481968580',\n",
       "   'volumeUsd24Hr': '28494298.9226874523091469',\n",
       "   'priceUsd': '26.8893551697192455',\n",
       "   'changePercent24Hr': '0.5818448317379388',\n",
       "   'vwap24Hr': '27.4360302009279770',\n",
       "   'explorer': 'https://etherscan.io/token/0xe28b3b32b6c345a34ff64674606124dd5aceca30'},\n",
       "  {'id': 'lido-dao',\n",
       "   'rank': '37',\n",
       "   'symbol': 'LDO',\n",
       "   'name': 'Lido DAO',\n",
       "   'supply': '892899573.0564442000000000',\n",
       "   'maxSupply': None,\n",
       "   'marketCapUsd': '1691549791.3447549662097530',\n",
       "   'volumeUsd24Hr': '2096400.5481160388928158',\n",
       "   'priceUsd': '1.8944457387906316',\n",
       "   'changePercent24Hr': '-0.7877781297798250',\n",
       "   'vwap24Hr': '1.9145006553084142',\n",
       "   'explorer': 'https://etherscan.io/token/0x5a98fcbea516cf06857215779fd812ca3bef1b32'},\n",
       "  {'id': 'thorchain',\n",
       "   'rank': '38',\n",
       "   'symbol': 'RUNE',\n",
       "   'name': 'THORChain',\n",
       "   'supply': '336931744.0000000000000000',\n",
       "   'maxSupply': None,\n",
       "   'marketCapUsd': '1603317815.6614260058924576',\n",
       "   'volumeUsd24Hr': '44289973.0087058569031207',\n",
       "   'priceUsd': '4.7585834348141029',\n",
       "   'changePercent24Hr': '2.5534903374792139',\n",
       "   'vwap24Hr': '4.7940756021856208',\n",
       "   'explorer': 'https://explorer.binance.org/asset/RUNE-B1A'},\n",
       "  {'id': 'theta',\n",
       "   'rank': '39',\n",
       "   'symbol': 'THETA',\n",
       "   'name': 'THETA',\n",
       "   'supply': '1000000000.0000000000000000',\n",
       "   'maxSupply': '1000000000.0000000000000000',\n",
       "   'marketCapUsd': '1596715885.0260755000000000',\n",
       "   'volumeUsd24Hr': '9619542.7842889626295632',\n",
       "   'priceUsd': '1.5967158850260755',\n",
       "   'changePercent24Hr': '-0.2040971472205347',\n",
       "   'vwap24Hr': '1.6293031751727688',\n",
       "   'explorer': 'https://explorer.thetatoken.org/'},\n",
       "  {'id': 'cosmos',\n",
       "   'rank': '40',\n",
       "   'symbol': 'ATOM',\n",
       "   'name': 'Cosmos',\n",
       "   'supply': '248453201.0000000000000000',\n",
       "   'maxSupply': None,\n",
       "   'marketCapUsd': '1590171615.8379740816548179',\n",
       "   'volumeUsd24Hr': '37000230.4879258599122169',\n",
       "   'priceUsd': '6.4002862890785379',\n",
       "   'changePercent24Hr': '-1.0796143219875401',\n",
       "   'vwap24Hr': '6.4747699097412299',\n",
       "   'explorer': 'https://www.mintscan.io/'},\n",
       "  {'id': 'fantom',\n",
       "   'rank': '41',\n",
       "   'symbol': 'FTM',\n",
       "   'name': 'Fantom',\n",
       "   'supply': '2803634835.5265927000000000',\n",
       "   'maxSupply': None,\n",
       "   'marketCapUsd': '1442828665.0146033876803041',\n",
       "   'volumeUsd24Hr': '36815349.1351788893172288',\n",
       "   'priceUsd': '0.5146278847486228',\n",
       "   'changePercent24Hr': '-0.5130551554688350',\n",
       "   'vwap24Hr': '0.5205708211071752',\n",
       "   'explorer': 'https://etherscan.io/token/0x4e15361fd6b4bb609fa63c81a2be19d873717870'},\n",
       "  {'id': 'aave',\n",
       "   'rank': '42',\n",
       "   'symbol': 'AAVE',\n",
       "   'name': 'Aave',\n",
       "   'supply': '14875713.1551997200000000',\n",
       "   'maxSupply': None,\n",
       "   'marketCapUsd': '1436749698.5814451070564799',\n",
       "   'volumeUsd24Hr': '22652005.0360645896965243',\n",
       "   'priceUsd': '96.5835845039293132',\n",
       "   'changePercent24Hr': '-3.5650605790781827',\n",
       "   'vwap24Hr': '98.9839432107777481',\n",
       "   'explorer': 'https://etherscan.io/token/0x80fB784B7eD66730e8b1DBd9820aFD29931aab03'},\n",
       "  {'id': 'algorand',\n",
       "   'rank': '43',\n",
       "   'symbol': 'ALGO',\n",
       "   'name': 'Algorand',\n",
       "   'supply': '8229224612.2854990000000000',\n",
       "   'maxSupply': '10000000000.0000000000000000',\n",
       "   'marketCapUsd': '1279703006.3234773501248428',\n",
       "   'volumeUsd24Hr': '20140280.4451135309515107',\n",
       "   'priceUsd': '0.1555071184243768',\n",
       "   'changePercent24Hr': '-1.9411362040985976',\n",
       "   'vwap24Hr': '0.1587697562936913',\n",
       "   'explorer': 'https://algoexplorer.io/'},\n",
       "  {'id': 'hedera-hashgraph',\n",
       "   'rank': '44',\n",
       "   'symbol': 'HBAR',\n",
       "   'name': 'Hedera Hashgraph',\n",
       "   'supply': '14832756028.0000000000000000',\n",
       "   'maxSupply': '50000000000.0000000000000000',\n",
       "   'marketCapUsd': '1076991797.1277659279922488',\n",
       "   'volumeUsd24Hr': '9035480.9431003262406236',\n",
       "   'priceUsd': '0.0726090144740946',\n",
       "   'changePercent24Hr': '-1.6246744607144156',\n",
       "   'vwap24Hr': '0.0744183499523008',\n",
       "   'explorer': 'https://hash-hash.info/'},\n",
       "  {'id': 'flow',\n",
       "   'rank': '45',\n",
       "   'symbol': 'FLOW',\n",
       "   'name': 'Flow',\n",
       "   'supply': '1511780104.0000000000000000',\n",
       "   'maxSupply': None,\n",
       "   'marketCapUsd': '956537132.9045819684515128',\n",
       "   'volumeUsd24Hr': '2470591.6914995974559754',\n",
       "   'priceUsd': '0.6327223981673607',\n",
       "   'changePercent24Hr': '-0.0677996374083508',\n",
       "   'vwap24Hr': '0.6441240265740199',\n",
       "   'explorer': 'https://flowscan.org/'},\n",
       "  {'id': 'kucoin-token',\n",
       "   'rank': '46',\n",
       "   'symbol': 'KCS',\n",
       "   'name': 'KuCoin Token',\n",
       "   'supply': '95540492.2885607500000000',\n",
       "   'maxSupply': '170118638.0000000000000000',\n",
       "   'marketCapUsd': '943040297.6965542399848842',\n",
       "   'volumeUsd24Hr': '340602.6431326795076453',\n",
       "   'priceUsd': '9.8705823584024624',\n",
       "   'changePercent24Hr': '0.5494599920076482',\n",
       "   'vwap24Hr': '9.8613953299562296',\n",
       "   'explorer': 'https://etherscan.io/token/0xf34960d9d60be18cc1d5afc1a6f012a723a28811'},\n",
       "  {'id': 'axie-infinity',\n",
       "   'rank': '47',\n",
       "   'symbol': 'AXS',\n",
       "   'name': 'Axie Infinity',\n",
       "   'supply': '148016846.2241521500000000',\n",
       "   'maxSupply': None,\n",
       "   'marketCapUsd': '925939276.2052919112786131',\n",
       "   'volumeUsd24Hr': '10050931.2538821325004049',\n",
       "   'priceUsd': '6.2556344080124367',\n",
       "   'changePercent24Hr': '-0.9902716273607555',\n",
       "   'vwap24Hr': '6.3565441710632769',\n",
       "   'explorer': 'https://etherscan.io/token/0xf5d669627376ebd411e34b98f19c868c8aba5ada'},\n",
       "  {'id': 'bitcoin-sv',\n",
       "   'rank': '48',\n",
       "   'symbol': 'BSV',\n",
       "   'name': 'Bitcoin SV',\n",
       "   'supply': '19731721.8750000000000000',\n",
       "   'maxSupply': None,\n",
       "   'marketCapUsd': '915786030.5462979966079847',\n",
       "   'volumeUsd24Hr': '7116601.7963718046208886',\n",
       "   'priceUsd': '46.4118659460021401',\n",
       "   'changePercent24Hr': '-1.8908546209591992',\n",
       "   'vwap24Hr': '46.8979269569588753',\n",
       "   'explorer': 'https://bsvexplorer.io/'},\n",
       "  {'id': 'eos',\n",
       "   'rank': '49',\n",
       "   'symbol': 'EOS',\n",
       "   'name': 'EOS',\n",
       "   'supply': '1503104814.2350000000000000',\n",
       "   'maxSupply': None,\n",
       "   'marketCapUsd': '904876673.1596245536480844',\n",
       "   'volumeUsd24Hr': '39366890.3272692680320921',\n",
       "   'priceUsd': '0.6020050395621668',\n",
       "   'changePercent24Hr': '-0.3841161339391181',\n",
       "   'vwap24Hr': '0.6081544692543037',\n",
       "   'explorer': 'https://bloks.io/'},\n",
       "  {'id': 'quant',\n",
       "   'rank': '50',\n",
       "   'symbol': 'QNT',\n",
       "   'name': 'Quant',\n",
       "   'supply': '12072738.0000000000000000',\n",
       "   'maxSupply': '14881364.0000000000000000',\n",
       "   'marketCapUsd': '888580761.0164545650040668',\n",
       "   'volumeUsd24Hr': '2748918.2486183194664359',\n",
       "   'priceUsd': '73.6022566725505486',\n",
       "   'changePercent24Hr': '-2.0225070343267858',\n",
       "   'vwap24Hr': '74.9038794458695760',\n",
       "   'explorer': 'https://etherscan.io/token/0x4a220e6096b25eadb88358cb44068a3248254675'},\n",
       "  {'id': 'gala',\n",
       "   'rank': '51',\n",
       "   'symbol': 'GALA',\n",
       "   'name': 'Gala',\n",
       "   'supply': '32924889301.9880600000000000',\n",
       "   'maxSupply': None,\n",
       "   'marketCapUsd': '872454429.4492070792455083',\n",
       "   'volumeUsd24Hr': '29535503.1533192863553821',\n",
       "   'priceUsd': '0.0264983253685997',\n",
       "   'changePercent24Hr': '4.8066710531369341',\n",
       "   'vwap24Hr': '0.0281131581122927',\n",
       "   'explorer': 'https://ethplorer.io/es/address/0x15d4c048f83bd7e37d49ea4c83a07267ec4203da#chart=candlestick'},\n",
       "  {'id': 'elrond-egld',\n",
       "   'rank': '52',\n",
       "   'symbol': 'EGLD',\n",
       "   'name': 'MultiversX',\n",
       "   'supply': '24184559.1898415400000000',\n",
       "   'maxSupply': '31415926.0000000000000000',\n",
       "   'marketCapUsd': '864521136.5636799244000355',\n",
       "   'volumeUsd24Hr': '14374250.3195584667755303',\n",
       "   'priceUsd': '35.7468221677082536',\n",
       "   'changePercent24Hr': '-0.5252008199520536',\n",
       "   'vwap24Hr': '35.9421791807090158',\n",
       "   'explorer': 'https://explorer.elrond.com/'},\n",
       "  {'id': 'akash-network',\n",
       "   'rank': '53',\n",
       "   'symbol': 'AKT',\n",
       "   'name': 'Akash Network',\n",
       "   'supply': '245149444.0925160000000000',\n",
       "   'maxSupply': '388539008.0000000000000000',\n",
       "   'marketCapUsd': '859597730.4777427037230797',\n",
       "   'volumeUsd24Hr': '6357768.3315473154124504',\n",
       "   'priceUsd': '3.5064233315305518',\n",
       "   'changePercent24Hr': '-1.3360496246088288',\n",
       "   'vwap24Hr': '3.5505133878879133',\n",
       "   'explorer': 'https://akash.bigdipper.live/'},\n",
       "  {'id': 'neo',\n",
       "   'rank': '54',\n",
       "   'symbol': 'NEO',\n",
       "   'name': 'Neo',\n",
       "   'supply': '70538831.0000000000000000',\n",
       "   'maxSupply': '100000000.0000000000000000',\n",
       "   'marketCapUsd': '830682641.7136458304387987',\n",
       "   'volumeUsd24Hr': '13290873.6435251129065898',\n",
       "   'priceUsd': '11.7762462169758077',\n",
       "   'changePercent24Hr': '0.3297918939464259',\n",
       "   'vwap24Hr': '11.8678987927805634',\n",
       "   'explorer': 'https://neotracker.io'},\n",
       "  {'id': 'the-sandbox',\n",
       "   'rank': '55',\n",
       "   'symbol': 'SAND',\n",
       "   'name': 'The Sandbox',\n",
       "   'supply': '2284231926.2233224000000000',\n",
       "   'maxSupply': None,\n",
       "   'marketCapUsd': '778568996.9298390338950245',\n",
       "   'volumeUsd24Hr': '15101021.0449175446632211',\n",
       "   'priceUsd': '0.3408449851312168',\n",
       "   'changePercent24Hr': '-0.3998176648815190',\n",
       "   'vwap24Hr': '0.3453911261821188',\n",
       "   'explorer': 'https://etherscan.io/token/0x3845badAde8e6dFF049820680d1F14bD3903a5d0'},\n",
       "  {'id': 'tezos',\n",
       "   'rank': '56',\n",
       "   'symbol': 'XTZ',\n",
       "   'name': 'Tezos',\n",
       "   'supply': '990363191.1989240000000000',\n",
       "   'maxSupply': None,\n",
       "   'marketCapUsd': '776480190.0312344343542486',\n",
       "   'volumeUsd24Hr': '16732678.9680349886892193',\n",
       "   'priceUsd': '0.7840357930621746',\n",
       "   'changePercent24Hr': '-1.3200421686381207',\n",
       "   'vwap24Hr': '0.8020562457573230',\n",
       "   'explorer': 'https://tzkt.io/'},\n",
       "  {'id': 'helium',\n",
       "   'rank': '57',\n",
       "   'symbol': 'HNT',\n",
       "   'name': 'Helium',\n",
       "   'supply': '160875441.8242133300000000',\n",
       "   'maxSupply': None,\n",
       "   'marketCapUsd': '744000590.3672279084861375',\n",
       "   'volumeUsd24Hr': '2044302.7579915896715775',\n",
       "   'priceUsd': '4.6246995932430038',\n",
       "   'changePercent24Hr': '3.8786642655501493',\n",
       "   'vwap24Hr': '4.5862286133998366',\n",
       "   'explorer': 'https://explorer.helium.com/'},\n",
       "  {'id': 'gatetoken',\n",
       "   'rank': '58',\n",
       "   'symbol': 'GT',\n",
       "   'name': 'GateToken',\n",
       "   'supply': '93236583.7481053300000000',\n",
       "   'maxSupply': None,\n",
       "   'marketCapUsd': '733457540.1329012018261737',\n",
       "   'volumeUsd24Hr': '6219873.7533602500007711',\n",
       "   'priceUsd': '7.8666282123169905',\n",
       "   'changePercent24Hr': '0.6360529693427438',\n",
       "   'vwap24Hr': '7.8837661678984047',\n",
       "   'explorer': None},\n",
       "  {'id': 'conflux-network',\n",
       "   'rank': '59',\n",
       "   'symbol': 'CFX',\n",
       "   'name': 'Conflux',\n",
       "   'supply': '4235916739.8100000000000000',\n",
       "   'maxSupply': None,\n",
       "   'marketCapUsd': '708722352.7893646504868685',\n",
       "   'volumeUsd24Hr': '12304157.9908705971621111',\n",
       "   'priceUsd': '0.1673126258900816',\n",
       "   'changePercent24Hr': '-2.5404205402518925',\n",
       "   'vwap24Hr': '0.1717390070076935',\n",
       "   'explorer': 'http://www.confluxscan.io/'},\n",
       "  {'id': 'ecash',\n",
       "   'rank': '60',\n",
       "   'symbol': 'XEC',\n",
       "   'name': 'eCash',\n",
       "   'supply': '19731901548091.0000000000000000',\n",
       "   'maxSupply': '21000000000000.0000000000000000',\n",
       "   'marketCapUsd': '704518291.7045699538256964',\n",
       "   'volumeUsd24Hr': '2673196.7876377359223599',\n",
       "   'priceUsd': '0.0000357045310604',\n",
       "   'changePercent24Hr': '-0.9350213691541142',\n",
       "   'vwap24Hr': '0.0000362668843721',\n",
       "   'explorer': 'https://explorer.bitcoinabc.org/'},\n",
       "  {'id': 'pendle',\n",
       "   'rank': '61',\n",
       "   'symbol': 'PENDLE',\n",
       "   'name': 'Pendle',\n",
       "   'supply': '156184234.5277699800000000',\n",
       "   'maxSupply': None,\n",
       "   'marketCapUsd': '692455145.5964300389703103',\n",
       "   'volumeUsd24Hr': '2766468.0077108006866519',\n",
       "   'priceUsd': '4.4335790208922120',\n",
       "   'changePercent24Hr': '-1.9088183799081478',\n",
       "   'vwap24Hr': '4.5007352156983297',\n",
       "   'explorer': 'https://etherscan.io/token/0x808507121b80c02388fad14726482e061b8da827'},\n",
       "  {'id': 'nexo',\n",
       "   'rank': '62',\n",
       "   'symbol': 'NEXO',\n",
       "   'name': 'Nexo',\n",
       "   'supply': '560000011.0000000000000000',\n",
       "   'maxSupply': None,\n",
       "   'marketCapUsd': '691206585.9189897807123144',\n",
       "   'volumeUsd24Hr': '309141.8152942122616330',\n",
       "   'priceUsd': '1.2342974506102104',\n",
       "   'changePercent24Hr': '-0.4490844349131580',\n",
       "   'vwap24Hr': '1.2571972777352176',\n",
       "   'explorer': 'https://etherscan.io/token/0xb62132e35a6c13ee1ee0f84dc5d40bad8d815206'},\n",
       "  {'id': 'gnosis-gno',\n",
       "   'rank': '63',\n",
       "   'symbol': 'GNO',\n",
       "   'name': 'Gnosis',\n",
       "   'supply': '2589588.0000000000000000',\n",
       "   'maxSupply': '3000000.0000000000000000',\n",
       "   'marketCapUsd': '677101539.5246853732151008',\n",
       "   'volumeUsd24Hr': '879740.0414848871120978',\n",
       "   'priceUsd': '261.4707588715600216',\n",
       "   'changePercent24Hr': '0.2168537847022076',\n",
       "   'vwap24Hr': '262.2262625968296887',\n",
       "   'explorer': 'https://etherscan.io/token/Gnosis'},\n",
       "  {'id': 'decentraland',\n",
       "   'rank': '64',\n",
       "   'symbol': 'MANA',\n",
       "   'name': 'Decentraland',\n",
       "   'supply': '1908319865.3915880000000000',\n",
       "   'maxSupply': None,\n",
       "   'marketCapUsd': '665563763.1166818256246205',\n",
       "   'volumeUsd24Hr': '11160109.3110344225494981',\n",
       "   'priceUsd': '0.3487694988597249',\n",
       "   'changePercent24Hr': '-2.7361512656544659',\n",
       "   'vwap24Hr': '0.3570285453482079',\n",
       "   'explorer': 'https://etherscan.io/token/decentraland'},\n",
       "  {'id': 'mantra-dao',\n",
       "   'rank': '65',\n",
       "   'symbol': 'OM',\n",
       "   'name': 'MANTRA DAO',\n",
       "   'supply': '500205033.1781248500000000',\n",
       "   'maxSupply': '888888888.0000000000000000',\n",
       "   'marketCapUsd': '664758780.5942097284352137',\n",
       "   'volumeUsd24Hr': '10656250.5553157738115761',\n",
       "   'priceUsd': '1.3289725942391441',\n",
       "   'changePercent24Hr': '-0.8574903382439329',\n",
       "   'vwap24Hr': '1.3475127907410026',\n",
       "   'explorer': 'https://etherscan.io/token/0x3593d125a4f7849a1b059e64f4517a86dd60c95d'},\n",
       "  {'id': 'chiliz',\n",
       "   'rank': '66',\n",
       "   'symbol': 'CHZ',\n",
       "   'name': 'Chiliz',\n",
       "   'supply': '8919064798.0000000000000000',\n",
       "   'maxSupply': None,\n",
       "   'marketCapUsd': '661936904.1879532990099510',\n",
       "   'volumeUsd24Hr': '14013372.9987631752877893',\n",
       "   'priceUsd': '0.0742159541588245',\n",
       "   'changePercent24Hr': '1.4623250805400372',\n",
       "   'vwap24Hr': '0.0744957131631453',\n",
       "   'explorer': 'https://etherscan.io/token/0x3506424f91fd33084466f402d5d97f05f8e3b4af'},\n",
       "  {'id': 'raydium',\n",
       "   'rank': '67',\n",
       "   'symbol': 'RAY',\n",
       "   'name': 'Raydium',\n",
       "   'supply': '263561398.1873410000000000',\n",
       "   'maxSupply': None,\n",
       "   'marketCapUsd': '646036537.0379893862960245',\n",
       "   'volumeUsd24Hr': '13863210.6877314792457350',\n",
       "   'priceUsd': '2.4511804136764474',\n",
       "   'changePercent24Hr': '-2.5930569137362603',\n",
       "   'vwap24Hr': '2.4775590541278346',\n",
       "   'explorer': 'https://explorer.solana.com/address/4k3Dyjzvzp8eMZWUXbBCjEvwSkkk59S5iCNLY3QrkX6R'},\n",
       "  {'id': 'mina',\n",
       "   'rank': '68',\n",
       "   'symbol': 'MINA',\n",
       "   'name': 'Mina',\n",
       "   'supply': '1134698322.8400393000000000',\n",
       "   'maxSupply': None,\n",
       "   'marketCapUsd': '634947077.1779874975374806',\n",
       "   'volumeUsd24Hr': '10164132.3392352777463757',\n",
       "   'priceUsd': '0.5595734693506701',\n",
       "   'changePercent24Hr': '0.1746433883846383',\n",
       "   'vwap24Hr': '0.5639698306664492',\n",
       "   'explorer': 'https://minaexplorer.com/'},\n",
       "  {'id': 'oasis-network',\n",
       "   'rank': '69',\n",
       "   'symbol': 'ROSE',\n",
       "   'name': 'Oasis',\n",
       "   'supply': '6713599876.0000000000000000',\n",
       "   'maxSupply': None,\n",
       "   'marketCapUsd': '621757279.5469559530499336',\n",
       "   'volumeUsd24Hr': '5390772.9421913718922517',\n",
       "   'priceUsd': '0.0926116079347586',\n",
       "   'changePercent24Hr': '-0.2707319255842713',\n",
       "   'vwap24Hr': '0.0941121138811092',\n",
       "   'explorer': 'https://www.oasisscan.com/'},\n",
       "  {'id': 'iota',\n",
       "   'rank': '70',\n",
       "   'symbol': 'IOTA',\n",
       "   'name': 'IOTA',\n",
       "   'supply': '3344331631.0000000000000000',\n",
       "   'maxSupply': None,\n",
       "   'marketCapUsd': '589519901.5310619113056722',\n",
       "   'volumeUsd24Hr': '9474920.2654353918099835',\n",
       "   'priceUsd': '0.1762743551107662',\n",
       "   'changePercent24Hr': '0.9464592216761462',\n",
       "   'vwap24Hr': '0.1773126418453732',\n",
       "   'explorer': 'https://thetangle.org/'},\n",
       "  {'id': 'dexe',\n",
       "   'rank': '71',\n",
       "   'symbol': 'DEXE',\n",
       "   'name': 'DeXe',\n",
       "   'supply': '57103225.3406123900000000',\n",
       "   'maxSupply': '98942301.0000000000000000',\n",
       "   'marketCapUsd': '589078456.1180911397768639',\n",
       "   'volumeUsd24Hr': '8876168.9102776424562937',\n",
       "   'priceUsd': '10.3160277305585504',\n",
       "   'changePercent24Hr': '-3.3833001327369974',\n",
       "   'vwap24Hr': '10.6192678051718589',\n",
       "   'explorer': 'https://etherscan.io/token/0xde4EE8057785A7e8e800Db58F9784845A5C2Cbd6'},\n",
       "  {'id': 'klaytn',\n",
       "   'rank': '72',\n",
       "   'symbol': 'KLAY',\n",
       "   'name': 'Klaytn',\n",
       "   'supply': '3705150338.6437917000000000',\n",
       "   'maxSupply': None,\n",
       "   'marketCapUsd': '578517412.6171697754354443',\n",
       "   'volumeUsd24Hr': '1344405.2154004136788516',\n",
       "   'priceUsd': '0.1561387149620834',\n",
       "   'changePercent24Hr': '-1.3078827906565305',\n",
       "   'vwap24Hr': '0.1578225863183778',\n",
       "   'explorer': 'https://scope.klaytn.com/blocks'},\n",
       "  {'id': 'livepeer',\n",
       "   'rank': '73',\n",
       "   'symbol': 'LPT',\n",
       "   'name': 'Livepeer',\n",
       "   'supply': '33446393.0352362400000000',\n",
       "   'maxSupply': None,\n",
       "   'marketCapUsd': '553821360.1219745326241882',\n",
       "   'volumeUsd24Hr': '7617692.2447359435764536',\n",
       "   'priceUsd': '16.5584779063774091',\n",
       "   'changePercent24Hr': '-0.5406937134970932',\n",
       "   'vwap24Hr': '16.9859607700473626',\n",
       "   'explorer': 'https://explorer.livepeer.org/'},\n",
       "  {'id': '1inch',\n",
       "   'rank': '74',\n",
       "   'symbol': '1INCH',\n",
       "   'name': '1inch Network',\n",
       "   'supply': '1254374186.5929372000000000',\n",
       "   'maxSupply': None,\n",
       "   'marketCapUsd': '530842785.8496130504099918',\n",
       "   'volumeUsd24Hr': '11555583.9800656518665014',\n",
       "   'priceUsd': '0.4231933274164859',\n",
       "   'changePercent24Hr': '-0.0980095592730661',\n",
       "   'vwap24Hr': '0.4273494723721806',\n",
       "   'explorer': 'https://etherscan.io/token/0x111111111117dc0aa78b770fa6a738034120c302'},\n",
       "  {'id': 'nervos-network',\n",
       "   'rank': '75',\n",
       "   'symbol': 'CKB',\n",
       "   'name': 'Nervos Network',\n",
       "   'supply': '44594836898.4713400000000000',\n",
       "   'maxSupply': None,\n",
       "   'marketCapUsd': '529017725.3635163046393856',\n",
       "   'volumeUsd24Hr': '13097555.9508733192984030',\n",
       "   'priceUsd': '0.0118627572642081',\n",
       "   'changePercent24Hr': '-1.1450143730426233',\n",
       "   'vwap24Hr': '0.0120242880606431',\n",
       "   'explorer': 'https://explorer.nervos.org/'},\n",
       "  {'id': 'zcash',\n",
       "   'rank': '76',\n",
       "   'symbol': 'ZEC',\n",
       "   'name': 'Zcash',\n",
       "   'supply': '16328268.7500000000000000',\n",
       "   'maxSupply': '21000000.0000000000000000',\n",
       "   'marketCapUsd': '515272223.2015098017586600',\n",
       "   'volumeUsd24Hr': '72600118.7582006771330025',\n",
       "   'priceUsd': '31.5570640764661472',\n",
       "   'changePercent24Hr': '7.7135528439503885',\n",
       "   'vwap24Hr': '30.9240344278139664',\n",
       "   'explorer': 'https://explorer.zcha.in/'},\n",
       "  {'id': 'aioz-network',\n",
       "   'rank': '77',\n",
       "   'symbol': 'AIOZ',\n",
       "   'name': 'AIOZ Network',\n",
       "   'supply': '1108961268.3127580000000000',\n",
       "   'maxSupply': None,\n",
       "   'marketCapUsd': '511441565.9990431755017965',\n",
       "   'volumeUsd24Hr': '1168669.3295533756369063',\n",
       "   'priceUsd': '0.4611897463084368',\n",
       "   'changePercent24Hr': '-1.4148575438760430',\n",
       "   'vwap24Hr': '0.4665537016322425',\n",
       "   'explorer': 'https://etherscan.io/token/0x626e8036deb333b408be468f951bdb42433cbf18'},\n",
       "  {'id': 'nxm',\n",
       "   'rank': '78',\n",
       "   'symbol': 'NXM',\n",
       "   'name': 'NXM',\n",
       "   'supply': '6594067.8412913900000000',\n",
       "   'maxSupply': None,\n",
       "   'marketCapUsd': '499133889.9689500862137930',\n",
       "   'volumeUsd24Hr': '911298.1388963816702116',\n",
       "   'priceUsd': '75.6943819782113613',\n",
       "   'changePercent24Hr': '2.3128130206871099',\n",
       "   'vwap24Hr': '74.6553707102245467',\n",
       "   'explorer': 'https://etherscan.io/token/0xd7c49cee7e9188cca6ad8ff264c1da2e69d4cf3b'},\n",
       "  {'id': 'iotex',\n",
       "   'rank': '79',\n",
       "   'symbol': 'IOTX',\n",
       "   'name': 'IoTeX',\n",
       "   'supply': '9441378929.0000000000000000',\n",
       "   'maxSupply': '10000000000.0000000000000000',\n",
       "   'marketCapUsd': '498850345.4750963304297326',\n",
       "   'volumeUsd24Hr': '10583815.0172084267905455',\n",
       "   'priceUsd': '0.0528365982582094',\n",
       "   'changePercent24Hr': '5.5849201350189131',\n",
       "   'vwap24Hr': '0.0524497104141891',\n",
       "   'explorer': 'https://etherscan.io/token/0x6fb3e0a217407efff7ca062d46c26e5d60a14d69'},\n",
       "  {'id': 'trueusd',\n",
       "   'rank': '80',\n",
       "   'symbol': 'TUSD',\n",
       "   'name': 'TrueUSD',\n",
       "   'supply': '495201532.6100000000000000',\n",
       "   'maxSupply': None,\n",
       "   'marketCapUsd': '494825804.5195843853045349',\n",
       "   'volumeUsd24Hr': '4208018.0373275035694219',\n",
       "   'priceUsd': '0.9992412622625877',\n",
       "   'changePercent24Hr': '-0.0549273418008240',\n",
       "   'vwap24Hr': '0.9992187742597274',\n",
       "   'explorer': 'https://etherscan.io/token/0x8dd5fbce2f6a956c3022ba3663759011dd51e73e'},\n",
       "  {'id': 'wemix',\n",
       "   'rank': '81',\n",
       "   'symbol': 'WEMIX',\n",
       "   'name': 'WEMIX',\n",
       "   'supply': '408148370.7097018000000000',\n",
       "   'maxSupply': '590000000.0000000000000000',\n",
       "   'marketCapUsd': '493474977.0303115547316028',\n",
       "   'volumeUsd24Hr': '1664112.0036756037928418',\n",
       "   'priceUsd': '1.2090578143733394',\n",
       "   'changePercent24Hr': '-1.6830670922161175',\n",
       "   'vwap24Hr': '1.2198392859125424',\n",
       "   'explorer': 'https://scope.klaytn.com/token/0x5096db80b21ef45230c9e423c373f1fc9c0198dd?tabId=kctTransfer'},\n",
       "  {'id': 'pancakeswap',\n",
       "   'rank': '82',\n",
       "   'symbol': 'CAKE',\n",
       "   'name': 'PancakeSwap',\n",
       "   'supply': '235414141.7262294600000000',\n",
       "   'maxSupply': '450000000.0000000000000000',\n",
       "   'marketCapUsd': '483125471.6188534077731326',\n",
       "   'volumeUsd24Hr': '4077500.5966706131477323',\n",
       "   'priceUsd': '2.0522364037955514',\n",
       "   'changePercent24Hr': '-0.1114229512324755',\n",
       "   'vwap24Hr': '2.0676801312417237',\n",
       "   'explorer': 'https://bscscan.com/token/0x0e09fabb73bd3ade0a17ecc321fd13a19e81ce82'},\n",
       "  {'id': 'theta-fuel',\n",
       "   'rank': '83',\n",
       "   'symbol': 'TFUEL',\n",
       "   'name': 'Theta Fuel',\n",
       "   'supply': '6620930430.0000000000000000',\n",
       "   'maxSupply': None,\n",
       "   'marketCapUsd': '478114024.5643617154399470',\n",
       "   'volumeUsd24Hr': '1893782.0307140483404437',\n",
       "   'priceUsd': '0.0722125129721929',\n",
       "   'changePercent24Hr': '-2.0811454646059579',\n",
       "   'vwap24Hr': '0.0734391294936823',\n",
       "   'explorer': 'https://explorer.thetatoken.org/'},\n",
       "  {'id': 'ftx-token',\n",
       "   'rank': '84',\n",
       "   'symbol': 'FTT',\n",
       "   'name': 'FTX Token',\n",
       "   'supply': '328895103.8132070000000000',\n",
       "   'maxSupply': None,\n",
       "   'marketCapUsd': '461721554.1484584719446945',\n",
       "   'volumeUsd24Hr': '3227803.6174739465482656',\n",
       "   'priceUsd': '1.4038565755320245',\n",
       "   'changePercent24Hr': '-0.1012738897227801',\n",
       "   'vwap24Hr': '1.4166896211603824',\n",
       "   'explorer': 'https://etherscan.io/token/0x50d1c9771902476076ecfc8b2a83ad6b9355a4c9'},\n",
       "  {'id': 'kava',\n",
       "   'rank': '85',\n",
       "   'symbol': 'KAVA',\n",
       "   'name': 'Kava',\n",
       "   'supply': '1082855129.0000000000000000',\n",
       "   'maxSupply': None,\n",
       "   'marketCapUsd': '455679961.0256655363134536',\n",
       "   'volumeUsd24Hr': '4345978.2979211968907107',\n",
       "   'priceUsd': '0.4208134115285384',\n",
       "   'changePercent24Hr': '-1.1050569299650389',\n",
       "   'vwap24Hr': '0.4258350591502063',\n",
       "   'explorer': 'https://www.mintscan.io/kava'},\n",
       "  {'id': 'bitcoin-gold',\n",
       "   'rank': '86',\n",
       "   'symbol': 'BTG',\n",
       "   'name': 'Bitcoin Gold',\n",
       "   'supply': '17513923.5890000000000000',\n",
       "   'maxSupply': '21000000.0000000000000000',\n",
       "   'marketCapUsd': '454303571.6576976622433283',\n",
       "   'volumeUsd24Hr': '8873413.4412757249606111',\n",
       "   'priceUsd': '25.9395657032004459',\n",
       "   'changePercent24Hr': '0.4727607484832927',\n",
       "   'vwap24Hr': '25.9516895343893394',\n",
       "   'explorer': 'https://explorer.bitcoingold.org/insight/'},\n",
       "  {'id': 'synthetix-network-token',\n",
       "   'rank': '87',\n",
       "   'symbol': 'SNX',\n",
       "   'name': 'Synthetix',\n",
       "   'supply': '233716733.4900000000000000',\n",
       "   'maxSupply': '212424133.0000000000000000',\n",
       "   'marketCapUsd': '440963722.8139510590766121',\n",
       "   'volumeUsd24Hr': '17187771.7700130728765357',\n",
       "   'priceUsd': '1.8867443346020344',\n",
       "   'changePercent24Hr': '-4.0841399362702482',\n",
       "   'vwap24Hr': '1.9036860226969847',\n",
       "   'explorer': 'https://etherscan.io/token/0xc011a72400e58ecd99ee497cf89e3775d4bd732f'},\n",
       "  {'id': 'trust-wallet-token',\n",
       "   'rank': '88',\n",
       "   'symbol': 'TWT',\n",
       "   'name': 'Trust Wallet Token',\n",
       "   'supply': '416649900.0000000000000000',\n",
       "   'maxSupply': None,\n",
       "   'marketCapUsd': '438684258.4816060452807000',\n",
       "   'volumeUsd24Hr': '1451785.5658764421506661',\n",
       "   'priceUsd': '1.0528845884316930',\n",
       "   'changePercent24Hr': '-1.0939812109214394',\n",
       "   'vwap24Hr': '1.0610329024258284',\n",
       "   'explorer': 'https://explorer.binance.org/asset/TWT-8C2'},\n",
       "  {'id': 'compound',\n",
       "   'rank': '89',\n",
       "   'symbol': 'COMP',\n",
       "   'name': 'Compound',\n",
       "   'supply': '8359792.4786311300000000',\n",
       "   'maxSupply': None,\n",
       "   'marketCapUsd': '427196902.5690114810678686',\n",
       "   'volumeUsd24Hr': '10419916.9592322608236585',\n",
       "   'priceUsd': '51.1013764589240883',\n",
       "   'changePercent24Hr': '-0.4293125821399057',\n",
       "   'vwap24Hr': '51.7816702155712484',\n",
       "   'explorer': 'https://etherscan.io/token/0xc00e94cb662c3520282e6f5717214004a7f26888'},\n",
       "  {'id': 'fei-protocol',\n",
       "   'rank': '90',\n",
       "   'symbol': 'FEI',\n",
       "   'name': 'Fei Protocol',\n",
       "   'supply': '424996177.7889055600000000',\n",
       "   'maxSupply': None,\n",
       "   'marketCapUsd': '406963734.1066160471609323',\n",
       "   'volumeUsd24Hr': '210889.8088983560563440',\n",
       "   'priceUsd': '0.9575703391590355',\n",
       "   'changePercent24Hr': '0.2108126585362246',\n",
       "   'vwap24Hr': '0.9553963028936130',\n",
       "   'explorer': 'https://etherscan.io/token/0x956F47F50A910163D8BF957Cf5846D573E7f87CA'},\n",
       "  {'id': 'wootrade',\n",
       "   'rank': '91',\n",
       "   'symbol': 'WOO',\n",
       "   'name': 'WOO',\n",
       "   'supply': '1916522309.1761775000000000',\n",
       "   'maxSupply': None,\n",
       "   'marketCapUsd': '402322680.8415496055898471',\n",
       "   'volumeUsd24Hr': '10770760.3153274225134057',\n",
       "   'priceUsd': '0.2099232964392098',\n",
       "   'changePercent24Hr': '-0.1464803895758992',\n",
       "   'vwap24Hr': '0.2124725877625301',\n",
       "   'explorer': 'https://etherscan.io/token/0x4691937a7508860f876c9c0a2a617e7d9e945d4b'},\n",
       "  {'id': 'aragon',\n",
       "   'rank': '92',\n",
       "   'symbol': 'ANT',\n",
       "   'name': 'Aragon',\n",
       "   'supply': '43191429.8753035100000000',\n",
       "   'maxSupply': None,\n",
       "   'marketCapUsd': '396889262.2215604942177477',\n",
       "   'volumeUsd24Hr': '3914380.6629052259038990',\n",
       "   'priceUsd': '9.1890743920126242',\n",
       "   'changePercent24Hr': '-4.5101338925433577',\n",
       "   'vwap24Hr': '9.3378061781369893',\n",
       "   'explorer': 'https://etherscan.io/token/Aragon'},\n",
       "  {'id': 'xinfin-network',\n",
       "   'rank': '93',\n",
       "   'symbol': 'XDC',\n",
       "   'name': 'XinFin Network',\n",
       "   'supply': '12293293518.5500000000000000',\n",
       "   'maxSupply': None,\n",
       "   'marketCapUsd': '365454792.6348507780921173',\n",
       "   'volumeUsd24Hr': '652541.0746621450743070',\n",
       "   'priceUsd': '0.0297279807143136',\n",
       "   'changePercent24Hr': '-2.4465253364729741',\n",
       "   'vwap24Hr': '0.0301195587403775',\n",
       "   'explorer': 'https://etherscan.io/token/0x41ab1b6fcbb2fa9dced81acbdec13ea6315f2bf2'},\n",
       "  {'id': 'golem-network-tokens',\n",
       "   'rank': '94',\n",
       "   'symbol': 'GLM',\n",
       "   'name': 'Golem',\n",
       "   'supply': '1000000000.0000000000000000',\n",
       "   'maxSupply': None,\n",
       "   'marketCapUsd': '349425998.1799086000000000',\n",
       "   'volumeUsd24Hr': '421173.0235090714791291',\n",
       "   'priceUsd': '0.3494259981799086',\n",
       "   'changePercent24Hr': '0.3517784747893664',\n",
       "   'vwap24Hr': '0.3546458015160248',\n",
       "   'explorer': 'https://etherscan.io/token/Golem'},\n",
       "  {'id': 'kusama',\n",
       "   'rank': '95',\n",
       "   'symbol': 'KSM',\n",
       "   'name': 'Kusama',\n",
       "   'supply': '15232998.1910946000000000',\n",
       "   'maxSupply': None,\n",
       "   'marketCapUsd': '345868108.4361107190996643',\n",
       "   'volumeUsd24Hr': '6592815.4679921631056696',\n",
       "   'priceUsd': '22.7051893591315144',\n",
       "   'changePercent24Hr': '1.1974582293699254',\n",
       "   'vwap24Hr': '22.9840185840632283',\n",
       "   'explorer': 'https://kusama.subscan.io/'},\n",
       "  {'id': 'dash',\n",
       "   'rank': '96',\n",
       "   'symbol': 'DASH',\n",
       "   'name': 'Dash',\n",
       "   'supply': '11884405.1590432800000000',\n",
       "   'maxSupply': '18900000.0000000000000000',\n",
       "   'marketCapUsd': '340145856.7254344690125687',\n",
       "   'volumeUsd24Hr': '22077713.7275997514513223',\n",
       "   'priceUsd': '28.6211932506024506',\n",
       "   'changePercent24Hr': '2.0995164724862107',\n",
       "   'vwap24Hr': '28.1978492009227983',\n",
       "   'explorer': 'https://explorer.dash.org'},\n",
       "  {'id': 'curve-dao-token',\n",
       "   'rank': '97',\n",
       "   'symbol': 'CRV',\n",
       "   'name': 'Curve DAO Token',\n",
       "   'supply': '1186524249.0000000000000000',\n",
       "   'maxSupply': None,\n",
       "   'marketCapUsd': '338099602.7424678093565260',\n",
       "   'volumeUsd24Hr': '5702525.7831264709045747',\n",
       "   'priceUsd': '0.2849495937629740',\n",
       "   'changePercent24Hr': '-3.6766146169191875',\n",
       "   'vwap24Hr': '0.2916920001161257',\n",
       "   'explorer': 'https://etherscan.io/token/0xD533a949740bb3306d119CC777fa900bA034cd52'},\n",
       "  {'id': 'illuvium',\n",
       "   'rank': '98',\n",
       "   'symbol': 'ILV',\n",
       "   'name': 'Illuvium',\n",
       "   'supply': '4478644.4244490100000000',\n",
       "   'maxSupply': None,\n",
       "   'marketCapUsd': '335346156.0911554621475062',\n",
       "   'volumeUsd24Hr': '3354366.8059952497169590',\n",
       "   'priceUsd': '74.8767091802363346',\n",
       "   'changePercent24Hr': '1.7445190776747192',\n",
       "   'vwap24Hr': '75.4027594529248100',\n",
       "   'explorer': 'https://etherscan.io/token/0x767fe9edc9e0df98e07454847909b5e959d7ca0e'},\n",
       "  {'id': 'superfarm',\n",
       "   'rank': '99',\n",
       "   'symbol': 'SUPER',\n",
       "   'name': 'SuperVerse',\n",
       "   'supply': '487776093.4169172600000000',\n",
       "   'maxSupply': '1000000000.0000000000000000',\n",
       "   'marketCapUsd': '334708141.4825705689618059',\n",
       "   'volumeUsd24Hr': '5646092.2584251917759571',\n",
       "   'priceUsd': '0.6861921812073828',\n",
       "   'changePercent24Hr': '0.3358212147607654',\n",
       "   'vwap24Hr': '0.6980781981493560',\n",
       "   'explorer': 'https://etherscan.io/token/0xe53ec727dbdeb9e2d5456c3be40cff031ab40a55'},\n",
       "  {'id': 'zilliqa',\n",
       "   'rank': '100',\n",
       "   'symbol': 'ZIL',\n",
       "   'name': 'Zilliqa',\n",
       "   'supply': '18704789775.0079500000000000',\n",
       "   'maxSupply': None,\n",
       "   'marketCapUsd': '332587813.4788391800021395',\n",
       "   'volumeUsd24Hr': '4946386.2067902841675052',\n",
       "   'priceUsd': '0.0177808902147203',\n",
       "   'changePercent24Hr': '0.1105247583808216',\n",
       "   'vwap24Hr': '0.0179152267037532',\n",
       "   'explorer': 'https://etherscan.io/token/0x05f4a42e251f2d52b8ed15e9fedaacfcef1fad27'}],\n",
       " 'timestamp': 1721571132166}"
      ]
     },
     "execution_count": 297,
     "metadata": {},
     "output_type": "execute_result"
    }
   ],
   "source": [
    "res # it returns a dictionary with all the data"
   ]
  },
  {
   "cell_type": "code",
   "execution_count": 298,
   "id": "b56de457-e978-468c-b752-97000ce71baa",
   "metadata": {},
   "outputs": [
    {
     "data": {
      "text/html": [
       "<div>\n",
       "<style scoped>\n",
       "    .dataframe tbody tr th:only-of-type {\n",
       "        vertical-align: middle;\n",
       "    }\n",
       "\n",
       "    .dataframe tbody tr th {\n",
       "        vertical-align: top;\n",
       "    }\n",
       "\n",
       "    .dataframe thead th {\n",
       "        text-align: right;\n",
       "    }\n",
       "</style>\n",
       "<table border=\"1\" class=\"dataframe\">\n",
       "  <thead>\n",
       "    <tr style=\"text-align: right;\">\n",
       "      <th></th>\n",
       "      <th>id</th>\n",
       "      <th>rank</th>\n",
       "      <th>symbol</th>\n",
       "      <th>name</th>\n",
       "      <th>supply</th>\n",
       "      <th>maxSupply</th>\n",
       "      <th>marketCapUsd</th>\n",
       "      <th>volumeUsd24Hr</th>\n",
       "      <th>priceUsd</th>\n",
       "      <th>changePercent24Hr</th>\n",
       "      <th>vwap24Hr</th>\n",
       "      <th>explorer</th>\n",
       "    </tr>\n",
       "  </thead>\n",
       "  <tbody>\n",
       "    <tr>\n",
       "      <th>0</th>\n",
       "      <td>bitcoin</td>\n",
       "      <td>1</td>\n",
       "      <td>BTC</td>\n",
       "      <td>Bitcoin</td>\n",
       "      <td>19728778.0000000000000000</td>\n",
       "      <td>21000000.0000000000000000</td>\n",
       "      <td>1319228591504.5431471673790992</td>\n",
       "      <td>6003420936.7281208218121979</td>\n",
       "      <td>66868.2364160893871464</td>\n",
       "      <td>0.3659635037207530</td>\n",
       "      <td>67107.6062863609713849</td>\n",
       "      <td>https://blockchain.info/</td>\n",
       "    </tr>\n",
       "    <tr>\n",
       "      <th>1</th>\n",
       "      <td>ethereum</td>\n",
       "      <td>2</td>\n",
       "      <td>ETH</td>\n",
       "      <td>Ethereum</td>\n",
       "      <td>120228315.0196019700000000</td>\n",
       "      <td>None</td>\n",
       "      <td>420373002316.5477059037945645</td>\n",
       "      <td>3362961605.6427862340324318</td>\n",
       "      <td>3496.4559076454683915</td>\n",
       "      <td>0.0140414430950319</td>\n",
       "      <td>3508.8164903300620981</td>\n",
       "      <td>https://etherscan.io/</td>\n",
       "    </tr>\n",
       "    <tr>\n",
       "      <th>2</th>\n",
       "      <td>tether</td>\n",
       "      <td>3</td>\n",
       "      <td>USDT</td>\n",
       "      <td>Tether</td>\n",
       "      <td>114039204814.2764600000000000</td>\n",
       "      <td>None</td>\n",
       "      <td>114078496131.8572307310232719</td>\n",
       "      <td>9245961473.3868054151087385</td>\n",
       "      <td>1.0003445421918257</td>\n",
       "      <td>-0.0271766375295686</td>\n",
       "      <td>1.0000606435256973</td>\n",
       "      <td>https://www.omniexplorer.info/asset/31</td>\n",
       "    </tr>\n",
       "    <tr>\n",
       "      <th>3</th>\n",
       "      <td>binance-coin</td>\n",
       "      <td>4</td>\n",
       "      <td>BNB</td>\n",
       "      <td>BNB</td>\n",
       "      <td>166801148.0000000000000000</td>\n",
       "      <td>166801148.0000000000000000</td>\n",
       "      <td>99093851807.1105536609491928</td>\n",
       "      <td>167747133.9650638549674074</td>\n",
       "      <td>594.0837517923470986</td>\n",
       "      <td>0.4670870832091105</td>\n",
       "      <td>595.2242048660781204</td>\n",
       "      <td>https://etherscan.io/token/0xB8c77482e45F1F44d...</td>\n",
       "    </tr>\n",
       "    <tr>\n",
       "      <th>4</th>\n",
       "      <td>solana</td>\n",
       "      <td>5</td>\n",
       "      <td>SOL</td>\n",
       "      <td>Solana</td>\n",
       "      <td>464344297.8276351000000000</td>\n",
       "      <td>None</td>\n",
       "      <td>79935622843.3135900085873853</td>\n",
       "      <td>588774937.7373472894292529</td>\n",
       "      <td>172.1473122794451635</td>\n",
       "      <td>2.1459226997984046</td>\n",
       "      <td>172.7054765818152106</td>\n",
       "      <td>https://explorer.solana.com/</td>\n",
       "    </tr>\n",
       "  </tbody>\n",
       "</table>\n",
       "</div>"
      ],
      "text/plain": [
       "             id rank symbol      name                         supply  \\\n",
       "0       bitcoin    1    BTC   Bitcoin      19728778.0000000000000000   \n",
       "1      ethereum    2    ETH  Ethereum     120228315.0196019700000000   \n",
       "2        tether    3   USDT    Tether  114039204814.2764600000000000   \n",
       "3  binance-coin    4    BNB       BNB     166801148.0000000000000000   \n",
       "4        solana    5    SOL    Solana     464344297.8276351000000000   \n",
       "\n",
       "                    maxSupply                    marketCapUsd  \\\n",
       "0   21000000.0000000000000000  1319228591504.5431471673790992   \n",
       "1                        None   420373002316.5477059037945645   \n",
       "2                        None   114078496131.8572307310232719   \n",
       "3  166801148.0000000000000000    99093851807.1105536609491928   \n",
       "4                        None    79935622843.3135900085873853   \n",
       "\n",
       "                 volumeUsd24Hr                priceUsd    changePercent24Hr  \\\n",
       "0  6003420936.7281208218121979  66868.2364160893871464   0.3659635037207530   \n",
       "1  3362961605.6427862340324318   3496.4559076454683915   0.0140414430950319   \n",
       "2  9245961473.3868054151087385      1.0003445421918257  -0.0271766375295686   \n",
       "3   167747133.9650638549674074    594.0837517923470986   0.4670870832091105   \n",
       "4   588774937.7373472894292529    172.1473122794451635   2.1459226997984046   \n",
       "\n",
       "                 vwap24Hr                                           explorer  \n",
       "0  67107.6062863609713849                           https://blockchain.info/  \n",
       "1   3508.8164903300620981                              https://etherscan.io/  \n",
       "2      1.0000606435256973             https://www.omniexplorer.info/asset/31  \n",
       "3    595.2242048660781204  https://etherscan.io/token/0xB8c77482e45F1F44d...  \n",
       "4    172.7054765818152106                       https://explorer.solana.com/  "
      ]
     },
     "execution_count": 298,
     "metadata": {},
     "output_type": "execute_result"
    }
   ],
   "source": [
    "# Again, let's try to have it as a dataframe\n",
    "data = pd.DataFrame(res[\"data\"])\n",
    "data.head()"
   ]
  },
  {
   "cell_type": "code",
   "execution_count": 299,
   "id": "2e264ce5-5f90-49f2-8888-78b64808a3ba",
   "metadata": {},
   "outputs": [
    {
     "data": {
      "text/html": [
       "<div>\n",
       "<style scoped>\n",
       "    .dataframe tbody tr th:only-of-type {\n",
       "        vertical-align: middle;\n",
       "    }\n",
       "\n",
       "    .dataframe tbody tr th {\n",
       "        vertical-align: top;\n",
       "    }\n",
       "\n",
       "    .dataframe thead th {\n",
       "        text-align: right;\n",
       "    }\n",
       "</style>\n",
       "<table border=\"1\" class=\"dataframe\">\n",
       "  <thead>\n",
       "    <tr style=\"text-align: right;\">\n",
       "      <th></th>\n",
       "      <th>id</th>\n",
       "      <th>rank</th>\n",
       "      <th>symbol</th>\n",
       "      <th>name</th>\n",
       "      <th>supply</th>\n",
       "      <th>maxSupply</th>\n",
       "      <th>marketCapUsd</th>\n",
       "      <th>volumeUsd24Hr</th>\n",
       "      <th>priceUsd</th>\n",
       "      <th>changePercent24Hr</th>\n",
       "      <th>vwap24Hr</th>\n",
       "      <th>explorer</th>\n",
       "    </tr>\n",
       "  </thead>\n",
       "  <tbody>\n",
       "    <tr>\n",
       "      <th>0</th>\n",
       "      <td>bitcoin</td>\n",
       "      <td>1</td>\n",
       "      <td>BTC</td>\n",
       "      <td>Bitcoin</td>\n",
       "      <td>19728778.0000000000000000</td>\n",
       "      <td>21000000.0000000000000000</td>\n",
       "      <td>1319228591504.5431471673790992</td>\n",
       "      <td>6003420936.7281208218121979</td>\n",
       "      <td>66868.2364160893871464</td>\n",
       "      <td>0.3659635037207530</td>\n",
       "      <td>67107.6062863609713849</td>\n",
       "      <td>https://blockchain.info/</td>\n",
       "    </tr>\n",
       "    <tr>\n",
       "      <th>1</th>\n",
       "      <td>ethereum</td>\n",
       "      <td>2</td>\n",
       "      <td>ETH</td>\n",
       "      <td>Ethereum</td>\n",
       "      <td>120228315.0196019700000000</td>\n",
       "      <td>None</td>\n",
       "      <td>420373002316.5477059037945645</td>\n",
       "      <td>3362961605.6427862340324318</td>\n",
       "      <td>3496.4559076454683915</td>\n",
       "      <td>0.0140414430950319</td>\n",
       "      <td>3508.8164903300620981</td>\n",
       "      <td>https://etherscan.io/</td>\n",
       "    </tr>\n",
       "    <tr>\n",
       "      <th>2</th>\n",
       "      <td>tether</td>\n",
       "      <td>3</td>\n",
       "      <td>USDT</td>\n",
       "      <td>Tether</td>\n",
       "      <td>114039204814.2764600000000000</td>\n",
       "      <td>None</td>\n",
       "      <td>114078496131.8572307310232719</td>\n",
       "      <td>9245961473.3868054151087385</td>\n",
       "      <td>1.0003445421918257</td>\n",
       "      <td>-0.0271766375295686</td>\n",
       "      <td>1.0000606435256973</td>\n",
       "      <td>https://www.omniexplorer.info/asset/31</td>\n",
       "    </tr>\n",
       "    <tr>\n",
       "      <th>3</th>\n",
       "      <td>binance-coin</td>\n",
       "      <td>4</td>\n",
       "      <td>BNB</td>\n",
       "      <td>BNB</td>\n",
       "      <td>166801148.0000000000000000</td>\n",
       "      <td>166801148.0000000000000000</td>\n",
       "      <td>99093851807.1105536609491928</td>\n",
       "      <td>167747133.9650638549674074</td>\n",
       "      <td>594.0837517923470986</td>\n",
       "      <td>0.4670870832091105</td>\n",
       "      <td>595.2242048660781204</td>\n",
       "      <td>https://etherscan.io/token/0xB8c77482e45F1F44d...</td>\n",
       "    </tr>\n",
       "    <tr>\n",
       "      <th>4</th>\n",
       "      <td>solana</td>\n",
       "      <td>5</td>\n",
       "      <td>SOL</td>\n",
       "      <td>Solana</td>\n",
       "      <td>464344297.8276351000000000</td>\n",
       "      <td>None</td>\n",
       "      <td>79935622843.3135900085873853</td>\n",
       "      <td>588774937.7373472894292529</td>\n",
       "      <td>172.1473122794451635</td>\n",
       "      <td>2.1459226997984046</td>\n",
       "      <td>172.7054765818152106</td>\n",
       "      <td>https://explorer.solana.com/</td>\n",
       "    </tr>\n",
       "    <tr>\n",
       "      <th>...</th>\n",
       "      <td>...</td>\n",
       "      <td>...</td>\n",
       "      <td>...</td>\n",
       "      <td>...</td>\n",
       "      <td>...</td>\n",
       "      <td>...</td>\n",
       "      <td>...</td>\n",
       "      <td>...</td>\n",
       "      <td>...</td>\n",
       "      <td>...</td>\n",
       "      <td>...</td>\n",
       "      <td>...</td>\n",
       "    </tr>\n",
       "    <tr>\n",
       "      <th>95</th>\n",
       "      <td>dash</td>\n",
       "      <td>96</td>\n",
       "      <td>DASH</td>\n",
       "      <td>Dash</td>\n",
       "      <td>11884405.1590432800000000</td>\n",
       "      <td>18900000.0000000000000000</td>\n",
       "      <td>340145856.7254344690125687</td>\n",
       "      <td>22077713.7275997514513223</td>\n",
       "      <td>28.6211932506024506</td>\n",
       "      <td>2.0995164724862107</td>\n",
       "      <td>28.1978492009227983</td>\n",
       "      <td>https://explorer.dash.org</td>\n",
       "    </tr>\n",
       "    <tr>\n",
       "      <th>96</th>\n",
       "      <td>curve-dao-token</td>\n",
       "      <td>97</td>\n",
       "      <td>CRV</td>\n",
       "      <td>Curve DAO Token</td>\n",
       "      <td>1186524249.0000000000000000</td>\n",
       "      <td>None</td>\n",
       "      <td>338099602.7424678093565260</td>\n",
       "      <td>5702525.7831264709045747</td>\n",
       "      <td>0.2849495937629740</td>\n",
       "      <td>-3.6766146169191875</td>\n",
       "      <td>0.2916920001161257</td>\n",
       "      <td>https://etherscan.io/token/0xD533a949740bb3306...</td>\n",
       "    </tr>\n",
       "    <tr>\n",
       "      <th>97</th>\n",
       "      <td>illuvium</td>\n",
       "      <td>98</td>\n",
       "      <td>ILV</td>\n",
       "      <td>Illuvium</td>\n",
       "      <td>4478644.4244490100000000</td>\n",
       "      <td>None</td>\n",
       "      <td>335346156.0911554621475062</td>\n",
       "      <td>3354366.8059952497169590</td>\n",
       "      <td>74.8767091802363346</td>\n",
       "      <td>1.7445190776747192</td>\n",
       "      <td>75.4027594529248100</td>\n",
       "      <td>https://etherscan.io/token/0x767fe9edc9e0df98e...</td>\n",
       "    </tr>\n",
       "    <tr>\n",
       "      <th>98</th>\n",
       "      <td>superfarm</td>\n",
       "      <td>99</td>\n",
       "      <td>SUPER</td>\n",
       "      <td>SuperVerse</td>\n",
       "      <td>487776093.4169172600000000</td>\n",
       "      <td>1000000000.0000000000000000</td>\n",
       "      <td>334708141.4825705689618059</td>\n",
       "      <td>5646092.2584251917759571</td>\n",
       "      <td>0.6861921812073828</td>\n",
       "      <td>0.3358212147607654</td>\n",
       "      <td>0.6980781981493560</td>\n",
       "      <td>https://etherscan.io/token/0xe53ec727dbdeb9e2d...</td>\n",
       "    </tr>\n",
       "    <tr>\n",
       "      <th>99</th>\n",
       "      <td>zilliqa</td>\n",
       "      <td>100</td>\n",
       "      <td>ZIL</td>\n",
       "      <td>Zilliqa</td>\n",
       "      <td>18704789775.0079500000000000</td>\n",
       "      <td>None</td>\n",
       "      <td>332587813.4788391800021395</td>\n",
       "      <td>4946386.2067902841675052</td>\n",
       "      <td>0.0177808902147203</td>\n",
       "      <td>0.1105247583808216</td>\n",
       "      <td>0.0179152267037532</td>\n",
       "      <td>https://etherscan.io/token/0x05f4a42e251f2d52b...</td>\n",
       "    </tr>\n",
       "  </tbody>\n",
       "</table>\n",
       "<p>100 rows × 12 columns</p>\n",
       "</div>"
      ],
      "text/plain": [
       "                 id rank symbol             name  \\\n",
       "0           bitcoin    1    BTC          Bitcoin   \n",
       "1          ethereum    2    ETH         Ethereum   \n",
       "2            tether    3   USDT           Tether   \n",
       "3      binance-coin    4    BNB              BNB   \n",
       "4            solana    5    SOL           Solana   \n",
       "..              ...  ...    ...              ...   \n",
       "95             dash   96   DASH             Dash   \n",
       "96  curve-dao-token   97    CRV  Curve DAO Token   \n",
       "97         illuvium   98    ILV         Illuvium   \n",
       "98        superfarm   99  SUPER       SuperVerse   \n",
       "99          zilliqa  100    ZIL          Zilliqa   \n",
       "\n",
       "                           supply                    maxSupply  \\\n",
       "0       19728778.0000000000000000    21000000.0000000000000000   \n",
       "1      120228315.0196019700000000                         None   \n",
       "2   114039204814.2764600000000000                         None   \n",
       "3      166801148.0000000000000000   166801148.0000000000000000   \n",
       "4      464344297.8276351000000000                         None   \n",
       "..                            ...                          ...   \n",
       "95      11884405.1590432800000000    18900000.0000000000000000   \n",
       "96    1186524249.0000000000000000                         None   \n",
       "97       4478644.4244490100000000                         None   \n",
       "98     487776093.4169172600000000  1000000000.0000000000000000   \n",
       "99   18704789775.0079500000000000                         None   \n",
       "\n",
       "                      marketCapUsd                volumeUsd24Hr  \\\n",
       "0   1319228591504.5431471673790992  6003420936.7281208218121979   \n",
       "1    420373002316.5477059037945645  3362961605.6427862340324318   \n",
       "2    114078496131.8572307310232719  9245961473.3868054151087385   \n",
       "3     99093851807.1105536609491928   167747133.9650638549674074   \n",
       "4     79935622843.3135900085873853   588774937.7373472894292529   \n",
       "..                             ...                          ...   \n",
       "95      340145856.7254344690125687    22077713.7275997514513223   \n",
       "96      338099602.7424678093565260     5702525.7831264709045747   \n",
       "97      335346156.0911554621475062     3354366.8059952497169590   \n",
       "98      334708141.4825705689618059     5646092.2584251917759571   \n",
       "99      332587813.4788391800021395     4946386.2067902841675052   \n",
       "\n",
       "                  priceUsd    changePercent24Hr                vwap24Hr  \\\n",
       "0   66868.2364160893871464   0.3659635037207530  67107.6062863609713849   \n",
       "1    3496.4559076454683915   0.0140414430950319   3508.8164903300620981   \n",
       "2       1.0003445421918257  -0.0271766375295686      1.0000606435256973   \n",
       "3     594.0837517923470986   0.4670870832091105    595.2242048660781204   \n",
       "4     172.1473122794451635   2.1459226997984046    172.7054765818152106   \n",
       "..                     ...                  ...                     ...   \n",
       "95     28.6211932506024506   2.0995164724862107     28.1978492009227983   \n",
       "96      0.2849495937629740  -3.6766146169191875      0.2916920001161257   \n",
       "97     74.8767091802363346   1.7445190776747192     75.4027594529248100   \n",
       "98      0.6861921812073828   0.3358212147607654      0.6980781981493560   \n",
       "99      0.0177808902147203   0.1105247583808216      0.0179152267037532   \n",
       "\n",
       "                                             explorer  \n",
       "0                            https://blockchain.info/  \n",
       "1                               https://etherscan.io/  \n",
       "2              https://www.omniexplorer.info/asset/31  \n",
       "3   https://etherscan.io/token/0xB8c77482e45F1F44d...  \n",
       "4                        https://explorer.solana.com/  \n",
       "..                                                ...  \n",
       "95                          https://explorer.dash.org  \n",
       "96  https://etherscan.io/token/0xD533a949740bb3306...  \n",
       "97  https://etherscan.io/token/0x767fe9edc9e0df98e...  \n",
       "98  https://etherscan.io/token/0xe53ec727dbdeb9e2d...  \n",
       "99  https://etherscan.io/token/0x05f4a42e251f2d52b...  \n",
       "\n",
       "[100 rows x 12 columns]"
      ]
     },
     "execution_count": 299,
     "metadata": {},
     "output_type": "execute_result"
    }
   ],
   "source": [
    "# Lets see if the result would differ in this case using json_normalize\n",
    "pd.json_normalize(res[\"data\"])"
   ]
  },
  {
   "cell_type": "markdown",
   "id": "52dfaadb-dd5f-4b7d-a832-c101e4d7c80a",
   "metadata": {},
   "source": [
    "### Api Jokes\n",
    "\n",
    "JokeAPI is a REST API that serves uniformly and well formatted jokes.\n",
    "It can be used without any API token, membership, registration or payment.\n",
    "It supports a variety of filters that can be applied to get just the right jokes you need.\n",
    "Check the documentation here: https://jokeapi.dev/ "
   ]
  },
  {
   "cell_type": "code",
   "execution_count": 414,
   "id": "e897b2d9-088c-47fd-9d58-fefec4332150",
   "metadata": {},
   "outputs": [
    {
     "data": {
      "text/plain": [
       "{'error': False,\n",
       " 'category': 'Dark',\n",
       " 'type': 'single',\n",
       " 'joke': 'Dark humor is like food, not everyone gets it.',\n",
       " 'flags': {'nsfw': False,\n",
       "  'religious': False,\n",
       "  'political': False,\n",
       "  'racist': True,\n",
       "  'sexist': False,\n",
       "  'explicit': True},\n",
       " 'id': 162,\n",
       " 'safe': False,\n",
       " 'lang': 'en'}"
      ]
     },
     "execution_count": 414,
     "metadata": {},
     "output_type": "execute_result"
    }
   ],
   "source": [
    "url_random_joke = \"https://v2.jokeapi.dev/joke/dark?amount=1\"\n",
    "request = requests.get(url_random_joke).json()\n",
    "request"
   ]
  },
  {
   "cell_type": "markdown",
   "id": "bd07c567-1d95-428a-8ac9-9f9909457c49",
   "metadata": {
    "lang": "en"
   },
   "source": [
    "### Check for understanding 2\n",
    "Choose one API from the [Public APIs list](https://github.com/public-apis/public-apis). Attempt to call your selected API, either with or without parameters, and retrieve some valuable information. Document your findings.\n"
   ]
  },
  {
   "cell_type": "code",
   "execution_count": 410,
   "id": "c8f7e8a5-31b7-4444-a80f-8a94dd85e2eb",
   "metadata": {},
   "outputs": [
    {
     "name": "stdout",
     "output_type": "stream",
     "text": [
      "200\n",
      "b'{\"response_code\":0,\"results\":[{\"type\":\"boolean\",\"difficulty\":\"easy\",\"category\":\"Entertainment: Music\",\"question\":\"The music group Daft Punk got their name from a negative review they recieved.\",\"correct_answer\":\"True\",\"incorrect_answers\":[\"False\"]}]}'\n"
     ]
    },
    {
     "data": {
      "text/plain": [
       "{'response_code': 0,\n",
       " 'results': [{'type': 'boolean',\n",
       "   'difficulty': 'easy',\n",
       "   'category': 'Entertainment: Music',\n",
       "   'question': 'The music group Daft Punk got their name from a negative review they recieved.',\n",
       "   'correct_answer': 'True',\n",
       "   'incorrect_answers': ['False']}]}"
      ]
     },
     "metadata": {},
     "output_type": "display_data"
    },
    {
     "name": "stdout",
     "output_type": "stream",
     "text": [
      "dict_keys(['response_code', 'results'])\n",
      "0\n",
      "[{'type': 'boolean', 'difficulty': 'easy', 'category': 'Entertainment: Music', 'question': 'The music group Daft Punk got their name from a negative review they recieved.', 'correct_answer': 'True', 'incorrect_answers': ['False']}]\n",
      "boolean\n"
     ]
    }
   ],
   "source": [
    "# Step 1: GET\n",
    "url = \"https://opentdb.com/api.php?amount=1&category=12&difficulty=easy&type=boolean\"\n",
    "response = requests.get(url)\n",
    "type(response)\n",
    "print(response.status_code)\n",
    "print(response.content)\n",
    "info = response.json()\n",
    "display(info)\n",
    "print(info.keys())\n",
    "print(info[\"response_code\"])\n",
    "print(info[\"results\"])\n",
    "print(info[\"results\"][0][\"type\"])"
   ]
  },
  {
   "cell_type": "code",
   "execution_count": 413,
   "id": "96fb0fe8",
   "metadata": {},
   "outputs": [
    {
     "name": "stdout",
     "output_type": "stream",
     "text": [
      "{'Date': 'Sun, 21 Jul 2024 16:50:34 GMT', 'Server': 'Apache', 'Expires': 'Thu, 19 Nov 1981 08:52:00 GMT', 'Cache-Control': 'no-store, no-cache, must-revalidate', 'Pragma': 'no-cache', 'Access-Control-Allow-Origin': '*', 'Set-Cookie': 'PHPSESSID=d4480bafb0e9515d7329840fcfc0b457; path=/', 'Upgrade': 'h2', 'Connection': 'Upgrade, Keep-Alive', 'Vary': 'User-Agent', 'Strict-Transport-Security': 'max-age=31536000', 'Keep-Alive': 'timeout=5, max=100', 'Transfer-Encoding': 'chunked', 'Content-Type': 'application/json'}\n",
      "Sun, 21 Jul 2024 16:50:34 GMT\n",
      "Apache\n",
      "Thu, 19 Nov 1981 08:52:00 GMT\n"
     ]
    }
   ],
   "source": [
    "# Step 2: Response headers\n",
    "print(response.headers)\n",
    "print(response.headers[\"Date\"])\n",
    "print(response.headers[\"Server\"])\n",
    "print(response.headers[\"Expires\"])"
   ]
  },
  {
   "cell_type": "code",
   "execution_count": 408,
   "id": "9168c99a",
   "metadata": {},
   "outputs": [
    {
     "data": {
      "text/html": [
       "<div>\n",
       "<style scoped>\n",
       "    .dataframe tbody tr th:only-of-type {\n",
       "        vertical-align: middle;\n",
       "    }\n",
       "\n",
       "    .dataframe tbody tr th {\n",
       "        vertical-align: top;\n",
       "    }\n",
       "\n",
       "    .dataframe thead th {\n",
       "        text-align: right;\n",
       "    }\n",
       "</style>\n",
       "<table border=\"1\" class=\"dataframe\">\n",
       "  <thead>\n",
       "    <tr style=\"text-align: right;\">\n",
       "      <th></th>\n",
       "      <th>response_code</th>\n",
       "      <th>results</th>\n",
       "    </tr>\n",
       "  </thead>\n",
       "  <tbody>\n",
       "    <tr>\n",
       "      <th>0</th>\n",
       "      <td>0</td>\n",
       "      <td>[{'type': 'boolean', 'difficulty': 'easy', 'ca...</td>\n",
       "    </tr>\n",
       "  </tbody>\n",
       "</table>\n",
       "</div>"
      ],
      "text/plain": [
       "   response_code                                            results\n",
       "0              0  [{'type': 'boolean', 'difficulty': 'easy', 'ca..."
      ]
     },
     "execution_count": 408,
     "metadata": {},
     "output_type": "execute_result"
    }
   ],
   "source": [
    "# Step 3: normalization, attempt 1\n",
    "pd.json_normalize(info)"
   ]
  },
  {
   "cell_type": "code",
   "execution_count": 409,
   "id": "bb3ade81",
   "metadata": {},
   "outputs": [
    {
     "data": {
      "text/html": [
       "<div>\n",
       "<style scoped>\n",
       "    .dataframe tbody tr th:only-of-type {\n",
       "        vertical-align: middle;\n",
       "    }\n",
       "\n",
       "    .dataframe tbody tr th {\n",
       "        vertical-align: top;\n",
       "    }\n",
       "\n",
       "    .dataframe thead th {\n",
       "        text-align: right;\n",
       "    }\n",
       "</style>\n",
       "<table border=\"1\" class=\"dataframe\">\n",
       "  <thead>\n",
       "    <tr style=\"text-align: right;\">\n",
       "      <th></th>\n",
       "      <th>type</th>\n",
       "      <th>difficulty</th>\n",
       "      <th>category</th>\n",
       "      <th>question</th>\n",
       "      <th>correct_answer</th>\n",
       "      <th>incorrect_answers</th>\n",
       "    </tr>\n",
       "  </thead>\n",
       "  <tbody>\n",
       "    <tr>\n",
       "      <th>0</th>\n",
       "      <td>boolean</td>\n",
       "      <td>easy</td>\n",
       "      <td>Entertainment: Music</td>\n",
       "      <td>Michael Jackson wrote The Simpsons song &amp;quot;...</td>\n",
       "      <td>False</td>\n",
       "      <td>[True]</td>\n",
       "    </tr>\n",
       "  </tbody>\n",
       "</table>\n",
       "</div>"
      ],
      "text/plain": [
       "      type difficulty              category  \\\n",
       "0  boolean       easy  Entertainment: Music   \n",
       "\n",
       "                                            question correct_answer  \\\n",
       "0  Michael Jackson wrote The Simpsons song &quot;...          False   \n",
       "\n",
       "  incorrect_answers  \n",
       "0            [True]  "
      ]
     },
     "execution_count": 409,
     "metadata": {},
     "output_type": "execute_result"
    }
   ],
   "source": [
    "# Step 4: normalization, attempt 2\n",
    "pd.json_normalize(info[\"results\"])"
   ]
  },
  {
   "cell_type": "markdown",
   "id": "617a1700",
   "metadata": {},
   "source": [
    "Documentation of the steps:\n",
    "- Step 1:\n",
    "  - Accessed \"Open Trivia Database API\"\n",
    "  - Used the following parameters: amount=1&category=12&difficulty=easy&type=boolean\n",
    "  - Meaning: 1 question, category Entertainment, Music, easy question, can be answered True/False.\n",
    "- Step 2:\n",
    "  - Retrieved request headers\n",
    "- Step 3:\n",
    "  - Normalized the JSON data, but this wasn't enough because the \"results\" key's value is a nested dict.\n",
    " - Step 4:\n",
    "   - Normalized the \"results\" key. It looks good."
   ]
  },
  {
   "cell_type": "markdown",
   "id": "3cbeba2b",
   "metadata": {},
   "source": [
    "## API Wrappers\n",
    "\n",
    "A Python wrapper is a Python library or module that provides a more convenient or more \"Pythonic\" interface to another software component, such as a library in another language, a system tool, or a web API. It \"wraps\" the functionality of that component in a way that abstracts away its complexities and makes it easier to use in a Python context. 🙌🏻\n",
    "\n",
    "One example is the `tweepy` library, which makes obtaining data from Twitter's API relatively straightforward."
   ]
  },
  {
   "cell_type": "markdown",
   "id": "796f214d-01cc-46d1-a020-d4bb8d256799",
   "metadata": {},
   "source": [
    "## Summary\n",
    "- Import the `requests` library.\n",
    "- Store the necessary credentials, such as API key or OAuth tokens, if the API requires them.\n",
    "- Execute a `request.get` to the desired API endpoint (the API's documentation will provide details on available endpoints).\n",
    "- The API returns a JSON response.\n",
    "- This JSON can be converted into a dataframe, or you can further explore its elements (typically a list of dictionaries)."
   ]
  },
  {
   "cell_type": "markdown",
   "id": "32ca2f95-7c09-4481-8897-0b0533dba4c9",
   "metadata": {},
   "source": [
    "## Glossary\n",
    "* DNS: domain name system.\n",
    "* HTTP: is the protocol used to transfer data over the web.\n",
    "* API: application programming interface.\n",
    "* REST: series of rules, architectural style.\n",
    "*\n",
    "* `requests`: Python library for interacting with APIs.\n",
    "* URL: server name you want to ask information for.\n",
    "* endpoint: server service you want to ask information for.\n",
    "* parameters: extra parameters to your query.\n",
    "* headers: metadata, invisible information."
   ]
  },
  {
   "cell_type": "markdown",
   "id": "df2580ce-5fa4-4716-a1f1-3d6c8edd9673",
   "metadata": {},
   "source": [
    "## Further materials\n",
    "[5 Simple-To-Use APIs for Beginners](https://dev.to/alanconstantino/5-simple-to-use-apis-for-beginners-2e0n)\n",
    "\n",
    "[RapidAPI](https://rapidapi.com/category/Sports): access thousands of APIs."
   ]
  },
  {
   "cell_type": "markdown",
   "id": "3e747420-7bb6-4ea7-a5d9-e05c90fafd32",
   "metadata": {},
   "source": []
  }
 ],
 "metadata": {
  "kernelspec": {
   "display_name": "Python 3 (ipykernel)",
   "language": "python",
   "name": "python3"
  },
  "language_info": {
   "codemirror_mode": {
    "name": "ipython",
    "version": 3
   },
   "file_extension": ".py",
   "mimetype": "text/x-python",
   "name": "python",
   "nbconvert_exporter": "python",
   "pygments_lexer": "ipython3",
   "version": "3.11.8"
  },
  "toc": {
   "base_numbering": 1,
   "nav_menu": {},
   "number_sections": true,
   "sideBar": true,
   "skip_h1_title": false,
   "title_cell": "Table of Contents",
   "title_sidebar": "Contents",
   "toc_cell": true,
   "toc_position": {},
   "toc_section_display": true,
   "toc_window_display": false
  }
 },
 "nbformat": 4,
 "nbformat_minor": 5
}
