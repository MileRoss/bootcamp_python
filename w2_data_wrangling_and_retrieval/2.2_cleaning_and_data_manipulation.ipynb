{
 "cells": [
  {
   "cell_type": "markdown",
   "metadata": {
    "id": "dTPDg_hqQtEe"
   },
   "source": [
    "<h1>Table of Contents<span class=\"tocSkip\"></span></h1>\n",
    "<div class=\"toc\"><ul class=\"toc-item\"><li><span><a href=\"#Cleaning-Data\" data-toc-modified-id=\"Cleaning-Data-1\"><span class=\"toc-item-num\">1&nbsp;&nbsp;</span>Cleaning Data</a></span><ul class=\"toc-item\"><li><span><a href=\"#Null-values\" data-toc-modified-id=\"Null-values-1.1\"><span class=\"toc-item-num\">1.1&nbsp;&nbsp;</span>Null values</a></span><ul class=\"toc-item\"><li><span><a href=\"#Cleaning-Null-Values\" data-toc-modified-id=\"Cleaning-Null-Values-1.1.1\"><span class=\"toc-item-num\">1.1.1&nbsp;&nbsp;</span>Cleaning Null Values</a></span></li><li><span><a href=\"#Checking-for-Null-Values\" data-toc-modified-id=\"Checking-for-Null-Values-1.1.2\"><span class=\"toc-item-num\">1.1.2&nbsp;&nbsp;</span>Checking for Null Values</a></span></li><li><span><a href=\"#Dropping-Null-Values\" data-toc-modified-id=\"Dropping-Null-Values-1.1.3\"><span class=\"toc-item-num\">1.1.3&nbsp;&nbsp;</span>Dropping Null Values</a></span></li><li><span><a href=\"#Filling-Null-Values\" data-toc-modified-id=\"Filling-Null-Values-1.1.4\"><span class=\"toc-item-num\">1.1.4&nbsp;&nbsp;</span>Filling Null Values</a></span></li><li><span><a href=\"#💡-Check-for-understanding\" data-toc-modified-id=\"💡-Check-for-understanding-1.1.5\"><span class=\"toc-item-num\">1.1.5&nbsp;&nbsp;</span>💡 Check for understanding</a></span></li></ul></li><li><span><a href=\"#Dealing-with-Duplicates\" data-toc-modified-id=\"Dealing-with-Duplicates-1.2\"><span class=\"toc-item-num\">1.2&nbsp;&nbsp;</span>Dealing with Duplicates</a></span><ul class=\"toc-item\"><li><span><a href=\"#Identifying-Duplicates\" data-toc-modified-id=\"Identifying-Duplicates-1.2.1\"><span class=\"toc-item-num\">1.2.1&nbsp;&nbsp;</span>Identifying Duplicates</a></span></li><li><span><a href=\"#Removing-Duplicates\" data-toc-modified-id=\"Removing-Duplicates-1.2.2\"><span class=\"toc-item-num\">1.2.2&nbsp;&nbsp;</span>Removing Duplicates</a></span></li><li><span><a href=\"#Removing-Duplicates-Based-on-Specific-Columns\" data-toc-modified-id=\"Removing-Duplicates-Based-on-Specific-Columns-1.2.3\"><span class=\"toc-item-num\">1.2.3&nbsp;&nbsp;</span>Removing Duplicates Based on Specific Columns</a></span></li><li><span><a href=\"#Resetting-the-Index\" data-toc-modified-id=\"Resetting-the-Index-1.2.4\"><span class=\"toc-item-num\">1.2.4&nbsp;&nbsp;</span>Resetting the Index</a></span></li></ul></li><li><span><a href=\"#Formatting-Data\" data-toc-modified-id=\"Formatting-Data-1.3\"><span class=\"toc-item-num\">1.3&nbsp;&nbsp;</span>Formatting Data</a></span><ul class=\"toc-item\"><li><span><a href=\"#Formatting-Numeric-Values\" data-toc-modified-id=\"Formatting-Numeric-Values-1.3.1\"><span class=\"toc-item-num\">1.3.1&nbsp;&nbsp;</span>Formatting Numeric Values</a></span></li><li><span><a href=\"#Formatting-Strings\" data-toc-modified-id=\"Formatting-Strings-1.3.2\"><span class=\"toc-item-num\">1.3.2&nbsp;&nbsp;</span>Formatting Strings</a></span></li><li><span><a href=\"#Formatting-Dates\" data-toc-modified-id=\"Formatting-Dates-1.3.3\"><span class=\"toc-item-num\">1.3.3&nbsp;&nbsp;</span>Formatting Dates</a></span></li></ul></li><li><span><a href=\"#Cleaning-Column-Names\" data-toc-modified-id=\"Cleaning-Column-Names-1.4\"><span class=\"toc-item-num\">1.4&nbsp;&nbsp;</span>Cleaning Column Names</a></span></li></ul></li><li><span><a href=\"#Using-apply(),-map(),-and-applymap()\" data-toc-modified-id=\"Using-apply(),-map(),-and-applymap()-2\"><span class=\"toc-item-num\">2&nbsp;&nbsp;</span>Using <code>apply()</code>, <code>map()</code>, and <code>applymap()</code></a></span><ul class=\"toc-item\"><li><ul class=\"toc-item\"><li><span><a href=\"#Apply()\" data-toc-modified-id=\"Apply()-2.0.1\"><span class=\"toc-item-num\">2.0.1&nbsp;&nbsp;</span><code>Apply()</code></a></span></li><li><span><a href=\"#Map()\" data-toc-modified-id=\"Map()-2.0.2\"><span class=\"toc-item-num\">2.0.2&nbsp;&nbsp;</span><code>Map()</code></a></span></li><li><span><a href=\"#applyMap()\" data-toc-modified-id=\"applyMap()-2.0.3\"><span class=\"toc-item-num\">2.0.3&nbsp;&nbsp;</span><code>applyMap()</code></a></span></li><li><span><a href=\"#More-examples\" data-toc-modified-id=\"More-examples-2.0.4\"><span class=\"toc-item-num\">2.0.4&nbsp;&nbsp;</span>More examples</a></span><ul class=\"toc-item\"><li><span><a href=\"#Comparing-Map-and-Apply\" data-toc-modified-id=\"Comparing-Map-and-Apply-2.0.4.1\"><span class=\"toc-item-num\">2.0.4.1&nbsp;&nbsp;</span>Comparing Map and Apply</a></span></li><li><span><a href=\"#Calculating-the-length-of-the-name\" data-toc-modified-id=\"Calculating-the-length-of-the-name-2.0.4.2\"><span class=\"toc-item-num\">2.0.4.2&nbsp;&nbsp;</span>Calculating the length of the name</a></span></li><li><span><a href=\"#Converting-to-float-some-columns-with-applymap()\" data-toc-modified-id=\"Converting-to-float-some-columns-with-applymap()-2.0.4.3\"><span class=\"toc-item-num\">2.0.4.3&nbsp;&nbsp;</span>Converting to float some columns with applymap()</a></span></li><li><span><a href=\"#Modifying-cloumns-names-with-apply()\" data-toc-modified-id=\"Modifying-cloumns-names-with-apply()-2.0.4.4\"><span class=\"toc-item-num\">2.0.4.4&nbsp;&nbsp;</span>Modifying cloumns names with apply()</a></span></li></ul></li><li><span><a href=\"#💡-Check-for-understanding\" data-toc-modified-id=\"💡-Check-for-understanding-2.0.5\"><span class=\"toc-item-num\">2.0.5&nbsp;&nbsp;</span>💡 Check for understanding</a></span></li><li><span><a href=\"#💡-Check-for-understanding\" data-toc-modified-id=\"💡-Check-for-understanding-2.0.6\"><span class=\"toc-item-num\">2.0.6&nbsp;&nbsp;</span>💡 Check for understanding</a></span></li></ul></li></ul></li><li><span><a href=\"#Filtering-Data\" data-toc-modified-id=\"Filtering-Data-3\"><span class=\"toc-item-num\">3&nbsp;&nbsp;</span>Filtering Data</a></span><ul class=\"toc-item\"><li><ul class=\"toc-item\"><li><span><a href=\"#Creating-a-condition\" data-toc-modified-id=\"Creating-a-condition-3.0.1\"><span class=\"toc-item-num\">3.0.1&nbsp;&nbsp;</span>Creating a condition</a></span></li><li><span><a href=\"#Filtering-df\" data-toc-modified-id=\"Filtering-df-3.0.2\"><span class=\"toc-item-num\">3.0.2&nbsp;&nbsp;</span>Filtering df</a></span></li><li><span><a href=\"#Using-multiple-conditions\" data-toc-modified-id=\"Using-multiple-conditions-3.0.3\"><span class=\"toc-item-num\">3.0.3&nbsp;&nbsp;</span>Using multiple conditions</a></span></li></ul></li></ul></li><li><span><a href=\"#More-Data-Manipulation\" data-toc-modified-id=\"More-Data-Manipulation-4\"><span class=\"toc-item-num\">4&nbsp;&nbsp;</span>More Data Manipulation</a></span><ul class=\"toc-item\"><li><span><a href=\"#Setting-the-index\" data-toc-modified-id=\"Setting-the-index-4.1\"><span class=\"toc-item-num\">4.1&nbsp;&nbsp;</span>Setting the index</a></span></li><li><span><a href=\"#Adding/removing-rows-and/or-columns\" data-toc-modified-id=\"Adding/removing-rows-and/or-columns-4.2\"><span class=\"toc-item-num\">4.2&nbsp;&nbsp;</span>Adding/removing rows and/or columns</a></span></li><li><span><a href=\"#💡-Check-for-understanding\" data-toc-modified-id=\"💡-Check-for-understanding-4.3\"><span class=\"toc-item-num\">4.3&nbsp;&nbsp;</span>💡 Check for understanding</a></span></li></ul></li><li><span><a href=\"#Summary\" data-toc-modified-id=\"Summary-5\"><span class=\"toc-item-num\">5&nbsp;&nbsp;</span>Summary</a></span></li></ul></div>"
   ]
  },
  {
   "cell_type": "markdown",
   "metadata": {
    "id": "WY8QxSBIQtEi"
   },
   "source": [
    "# Cleaning Data"
   ]
  },
  {
   "cell_type": "markdown",
   "metadata": {
    "id": "60bTqA9jQtEk"
   },
   "source": [
    "## Null values"
   ]
  },
  {
   "cell_type": "markdown",
   "metadata": {
    "id": "Ul34egOMQtEl"
   },
   "source": [
    "Null values (also known as missing values) are common in datasets and can hinder data analysis and modeling. It is essential to handle null values appropriately to ensure accurate and reliable results. Pandas provides various methods to clean and handle null values in datasets.\n",
    "\n",
    "In Python, `None` is a special constant that represents the absence of a value. It is commonly used to indicate that a variable or function has no value or hasn't been assigned any value. For example, if a function does not explicitly return a value, it implicitly returns `None`.\n",
    "\n",
    "On the other hand, `NaN` stands for \"Not a Number\" and is a special value used to represent missing or undefined numerical data. `NaN` is part of the floating-point representation and is commonly used in numeric data structures like Pandas DataFrames and Series to indicate missing or invalid numerical values."
   ]
  },
  {
   "cell_type": "markdown",
   "metadata": {
    "id": "u5LcTn6rQtEm"
   },
   "source": [
    "\n",
    "\n",
    "### Cleaning Null Values\n",
    "\n",
    "1. Checking for Null Values:\n",
    "   - Use `isnull()` method to check for null values in a DataFrame or Series.\n",
    "   - Use `notnull()` method to check for non-null values in a DataFrame or Series.\n",
    "\n",
    "2. Dropping Null Values:\n",
    "   - Use `dropna()` method to remove rows with null values from a DataFrame.\n",
    "   - Use `dropna(axis=1)` to remove columns with null values.\n",
    "\n",
    "3. Filling Null Values:\n",
    "   - Use `fillna(value)` method to replace null values with a specific value.\n",
    "   - Use `fillna(method='ffill')` to forward-fill null values with the previous non-null value.\n",
    "   - Use `fillna(method='bfill')` to backward-fill null values with the next non-null value."
   ]
  },
  {
   "cell_type": "markdown",
   "metadata": {
    "id": "baZ8OuubQtEn"
   },
   "source": [
    "### Checking for Null Values"
   ]
  },
  {
   "cell_type": "code",
   "execution_count": 1,
   "metadata": {
    "executionInfo": {
     "elapsed": 449,
     "status": "ok",
     "timestamp": 1709047576624,
     "user": {
      "displayName": "Ignacio Soteras",
      "userId": "02050793736257155229"
     },
     "user_tz": -60
    },
    "id": "wfmE3sTTQtEn"
   },
   "outputs": [],
   "source": [
    "import pandas as pd\n",
    "\n",
    "# Load Titanic dataset from an online source\n",
    "url = 'https://raw.githubusercontent.com/data-bootcamp-v4/data/main/titanic_train.csv'\n",
    "df = pd.read_csv(url)"
   ]
  },
  {
   "cell_type": "code",
   "execution_count": 2,
   "metadata": {
    "colab": {
     "base_uri": "https://localhost:8080/"
    },
    "executionInfo": {
     "elapsed": 6,
     "status": "ok",
     "timestamp": 1709047577117,
     "user": {
      "displayName": "Ignacio Soteras",
      "userId": "02050793736257155229"
     },
     "user_tz": -60
    },
    "id": "LtFyKdY5QtEp",
    "outputId": "b2507261-8caa-436c-d29a-4a01f6054587"
   },
   "outputs": [
    {
     "data": {
      "text/plain": [
       "Index(['PassengerId', 'Survived', 'Pclass', 'Name', 'Sex', 'Age', 'SibSp',\n",
       "       'Parch', 'Ticket', 'Fare', 'Cabin', 'Embarked'],\n",
       "      dtype='object')"
      ]
     },
     "execution_count": 2,
     "metadata": {},
     "output_type": "execute_result"
    }
   ],
   "source": [
    "df.columns"
   ]
  },
  {
   "cell_type": "code",
   "execution_count": 3,
   "metadata": {
    "colab": {
     "base_uri": "https://localhost:8080/",
     "height": 423
    },
    "executionInfo": {
     "elapsed": 888,
     "status": "ok",
     "timestamp": 1709047578002,
     "user": {
      "displayName": "Ignacio Soteras",
      "userId": "02050793736257155229"
     },
     "user_tz": -60
    },
    "id": "NT--7lkrQtEp",
    "outputId": "5126a6e6-4f42-4669-955b-99438d55591b"
   },
   "outputs": [
    {
     "data": {
      "text/html": [
       "<div>\n",
       "<style scoped>\n",
       "    .dataframe tbody tr th:only-of-type {\n",
       "        vertical-align: middle;\n",
       "    }\n",
       "\n",
       "    .dataframe tbody tr th {\n",
       "        vertical-align: top;\n",
       "    }\n",
       "\n",
       "    .dataframe thead th {\n",
       "        text-align: right;\n",
       "    }\n",
       "</style>\n",
       "<table border=\"1\" class=\"dataframe\">\n",
       "  <thead>\n",
       "    <tr style=\"text-align: right;\">\n",
       "      <th></th>\n",
       "      <th>PassengerId</th>\n",
       "      <th>Survived</th>\n",
       "      <th>Pclass</th>\n",
       "      <th>Name</th>\n",
       "      <th>Sex</th>\n",
       "      <th>Age</th>\n",
       "      <th>SibSp</th>\n",
       "      <th>Parch</th>\n",
       "      <th>Ticket</th>\n",
       "      <th>Fare</th>\n",
       "      <th>Cabin</th>\n",
       "      <th>Embarked</th>\n",
       "    </tr>\n",
       "  </thead>\n",
       "  <tbody>\n",
       "    <tr>\n",
       "      <th>0</th>\n",
       "      <td>False</td>\n",
       "      <td>False</td>\n",
       "      <td>False</td>\n",
       "      <td>False</td>\n",
       "      <td>False</td>\n",
       "      <td>False</td>\n",
       "      <td>False</td>\n",
       "      <td>False</td>\n",
       "      <td>False</td>\n",
       "      <td>False</td>\n",
       "      <td>True</td>\n",
       "      <td>False</td>\n",
       "    </tr>\n",
       "    <tr>\n",
       "      <th>1</th>\n",
       "      <td>False</td>\n",
       "      <td>False</td>\n",
       "      <td>False</td>\n",
       "      <td>False</td>\n",
       "      <td>False</td>\n",
       "      <td>False</td>\n",
       "      <td>False</td>\n",
       "      <td>False</td>\n",
       "      <td>False</td>\n",
       "      <td>False</td>\n",
       "      <td>False</td>\n",
       "      <td>False</td>\n",
       "    </tr>\n",
       "    <tr>\n",
       "      <th>2</th>\n",
       "      <td>False</td>\n",
       "      <td>False</td>\n",
       "      <td>False</td>\n",
       "      <td>False</td>\n",
       "      <td>False</td>\n",
       "      <td>False</td>\n",
       "      <td>False</td>\n",
       "      <td>False</td>\n",
       "      <td>False</td>\n",
       "      <td>False</td>\n",
       "      <td>True</td>\n",
       "      <td>False</td>\n",
       "    </tr>\n",
       "    <tr>\n",
       "      <th>3</th>\n",
       "      <td>False</td>\n",
       "      <td>False</td>\n",
       "      <td>False</td>\n",
       "      <td>False</td>\n",
       "      <td>False</td>\n",
       "      <td>False</td>\n",
       "      <td>False</td>\n",
       "      <td>False</td>\n",
       "      <td>False</td>\n",
       "      <td>False</td>\n",
       "      <td>False</td>\n",
       "      <td>False</td>\n",
       "    </tr>\n",
       "    <tr>\n",
       "      <th>4</th>\n",
       "      <td>False</td>\n",
       "      <td>False</td>\n",
       "      <td>False</td>\n",
       "      <td>False</td>\n",
       "      <td>False</td>\n",
       "      <td>False</td>\n",
       "      <td>False</td>\n",
       "      <td>False</td>\n",
       "      <td>False</td>\n",
       "      <td>False</td>\n",
       "      <td>True</td>\n",
       "      <td>False</td>\n",
       "    </tr>\n",
       "    <tr>\n",
       "      <th>...</th>\n",
       "      <td>...</td>\n",
       "      <td>...</td>\n",
       "      <td>...</td>\n",
       "      <td>...</td>\n",
       "      <td>...</td>\n",
       "      <td>...</td>\n",
       "      <td>...</td>\n",
       "      <td>...</td>\n",
       "      <td>...</td>\n",
       "      <td>...</td>\n",
       "      <td>...</td>\n",
       "      <td>...</td>\n",
       "    </tr>\n",
       "    <tr>\n",
       "      <th>886</th>\n",
       "      <td>False</td>\n",
       "      <td>False</td>\n",
       "      <td>False</td>\n",
       "      <td>False</td>\n",
       "      <td>False</td>\n",
       "      <td>False</td>\n",
       "      <td>False</td>\n",
       "      <td>False</td>\n",
       "      <td>False</td>\n",
       "      <td>False</td>\n",
       "      <td>True</td>\n",
       "      <td>False</td>\n",
       "    </tr>\n",
       "    <tr>\n",
       "      <th>887</th>\n",
       "      <td>False</td>\n",
       "      <td>False</td>\n",
       "      <td>False</td>\n",
       "      <td>False</td>\n",
       "      <td>False</td>\n",
       "      <td>False</td>\n",
       "      <td>False</td>\n",
       "      <td>False</td>\n",
       "      <td>False</td>\n",
       "      <td>False</td>\n",
       "      <td>False</td>\n",
       "      <td>False</td>\n",
       "    </tr>\n",
       "    <tr>\n",
       "      <th>888</th>\n",
       "      <td>False</td>\n",
       "      <td>False</td>\n",
       "      <td>False</td>\n",
       "      <td>False</td>\n",
       "      <td>False</td>\n",
       "      <td>True</td>\n",
       "      <td>False</td>\n",
       "      <td>False</td>\n",
       "      <td>False</td>\n",
       "      <td>False</td>\n",
       "      <td>True</td>\n",
       "      <td>False</td>\n",
       "    </tr>\n",
       "    <tr>\n",
       "      <th>889</th>\n",
       "      <td>False</td>\n",
       "      <td>False</td>\n",
       "      <td>False</td>\n",
       "      <td>False</td>\n",
       "      <td>False</td>\n",
       "      <td>False</td>\n",
       "      <td>False</td>\n",
       "      <td>False</td>\n",
       "      <td>False</td>\n",
       "      <td>False</td>\n",
       "      <td>False</td>\n",
       "      <td>False</td>\n",
       "    </tr>\n",
       "    <tr>\n",
       "      <th>890</th>\n",
       "      <td>False</td>\n",
       "      <td>False</td>\n",
       "      <td>False</td>\n",
       "      <td>False</td>\n",
       "      <td>False</td>\n",
       "      <td>False</td>\n",
       "      <td>False</td>\n",
       "      <td>False</td>\n",
       "      <td>False</td>\n",
       "      <td>False</td>\n",
       "      <td>True</td>\n",
       "      <td>False</td>\n",
       "    </tr>\n",
       "  </tbody>\n",
       "</table>\n",
       "<p>891 rows × 12 columns</p>\n",
       "</div>"
      ],
      "text/plain": [
       "     PassengerId  Survived  Pclass   Name    Sex    Age  SibSp  Parch  Ticket  \\\n",
       "0          False     False   False  False  False  False  False  False   False   \n",
       "1          False     False   False  False  False  False  False  False   False   \n",
       "2          False     False   False  False  False  False  False  False   False   \n",
       "3          False     False   False  False  False  False  False  False   False   \n",
       "4          False     False   False  False  False  False  False  False   False   \n",
       "..           ...       ...     ...    ...    ...    ...    ...    ...     ...   \n",
       "886        False     False   False  False  False  False  False  False   False   \n",
       "887        False     False   False  False  False  False  False  False   False   \n",
       "888        False     False   False  False  False   True  False  False   False   \n",
       "889        False     False   False  False  False  False  False  False   False   \n",
       "890        False     False   False  False  False  False  False  False   False   \n",
       "\n",
       "      Fare  Cabin  Embarked  \n",
       "0    False   True     False  \n",
       "1    False  False     False  \n",
       "2    False   True     False  \n",
       "3    False  False     False  \n",
       "4    False   True     False  \n",
       "..     ...    ...       ...  \n",
       "886  False   True     False  \n",
       "887  False  False     False  \n",
       "888  False   True     False  \n",
       "889  False  False     False  \n",
       "890  False   True     False  \n",
       "\n",
       "[891 rows x 12 columns]"
      ]
     },
     "execution_count": 3,
     "metadata": {},
     "output_type": "execute_result"
    }
   ],
   "source": [
    "# Checking for Null Values\n",
    "df.isnull()  # Returns a DataFrame with True where values are null\n",
    "# isnull is an alias of isna"
   ]
  },
  {
   "cell_type": "markdown",
   "metadata": {
    "id": "eWz8OJedQtEr"
   },
   "source": [
    "When working with large datasets, using `isna()` or `isnull()` along with `any()` and `sum()` in Pandas becomes essential for quick and efficient data quality assessment."
   ]
  },
  {
   "cell_type": "code",
   "execution_count": 4,
   "metadata": {
    "colab": {
     "base_uri": "https://localhost:8080/"
    },
    "executionInfo": {
     "elapsed": 72,
     "status": "ok",
     "timestamp": 1709047578002,
     "user": {
      "displayName": "Ignacio Soteras",
      "userId": "02050793736257155229"
     },
     "user_tz": -60
    },
    "id": "QJEHelbGQtEs",
    "outputId": "b3db4b55-0d69-4e10-edeb-368601cc8d3b"
   },
   "outputs": [
    {
     "data": {
      "text/plain": [
       "PassengerId    False\n",
       "Survived       False\n",
       "Pclass         False\n",
       "Name           False\n",
       "Sex            False\n",
       "Age             True\n",
       "SibSp          False\n",
       "Parch          False\n",
       "Ticket         False\n",
       "Fare           False\n",
       "Cabin           True\n",
       "Embarked        True\n",
       "dtype: bool"
      ]
     },
     "execution_count": 4,
     "metadata": {},
     "output_type": "execute_result"
    }
   ],
   "source": [
    "# Check for null values in each column\n",
    "df.isna().any()"
   ]
  },
  {
   "cell_type": "markdown",
   "metadata": {
    "id": "7Yw4qohgQtEt"
   },
   "source": [
    "sum() calculates the sum of each row, considering True as 1 and False as 0."
   ]
  },
  {
   "cell_type": "code",
   "execution_count": 5,
   "metadata": {
    "colab": {
     "base_uri": "https://localhost:8080/"
    },
    "executionInfo": {
     "elapsed": 71,
     "status": "ok",
     "timestamp": 1709047578002,
     "user": {
      "displayName": "Ignacio Soteras",
      "userId": "02050793736257155229"
     },
     "user_tz": -60
    },
    "id": "9V5zJmOyQtEu",
    "outputId": "60ad7c88-78b1-4a69-8de3-5df837adc872"
   },
   "outputs": [
    {
     "data": {
      "text/plain": [
       "PassengerId      0\n",
       "Survived         0\n",
       "Pclass           0\n",
       "Name             0\n",
       "Sex              0\n",
       "Age            177\n",
       "SibSp            0\n",
       "Parch            0\n",
       "Ticket           0\n",
       "Fare             0\n",
       "Cabin          687\n",
       "Embarked         2\n",
       "dtype: int64"
      ]
     },
     "execution_count": 5,
     "metadata": {},
     "output_type": "execute_result"
    }
   ],
   "source": [
    "# Count the number of null values in each column\n",
    "df.isna().sum()"
   ]
  },
  {
   "cell_type": "markdown",
   "metadata": {
    "id": "cnMRQh_UQtEv"
   },
   "source": [
    "If we add the parameter `axis=1` with the `sum()` function, we can calculate the sum of each row (along the columns) of the DataFrame `df`. This results in a Series that contains the count of null values in each row."
   ]
  },
  {
   "cell_type": "code",
   "execution_count": 6,
   "metadata": {
    "colab": {
     "base_uri": "https://localhost:8080/"
    },
    "executionInfo": {
     "elapsed": 69,
     "status": "ok",
     "timestamp": 1709047578002,
     "user": {
      "displayName": "Ignacio Soteras",
      "userId": "02050793736257155229"
     },
     "user_tz": -60
    },
    "id": "BxnMY9G3QtEv",
    "outputId": "80f62989-a155-4248-d2e3-1e4a46f78c2b"
   },
   "outputs": [
    {
     "data": {
      "text/plain": [
       "0      1\n",
       "1      0\n",
       "2      1\n",
       "3      0\n",
       "4      1\n",
       "      ..\n",
       "886    1\n",
       "887    0\n",
       "888    2\n",
       "889    0\n",
       "890    1\n",
       "Length: 891, dtype: int64"
      ]
     },
     "execution_count": 6,
     "metadata": {},
     "output_type": "execute_result"
    }
   ],
   "source": [
    "df.isna().sum(axis=1)"
   ]
  },
  {
   "cell_type": "markdown",
   "metadata": {
    "id": "wYNmYRS_QtEv"
   },
   "source": [
    "### Dropping Null Values"
   ]
  },
  {
   "cell_type": "code",
   "execution_count": 7,
   "metadata": {
    "colab": {
     "base_uri": "https://localhost:8080/",
     "height": 476
    },
    "executionInfo": {
     "elapsed": 68,
     "status": "ok",
     "timestamp": 1709047578003,
     "user": {
      "displayName": "Ignacio Soteras",
      "userId": "02050793736257155229"
     },
     "user_tz": -60
    },
    "id": "34mKoWs0QtEw",
    "outputId": "78800e1c-84cc-43d2-d1da-3b43d678ea5c"
   },
   "outputs": [
    {
     "data": {
      "text/html": [
       "<div>\n",
       "<style scoped>\n",
       "    .dataframe tbody tr th:only-of-type {\n",
       "        vertical-align: middle;\n",
       "    }\n",
       "\n",
       "    .dataframe tbody tr th {\n",
       "        vertical-align: top;\n",
       "    }\n",
       "\n",
       "    .dataframe thead th {\n",
       "        text-align: right;\n",
       "    }\n",
       "</style>\n",
       "<table border=\"1\" class=\"dataframe\">\n",
       "  <thead>\n",
       "    <tr style=\"text-align: right;\">\n",
       "      <th></th>\n",
       "      <th>PassengerId</th>\n",
       "      <th>Survived</th>\n",
       "      <th>Pclass</th>\n",
       "      <th>Name</th>\n",
       "      <th>Sex</th>\n",
       "      <th>Age</th>\n",
       "      <th>SibSp</th>\n",
       "      <th>Parch</th>\n",
       "      <th>Ticket</th>\n",
       "      <th>Fare</th>\n",
       "      <th>Cabin</th>\n",
       "      <th>Embarked</th>\n",
       "    </tr>\n",
       "  </thead>\n",
       "  <tbody>\n",
       "    <tr>\n",
       "      <th>1</th>\n",
       "      <td>2</td>\n",
       "      <td>1</td>\n",
       "      <td>1</td>\n",
       "      <td>Cumings, Mrs. John Bradley (Florence Briggs Th...</td>\n",
       "      <td>female</td>\n",
       "      <td>38.0</td>\n",
       "      <td>1</td>\n",
       "      <td>0</td>\n",
       "      <td>PC 17599</td>\n",
       "      <td>71.2833</td>\n",
       "      <td>C85</td>\n",
       "      <td>C</td>\n",
       "    </tr>\n",
       "    <tr>\n",
       "      <th>3</th>\n",
       "      <td>4</td>\n",
       "      <td>1</td>\n",
       "      <td>1</td>\n",
       "      <td>Futrelle, Mrs. Jacques Heath (Lily May Peel)</td>\n",
       "      <td>female</td>\n",
       "      <td>35.0</td>\n",
       "      <td>1</td>\n",
       "      <td>0</td>\n",
       "      <td>113803</td>\n",
       "      <td>53.1000</td>\n",
       "      <td>C123</td>\n",
       "      <td>S</td>\n",
       "    </tr>\n",
       "    <tr>\n",
       "      <th>6</th>\n",
       "      <td>7</td>\n",
       "      <td>0</td>\n",
       "      <td>1</td>\n",
       "      <td>McCarthy, Mr. Timothy J</td>\n",
       "      <td>male</td>\n",
       "      <td>54.0</td>\n",
       "      <td>0</td>\n",
       "      <td>0</td>\n",
       "      <td>17463</td>\n",
       "      <td>51.8625</td>\n",
       "      <td>E46</td>\n",
       "      <td>S</td>\n",
       "    </tr>\n",
       "    <tr>\n",
       "      <th>10</th>\n",
       "      <td>11</td>\n",
       "      <td>1</td>\n",
       "      <td>3</td>\n",
       "      <td>Sandstrom, Miss. Marguerite Rut</td>\n",
       "      <td>female</td>\n",
       "      <td>4.0</td>\n",
       "      <td>1</td>\n",
       "      <td>1</td>\n",
       "      <td>PP 9549</td>\n",
       "      <td>16.7000</td>\n",
       "      <td>G6</td>\n",
       "      <td>S</td>\n",
       "    </tr>\n",
       "    <tr>\n",
       "      <th>11</th>\n",
       "      <td>12</td>\n",
       "      <td>1</td>\n",
       "      <td>1</td>\n",
       "      <td>Bonnell, Miss. Elizabeth</td>\n",
       "      <td>female</td>\n",
       "      <td>58.0</td>\n",
       "      <td>0</td>\n",
       "      <td>0</td>\n",
       "      <td>113783</td>\n",
       "      <td>26.5500</td>\n",
       "      <td>C103</td>\n",
       "      <td>S</td>\n",
       "    </tr>\n",
       "    <tr>\n",
       "      <th>...</th>\n",
       "      <td>...</td>\n",
       "      <td>...</td>\n",
       "      <td>...</td>\n",
       "      <td>...</td>\n",
       "      <td>...</td>\n",
       "      <td>...</td>\n",
       "      <td>...</td>\n",
       "      <td>...</td>\n",
       "      <td>...</td>\n",
       "      <td>...</td>\n",
       "      <td>...</td>\n",
       "      <td>...</td>\n",
       "    </tr>\n",
       "    <tr>\n",
       "      <th>871</th>\n",
       "      <td>872</td>\n",
       "      <td>1</td>\n",
       "      <td>1</td>\n",
       "      <td>Beckwith, Mrs. Richard Leonard (Sallie Monypeny)</td>\n",
       "      <td>female</td>\n",
       "      <td>47.0</td>\n",
       "      <td>1</td>\n",
       "      <td>1</td>\n",
       "      <td>11751</td>\n",
       "      <td>52.5542</td>\n",
       "      <td>D35</td>\n",
       "      <td>S</td>\n",
       "    </tr>\n",
       "    <tr>\n",
       "      <th>872</th>\n",
       "      <td>873</td>\n",
       "      <td>0</td>\n",
       "      <td>1</td>\n",
       "      <td>Carlsson, Mr. Frans Olof</td>\n",
       "      <td>male</td>\n",
       "      <td>33.0</td>\n",
       "      <td>0</td>\n",
       "      <td>0</td>\n",
       "      <td>695</td>\n",
       "      <td>5.0000</td>\n",
       "      <td>B51 B53 B55</td>\n",
       "      <td>S</td>\n",
       "    </tr>\n",
       "    <tr>\n",
       "      <th>879</th>\n",
       "      <td>880</td>\n",
       "      <td>1</td>\n",
       "      <td>1</td>\n",
       "      <td>Potter, Mrs. Thomas Jr (Lily Alexenia Wilson)</td>\n",
       "      <td>female</td>\n",
       "      <td>56.0</td>\n",
       "      <td>0</td>\n",
       "      <td>1</td>\n",
       "      <td>11767</td>\n",
       "      <td>83.1583</td>\n",
       "      <td>C50</td>\n",
       "      <td>C</td>\n",
       "    </tr>\n",
       "    <tr>\n",
       "      <th>887</th>\n",
       "      <td>888</td>\n",
       "      <td>1</td>\n",
       "      <td>1</td>\n",
       "      <td>Graham, Miss. Margaret Edith</td>\n",
       "      <td>female</td>\n",
       "      <td>19.0</td>\n",
       "      <td>0</td>\n",
       "      <td>0</td>\n",
       "      <td>112053</td>\n",
       "      <td>30.0000</td>\n",
       "      <td>B42</td>\n",
       "      <td>S</td>\n",
       "    </tr>\n",
       "    <tr>\n",
       "      <th>889</th>\n",
       "      <td>890</td>\n",
       "      <td>1</td>\n",
       "      <td>1</td>\n",
       "      <td>Behr, Mr. Karl Howell</td>\n",
       "      <td>male</td>\n",
       "      <td>26.0</td>\n",
       "      <td>0</td>\n",
       "      <td>0</td>\n",
       "      <td>111369</td>\n",
       "      <td>30.0000</td>\n",
       "      <td>C148</td>\n",
       "      <td>C</td>\n",
       "    </tr>\n",
       "  </tbody>\n",
       "</table>\n",
       "<p>183 rows × 12 columns</p>\n",
       "</div>"
      ],
      "text/plain": [
       "     PassengerId  Survived  Pclass  \\\n",
       "1              2         1       1   \n",
       "3              4         1       1   \n",
       "6              7         0       1   \n",
       "10            11         1       3   \n",
       "11            12         1       1   \n",
       "..           ...       ...     ...   \n",
       "871          872         1       1   \n",
       "872          873         0       1   \n",
       "879          880         1       1   \n",
       "887          888         1       1   \n",
       "889          890         1       1   \n",
       "\n",
       "                                                  Name     Sex   Age  SibSp  \\\n",
       "1    Cumings, Mrs. John Bradley (Florence Briggs Th...  female  38.0      1   \n",
       "3         Futrelle, Mrs. Jacques Heath (Lily May Peel)  female  35.0      1   \n",
       "6                              McCarthy, Mr. Timothy J    male  54.0      0   \n",
       "10                     Sandstrom, Miss. Marguerite Rut  female   4.0      1   \n",
       "11                            Bonnell, Miss. Elizabeth  female  58.0      0   \n",
       "..                                                 ...     ...   ...    ...   \n",
       "871   Beckwith, Mrs. Richard Leonard (Sallie Monypeny)  female  47.0      1   \n",
       "872                           Carlsson, Mr. Frans Olof    male  33.0      0   \n",
       "879      Potter, Mrs. Thomas Jr (Lily Alexenia Wilson)  female  56.0      0   \n",
       "887                       Graham, Miss. Margaret Edith  female  19.0      0   \n",
       "889                              Behr, Mr. Karl Howell    male  26.0      0   \n",
       "\n",
       "     Parch    Ticket     Fare        Cabin Embarked  \n",
       "1        0  PC 17599  71.2833          C85        C  \n",
       "3        0    113803  53.1000         C123        S  \n",
       "6        0     17463  51.8625          E46        S  \n",
       "10       1   PP 9549  16.7000           G6        S  \n",
       "11       0    113783  26.5500         C103        S  \n",
       "..     ...       ...      ...          ...      ...  \n",
       "871      1     11751  52.5542          D35        S  \n",
       "872      0       695   5.0000  B51 B53 B55        S  \n",
       "879      1     11767  83.1583          C50        C  \n",
       "887      0    112053  30.0000          B42        S  \n",
       "889      0    111369  30.0000         C148        C  \n",
       "\n",
       "[183 rows x 12 columns]"
      ]
     },
     "execution_count": 7,
     "metadata": {},
     "output_type": "execute_result"
    }
   ],
   "source": [
    "# Dropping rows with Null Values\n",
    "df.dropna()  # Removes rows with null values"
   ]
  },
  {
   "cell_type": "markdown",
   "metadata": {
    "id": "1uqydYihQtEw"
   },
   "source": [
    "However, as we can see below in the DataFrame, the rows with NaN values have not been removed. To execute the change, it is necessary to use the `inplace=True` option: `df.dropna(inplace=True)` or assign it to a variable such as df = df.dropna()."
   ]
  },
  {
   "cell_type": "code",
   "execution_count": 8,
   "metadata": {
    "executionInfo": {
     "elapsed": 66,
     "status": "ok",
     "timestamp": 1709047578003,
     "user": {
      "displayName": "Ignacio Soteras",
      "userId": "02050793736257155229"
     },
     "user_tz": -60
    },
    "id": "uJThEGjC8yWw"
   },
   "outputs": [],
   "source": [
    "# df.dropna(inplace=True)\n",
    "# df.to_csv(\"filename_without_nas.csv\")"
   ]
  },
  {
   "cell_type": "code",
   "execution_count": 9,
   "metadata": {
    "colab": {
     "base_uri": "https://localhost:8080/",
     "height": 458
    },
    "executionInfo": {
     "elapsed": 65,
     "status": "ok",
     "timestamp": 1709047578003,
     "user": {
      "displayName": "Ignacio Soteras",
      "userId": "02050793736257155229"
     },
     "user_tz": -60
    },
    "id": "_3Fk9iPoQtEw",
    "outputId": "39b114b4-1a05-4142-9e35-529ca84ef3d9"
   },
   "outputs": [
    {
     "data": {
      "text/html": [
       "<div>\n",
       "<style scoped>\n",
       "    .dataframe tbody tr th:only-of-type {\n",
       "        vertical-align: middle;\n",
       "    }\n",
       "\n",
       "    .dataframe tbody tr th {\n",
       "        vertical-align: top;\n",
       "    }\n",
       "\n",
       "    .dataframe thead th {\n",
       "        text-align: right;\n",
       "    }\n",
       "</style>\n",
       "<table border=\"1\" class=\"dataframe\">\n",
       "  <thead>\n",
       "    <tr style=\"text-align: right;\">\n",
       "      <th></th>\n",
       "      <th>PassengerId</th>\n",
       "      <th>Survived</th>\n",
       "      <th>Pclass</th>\n",
       "      <th>Name</th>\n",
       "      <th>Sex</th>\n",
       "      <th>Age</th>\n",
       "      <th>SibSp</th>\n",
       "      <th>Parch</th>\n",
       "      <th>Ticket</th>\n",
       "      <th>Fare</th>\n",
       "      <th>Cabin</th>\n",
       "      <th>Embarked</th>\n",
       "    </tr>\n",
       "  </thead>\n",
       "  <tbody>\n",
       "    <tr>\n",
       "      <th>0</th>\n",
       "      <td>1</td>\n",
       "      <td>0</td>\n",
       "      <td>3</td>\n",
       "      <td>Braund, Mr. Owen Harris</td>\n",
       "      <td>male</td>\n",
       "      <td>22.0</td>\n",
       "      <td>1</td>\n",
       "      <td>0</td>\n",
       "      <td>A/5 21171</td>\n",
       "      <td>7.2500</td>\n",
       "      <td>NaN</td>\n",
       "      <td>S</td>\n",
       "    </tr>\n",
       "    <tr>\n",
       "      <th>1</th>\n",
       "      <td>2</td>\n",
       "      <td>1</td>\n",
       "      <td>1</td>\n",
       "      <td>Cumings, Mrs. John Bradley (Florence Briggs Th...</td>\n",
       "      <td>female</td>\n",
       "      <td>38.0</td>\n",
       "      <td>1</td>\n",
       "      <td>0</td>\n",
       "      <td>PC 17599</td>\n",
       "      <td>71.2833</td>\n",
       "      <td>C85</td>\n",
       "      <td>C</td>\n",
       "    </tr>\n",
       "    <tr>\n",
       "      <th>2</th>\n",
       "      <td>3</td>\n",
       "      <td>1</td>\n",
       "      <td>3</td>\n",
       "      <td>Heikkinen, Miss. Laina</td>\n",
       "      <td>female</td>\n",
       "      <td>26.0</td>\n",
       "      <td>0</td>\n",
       "      <td>0</td>\n",
       "      <td>STON/O2. 3101282</td>\n",
       "      <td>7.9250</td>\n",
       "      <td>NaN</td>\n",
       "      <td>S</td>\n",
       "    </tr>\n",
       "    <tr>\n",
       "      <th>3</th>\n",
       "      <td>4</td>\n",
       "      <td>1</td>\n",
       "      <td>1</td>\n",
       "      <td>Futrelle, Mrs. Jacques Heath (Lily May Peel)</td>\n",
       "      <td>female</td>\n",
       "      <td>35.0</td>\n",
       "      <td>1</td>\n",
       "      <td>0</td>\n",
       "      <td>113803</td>\n",
       "      <td>53.1000</td>\n",
       "      <td>C123</td>\n",
       "      <td>S</td>\n",
       "    </tr>\n",
       "    <tr>\n",
       "      <th>4</th>\n",
       "      <td>5</td>\n",
       "      <td>0</td>\n",
       "      <td>3</td>\n",
       "      <td>Allen, Mr. William Henry</td>\n",
       "      <td>male</td>\n",
       "      <td>35.0</td>\n",
       "      <td>0</td>\n",
       "      <td>0</td>\n",
       "      <td>373450</td>\n",
       "      <td>8.0500</td>\n",
       "      <td>NaN</td>\n",
       "      <td>S</td>\n",
       "    </tr>\n",
       "    <tr>\n",
       "      <th>...</th>\n",
       "      <td>...</td>\n",
       "      <td>...</td>\n",
       "      <td>...</td>\n",
       "      <td>...</td>\n",
       "      <td>...</td>\n",
       "      <td>...</td>\n",
       "      <td>...</td>\n",
       "      <td>...</td>\n",
       "      <td>...</td>\n",
       "      <td>...</td>\n",
       "      <td>...</td>\n",
       "      <td>...</td>\n",
       "    </tr>\n",
       "    <tr>\n",
       "      <th>886</th>\n",
       "      <td>887</td>\n",
       "      <td>0</td>\n",
       "      <td>2</td>\n",
       "      <td>Montvila, Rev. Juozas</td>\n",
       "      <td>male</td>\n",
       "      <td>27.0</td>\n",
       "      <td>0</td>\n",
       "      <td>0</td>\n",
       "      <td>211536</td>\n",
       "      <td>13.0000</td>\n",
       "      <td>NaN</td>\n",
       "      <td>S</td>\n",
       "    </tr>\n",
       "    <tr>\n",
       "      <th>887</th>\n",
       "      <td>888</td>\n",
       "      <td>1</td>\n",
       "      <td>1</td>\n",
       "      <td>Graham, Miss. Margaret Edith</td>\n",
       "      <td>female</td>\n",
       "      <td>19.0</td>\n",
       "      <td>0</td>\n",
       "      <td>0</td>\n",
       "      <td>112053</td>\n",
       "      <td>30.0000</td>\n",
       "      <td>B42</td>\n",
       "      <td>S</td>\n",
       "    </tr>\n",
       "    <tr>\n",
       "      <th>888</th>\n",
       "      <td>889</td>\n",
       "      <td>0</td>\n",
       "      <td>3</td>\n",
       "      <td>Johnston, Miss. Catherine Helen \"Carrie\"</td>\n",
       "      <td>female</td>\n",
       "      <td>NaN</td>\n",
       "      <td>1</td>\n",
       "      <td>2</td>\n",
       "      <td>W./C. 6607</td>\n",
       "      <td>23.4500</td>\n",
       "      <td>NaN</td>\n",
       "      <td>S</td>\n",
       "    </tr>\n",
       "    <tr>\n",
       "      <th>889</th>\n",
       "      <td>890</td>\n",
       "      <td>1</td>\n",
       "      <td>1</td>\n",
       "      <td>Behr, Mr. Karl Howell</td>\n",
       "      <td>male</td>\n",
       "      <td>26.0</td>\n",
       "      <td>0</td>\n",
       "      <td>0</td>\n",
       "      <td>111369</td>\n",
       "      <td>30.0000</td>\n",
       "      <td>C148</td>\n",
       "      <td>C</td>\n",
       "    </tr>\n",
       "    <tr>\n",
       "      <th>890</th>\n",
       "      <td>891</td>\n",
       "      <td>0</td>\n",
       "      <td>3</td>\n",
       "      <td>Dooley, Mr. Patrick</td>\n",
       "      <td>male</td>\n",
       "      <td>32.0</td>\n",
       "      <td>0</td>\n",
       "      <td>0</td>\n",
       "      <td>370376</td>\n",
       "      <td>7.7500</td>\n",
       "      <td>NaN</td>\n",
       "      <td>Q</td>\n",
       "    </tr>\n",
       "  </tbody>\n",
       "</table>\n",
       "<p>891 rows × 12 columns</p>\n",
       "</div>"
      ],
      "text/plain": [
       "     PassengerId  Survived  Pclass  \\\n",
       "0              1         0       3   \n",
       "1              2         1       1   \n",
       "2              3         1       3   \n",
       "3              4         1       1   \n",
       "4              5         0       3   \n",
       "..           ...       ...     ...   \n",
       "886          887         0       2   \n",
       "887          888         1       1   \n",
       "888          889         0       3   \n",
       "889          890         1       1   \n",
       "890          891         0       3   \n",
       "\n",
       "                                                  Name     Sex   Age  SibSp  \\\n",
       "0                              Braund, Mr. Owen Harris    male  22.0      1   \n",
       "1    Cumings, Mrs. John Bradley (Florence Briggs Th...  female  38.0      1   \n",
       "2                               Heikkinen, Miss. Laina  female  26.0      0   \n",
       "3         Futrelle, Mrs. Jacques Heath (Lily May Peel)  female  35.0      1   \n",
       "4                             Allen, Mr. William Henry    male  35.0      0   \n",
       "..                                                 ...     ...   ...    ...   \n",
       "886                              Montvila, Rev. Juozas    male  27.0      0   \n",
       "887                       Graham, Miss. Margaret Edith  female  19.0      0   \n",
       "888           Johnston, Miss. Catherine Helen \"Carrie\"  female   NaN      1   \n",
       "889                              Behr, Mr. Karl Howell    male  26.0      0   \n",
       "890                                Dooley, Mr. Patrick    male  32.0      0   \n",
       "\n",
       "     Parch            Ticket     Fare Cabin Embarked  \n",
       "0        0         A/5 21171   7.2500   NaN        S  \n",
       "1        0          PC 17599  71.2833   C85        C  \n",
       "2        0  STON/O2. 3101282   7.9250   NaN        S  \n",
       "3        0            113803  53.1000  C123        S  \n",
       "4        0            373450   8.0500   NaN        S  \n",
       "..     ...               ...      ...   ...      ...  \n",
       "886      0            211536  13.0000   NaN        S  \n",
       "887      0            112053  30.0000   B42        S  \n",
       "888      2        W./C. 6607  23.4500   NaN        S  \n",
       "889      0            111369  30.0000  C148        C  \n",
       "890      0            370376   7.7500   NaN        Q  \n",
       "\n",
       "[891 rows x 12 columns]"
      ]
     },
     "execution_count": 9,
     "metadata": {},
     "output_type": "execute_result"
    }
   ],
   "source": [
    "df"
   ]
  },
  {
   "cell_type": "code",
   "execution_count": 10,
   "metadata": {
    "colab": {
     "base_uri": "https://localhost:8080/",
     "height": 423
    },
    "executionInfo": {
     "elapsed": 63,
     "status": "ok",
     "timestamp": 1709047578003,
     "user": {
      "displayName": "Ignacio Soteras",
      "userId": "02050793736257155229"
     },
     "user_tz": -60
    },
    "id": "znhYDZd_QtEx",
    "outputId": "c814b57a-356d-426a-b4d6-31d1e8fdc687"
   },
   "outputs": [
    {
     "data": {
      "text/html": [
       "<div>\n",
       "<style scoped>\n",
       "    .dataframe tbody tr th:only-of-type {\n",
       "        vertical-align: middle;\n",
       "    }\n",
       "\n",
       "    .dataframe tbody tr th {\n",
       "        vertical-align: top;\n",
       "    }\n",
       "\n",
       "    .dataframe thead th {\n",
       "        text-align: right;\n",
       "    }\n",
       "</style>\n",
       "<table border=\"1\" class=\"dataframe\">\n",
       "  <thead>\n",
       "    <tr style=\"text-align: right;\">\n",
       "      <th></th>\n",
       "      <th>PassengerId</th>\n",
       "      <th>Survived</th>\n",
       "      <th>Pclass</th>\n",
       "      <th>Name</th>\n",
       "      <th>Sex</th>\n",
       "      <th>SibSp</th>\n",
       "      <th>Parch</th>\n",
       "      <th>Ticket</th>\n",
       "      <th>Fare</th>\n",
       "    </tr>\n",
       "  </thead>\n",
       "  <tbody>\n",
       "    <tr>\n",
       "      <th>0</th>\n",
       "      <td>1</td>\n",
       "      <td>0</td>\n",
       "      <td>3</td>\n",
       "      <td>Braund, Mr. Owen Harris</td>\n",
       "      <td>male</td>\n",
       "      <td>1</td>\n",
       "      <td>0</td>\n",
       "      <td>A/5 21171</td>\n",
       "      <td>7.2500</td>\n",
       "    </tr>\n",
       "    <tr>\n",
       "      <th>1</th>\n",
       "      <td>2</td>\n",
       "      <td>1</td>\n",
       "      <td>1</td>\n",
       "      <td>Cumings, Mrs. John Bradley (Florence Briggs Th...</td>\n",
       "      <td>female</td>\n",
       "      <td>1</td>\n",
       "      <td>0</td>\n",
       "      <td>PC 17599</td>\n",
       "      <td>71.2833</td>\n",
       "    </tr>\n",
       "    <tr>\n",
       "      <th>2</th>\n",
       "      <td>3</td>\n",
       "      <td>1</td>\n",
       "      <td>3</td>\n",
       "      <td>Heikkinen, Miss. Laina</td>\n",
       "      <td>female</td>\n",
       "      <td>0</td>\n",
       "      <td>0</td>\n",
       "      <td>STON/O2. 3101282</td>\n",
       "      <td>7.9250</td>\n",
       "    </tr>\n",
       "    <tr>\n",
       "      <th>3</th>\n",
       "      <td>4</td>\n",
       "      <td>1</td>\n",
       "      <td>1</td>\n",
       "      <td>Futrelle, Mrs. Jacques Heath (Lily May Peel)</td>\n",
       "      <td>female</td>\n",
       "      <td>1</td>\n",
       "      <td>0</td>\n",
       "      <td>113803</td>\n",
       "      <td>53.1000</td>\n",
       "    </tr>\n",
       "    <tr>\n",
       "      <th>4</th>\n",
       "      <td>5</td>\n",
       "      <td>0</td>\n",
       "      <td>3</td>\n",
       "      <td>Allen, Mr. William Henry</td>\n",
       "      <td>male</td>\n",
       "      <td>0</td>\n",
       "      <td>0</td>\n",
       "      <td>373450</td>\n",
       "      <td>8.0500</td>\n",
       "    </tr>\n",
       "    <tr>\n",
       "      <th>...</th>\n",
       "      <td>...</td>\n",
       "      <td>...</td>\n",
       "      <td>...</td>\n",
       "      <td>...</td>\n",
       "      <td>...</td>\n",
       "      <td>...</td>\n",
       "      <td>...</td>\n",
       "      <td>...</td>\n",
       "      <td>...</td>\n",
       "    </tr>\n",
       "    <tr>\n",
       "      <th>886</th>\n",
       "      <td>887</td>\n",
       "      <td>0</td>\n",
       "      <td>2</td>\n",
       "      <td>Montvila, Rev. Juozas</td>\n",
       "      <td>male</td>\n",
       "      <td>0</td>\n",
       "      <td>0</td>\n",
       "      <td>211536</td>\n",
       "      <td>13.0000</td>\n",
       "    </tr>\n",
       "    <tr>\n",
       "      <th>887</th>\n",
       "      <td>888</td>\n",
       "      <td>1</td>\n",
       "      <td>1</td>\n",
       "      <td>Graham, Miss. Margaret Edith</td>\n",
       "      <td>female</td>\n",
       "      <td>0</td>\n",
       "      <td>0</td>\n",
       "      <td>112053</td>\n",
       "      <td>30.0000</td>\n",
       "    </tr>\n",
       "    <tr>\n",
       "      <th>888</th>\n",
       "      <td>889</td>\n",
       "      <td>0</td>\n",
       "      <td>3</td>\n",
       "      <td>Johnston, Miss. Catherine Helen \"Carrie\"</td>\n",
       "      <td>female</td>\n",
       "      <td>1</td>\n",
       "      <td>2</td>\n",
       "      <td>W./C. 6607</td>\n",
       "      <td>23.4500</td>\n",
       "    </tr>\n",
       "    <tr>\n",
       "      <th>889</th>\n",
       "      <td>890</td>\n",
       "      <td>1</td>\n",
       "      <td>1</td>\n",
       "      <td>Behr, Mr. Karl Howell</td>\n",
       "      <td>male</td>\n",
       "      <td>0</td>\n",
       "      <td>0</td>\n",
       "      <td>111369</td>\n",
       "      <td>30.0000</td>\n",
       "    </tr>\n",
       "    <tr>\n",
       "      <th>890</th>\n",
       "      <td>891</td>\n",
       "      <td>0</td>\n",
       "      <td>3</td>\n",
       "      <td>Dooley, Mr. Patrick</td>\n",
       "      <td>male</td>\n",
       "      <td>0</td>\n",
       "      <td>0</td>\n",
       "      <td>370376</td>\n",
       "      <td>7.7500</td>\n",
       "    </tr>\n",
       "  </tbody>\n",
       "</table>\n",
       "<p>891 rows × 9 columns</p>\n",
       "</div>"
      ],
      "text/plain": [
       "     PassengerId  Survived  Pclass  \\\n",
       "0              1         0       3   \n",
       "1              2         1       1   \n",
       "2              3         1       3   \n",
       "3              4         1       1   \n",
       "4              5         0       3   \n",
       "..           ...       ...     ...   \n",
       "886          887         0       2   \n",
       "887          888         1       1   \n",
       "888          889         0       3   \n",
       "889          890         1       1   \n",
       "890          891         0       3   \n",
       "\n",
       "                                                  Name     Sex  SibSp  Parch  \\\n",
       "0                              Braund, Mr. Owen Harris    male      1      0   \n",
       "1    Cumings, Mrs. John Bradley (Florence Briggs Th...  female      1      0   \n",
       "2                               Heikkinen, Miss. Laina  female      0      0   \n",
       "3         Futrelle, Mrs. Jacques Heath (Lily May Peel)  female      1      0   \n",
       "4                             Allen, Mr. William Henry    male      0      0   \n",
       "..                                                 ...     ...    ...    ...   \n",
       "886                              Montvila, Rev. Juozas    male      0      0   \n",
       "887                       Graham, Miss. Margaret Edith  female      0      0   \n",
       "888           Johnston, Miss. Catherine Helen \"Carrie\"  female      1      2   \n",
       "889                              Behr, Mr. Karl Howell    male      0      0   \n",
       "890                                Dooley, Mr. Patrick    male      0      0   \n",
       "\n",
       "               Ticket     Fare  \n",
       "0           A/5 21171   7.2500  \n",
       "1            PC 17599  71.2833  \n",
       "2    STON/O2. 3101282   7.9250  \n",
       "3              113803  53.1000  \n",
       "4              373450   8.0500  \n",
       "..                ...      ...  \n",
       "886            211536  13.0000  \n",
       "887            112053  30.0000  \n",
       "888        W./C. 6607  23.4500  \n",
       "889            111369  30.0000  \n",
       "890            370376   7.7500  \n",
       "\n",
       "[891 rows x 9 columns]"
      ]
     },
     "execution_count": 10,
     "metadata": {},
     "output_type": "execute_result"
    }
   ],
   "source": [
    "# Dropping columns with  Null Values\n",
    "df.dropna(axis=1)"
   ]
  },
  {
   "cell_type": "markdown",
   "metadata": {
    "id": "hr9q_dU9QtEx"
   },
   "source": [
    "In the `dropna()` method of Pandas DataFrame, the `subset`, `how`, and `thresh` parameters are used to control the behavior of dropping rows or columns containing NaN (null) values, when we don't want to drop them just because they have *one* null value:\n",
    "\n",
    "- `subset`: It allows you to specify a subset of columns on which to apply the `dropna()` operation. Only the rows containing NaN values in the specified subset of columns will be dropped."
   ]
  },
  {
   "cell_type": "code",
   "execution_count": 11,
   "metadata": {
    "colab": {
     "base_uri": "https://localhost:8080/",
     "height": 206
    },
    "executionInfo": {
     "elapsed": 62,
     "status": "ok",
     "timestamp": 1709047578003,
     "user": {
      "displayName": "Ignacio Soteras",
      "userId": "02050793736257155229"
     },
     "user_tz": -60
    },
    "id": "XF6VCyJFQtEx",
    "outputId": "55ba729d-86b7-472e-bc80-cb41a10cfc44"
   },
   "outputs": [
    {
     "data": {
      "text/html": [
       "<div>\n",
       "<style scoped>\n",
       "    .dataframe tbody tr th:only-of-type {\n",
       "        vertical-align: middle;\n",
       "    }\n",
       "\n",
       "    .dataframe tbody tr th {\n",
       "        vertical-align: top;\n",
       "    }\n",
       "\n",
       "    .dataframe thead th {\n",
       "        text-align: right;\n",
       "    }\n",
       "</style>\n",
       "<table border=\"1\" class=\"dataframe\">\n",
       "  <thead>\n",
       "    <tr style=\"text-align: right;\">\n",
       "      <th></th>\n",
       "      <th>PassengerId</th>\n",
       "      <th>Survived</th>\n",
       "      <th>Pclass</th>\n",
       "      <th>Name</th>\n",
       "      <th>Sex</th>\n",
       "      <th>Age</th>\n",
       "      <th>SibSp</th>\n",
       "      <th>Parch</th>\n",
       "      <th>Ticket</th>\n",
       "      <th>Fare</th>\n",
       "      <th>Cabin</th>\n",
       "      <th>Embarked</th>\n",
       "    </tr>\n",
       "  </thead>\n",
       "  <tbody>\n",
       "    <tr>\n",
       "      <th>886</th>\n",
       "      <td>887</td>\n",
       "      <td>0</td>\n",
       "      <td>2</td>\n",
       "      <td>Montvila, Rev. Juozas</td>\n",
       "      <td>male</td>\n",
       "      <td>27.0</td>\n",
       "      <td>0</td>\n",
       "      <td>0</td>\n",
       "      <td>211536</td>\n",
       "      <td>13.00</td>\n",
       "      <td>NaN</td>\n",
       "      <td>S</td>\n",
       "    </tr>\n",
       "    <tr>\n",
       "      <th>887</th>\n",
       "      <td>888</td>\n",
       "      <td>1</td>\n",
       "      <td>1</td>\n",
       "      <td>Graham, Miss. Margaret Edith</td>\n",
       "      <td>female</td>\n",
       "      <td>19.0</td>\n",
       "      <td>0</td>\n",
       "      <td>0</td>\n",
       "      <td>112053</td>\n",
       "      <td>30.00</td>\n",
       "      <td>B42</td>\n",
       "      <td>S</td>\n",
       "    </tr>\n",
       "    <tr>\n",
       "      <th>888</th>\n",
       "      <td>889</td>\n",
       "      <td>0</td>\n",
       "      <td>3</td>\n",
       "      <td>Johnston, Miss. Catherine Helen \"Carrie\"</td>\n",
       "      <td>female</td>\n",
       "      <td>NaN</td>\n",
       "      <td>1</td>\n",
       "      <td>2</td>\n",
       "      <td>W./C. 6607</td>\n",
       "      <td>23.45</td>\n",
       "      <td>NaN</td>\n",
       "      <td>S</td>\n",
       "    </tr>\n",
       "    <tr>\n",
       "      <th>889</th>\n",
       "      <td>890</td>\n",
       "      <td>1</td>\n",
       "      <td>1</td>\n",
       "      <td>Behr, Mr. Karl Howell</td>\n",
       "      <td>male</td>\n",
       "      <td>26.0</td>\n",
       "      <td>0</td>\n",
       "      <td>0</td>\n",
       "      <td>111369</td>\n",
       "      <td>30.00</td>\n",
       "      <td>C148</td>\n",
       "      <td>C</td>\n",
       "    </tr>\n",
       "    <tr>\n",
       "      <th>890</th>\n",
       "      <td>891</td>\n",
       "      <td>0</td>\n",
       "      <td>3</td>\n",
       "      <td>Dooley, Mr. Patrick</td>\n",
       "      <td>male</td>\n",
       "      <td>32.0</td>\n",
       "      <td>0</td>\n",
       "      <td>0</td>\n",
       "      <td>370376</td>\n",
       "      <td>7.75</td>\n",
       "      <td>NaN</td>\n",
       "      <td>Q</td>\n",
       "    </tr>\n",
       "  </tbody>\n",
       "</table>\n",
       "</div>"
      ],
      "text/plain": [
       "     PassengerId  Survived  Pclass                                      Name  \\\n",
       "886          887         0       2                     Montvila, Rev. Juozas   \n",
       "887          888         1       1              Graham, Miss. Margaret Edith   \n",
       "888          889         0       3  Johnston, Miss. Catherine Helen \"Carrie\"   \n",
       "889          890         1       1                     Behr, Mr. Karl Howell   \n",
       "890          891         0       3                       Dooley, Mr. Patrick   \n",
       "\n",
       "        Sex   Age  SibSp  Parch      Ticket   Fare Cabin Embarked  \n",
       "886    male  27.0      0      0      211536  13.00   NaN        S  \n",
       "887  female  19.0      0      0      112053  30.00   B42        S  \n",
       "888  female   NaN      1      2  W./C. 6607  23.45   NaN        S  \n",
       "889    male  26.0      0      0      111369  30.00  C148        C  \n",
       "890    male  32.0      0      0      370376   7.75   NaN        Q  "
      ]
     },
     "execution_count": 11,
     "metadata": {},
     "output_type": "execute_result"
    }
   ],
   "source": [
    "df.tail()"
   ]
  },
  {
   "cell_type": "code",
   "execution_count": 12,
   "metadata": {
    "colab": {
     "base_uri": "https://localhost:8080/",
     "height": 206
    },
    "executionInfo": {
     "elapsed": 62,
     "status": "ok",
     "timestamp": 1709047578004,
     "user": {
      "displayName": "Ignacio Soteras",
      "userId": "02050793736257155229"
     },
     "user_tz": -60
    },
    "id": "KTflgUzPQtEy",
    "outputId": "d9b1a600-7248-4905-e439-9a6e384985d6"
   },
   "outputs": [
    {
     "data": {
      "text/html": [
       "<div>\n",
       "<style scoped>\n",
       "    .dataframe tbody tr th:only-of-type {\n",
       "        vertical-align: middle;\n",
       "    }\n",
       "\n",
       "    .dataframe tbody tr th {\n",
       "        vertical-align: top;\n",
       "    }\n",
       "\n",
       "    .dataframe thead th {\n",
       "        text-align: right;\n",
       "    }\n",
       "</style>\n",
       "<table border=\"1\" class=\"dataframe\">\n",
       "  <thead>\n",
       "    <tr style=\"text-align: right;\">\n",
       "      <th></th>\n",
       "      <th>PassengerId</th>\n",
       "      <th>Survived</th>\n",
       "      <th>Pclass</th>\n",
       "      <th>Name</th>\n",
       "      <th>Sex</th>\n",
       "      <th>Age</th>\n",
       "      <th>SibSp</th>\n",
       "      <th>Parch</th>\n",
       "      <th>Ticket</th>\n",
       "      <th>Fare</th>\n",
       "      <th>Cabin</th>\n",
       "      <th>Embarked</th>\n",
       "    </tr>\n",
       "  </thead>\n",
       "  <tbody>\n",
       "    <tr>\n",
       "      <th>871</th>\n",
       "      <td>872</td>\n",
       "      <td>1</td>\n",
       "      <td>1</td>\n",
       "      <td>Beckwith, Mrs. Richard Leonard (Sallie Monypeny)</td>\n",
       "      <td>female</td>\n",
       "      <td>47.0</td>\n",
       "      <td>1</td>\n",
       "      <td>1</td>\n",
       "      <td>11751</td>\n",
       "      <td>52.5542</td>\n",
       "      <td>D35</td>\n",
       "      <td>S</td>\n",
       "    </tr>\n",
       "    <tr>\n",
       "      <th>872</th>\n",
       "      <td>873</td>\n",
       "      <td>0</td>\n",
       "      <td>1</td>\n",
       "      <td>Carlsson, Mr. Frans Olof</td>\n",
       "      <td>male</td>\n",
       "      <td>33.0</td>\n",
       "      <td>0</td>\n",
       "      <td>0</td>\n",
       "      <td>695</td>\n",
       "      <td>5.0000</td>\n",
       "      <td>B51 B53 B55</td>\n",
       "      <td>S</td>\n",
       "    </tr>\n",
       "    <tr>\n",
       "      <th>879</th>\n",
       "      <td>880</td>\n",
       "      <td>1</td>\n",
       "      <td>1</td>\n",
       "      <td>Potter, Mrs. Thomas Jr (Lily Alexenia Wilson)</td>\n",
       "      <td>female</td>\n",
       "      <td>56.0</td>\n",
       "      <td>0</td>\n",
       "      <td>1</td>\n",
       "      <td>11767</td>\n",
       "      <td>83.1583</td>\n",
       "      <td>C50</td>\n",
       "      <td>C</td>\n",
       "    </tr>\n",
       "    <tr>\n",
       "      <th>887</th>\n",
       "      <td>888</td>\n",
       "      <td>1</td>\n",
       "      <td>1</td>\n",
       "      <td>Graham, Miss. Margaret Edith</td>\n",
       "      <td>female</td>\n",
       "      <td>19.0</td>\n",
       "      <td>0</td>\n",
       "      <td>0</td>\n",
       "      <td>112053</td>\n",
       "      <td>30.0000</td>\n",
       "      <td>B42</td>\n",
       "      <td>S</td>\n",
       "    </tr>\n",
       "    <tr>\n",
       "      <th>889</th>\n",
       "      <td>890</td>\n",
       "      <td>1</td>\n",
       "      <td>1</td>\n",
       "      <td>Behr, Mr. Karl Howell</td>\n",
       "      <td>male</td>\n",
       "      <td>26.0</td>\n",
       "      <td>0</td>\n",
       "      <td>0</td>\n",
       "      <td>111369</td>\n",
       "      <td>30.0000</td>\n",
       "      <td>C148</td>\n",
       "      <td>C</td>\n",
       "    </tr>\n",
       "  </tbody>\n",
       "</table>\n",
       "</div>"
      ],
      "text/plain": [
       "     PassengerId  Survived  Pclass  \\\n",
       "871          872         1       1   \n",
       "872          873         0       1   \n",
       "879          880         1       1   \n",
       "887          888         1       1   \n",
       "889          890         1       1   \n",
       "\n",
       "                                                 Name     Sex   Age  SibSp  \\\n",
       "871  Beckwith, Mrs. Richard Leonard (Sallie Monypeny)  female  47.0      1   \n",
       "872                          Carlsson, Mr. Frans Olof    male  33.0      0   \n",
       "879     Potter, Mrs. Thomas Jr (Lily Alexenia Wilson)  female  56.0      0   \n",
       "887                      Graham, Miss. Margaret Edith  female  19.0      0   \n",
       "889                             Behr, Mr. Karl Howell    male  26.0      0   \n",
       "\n",
       "     Parch  Ticket     Fare        Cabin Embarked  \n",
       "871      1   11751  52.5542          D35        S  \n",
       "872      0     695   5.0000  B51 B53 B55        S  \n",
       "879      1   11767  83.1583          C50        C  \n",
       "887      0  112053  30.0000          B42        S  \n",
       "889      0  111369  30.0000         C148        C  "
      ]
     },
     "execution_count": 12,
     "metadata": {},
     "output_type": "execute_result"
    }
   ],
   "source": [
    "df.dropna(subset=['Cabin']).tail()"
   ]
  },
  {
   "cell_type": "markdown",
   "metadata": {
    "id": "Rq0sJZ8GQtEy"
   },
   "source": [
    "- `how`: It specifies the condition for dropping rows. It can take the values 'any', which means to drop rows containing any NaN values in the `subset`, or 'all', which means to drop rows containing all NaN values in the `subset`."
   ]
  },
  {
   "cell_type": "code",
   "execution_count": 13,
   "metadata": {
    "colab": {
     "base_uri": "https://localhost:8080/",
     "height": 206
    },
    "executionInfo": {
     "elapsed": 61,
     "status": "ok",
     "timestamp": 1709047578004,
     "user": {
      "displayName": "Ignacio Soteras",
      "userId": "02050793736257155229"
     },
     "user_tz": -60
    },
    "id": "S6T3W08yQtEy",
    "outputId": "5288fa32-0a2a-4bb9-e00c-eb4f9bb6fa9c"
   },
   "outputs": [
    {
     "data": {
      "text/html": [
       "<div>\n",
       "<style scoped>\n",
       "    .dataframe tbody tr th:only-of-type {\n",
       "        vertical-align: middle;\n",
       "    }\n",
       "\n",
       "    .dataframe tbody tr th {\n",
       "        vertical-align: top;\n",
       "    }\n",
       "\n",
       "    .dataframe thead th {\n",
       "        text-align: right;\n",
       "    }\n",
       "</style>\n",
       "<table border=\"1\" class=\"dataframe\">\n",
       "  <thead>\n",
       "    <tr style=\"text-align: right;\">\n",
       "      <th></th>\n",
       "      <th>PassengerId</th>\n",
       "      <th>Survived</th>\n",
       "      <th>Pclass</th>\n",
       "      <th>Name</th>\n",
       "      <th>Sex</th>\n",
       "      <th>Age</th>\n",
       "      <th>SibSp</th>\n",
       "      <th>Parch</th>\n",
       "      <th>Ticket</th>\n",
       "      <th>Fare</th>\n",
       "      <th>Cabin</th>\n",
       "      <th>Embarked</th>\n",
       "    </tr>\n",
       "  </thead>\n",
       "  <tbody>\n",
       "    <tr>\n",
       "      <th>886</th>\n",
       "      <td>887</td>\n",
       "      <td>0</td>\n",
       "      <td>2</td>\n",
       "      <td>Montvila, Rev. Juozas</td>\n",
       "      <td>male</td>\n",
       "      <td>27.0</td>\n",
       "      <td>0</td>\n",
       "      <td>0</td>\n",
       "      <td>211536</td>\n",
       "      <td>13.00</td>\n",
       "      <td>NaN</td>\n",
       "      <td>S</td>\n",
       "    </tr>\n",
       "    <tr>\n",
       "      <th>887</th>\n",
       "      <td>888</td>\n",
       "      <td>1</td>\n",
       "      <td>1</td>\n",
       "      <td>Graham, Miss. Margaret Edith</td>\n",
       "      <td>female</td>\n",
       "      <td>19.0</td>\n",
       "      <td>0</td>\n",
       "      <td>0</td>\n",
       "      <td>112053</td>\n",
       "      <td>30.00</td>\n",
       "      <td>B42</td>\n",
       "      <td>S</td>\n",
       "    </tr>\n",
       "    <tr>\n",
       "      <th>888</th>\n",
       "      <td>889</td>\n",
       "      <td>0</td>\n",
       "      <td>3</td>\n",
       "      <td>Johnston, Miss. Catherine Helen \"Carrie\"</td>\n",
       "      <td>female</td>\n",
       "      <td>NaN</td>\n",
       "      <td>1</td>\n",
       "      <td>2</td>\n",
       "      <td>W./C. 6607</td>\n",
       "      <td>23.45</td>\n",
       "      <td>NaN</td>\n",
       "      <td>S</td>\n",
       "    </tr>\n",
       "    <tr>\n",
       "      <th>889</th>\n",
       "      <td>890</td>\n",
       "      <td>1</td>\n",
       "      <td>1</td>\n",
       "      <td>Behr, Mr. Karl Howell</td>\n",
       "      <td>male</td>\n",
       "      <td>26.0</td>\n",
       "      <td>0</td>\n",
       "      <td>0</td>\n",
       "      <td>111369</td>\n",
       "      <td>30.00</td>\n",
       "      <td>C148</td>\n",
       "      <td>C</td>\n",
       "    </tr>\n",
       "    <tr>\n",
       "      <th>890</th>\n",
       "      <td>891</td>\n",
       "      <td>0</td>\n",
       "      <td>3</td>\n",
       "      <td>Dooley, Mr. Patrick</td>\n",
       "      <td>male</td>\n",
       "      <td>32.0</td>\n",
       "      <td>0</td>\n",
       "      <td>0</td>\n",
       "      <td>370376</td>\n",
       "      <td>7.75</td>\n",
       "      <td>NaN</td>\n",
       "      <td>Q</td>\n",
       "    </tr>\n",
       "  </tbody>\n",
       "</table>\n",
       "</div>"
      ],
      "text/plain": [
       "     PassengerId  Survived  Pclass                                      Name  \\\n",
       "886          887         0       2                     Montvila, Rev. Juozas   \n",
       "887          888         1       1              Graham, Miss. Margaret Edith   \n",
       "888          889         0       3  Johnston, Miss. Catherine Helen \"Carrie\"   \n",
       "889          890         1       1                     Behr, Mr. Karl Howell   \n",
       "890          891         0       3                       Dooley, Mr. Patrick   \n",
       "\n",
       "        Sex   Age  SibSp  Parch      Ticket   Fare Cabin Embarked  \n",
       "886    male  27.0      0      0      211536  13.00   NaN        S  \n",
       "887  female  19.0      0      0      112053  30.00   B42        S  \n",
       "888  female   NaN      1      2  W./C. 6607  23.45   NaN        S  \n",
       "889    male  26.0      0      0      111369  30.00  C148        C  \n",
       "890    male  32.0      0      0      370376   7.75   NaN        Q  "
      ]
     },
     "execution_count": 13,
     "metadata": {},
     "output_type": "execute_result"
    }
   ],
   "source": [
    "df.dropna(how='all').tail()"
   ]
  },
  {
   "cell_type": "markdown",
   "metadata": {
    "id": "EVBjPHDQQtEz"
   },
   "source": [
    "- `thresh`: It sets a minimum threshold for the number of non-null values that a row must have in the `subset` in order to be kept. Rows with fewer non-null values than the specified threshold will be dropped."
   ]
  },
  {
   "cell_type": "code",
   "execution_count": 14,
   "metadata": {
    "colab": {
     "base_uri": "https://localhost:8080/",
     "height": 206
    },
    "executionInfo": {
     "elapsed": 60,
     "status": "ok",
     "timestamp": 1709047578004,
     "user": {
      "displayName": "Ignacio Soteras",
      "userId": "02050793736257155229"
     },
     "user_tz": -60
    },
    "id": "MAPLRDM2QtEz",
    "outputId": "c7dd3c72-0aa8-4f91-e32e-71fd869c7892"
   },
   "outputs": [
    {
     "data": {
      "text/html": [
       "<div>\n",
       "<style scoped>\n",
       "    .dataframe tbody tr th:only-of-type {\n",
       "        vertical-align: middle;\n",
       "    }\n",
       "\n",
       "    .dataframe tbody tr th {\n",
       "        vertical-align: top;\n",
       "    }\n",
       "\n",
       "    .dataframe thead th {\n",
       "        text-align: right;\n",
       "    }\n",
       "</style>\n",
       "<table border=\"1\" class=\"dataframe\">\n",
       "  <thead>\n",
       "    <tr style=\"text-align: right;\">\n",
       "      <th></th>\n",
       "      <th>PassengerId</th>\n",
       "      <th>Survived</th>\n",
       "      <th>Pclass</th>\n",
       "      <th>Name</th>\n",
       "      <th>Sex</th>\n",
       "      <th>Age</th>\n",
       "      <th>SibSp</th>\n",
       "      <th>Parch</th>\n",
       "      <th>Ticket</th>\n",
       "      <th>Fare</th>\n",
       "      <th>Cabin</th>\n",
       "      <th>Embarked</th>\n",
       "    </tr>\n",
       "  </thead>\n",
       "  <tbody>\n",
       "    <tr>\n",
       "      <th>886</th>\n",
       "      <td>887</td>\n",
       "      <td>0</td>\n",
       "      <td>2</td>\n",
       "      <td>Montvila, Rev. Juozas</td>\n",
       "      <td>male</td>\n",
       "      <td>27.0</td>\n",
       "      <td>0</td>\n",
       "      <td>0</td>\n",
       "      <td>211536</td>\n",
       "      <td>13.00</td>\n",
       "      <td>NaN</td>\n",
       "      <td>S</td>\n",
       "    </tr>\n",
       "    <tr>\n",
       "      <th>887</th>\n",
       "      <td>888</td>\n",
       "      <td>1</td>\n",
       "      <td>1</td>\n",
       "      <td>Graham, Miss. Margaret Edith</td>\n",
       "      <td>female</td>\n",
       "      <td>19.0</td>\n",
       "      <td>0</td>\n",
       "      <td>0</td>\n",
       "      <td>112053</td>\n",
       "      <td>30.00</td>\n",
       "      <td>B42</td>\n",
       "      <td>S</td>\n",
       "    </tr>\n",
       "    <tr>\n",
       "      <th>888</th>\n",
       "      <td>889</td>\n",
       "      <td>0</td>\n",
       "      <td>3</td>\n",
       "      <td>Johnston, Miss. Catherine Helen \"Carrie\"</td>\n",
       "      <td>female</td>\n",
       "      <td>NaN</td>\n",
       "      <td>1</td>\n",
       "      <td>2</td>\n",
       "      <td>W./C. 6607</td>\n",
       "      <td>23.45</td>\n",
       "      <td>NaN</td>\n",
       "      <td>S</td>\n",
       "    </tr>\n",
       "    <tr>\n",
       "      <th>889</th>\n",
       "      <td>890</td>\n",
       "      <td>1</td>\n",
       "      <td>1</td>\n",
       "      <td>Behr, Mr. Karl Howell</td>\n",
       "      <td>male</td>\n",
       "      <td>26.0</td>\n",
       "      <td>0</td>\n",
       "      <td>0</td>\n",
       "      <td>111369</td>\n",
       "      <td>30.00</td>\n",
       "      <td>C148</td>\n",
       "      <td>C</td>\n",
       "    </tr>\n",
       "    <tr>\n",
       "      <th>890</th>\n",
       "      <td>891</td>\n",
       "      <td>0</td>\n",
       "      <td>3</td>\n",
       "      <td>Dooley, Mr. Patrick</td>\n",
       "      <td>male</td>\n",
       "      <td>32.0</td>\n",
       "      <td>0</td>\n",
       "      <td>0</td>\n",
       "      <td>370376</td>\n",
       "      <td>7.75</td>\n",
       "      <td>NaN</td>\n",
       "      <td>Q</td>\n",
       "    </tr>\n",
       "  </tbody>\n",
       "</table>\n",
       "</div>"
      ],
      "text/plain": [
       "     PassengerId  Survived  Pclass                                      Name  \\\n",
       "886          887         0       2                     Montvila, Rev. Juozas   \n",
       "887          888         1       1              Graham, Miss. Margaret Edith   \n",
       "888          889         0       3  Johnston, Miss. Catherine Helen \"Carrie\"   \n",
       "889          890         1       1                     Behr, Mr. Karl Howell   \n",
       "890          891         0       3                       Dooley, Mr. Patrick   \n",
       "\n",
       "        Sex   Age  SibSp  Parch      Ticket   Fare Cabin Embarked  \n",
       "886    male  27.0      0      0      211536  13.00   NaN        S  \n",
       "887  female  19.0      0      0      112053  30.00   B42        S  \n",
       "888  female   NaN      1      2  W./C. 6607  23.45   NaN        S  \n",
       "889    male  26.0      0      0      111369  30.00  C148        C  \n",
       "890    male  32.0      0      0      370376   7.75   NaN        Q  "
      ]
     },
     "execution_count": 14,
     "metadata": {},
     "output_type": "execute_result"
    }
   ],
   "source": [
    "df.dropna(thresh=3).tail()"
   ]
  },
  {
   "cell_type": "markdown",
   "metadata": {
    "id": "j0N-dAuwQtEz"
   },
   "source": [
    "### Filling Null Values"
   ]
  },
  {
   "cell_type": "markdown",
   "metadata": {
    "id": "OQnw3UuzQtE0"
   },
   "source": [
    "`fillna()` is a Pandas method used to replace NaN (null) values in a DataFrame or Series with specified values.\n",
    "- You can use `inplace=True` to modify the DataFrame directly."
   ]
  },
  {
   "cell_type": "code",
   "execution_count": 15,
   "metadata": {
    "colab": {
     "base_uri": "https://localhost:8080/",
     "height": 206
    },
    "executionInfo": {
     "elapsed": 59,
     "status": "ok",
     "timestamp": 1709047578004,
     "user": {
      "displayName": "Ignacio Soteras",
      "userId": "02050793736257155229"
     },
     "user_tz": -60
    },
    "id": "TMymw3hJQtE0",
    "outputId": "81e7771f-4641-435c-86d8-fb4a45e1c394"
   },
   "outputs": [
    {
     "data": {
      "text/html": [
       "<div>\n",
       "<style scoped>\n",
       "    .dataframe tbody tr th:only-of-type {\n",
       "        vertical-align: middle;\n",
       "    }\n",
       "\n",
       "    .dataframe tbody tr th {\n",
       "        vertical-align: top;\n",
       "    }\n",
       "\n",
       "    .dataframe thead th {\n",
       "        text-align: right;\n",
       "    }\n",
       "</style>\n",
       "<table border=\"1\" class=\"dataframe\">\n",
       "  <thead>\n",
       "    <tr style=\"text-align: right;\">\n",
       "      <th></th>\n",
       "      <th>PassengerId</th>\n",
       "      <th>Survived</th>\n",
       "      <th>Pclass</th>\n",
       "      <th>Name</th>\n",
       "      <th>Sex</th>\n",
       "      <th>Age</th>\n",
       "      <th>SibSp</th>\n",
       "      <th>Parch</th>\n",
       "      <th>Ticket</th>\n",
       "      <th>Fare</th>\n",
       "      <th>Cabin</th>\n",
       "      <th>Embarked</th>\n",
       "    </tr>\n",
       "  </thead>\n",
       "  <tbody>\n",
       "    <tr>\n",
       "      <th>886</th>\n",
       "      <td>887</td>\n",
       "      <td>0</td>\n",
       "      <td>2</td>\n",
       "      <td>Montvila, Rev. Juozas</td>\n",
       "      <td>male</td>\n",
       "      <td>27.0</td>\n",
       "      <td>0</td>\n",
       "      <td>0</td>\n",
       "      <td>211536</td>\n",
       "      <td>13.00</td>\n",
       "      <td>-1</td>\n",
       "      <td>S</td>\n",
       "    </tr>\n",
       "    <tr>\n",
       "      <th>887</th>\n",
       "      <td>888</td>\n",
       "      <td>1</td>\n",
       "      <td>1</td>\n",
       "      <td>Graham, Miss. Margaret Edith</td>\n",
       "      <td>female</td>\n",
       "      <td>19.0</td>\n",
       "      <td>0</td>\n",
       "      <td>0</td>\n",
       "      <td>112053</td>\n",
       "      <td>30.00</td>\n",
       "      <td>B42</td>\n",
       "      <td>S</td>\n",
       "    </tr>\n",
       "    <tr>\n",
       "      <th>888</th>\n",
       "      <td>889</td>\n",
       "      <td>0</td>\n",
       "      <td>3</td>\n",
       "      <td>Johnston, Miss. Catherine Helen \"Carrie\"</td>\n",
       "      <td>female</td>\n",
       "      <td>-1.0</td>\n",
       "      <td>1</td>\n",
       "      <td>2</td>\n",
       "      <td>W./C. 6607</td>\n",
       "      <td>23.45</td>\n",
       "      <td>-1</td>\n",
       "      <td>S</td>\n",
       "    </tr>\n",
       "    <tr>\n",
       "      <th>889</th>\n",
       "      <td>890</td>\n",
       "      <td>1</td>\n",
       "      <td>1</td>\n",
       "      <td>Behr, Mr. Karl Howell</td>\n",
       "      <td>male</td>\n",
       "      <td>26.0</td>\n",
       "      <td>0</td>\n",
       "      <td>0</td>\n",
       "      <td>111369</td>\n",
       "      <td>30.00</td>\n",
       "      <td>C148</td>\n",
       "      <td>C</td>\n",
       "    </tr>\n",
       "    <tr>\n",
       "      <th>890</th>\n",
       "      <td>891</td>\n",
       "      <td>0</td>\n",
       "      <td>3</td>\n",
       "      <td>Dooley, Mr. Patrick</td>\n",
       "      <td>male</td>\n",
       "      <td>32.0</td>\n",
       "      <td>0</td>\n",
       "      <td>0</td>\n",
       "      <td>370376</td>\n",
       "      <td>7.75</td>\n",
       "      <td>-1</td>\n",
       "      <td>Q</td>\n",
       "    </tr>\n",
       "  </tbody>\n",
       "</table>\n",
       "</div>"
      ],
      "text/plain": [
       "     PassengerId  Survived  Pclass                                      Name  \\\n",
       "886          887         0       2                     Montvila, Rev. Juozas   \n",
       "887          888         1       1              Graham, Miss. Margaret Edith   \n",
       "888          889         0       3  Johnston, Miss. Catherine Helen \"Carrie\"   \n",
       "889          890         1       1                     Behr, Mr. Karl Howell   \n",
       "890          891         0       3                       Dooley, Mr. Patrick   \n",
       "\n",
       "        Sex   Age  SibSp  Parch      Ticket   Fare Cabin Embarked  \n",
       "886    male  27.0      0      0      211536  13.00    -1        S  \n",
       "887  female  19.0      0      0      112053  30.00   B42        S  \n",
       "888  female  -1.0      1      2  W./C. 6607  23.45    -1        S  \n",
       "889    male  26.0      0      0      111369  30.00  C148        C  \n",
       "890    male  32.0      0      0      370376   7.75    -1        Q  "
      ]
     },
     "execution_count": 15,
     "metadata": {},
     "output_type": "execute_result"
    }
   ],
   "source": [
    "# Filling Null Values\n",
    "df.fillna(-1).tail()  # Replaces null values with -1"
   ]
  },
  {
   "cell_type": "markdown",
   "metadata": {
    "id": "mXWly2CEQtE0"
   },
   "source": [
    "Careful if we assign a different data type, since Pandas will change the data type of the whole column. For example:"
   ]
  },
  {
   "cell_type": "code",
   "execution_count": 16,
   "metadata": {
    "colab": {
     "base_uri": "https://localhost:8080/"
    },
    "executionInfo": {
     "elapsed": 58,
     "status": "ok",
     "timestamp": 1709047578004,
     "user": {
      "displayName": "Ignacio Soteras",
      "userId": "02050793736257155229"
     },
     "user_tz": -60
    },
    "id": "VqS92S7eQtE1",
    "outputId": "e72647db-d2e4-4916-97d3-a648d21cede9"
   },
   "outputs": [
    {
     "data": {
      "text/plain": [
       "PassengerId      int64\n",
       "Survived         int64\n",
       "Pclass           int64\n",
       "Name            object\n",
       "Sex             object\n",
       "Age            float64\n",
       "SibSp            int64\n",
       "Parch            int64\n",
       "Ticket          object\n",
       "Fare           float64\n",
       "Cabin           object\n",
       "Embarked        object\n",
       "dtype: object"
      ]
     },
     "execution_count": 16,
     "metadata": {},
     "output_type": "execute_result"
    }
   ],
   "source": [
    "df.dtypes # age is a float"
   ]
  },
  {
   "cell_type": "code",
   "execution_count": 17,
   "metadata": {
    "colab": {
     "base_uri": "https://localhost:8080/",
     "height": 206
    },
    "executionInfo": {
     "elapsed": 55,
     "status": "ok",
     "timestamp": 1709047578004,
     "user": {
      "displayName": "Ignacio Soteras",
      "userId": "02050793736257155229"
     },
     "user_tz": -60
    },
    "id": "-jAByrPiQtE1",
    "outputId": "0da7cfca-7280-4481-c79b-83cdcfbfa3bc"
   },
   "outputs": [
    {
     "data": {
      "text/html": [
       "<div>\n",
       "<style scoped>\n",
       "    .dataframe tbody tr th:only-of-type {\n",
       "        vertical-align: middle;\n",
       "    }\n",
       "\n",
       "    .dataframe tbody tr th {\n",
       "        vertical-align: top;\n",
       "    }\n",
       "\n",
       "    .dataframe thead th {\n",
       "        text-align: right;\n",
       "    }\n",
       "</style>\n",
       "<table border=\"1\" class=\"dataframe\">\n",
       "  <thead>\n",
       "    <tr style=\"text-align: right;\">\n",
       "      <th></th>\n",
       "      <th>PassengerId</th>\n",
       "      <th>Survived</th>\n",
       "      <th>Pclass</th>\n",
       "      <th>Name</th>\n",
       "      <th>Sex</th>\n",
       "      <th>Age</th>\n",
       "      <th>SibSp</th>\n",
       "      <th>Parch</th>\n",
       "      <th>Ticket</th>\n",
       "      <th>Fare</th>\n",
       "      <th>Cabin</th>\n",
       "      <th>Embarked</th>\n",
       "    </tr>\n",
       "  </thead>\n",
       "  <tbody>\n",
       "    <tr>\n",
       "      <th>886</th>\n",
       "      <td>887</td>\n",
       "      <td>0</td>\n",
       "      <td>2</td>\n",
       "      <td>Montvila, Rev. Juozas</td>\n",
       "      <td>male</td>\n",
       "      <td>27.0</td>\n",
       "      <td>0</td>\n",
       "      <td>0</td>\n",
       "      <td>211536</td>\n",
       "      <td>13.00</td>\n",
       "      <td>na</td>\n",
       "      <td>S</td>\n",
       "    </tr>\n",
       "    <tr>\n",
       "      <th>887</th>\n",
       "      <td>888</td>\n",
       "      <td>1</td>\n",
       "      <td>1</td>\n",
       "      <td>Graham, Miss. Margaret Edith</td>\n",
       "      <td>female</td>\n",
       "      <td>19.0</td>\n",
       "      <td>0</td>\n",
       "      <td>0</td>\n",
       "      <td>112053</td>\n",
       "      <td>30.00</td>\n",
       "      <td>B42</td>\n",
       "      <td>S</td>\n",
       "    </tr>\n",
       "    <tr>\n",
       "      <th>888</th>\n",
       "      <td>889</td>\n",
       "      <td>0</td>\n",
       "      <td>3</td>\n",
       "      <td>Johnston, Miss. Catherine Helen \"Carrie\"</td>\n",
       "      <td>female</td>\n",
       "      <td>na</td>\n",
       "      <td>1</td>\n",
       "      <td>2</td>\n",
       "      <td>W./C. 6607</td>\n",
       "      <td>23.45</td>\n",
       "      <td>na</td>\n",
       "      <td>S</td>\n",
       "    </tr>\n",
       "    <tr>\n",
       "      <th>889</th>\n",
       "      <td>890</td>\n",
       "      <td>1</td>\n",
       "      <td>1</td>\n",
       "      <td>Behr, Mr. Karl Howell</td>\n",
       "      <td>male</td>\n",
       "      <td>26.0</td>\n",
       "      <td>0</td>\n",
       "      <td>0</td>\n",
       "      <td>111369</td>\n",
       "      <td>30.00</td>\n",
       "      <td>C148</td>\n",
       "      <td>C</td>\n",
       "    </tr>\n",
       "    <tr>\n",
       "      <th>890</th>\n",
       "      <td>891</td>\n",
       "      <td>0</td>\n",
       "      <td>3</td>\n",
       "      <td>Dooley, Mr. Patrick</td>\n",
       "      <td>male</td>\n",
       "      <td>32.0</td>\n",
       "      <td>0</td>\n",
       "      <td>0</td>\n",
       "      <td>370376</td>\n",
       "      <td>7.75</td>\n",
       "      <td>na</td>\n",
       "      <td>Q</td>\n",
       "    </tr>\n",
       "  </tbody>\n",
       "</table>\n",
       "</div>"
      ],
      "text/plain": [
       "     PassengerId  Survived  Pclass                                      Name  \\\n",
       "886          887         0       2                     Montvila, Rev. Juozas   \n",
       "887          888         1       1              Graham, Miss. Margaret Edith   \n",
       "888          889         0       3  Johnston, Miss. Catherine Helen \"Carrie\"   \n",
       "889          890         1       1                     Behr, Mr. Karl Howell   \n",
       "890          891         0       3                       Dooley, Mr. Patrick   \n",
       "\n",
       "        Sex   Age  SibSp  Parch      Ticket   Fare Cabin Embarked  \n",
       "886    male  27.0      0      0      211536  13.00    na        S  \n",
       "887  female  19.0      0      0      112053  30.00   B42        S  \n",
       "888  female    na      1      2  W./C. 6607  23.45    na        S  \n",
       "889    male  26.0      0      0      111369  30.00  C148        C  \n",
       "890    male  32.0      0      0      370376   7.75    na        Q  "
      ]
     },
     "execution_count": 17,
     "metadata": {},
     "output_type": "execute_result"
    }
   ],
   "source": [
    "df_na = df.fillna(\"na\")\n",
    "df_na.tail()"
   ]
  },
  {
   "cell_type": "code",
   "execution_count": 18,
   "metadata": {
    "colab": {
     "base_uri": "https://localhost:8080/"
    },
    "executionInfo": {
     "elapsed": 55,
     "status": "ok",
     "timestamp": 1709047578005,
     "user": {
      "displayName": "Ignacio Soteras",
      "userId": "02050793736257155229"
     },
     "user_tz": -60
    },
    "id": "VkT-E-r3QtE1",
    "outputId": "9505d4c5-c254-46b4-ef19-956c83f71ccf"
   },
   "outputs": [
    {
     "data": {
      "text/plain": [
       "PassengerId      int64\n",
       "Survived         int64\n",
       "Pclass           int64\n",
       "Name            object\n",
       "Sex             object\n",
       "Age             object\n",
       "SibSp            int64\n",
       "Parch            int64\n",
       "Ticket          object\n",
       "Fare           float64\n",
       "Cabin           object\n",
       "Embarked        object\n",
       "dtype: object"
      ]
     },
     "execution_count": 18,
     "metadata": {},
     "output_type": "execute_result"
    }
   ],
   "source": [
    "df_na.dtypes # age is not a float anymore, it's an object now"
   ]
  },
  {
   "cell_type": "markdown",
   "metadata": {
    "id": "rJBz9ppkQtE2"
   },
   "source": [
    "To avoid this, we can select manually in which column to apply the `fillna()`"
   ]
  },
  {
   "cell_type": "code",
   "execution_count": 19,
   "metadata": {
    "colab": {
     "base_uri": "https://localhost:8080/"
    },
    "executionInfo": {
     "elapsed": 51,
     "status": "ok",
     "timestamp": 1709047578005,
     "user": {
      "displayName": "Ignacio Soteras",
      "userId": "02050793736257155229"
     },
     "user_tz": -60
    },
    "id": "0Uk4bfYOQtE2",
    "outputId": "85bbde37-0aa7-44d3-c1ba-42afd5ca28db"
   },
   "outputs": [
    {
     "data": {
      "text/plain": [
       "886      na\n",
       "887     B42\n",
       "888      na\n",
       "889    C148\n",
       "890      na\n",
       "Name: Cabin, dtype: object"
      ]
     },
     "execution_count": 19,
     "metadata": {},
     "output_type": "execute_result"
    }
   ],
   "source": [
    "df.Cabin.fillna(\"na\").tail()"
   ]
  },
  {
   "cell_type": "markdown",
   "metadata": {
    "id": "JBbuGN-qQtE2"
   },
   "source": [
    "We can also use the mean(), median() etc. to fill the null values."
   ]
  },
  {
   "cell_type": "code",
   "execution_count": 20,
   "metadata": {
    "colab": {
     "base_uri": "https://localhost:8080/",
     "height": 206
    },
    "executionInfo": {
     "elapsed": 49,
     "status": "ok",
     "timestamp": 1709047578005,
     "user": {
      "displayName": "Ignacio Soteras",
      "userId": "02050793736257155229"
     },
     "user_tz": -60
    },
    "id": "0nAYBD2mQtE2",
    "outputId": "415c8676-4fe7-441e-dd48-ece47577157e"
   },
   "outputs": [
    {
     "data": {
      "text/html": [
       "<div>\n",
       "<style scoped>\n",
       "    .dataframe tbody tr th:only-of-type {\n",
       "        vertical-align: middle;\n",
       "    }\n",
       "\n",
       "    .dataframe tbody tr th {\n",
       "        vertical-align: top;\n",
       "    }\n",
       "\n",
       "    .dataframe thead th {\n",
       "        text-align: right;\n",
       "    }\n",
       "</style>\n",
       "<table border=\"1\" class=\"dataframe\">\n",
       "  <thead>\n",
       "    <tr style=\"text-align: right;\">\n",
       "      <th></th>\n",
       "      <th>PassengerId</th>\n",
       "      <th>Survived</th>\n",
       "      <th>Pclass</th>\n",
       "      <th>Name</th>\n",
       "      <th>Sex</th>\n",
       "      <th>Age</th>\n",
       "      <th>SibSp</th>\n",
       "      <th>Parch</th>\n",
       "      <th>Ticket</th>\n",
       "      <th>Fare</th>\n",
       "      <th>Cabin</th>\n",
       "      <th>Embarked</th>\n",
       "    </tr>\n",
       "  </thead>\n",
       "  <tbody>\n",
       "    <tr>\n",
       "      <th>886</th>\n",
       "      <td>887</td>\n",
       "      <td>0</td>\n",
       "      <td>2</td>\n",
       "      <td>Montvila, Rev. Juozas</td>\n",
       "      <td>male</td>\n",
       "      <td>27.0</td>\n",
       "      <td>0</td>\n",
       "      <td>0</td>\n",
       "      <td>211536</td>\n",
       "      <td>13.00</td>\n",
       "      <td>NaN</td>\n",
       "      <td>S</td>\n",
       "    </tr>\n",
       "    <tr>\n",
       "      <th>887</th>\n",
       "      <td>888</td>\n",
       "      <td>1</td>\n",
       "      <td>1</td>\n",
       "      <td>Graham, Miss. Margaret Edith</td>\n",
       "      <td>female</td>\n",
       "      <td>19.0</td>\n",
       "      <td>0</td>\n",
       "      <td>0</td>\n",
       "      <td>112053</td>\n",
       "      <td>30.00</td>\n",
       "      <td>B42</td>\n",
       "      <td>S</td>\n",
       "    </tr>\n",
       "    <tr>\n",
       "      <th>888</th>\n",
       "      <td>889</td>\n",
       "      <td>0</td>\n",
       "      <td>3</td>\n",
       "      <td>Johnston, Miss. Catherine Helen \"Carrie\"</td>\n",
       "      <td>female</td>\n",
       "      <td>NaN</td>\n",
       "      <td>1</td>\n",
       "      <td>2</td>\n",
       "      <td>W./C. 6607</td>\n",
       "      <td>23.45</td>\n",
       "      <td>NaN</td>\n",
       "      <td>S</td>\n",
       "    </tr>\n",
       "    <tr>\n",
       "      <th>889</th>\n",
       "      <td>890</td>\n",
       "      <td>1</td>\n",
       "      <td>1</td>\n",
       "      <td>Behr, Mr. Karl Howell</td>\n",
       "      <td>male</td>\n",
       "      <td>26.0</td>\n",
       "      <td>0</td>\n",
       "      <td>0</td>\n",
       "      <td>111369</td>\n",
       "      <td>30.00</td>\n",
       "      <td>C148</td>\n",
       "      <td>C</td>\n",
       "    </tr>\n",
       "    <tr>\n",
       "      <th>890</th>\n",
       "      <td>891</td>\n",
       "      <td>0</td>\n",
       "      <td>3</td>\n",
       "      <td>Dooley, Mr. Patrick</td>\n",
       "      <td>male</td>\n",
       "      <td>32.0</td>\n",
       "      <td>0</td>\n",
       "      <td>0</td>\n",
       "      <td>370376</td>\n",
       "      <td>7.75</td>\n",
       "      <td>NaN</td>\n",
       "      <td>Q</td>\n",
       "    </tr>\n",
       "  </tbody>\n",
       "</table>\n",
       "</div>"
      ],
      "text/plain": [
       "     PassengerId  Survived  Pclass                                      Name  \\\n",
       "886          887         0       2                     Montvila, Rev. Juozas   \n",
       "887          888         1       1              Graham, Miss. Margaret Edith   \n",
       "888          889         0       3  Johnston, Miss. Catherine Helen \"Carrie\"   \n",
       "889          890         1       1                     Behr, Mr. Karl Howell   \n",
       "890          891         0       3                       Dooley, Mr. Patrick   \n",
       "\n",
       "        Sex   Age  SibSp  Parch      Ticket   Fare Cabin Embarked  \n",
       "886    male  27.0      0      0      211536  13.00   NaN        S  \n",
       "887  female  19.0      0      0      112053  30.00   B42        S  \n",
       "888  female   NaN      1      2  W./C. 6607  23.45   NaN        S  \n",
       "889    male  26.0      0      0      111369  30.00  C148        C  \n",
       "890    male  32.0      0      0      370376   7.75   NaN        Q  "
      ]
     },
     "execution_count": 20,
     "metadata": {},
     "output_type": "execute_result"
    }
   ],
   "source": [
    "df.tail() # lets see where we have a NaN in Age in the last rows"
   ]
  },
  {
   "cell_type": "code",
   "execution_count": 21,
   "metadata": {
    "colab": {
     "base_uri": "https://localhost:8080/"
    },
    "executionInfo": {
     "elapsed": 47,
     "status": "ok",
     "timestamp": 1709047578005,
     "user": {
      "displayName": "Ignacio Soteras",
      "userId": "02050793736257155229"
     },
     "user_tz": -60
    },
    "id": "x9-5qhk4QtE2",
    "outputId": "1eeab781-9f1c-43da-d155-edbce1991e72"
   },
   "outputs": [
    {
     "data": {
      "text/plain": [
       "886    27.000000\n",
       "887    19.000000\n",
       "888    29.699118\n",
       "889    26.000000\n",
       "890    32.000000\n",
       "Name: Age, dtype: float64"
      ]
     },
     "execution_count": 21,
     "metadata": {},
     "output_type": "execute_result"
    }
   ],
   "source": [
    "df.Age.fillna(df.Age.mean()).tail() #after filling with the mean, lets see how it would look"
   ]
  },
  {
   "cell_type": "markdown",
   "metadata": {
    "id": "B2d7rAwLQtE2"
   },
   "source": [
    "- Two common methods for filling NaN values are `ffill`, which forward fills using the last valid value, and `bfill`, which backward fills using the next valid value."
   ]
  },
  {
   "cell_type": "code",
   "execution_count": 22,
   "metadata": {
    "colab": {
     "base_uri": "https://localhost:8080/"
    },
    "executionInfo": {
     "elapsed": 507,
     "status": "ok",
     "timestamp": 1709047578468,
     "user": {
      "displayName": "Ignacio Soteras",
      "userId": "02050793736257155229"
     },
     "user_tz": -60
    },
    "id": "BhDJIejjQtE3",
    "outputId": "327ca5b4-01f9-4d07-9a83-e7c2dbd90845"
   },
   "outputs": [
    {
     "name": "stderr",
     "output_type": "stream",
     "text": [
      "/var/folders/h0/_mcwfc4x16ddx_v9ng5p106r0000gn/T/ipykernel_68651/1532630142.py:2: FutureWarning: Series.fillna with 'method' is deprecated and will raise in a future version. Use obj.ffill() or obj.bfill() instead.\n",
      "  df['Age'].fillna(method='ffill').tail()\n"
     ]
    },
    {
     "data": {
      "text/plain": [
       "886    27.0\n",
       "887    19.0\n",
       "888    19.0\n",
       "889    26.0\n",
       "890    32.0\n",
       "Name: Age, dtype: float64"
      ]
     },
     "execution_count": 22,
     "metadata": {},
     "output_type": "execute_result"
    }
   ],
   "source": [
    "# Forward-fill null values in the Age column\n",
    "df['Age'].fillna(method='ffill').tail()"
   ]
  },
  {
   "cell_type": "code",
   "execution_count": 23,
   "metadata": {
    "colab": {
     "base_uri": "https://localhost:8080/"
    },
    "executionInfo": {
     "elapsed": 62,
     "status": "ok",
     "timestamp": 1709047578469,
     "user": {
      "displayName": "Ignacio Soteras",
      "userId": "02050793736257155229"
     },
     "user_tz": -60
    },
    "id": "Dm5ihCb-QtE3",
    "outputId": "3279c943-7f11-460d-e202-e38566cf6804"
   },
   "outputs": [
    {
     "name": "stderr",
     "output_type": "stream",
     "text": [
      "/var/folders/h0/_mcwfc4x16ddx_v9ng5p106r0000gn/T/ipykernel_68651/366686972.py:2: FutureWarning: Series.fillna with 'method' is deprecated and will raise in a future version. Use obj.ffill() or obj.bfill() instead.\n",
      "  df['Age'].fillna(method='bfill').tail()\n"
     ]
    },
    {
     "data": {
      "text/plain": [
       "886    27.0\n",
       "887    19.0\n",
       "888    26.0\n",
       "889    26.0\n",
       "890    32.0\n",
       "Name: Age, dtype: float64"
      ]
     },
     "execution_count": 23,
     "metadata": {},
     "output_type": "execute_result"
    }
   ],
   "source": [
    "# Backward-fill null values in the Age column\n",
    "df['Age'].fillna(method='bfill').tail()"
   ]
  },
  {
   "cell_type": "markdown",
   "metadata": {
    "id": "R6In8-HcQtE3"
   },
   "source": [
    "### 💡 Check for understanding"
   ]
  },
  {
   "cell_type": "markdown",
   "metadata": {
    "id": "HKzS4iNfQtE3"
   },
   "source": [
    "Consider the following DataFrame containing information about students:\n",
    "\n",
    "```python\n",
    "import pandas as pd\n",
    "\n",
    "data = {\n",
    "    'Name': ['Alice', 'Bob', 'Cathy', None, 'Eva'],\n",
    "    'Age': [25, 30, None, 22, 28],\n",
    "    'Gender': ['Female', None, 'Female', 'Male', None],\n",
    "    'Score': [90, None, 78, None, 85]\n",
    "}\n",
    "\n",
    "df_students = pd.DataFrame(data)\n",
    "```\n",
    "\n",
    "Your task is to perform the following data cleaning tasks:\n",
    "\n",
    "1. Check for null values in the DataFrame using `isna()` or `isnull()`.\n",
    "\n",
    "2. Replace the null values in the 'Age' column with the average age of the students.\n",
    "\n",
    "3. Replace the null values in the 'Gender' column with \"Female\".\n",
    "\n",
    "4. Drop any rows that have null values in the 'Name' column.\n",
    "\n",
    "5. Forward fill (ffill) the null values in the 'Score' column with the previous valid value.\n",
    "\n",
    "6. After performing all the cleaning steps, print the cleaned DataFrame.\n"
   ]
  },
  {
   "cell_type": "code",
   "execution_count": 24,
   "metadata": {
    "executionInfo": {
     "elapsed": 59,
     "status": "ok",
     "timestamp": 1709047578469,
     "user": {
      "displayName": "Ignacio Soteras",
      "userId": "02050793736257155229"
     },
     "user_tz": -60
    },
    "id": "vOSbNi5GQtE5"
   },
   "outputs": [
    {
     "data": {
      "text/html": [
       "<div>\n",
       "<style scoped>\n",
       "    .dataframe tbody tr th:only-of-type {\n",
       "        vertical-align: middle;\n",
       "    }\n",
       "\n",
       "    .dataframe tbody tr th {\n",
       "        vertical-align: top;\n",
       "    }\n",
       "\n",
       "    .dataframe thead th {\n",
       "        text-align: right;\n",
       "    }\n",
       "</style>\n",
       "<table border=\"1\" class=\"dataframe\">\n",
       "  <thead>\n",
       "    <tr style=\"text-align: right;\">\n",
       "      <th></th>\n",
       "      <th>Name</th>\n",
       "      <th>Age</th>\n",
       "      <th>Gender</th>\n",
       "      <th>Score</th>\n",
       "    </tr>\n",
       "  </thead>\n",
       "  <tbody>\n",
       "    <tr>\n",
       "      <th>0</th>\n",
       "      <td>Alice</td>\n",
       "      <td>25.0</td>\n",
       "      <td>Female</td>\n",
       "      <td>90.0</td>\n",
       "    </tr>\n",
       "    <tr>\n",
       "      <th>1</th>\n",
       "      <td>Bob</td>\n",
       "      <td>30.0</td>\n",
       "      <td>None</td>\n",
       "      <td>NaN</td>\n",
       "    </tr>\n",
       "    <tr>\n",
       "      <th>2</th>\n",
       "      <td>Cathy</td>\n",
       "      <td>NaN</td>\n",
       "      <td>Female</td>\n",
       "      <td>78.0</td>\n",
       "    </tr>\n",
       "    <tr>\n",
       "      <th>3</th>\n",
       "      <td>None</td>\n",
       "      <td>22.0</td>\n",
       "      <td>Male</td>\n",
       "      <td>NaN</td>\n",
       "    </tr>\n",
       "    <tr>\n",
       "      <th>4</th>\n",
       "      <td>Eva</td>\n",
       "      <td>28.0</td>\n",
       "      <td>None</td>\n",
       "      <td>85.0</td>\n",
       "    </tr>\n",
       "  </tbody>\n",
       "</table>\n",
       "</div>"
      ],
      "text/plain": [
       "    Name   Age  Gender  Score\n",
       "0  Alice  25.0  Female   90.0\n",
       "1    Bob  30.0    None    NaN\n",
       "2  Cathy   NaN  Female   78.0\n",
       "3   None  22.0    Male    NaN\n",
       "4    Eva  28.0    None   85.0"
      ]
     },
     "execution_count": 24,
     "metadata": {},
     "output_type": "execute_result"
    }
   ],
   "source": [
    "# Your code goes here\n",
    "\n",
    "data = {\n",
    "    'Name': ['Alice', 'Bob', 'Cathy', None, 'Eva'],\n",
    "    'Age': [25, 30, None, 22, 28],\n",
    "    'Gender': ['Female', None, 'Female', 'Male', None],\n",
    "    'Score': [90, None, 78, None, 85]\n",
    "}\n",
    "\n",
    "df_students = pd.DataFrame(data)\n",
    "df_students"
   ]
  },
  {
   "cell_type": "code",
   "execution_count": 25,
   "metadata": {
    "colab": {
     "base_uri": "https://localhost:8080/"
    },
    "executionInfo": {
     "elapsed": 59,
     "status": "ok",
     "timestamp": 1709047578469,
     "user": {
      "displayName": "Ignacio Soteras",
      "userId": "02050793736257155229"
     },
     "user_tz": -60
    },
    "id": "Hf7swyw6Dw1q",
    "outputId": "ce77895d-00e2-48b5-ae3c-2734f5dbb694"
   },
   "outputs": [
    {
     "data": {
      "text/plain": [
       "Name      1\n",
       "Age       1\n",
       "Gender    2\n",
       "Score     2\n",
       "dtype: int64"
      ]
     },
     "execution_count": 25,
     "metadata": {},
     "output_type": "execute_result"
    }
   ],
   "source": [
    "# 1.\n",
    "df_students.isna().sum()"
   ]
  },
  {
   "cell_type": "code",
   "execution_count": 26,
   "metadata": {
    "executionInfo": {
     "elapsed": 57,
     "status": "ok",
     "timestamp": 1709047578469,
     "user": {
      "displayName": "Ignacio Soteras",
      "userId": "02050793736257155229"
     },
     "user_tz": -60
    },
    "id": "KPNWENDlD6jL"
   },
   "outputs": [],
   "source": [
    "# 2.\n",
    "df_students['Age'] = df_students['Age'].fillna(df_students['Age'].mean())"
   ]
  },
  {
   "cell_type": "code",
   "execution_count": 27,
   "metadata": {
    "executionInfo": {
     "elapsed": 56,
     "status": "ok",
     "timestamp": 1709047578469,
     "user": {
      "displayName": "Ignacio Soteras",
      "userId": "02050793736257155229"
     },
     "user_tz": -60
    },
    "id": "DighiZaVEKuY"
   },
   "outputs": [],
   "source": [
    "# 3.\n",
    "df_students['Gender'] = df_students['Gender'].fillna(\"Female\")"
   ]
  },
  {
   "cell_type": "code",
   "execution_count": 28,
   "metadata": {
    "executionInfo": {
     "elapsed": 55,
     "status": "ok",
     "timestamp": 1709047578469,
     "user": {
      "displayName": "Ignacio Soteras",
      "userId": "02050793736257155229"
     },
     "user_tz": -60
    },
    "id": "D8cfFGMRETrQ"
   },
   "outputs": [],
   "source": [
    "# 4.\n",
    "df_students = df_students.dropna(subset=\"Name\")"
   ]
  },
  {
   "cell_type": "code",
   "execution_count": 29,
   "metadata": {
    "executionInfo": {
     "elapsed": 54,
     "status": "ok",
     "timestamp": 1709047578469,
     "user": {
      "displayName": "Ignacio Soteras",
      "userId": "02050793736257155229"
     },
     "user_tz": -60
    },
    "id": "0daVR2wUEchF"
   },
   "outputs": [
    {
     "name": "stderr",
     "output_type": "stream",
     "text": [
      "/var/folders/h0/_mcwfc4x16ddx_v9ng5p106r0000gn/T/ipykernel_68651/2258443267.py:2: FutureWarning: Series.fillna with 'method' is deprecated and will raise in a future version. Use obj.ffill() or obj.bfill() instead.\n",
      "  df_students['Score'] = df_students['Score'].fillna(method='ffill')\n",
      "/var/folders/h0/_mcwfc4x16ddx_v9ng5p106r0000gn/T/ipykernel_68651/2258443267.py:2: SettingWithCopyWarning: \n",
      "A value is trying to be set on a copy of a slice from a DataFrame.\n",
      "Try using .loc[row_indexer,col_indexer] = value instead\n",
      "\n",
      "See the caveats in the documentation: https://pandas.pydata.org/pandas-docs/stable/user_guide/indexing.html#returning-a-view-versus-a-copy\n",
      "  df_students['Score'] = df_students['Score'].fillna(method='ffill')\n"
     ]
    }
   ],
   "source": [
    "# 5.\n",
    "df_students['Score'] = df_students['Score'].fillna(method='ffill')"
   ]
  },
  {
   "cell_type": "code",
   "execution_count": 30,
   "metadata": {
    "colab": {
     "base_uri": "https://localhost:8080/",
     "height": 175
    },
    "executionInfo": {
     "elapsed": 54,
     "status": "ok",
     "timestamp": 1709047578469,
     "user": {
      "displayName": "Ignacio Soteras",
      "userId": "02050793736257155229"
     },
     "user_tz": -60
    },
    "id": "LIELFCYhErQu",
    "outputId": "3e419ed0-c900-449e-e142-fd2831cf97ad"
   },
   "outputs": [
    {
     "data": {
      "text/html": [
       "<div>\n",
       "<style scoped>\n",
       "    .dataframe tbody tr th:only-of-type {\n",
       "        vertical-align: middle;\n",
       "    }\n",
       "\n",
       "    .dataframe tbody tr th {\n",
       "        vertical-align: top;\n",
       "    }\n",
       "\n",
       "    .dataframe thead th {\n",
       "        text-align: right;\n",
       "    }\n",
       "</style>\n",
       "<table border=\"1\" class=\"dataframe\">\n",
       "  <thead>\n",
       "    <tr style=\"text-align: right;\">\n",
       "      <th></th>\n",
       "      <th>Name</th>\n",
       "      <th>Age</th>\n",
       "      <th>Gender</th>\n",
       "      <th>Score</th>\n",
       "    </tr>\n",
       "  </thead>\n",
       "  <tbody>\n",
       "    <tr>\n",
       "      <th>0</th>\n",
       "      <td>Alice</td>\n",
       "      <td>25.00</td>\n",
       "      <td>Female</td>\n",
       "      <td>90.0</td>\n",
       "    </tr>\n",
       "    <tr>\n",
       "      <th>1</th>\n",
       "      <td>Bob</td>\n",
       "      <td>30.00</td>\n",
       "      <td>Female</td>\n",
       "      <td>90.0</td>\n",
       "    </tr>\n",
       "    <tr>\n",
       "      <th>2</th>\n",
       "      <td>Cathy</td>\n",
       "      <td>26.25</td>\n",
       "      <td>Female</td>\n",
       "      <td>78.0</td>\n",
       "    </tr>\n",
       "    <tr>\n",
       "      <th>4</th>\n",
       "      <td>Eva</td>\n",
       "      <td>28.00</td>\n",
       "      <td>Female</td>\n",
       "      <td>85.0</td>\n",
       "    </tr>\n",
       "  </tbody>\n",
       "</table>\n",
       "</div>"
      ],
      "text/plain": [
       "    Name    Age  Gender  Score\n",
       "0  Alice  25.00  Female   90.0\n",
       "1    Bob  30.00  Female   90.0\n",
       "2  Cathy  26.25  Female   78.0\n",
       "4    Eva  28.00  Female   85.0"
      ]
     },
     "metadata": {},
     "output_type": "display_data"
    }
   ],
   "source": [
    "# 6.\n",
    "display(df_students)"
   ]
  },
  {
   "cell_type": "markdown",
   "metadata": {
    "id": "qXQP1DgXQtE5"
   },
   "source": [
    "## Dealing with Duplicates"
   ]
  },
  {
   "cell_type": "markdown",
   "metadata": {
    "id": "Pt2tVjt2QtE5"
   },
   "source": [
    "In data analysis, it's common to encounter duplicate values in datasets. Duplicates can distort our analysis and lead to incorrect conclusions. Fortunately, pandas provides efficient methods to handle duplicates.\n"
   ]
  },
  {
   "cell_type": "markdown",
   "metadata": {
    "id": "UkIb0yJgQtE5"
   },
   "source": [
    "### Identifying Duplicates\n",
    "\n",
    "To identify duplicate rows in a DataFrame, we can use the `duplicated()` method, which returns a boolean Series indicating whether each row is a duplicate or not. We can then use the `sum()` method to count the total number of duplicates.\n"
   ]
  },
  {
   "cell_type": "code",
   "execution_count": 31,
   "metadata": {
    "colab": {
     "base_uri": "https://localhost:8080/"
    },
    "executionInfo": {
     "elapsed": 54,
     "status": "ok",
     "timestamp": 1709047578470,
     "user": {
      "displayName": "Ignacio Soteras",
      "userId": "02050793736257155229"
     },
     "user_tz": -60
    },
    "id": "YLaGqlLUQtE6",
    "outputId": "d69f9a4b-6c4b-4308-e0f0-20792bdd0aae"
   },
   "outputs": [
    {
     "data": {
      "text/plain": [
       "0"
      ]
     },
     "execution_count": 31,
     "metadata": {},
     "output_type": "execute_result"
    }
   ],
   "source": [
    "df.duplicated().sum()"
   ]
  },
  {
   "cell_type": "code",
   "execution_count": 32,
   "metadata": {
    "colab": {
     "base_uri": "https://localhost:8080/"
    },
    "executionInfo": {
     "elapsed": 49,
     "status": "ok",
     "timestamp": 1709047578470,
     "user": {
      "displayName": "Ignacio Soteras",
      "userId": "02050793736257155229"
     },
     "user_tz": -60
    },
    "id": "AX9Wxf5hQtE6",
    "outputId": "4f653af6-9693-4c26-9477-eac4a75f6dc6"
   },
   "outputs": [
    {
     "data": {
      "text/plain": [
       "False"
      ]
     },
     "execution_count": 32,
     "metadata": {},
     "output_type": "execute_result"
    }
   ],
   "source": [
    "df.duplicated().any()"
   ]
  },
  {
   "cell_type": "markdown",
   "metadata": {
    "id": "O5Z7XpMOQtE7"
   },
   "source": [
    "To check for duplicates in specific columns, we can use the `duplicated()` method with the `subset` parameter, or just access first to the column and then check with duplicated().\n"
   ]
  },
  {
   "cell_type": "code",
   "execution_count": 33,
   "metadata": {
    "colab": {
     "base_uri": "https://localhost:8080/"
    },
    "executionInfo": {
     "elapsed": 46,
     "status": "ok",
     "timestamp": 1709047578470,
     "user": {
      "displayName": "Ignacio Soteras",
      "userId": "02050793736257155229"
     },
     "user_tz": -60
    },
    "id": "O8U2TAOxQtE7",
    "outputId": "b3e4d563-e2a0-4f96-ad1c-389fc3d646d3"
   },
   "outputs": [
    {
     "data": {
      "text/plain": [
       "802"
      ]
     },
     "execution_count": 33,
     "metadata": {},
     "output_type": "execute_result"
    }
   ],
   "source": [
    "# Check for duplicates in specific columns\n",
    "df.duplicated(subset=['Age']).sum()"
   ]
  },
  {
   "cell_type": "code",
   "execution_count": 34,
   "metadata": {
    "colab": {
     "base_uri": "https://localhost:8080/"
    },
    "executionInfo": {
     "elapsed": 40,
     "status": "ok",
     "timestamp": 1709047578470,
     "user": {
      "displayName": "Ignacio Soteras",
      "userId": "02050793736257155229"
     },
     "user_tz": -60
    },
    "id": "8Tb0b0SmQtE7",
    "outputId": "9f779e08-14f3-4383-8b8c-3d13a07d8b2d"
   },
   "outputs": [
    {
     "data": {
      "text/plain": [
       "True"
      ]
     },
     "execution_count": 34,
     "metadata": {},
     "output_type": "execute_result"
    }
   ],
   "source": [
    "df.Age.duplicated().any()"
   ]
  },
  {
   "cell_type": "markdown",
   "metadata": {
    "id": "byeaFQ84QtE7"
   },
   "source": [
    "### Removing Duplicates\n",
    "\n",
    "To remove duplicates from a DataFrame, we can use the `drop_duplicates()` method. By default, this method keeps the first occurrence of each duplicated row and removes the rest.\n"
   ]
  },
  {
   "cell_type": "code",
   "execution_count": 35,
   "metadata": {
    "executionInfo": {
     "elapsed": 36,
     "status": "ok",
     "timestamp": 1709047578470,
     "user": {
      "displayName": "Ignacio Soteras",
      "userId": "02050793736257155229"
     },
     "user_tz": -60
    },
    "id": "0uTYj8hSQtE8"
   },
   "outputs": [],
   "source": [
    "# Remove duplicates and update the DataFrame\n",
    "df.drop_duplicates(inplace=True) # we know there are none but this is how we would do it"
   ]
  },
  {
   "cell_type": "markdown",
   "metadata": {
    "id": "icLzX7YjQtE8"
   },
   "source": [
    "### Removing Duplicates Based on Specific Columns\n",
    "\n",
    "Sometimes, we may want to remove duplicates based on specific columns. We can pass a subset of column names to the `drop_duplicates()` method to achieve this.\n"
   ]
  },
  {
   "cell_type": "code",
   "execution_count": 36,
   "metadata": {
    "colab": {
     "base_uri": "https://localhost:8080/",
     "height": 458
    },
    "executionInfo": {
     "elapsed": 35,
     "status": "ok",
     "timestamp": 1709047578470,
     "user": {
      "displayName": "Ignacio Soteras",
      "userId": "02050793736257155229"
     },
     "user_tz": -60
    },
    "id": "goJamaHDQtE8",
    "outputId": "e1cb965b-b819-4710-cc5e-1f21a64e0299"
   },
   "outputs": [
    {
     "data": {
      "text/html": [
       "<div>\n",
       "<style scoped>\n",
       "    .dataframe tbody tr th:only-of-type {\n",
       "        vertical-align: middle;\n",
       "    }\n",
       "\n",
       "    .dataframe tbody tr th {\n",
       "        vertical-align: top;\n",
       "    }\n",
       "\n",
       "    .dataframe thead th {\n",
       "        text-align: right;\n",
       "    }\n",
       "</style>\n",
       "<table border=\"1\" class=\"dataframe\">\n",
       "  <thead>\n",
       "    <tr style=\"text-align: right;\">\n",
       "      <th></th>\n",
       "      <th>PassengerId</th>\n",
       "      <th>Survived</th>\n",
       "      <th>Pclass</th>\n",
       "      <th>Name</th>\n",
       "      <th>Sex</th>\n",
       "      <th>Age</th>\n",
       "      <th>SibSp</th>\n",
       "      <th>Parch</th>\n",
       "      <th>Ticket</th>\n",
       "      <th>Fare</th>\n",
       "      <th>Cabin</th>\n",
       "      <th>Embarked</th>\n",
       "    </tr>\n",
       "  </thead>\n",
       "  <tbody>\n",
       "    <tr>\n",
       "      <th>0</th>\n",
       "      <td>1</td>\n",
       "      <td>0</td>\n",
       "      <td>3</td>\n",
       "      <td>Braund, Mr. Owen Harris</td>\n",
       "      <td>male</td>\n",
       "      <td>22.0</td>\n",
       "      <td>1</td>\n",
       "      <td>0</td>\n",
       "      <td>A/5 21171</td>\n",
       "      <td>7.2500</td>\n",
       "      <td>NaN</td>\n",
       "      <td>S</td>\n",
       "    </tr>\n",
       "    <tr>\n",
       "      <th>1</th>\n",
       "      <td>2</td>\n",
       "      <td>1</td>\n",
       "      <td>1</td>\n",
       "      <td>Cumings, Mrs. John Bradley (Florence Briggs Th...</td>\n",
       "      <td>female</td>\n",
       "      <td>38.0</td>\n",
       "      <td>1</td>\n",
       "      <td>0</td>\n",
       "      <td>PC 17599</td>\n",
       "      <td>71.2833</td>\n",
       "      <td>C85</td>\n",
       "      <td>C</td>\n",
       "    </tr>\n",
       "    <tr>\n",
       "      <th>2</th>\n",
       "      <td>3</td>\n",
       "      <td>1</td>\n",
       "      <td>3</td>\n",
       "      <td>Heikkinen, Miss. Laina</td>\n",
       "      <td>female</td>\n",
       "      <td>26.0</td>\n",
       "      <td>0</td>\n",
       "      <td>0</td>\n",
       "      <td>STON/O2. 3101282</td>\n",
       "      <td>7.9250</td>\n",
       "      <td>NaN</td>\n",
       "      <td>S</td>\n",
       "    </tr>\n",
       "    <tr>\n",
       "      <th>3</th>\n",
       "      <td>4</td>\n",
       "      <td>1</td>\n",
       "      <td>1</td>\n",
       "      <td>Futrelle, Mrs. Jacques Heath (Lily May Peel)</td>\n",
       "      <td>female</td>\n",
       "      <td>35.0</td>\n",
       "      <td>1</td>\n",
       "      <td>0</td>\n",
       "      <td>113803</td>\n",
       "      <td>53.1000</td>\n",
       "      <td>C123</td>\n",
       "      <td>S</td>\n",
       "    </tr>\n",
       "    <tr>\n",
       "      <th>4</th>\n",
       "      <td>5</td>\n",
       "      <td>0</td>\n",
       "      <td>3</td>\n",
       "      <td>Allen, Mr. William Henry</td>\n",
       "      <td>male</td>\n",
       "      <td>35.0</td>\n",
       "      <td>0</td>\n",
       "      <td>0</td>\n",
       "      <td>373450</td>\n",
       "      <td>8.0500</td>\n",
       "      <td>NaN</td>\n",
       "      <td>S</td>\n",
       "    </tr>\n",
       "    <tr>\n",
       "      <th>...</th>\n",
       "      <td>...</td>\n",
       "      <td>...</td>\n",
       "      <td>...</td>\n",
       "      <td>...</td>\n",
       "      <td>...</td>\n",
       "      <td>...</td>\n",
       "      <td>...</td>\n",
       "      <td>...</td>\n",
       "      <td>...</td>\n",
       "      <td>...</td>\n",
       "      <td>...</td>\n",
       "      <td>...</td>\n",
       "    </tr>\n",
       "    <tr>\n",
       "      <th>819</th>\n",
       "      <td>820</td>\n",
       "      <td>0</td>\n",
       "      <td>3</td>\n",
       "      <td>Skoog, Master. Karl Thorsten</td>\n",
       "      <td>male</td>\n",
       "      <td>10.0</td>\n",
       "      <td>3</td>\n",
       "      <td>2</td>\n",
       "      <td>347088</td>\n",
       "      <td>27.9000</td>\n",
       "      <td>NaN</td>\n",
       "      <td>S</td>\n",
       "    </tr>\n",
       "    <tr>\n",
       "      <th>829</th>\n",
       "      <td>830</td>\n",
       "      <td>1</td>\n",
       "      <td>1</td>\n",
       "      <td>Stone, Mrs. George Nelson (Martha Evelyn)</td>\n",
       "      <td>female</td>\n",
       "      <td>62.0</td>\n",
       "      <td>0</td>\n",
       "      <td>0</td>\n",
       "      <td>113572</td>\n",
       "      <td>80.0000</td>\n",
       "      <td>B28</td>\n",
       "      <td>NaN</td>\n",
       "    </tr>\n",
       "    <tr>\n",
       "      <th>843</th>\n",
       "      <td>844</td>\n",
       "      <td>0</td>\n",
       "      <td>3</td>\n",
       "      <td>Lemberopolous, Mr. Peter L</td>\n",
       "      <td>male</td>\n",
       "      <td>34.5</td>\n",
       "      <td>0</td>\n",
       "      <td>0</td>\n",
       "      <td>2683</td>\n",
       "      <td>6.4375</td>\n",
       "      <td>NaN</td>\n",
       "      <td>C</td>\n",
       "    </tr>\n",
       "    <tr>\n",
       "      <th>851</th>\n",
       "      <td>852</td>\n",
       "      <td>0</td>\n",
       "      <td>3</td>\n",
       "      <td>Svensson, Mr. Johan</td>\n",
       "      <td>male</td>\n",
       "      <td>74.0</td>\n",
       "      <td>0</td>\n",
       "      <td>0</td>\n",
       "      <td>347060</td>\n",
       "      <td>7.7750</td>\n",
       "      <td>NaN</td>\n",
       "      <td>S</td>\n",
       "    </tr>\n",
       "    <tr>\n",
       "      <th>879</th>\n",
       "      <td>880</td>\n",
       "      <td>1</td>\n",
       "      <td>1</td>\n",
       "      <td>Potter, Mrs. Thomas Jr (Lily Alexenia Wilson)</td>\n",
       "      <td>female</td>\n",
       "      <td>56.0</td>\n",
       "      <td>0</td>\n",
       "      <td>1</td>\n",
       "      <td>11767</td>\n",
       "      <td>83.1583</td>\n",
       "      <td>C50</td>\n",
       "      <td>C</td>\n",
       "    </tr>\n",
       "  </tbody>\n",
       "</table>\n",
       "<p>147 rows × 12 columns</p>\n",
       "</div>"
      ],
      "text/plain": [
       "     PassengerId  Survived  Pclass  \\\n",
       "0              1         0       3   \n",
       "1              2         1       1   \n",
       "2              3         1       3   \n",
       "3              4         1       1   \n",
       "4              5         0       3   \n",
       "..           ...       ...     ...   \n",
       "819          820         0       3   \n",
       "829          830         1       1   \n",
       "843          844         0       3   \n",
       "851          852         0       3   \n",
       "879          880         1       1   \n",
       "\n",
       "                                                  Name     Sex   Age  SibSp  \\\n",
       "0                              Braund, Mr. Owen Harris    male  22.0      1   \n",
       "1    Cumings, Mrs. John Bradley (Florence Briggs Th...  female  38.0      1   \n",
       "2                               Heikkinen, Miss. Laina  female  26.0      0   \n",
       "3         Futrelle, Mrs. Jacques Heath (Lily May Peel)  female  35.0      1   \n",
       "4                             Allen, Mr. William Henry    male  35.0      0   \n",
       "..                                                 ...     ...   ...    ...   \n",
       "819                       Skoog, Master. Karl Thorsten    male  10.0      3   \n",
       "829          Stone, Mrs. George Nelson (Martha Evelyn)  female  62.0      0   \n",
       "843                         Lemberopolous, Mr. Peter L    male  34.5      0   \n",
       "851                                Svensson, Mr. Johan    male  74.0      0   \n",
       "879      Potter, Mrs. Thomas Jr (Lily Alexenia Wilson)  female  56.0      0   \n",
       "\n",
       "     Parch            Ticket     Fare Cabin Embarked  \n",
       "0        0         A/5 21171   7.2500   NaN        S  \n",
       "1        0          PC 17599  71.2833   C85        C  \n",
       "2        0  STON/O2. 3101282   7.9250   NaN        S  \n",
       "3        0            113803  53.1000  C123        S  \n",
       "4        0            373450   8.0500   NaN        S  \n",
       "..     ...               ...      ...   ...      ...  \n",
       "819      2            347088  27.9000   NaN        S  \n",
       "829      0            113572  80.0000   B28      NaN  \n",
       "843      0              2683   6.4375   NaN        C  \n",
       "851      0            347060   7.7750   NaN        S  \n",
       "879      1             11767  83.1583   C50        C  \n",
       "\n",
       "[147 rows x 12 columns]"
      ]
     },
     "execution_count": 36,
     "metadata": {},
     "output_type": "execute_result"
    }
   ],
   "source": [
    "# Remove duplicates based on specific columns\n",
    "df.drop_duplicates(subset=['Sex', 'Age']) #lets look at the number of rows if we do this"
   ]
  },
  {
   "cell_type": "markdown",
   "metadata": {
    "id": "0N2DrAa-QtE8"
   },
   "source": [
    "By default, `drop_duplicates()` keeps the first occurrence of each duplicated row. If we want to keep the last occurrence instead, we can set the `keep` parameter to `'last'`.\n"
   ]
  },
  {
   "cell_type": "code",
   "execution_count": 37,
   "metadata": {
    "executionInfo": {
     "elapsed": 34,
     "status": "ok",
     "timestamp": 1709047578470,
     "user": {
      "displayName": "Ignacio Soteras",
      "userId": "02050793736257155229"
     },
     "user_tz": -60
    },
    "id": "ydYzGzTRQtE8"
   },
   "outputs": [],
   "source": [
    "# Keep the last occurrence of duplicates\n",
    "df.drop_duplicates(keep='last', inplace=True) # we know there are none but this is how we would do it"
   ]
  },
  {
   "cell_type": "code",
   "execution_count": 38,
   "metadata": {},
   "outputs": [
    {
     "data": {
      "text/plain": [
       "',PassengerId,Survived,Pclass,Name,Sex,Age,SibSp,Parch,Ticket,Fare,Cabin,Embarked\\n'"
      ]
     },
     "execution_count": 38,
     "metadata": {},
     "output_type": "execute_result"
    }
   ],
   "source": [
    "#how to keep duplicated ones in a separate file\n",
    "\n",
    "df.loc[df.duplicated(), :].to_csv()"
   ]
  },
  {
   "cell_type": "markdown",
   "metadata": {
    "id": "DvsSHvvgQtE9"
   },
   "source": [
    "### Resetting the Index\n",
    "\n",
    "When removing duplicates, the DataFrame index may have gaps due to removed rows. To reset the index after removing duplicates, we can use the `reset_index()` method with the `drop=True` parameter.\n"
   ]
  },
  {
   "cell_type": "code",
   "execution_count": 39,
   "metadata": {
    "colab": {
     "base_uri": "https://localhost:8080/",
     "height": 206
    },
    "executionInfo": {
     "elapsed": 33,
     "status": "ok",
     "timestamp": 1709047578470,
     "user": {
      "displayName": "Ignacio Soteras",
      "userId": "02050793736257155229"
     },
     "user_tz": -60
    },
    "id": "TeFIpwkuQtE9",
    "outputId": "ebb93f70-80bc-4473-ab96-2a4bd2e3080e"
   },
   "outputs": [
    {
     "data": {
      "text/html": [
       "<div>\n",
       "<style scoped>\n",
       "    .dataframe tbody tr th:only-of-type {\n",
       "        vertical-align: middle;\n",
       "    }\n",
       "\n",
       "    .dataframe tbody tr th {\n",
       "        vertical-align: top;\n",
       "    }\n",
       "\n",
       "    .dataframe thead th {\n",
       "        text-align: right;\n",
       "    }\n",
       "</style>\n",
       "<table border=\"1\" class=\"dataframe\">\n",
       "  <thead>\n",
       "    <tr style=\"text-align: right;\">\n",
       "      <th></th>\n",
       "      <th>PassengerId</th>\n",
       "      <th>Survived</th>\n",
       "      <th>Pclass</th>\n",
       "      <th>Name</th>\n",
       "      <th>Sex</th>\n",
       "      <th>Age</th>\n",
       "      <th>SibSp</th>\n",
       "      <th>Parch</th>\n",
       "      <th>Ticket</th>\n",
       "      <th>Fare</th>\n",
       "      <th>Cabin</th>\n",
       "      <th>Embarked</th>\n",
       "    </tr>\n",
       "  </thead>\n",
       "  <tbody>\n",
       "    <tr>\n",
       "      <th>819</th>\n",
       "      <td>820</td>\n",
       "      <td>0</td>\n",
       "      <td>3</td>\n",
       "      <td>Skoog, Master. Karl Thorsten</td>\n",
       "      <td>male</td>\n",
       "      <td>10.0</td>\n",
       "      <td>3</td>\n",
       "      <td>2</td>\n",
       "      <td>347088</td>\n",
       "      <td>27.9000</td>\n",
       "      <td>NaN</td>\n",
       "      <td>S</td>\n",
       "    </tr>\n",
       "    <tr>\n",
       "      <th>829</th>\n",
       "      <td>830</td>\n",
       "      <td>1</td>\n",
       "      <td>1</td>\n",
       "      <td>Stone, Mrs. George Nelson (Martha Evelyn)</td>\n",
       "      <td>female</td>\n",
       "      <td>62.0</td>\n",
       "      <td>0</td>\n",
       "      <td>0</td>\n",
       "      <td>113572</td>\n",
       "      <td>80.0000</td>\n",
       "      <td>B28</td>\n",
       "      <td>NaN</td>\n",
       "    </tr>\n",
       "    <tr>\n",
       "      <th>843</th>\n",
       "      <td>844</td>\n",
       "      <td>0</td>\n",
       "      <td>3</td>\n",
       "      <td>Lemberopolous, Mr. Peter L</td>\n",
       "      <td>male</td>\n",
       "      <td>34.5</td>\n",
       "      <td>0</td>\n",
       "      <td>0</td>\n",
       "      <td>2683</td>\n",
       "      <td>6.4375</td>\n",
       "      <td>NaN</td>\n",
       "      <td>C</td>\n",
       "    </tr>\n",
       "    <tr>\n",
       "      <th>851</th>\n",
       "      <td>852</td>\n",
       "      <td>0</td>\n",
       "      <td>3</td>\n",
       "      <td>Svensson, Mr. Johan</td>\n",
       "      <td>male</td>\n",
       "      <td>74.0</td>\n",
       "      <td>0</td>\n",
       "      <td>0</td>\n",
       "      <td>347060</td>\n",
       "      <td>7.7750</td>\n",
       "      <td>NaN</td>\n",
       "      <td>S</td>\n",
       "    </tr>\n",
       "    <tr>\n",
       "      <th>879</th>\n",
       "      <td>880</td>\n",
       "      <td>1</td>\n",
       "      <td>1</td>\n",
       "      <td>Potter, Mrs. Thomas Jr (Lily Alexenia Wilson)</td>\n",
       "      <td>female</td>\n",
       "      <td>56.0</td>\n",
       "      <td>0</td>\n",
       "      <td>1</td>\n",
       "      <td>11767</td>\n",
       "      <td>83.1583</td>\n",
       "      <td>C50</td>\n",
       "      <td>C</td>\n",
       "    </tr>\n",
       "  </tbody>\n",
       "</table>\n",
       "</div>"
      ],
      "text/plain": [
       "     PassengerId  Survived  Pclass  \\\n",
       "819          820         0       3   \n",
       "829          830         1       1   \n",
       "843          844         0       3   \n",
       "851          852         0       3   \n",
       "879          880         1       1   \n",
       "\n",
       "                                              Name     Sex   Age  SibSp  \\\n",
       "819                   Skoog, Master. Karl Thorsten    male  10.0      3   \n",
       "829      Stone, Mrs. George Nelson (Martha Evelyn)  female  62.0      0   \n",
       "843                     Lemberopolous, Mr. Peter L    male  34.5      0   \n",
       "851                            Svensson, Mr. Johan    male  74.0      0   \n",
       "879  Potter, Mrs. Thomas Jr (Lily Alexenia Wilson)  female  56.0      0   \n",
       "\n",
       "     Parch  Ticket     Fare Cabin Embarked  \n",
       "819      2  347088  27.9000   NaN        S  \n",
       "829      0  113572  80.0000   B28      NaN  \n",
       "843      0    2683   6.4375   NaN        C  \n",
       "851      0  347060   7.7750   NaN        S  \n",
       "879      1   11767  83.1583   C50        C  "
      ]
     },
     "execution_count": 39,
     "metadata": {},
     "output_type": "execute_result"
    }
   ],
   "source": [
    "# Remove duplicates and reset the index\n",
    "df_without_duplicates = df.copy()\n",
    "df_without_duplicates = df.drop_duplicates(subset=['Sex', 'Age'])\n",
    "df_without_duplicates.tail() # look at the gaps in the index"
   ]
  },
  {
   "cell_type": "code",
   "execution_count": 40,
   "metadata": {
    "colab": {
     "base_uri": "https://localhost:8080/",
     "height": 206
    },
    "executionInfo": {
     "elapsed": 32,
     "status": "ok",
     "timestamp": 1709047578470,
     "user": {
      "displayName": "Ignacio Soteras",
      "userId": "02050793736257155229"
     },
     "user_tz": -60
    },
    "id": "sES1kZcUOaoG",
    "outputId": "a6a5f1ec-da8e-47e1-d70b-99f85f894fce"
   },
   "outputs": [
    {
     "data": {
      "text/html": [
       "<div>\n",
       "<style scoped>\n",
       "    .dataframe tbody tr th:only-of-type {\n",
       "        vertical-align: middle;\n",
       "    }\n",
       "\n",
       "    .dataframe tbody tr th {\n",
       "        vertical-align: top;\n",
       "    }\n",
       "\n",
       "    .dataframe thead th {\n",
       "        text-align: right;\n",
       "    }\n",
       "</style>\n",
       "<table border=\"1\" class=\"dataframe\">\n",
       "  <thead>\n",
       "    <tr style=\"text-align: right;\">\n",
       "      <th></th>\n",
       "      <th>index</th>\n",
       "      <th>PassengerId</th>\n",
       "      <th>Survived</th>\n",
       "      <th>Pclass</th>\n",
       "      <th>Name</th>\n",
       "      <th>Sex</th>\n",
       "      <th>Age</th>\n",
       "      <th>SibSp</th>\n",
       "      <th>Parch</th>\n",
       "      <th>Ticket</th>\n",
       "      <th>Fare</th>\n",
       "      <th>Cabin</th>\n",
       "      <th>Embarked</th>\n",
       "    </tr>\n",
       "  </thead>\n",
       "  <tbody>\n",
       "    <tr>\n",
       "      <th>142</th>\n",
       "      <td>819</td>\n",
       "      <td>820</td>\n",
       "      <td>0</td>\n",
       "      <td>3</td>\n",
       "      <td>Skoog, Master. Karl Thorsten</td>\n",
       "      <td>male</td>\n",
       "      <td>10.0</td>\n",
       "      <td>3</td>\n",
       "      <td>2</td>\n",
       "      <td>347088</td>\n",
       "      <td>27.9000</td>\n",
       "      <td>NaN</td>\n",
       "      <td>S</td>\n",
       "    </tr>\n",
       "    <tr>\n",
       "      <th>143</th>\n",
       "      <td>829</td>\n",
       "      <td>830</td>\n",
       "      <td>1</td>\n",
       "      <td>1</td>\n",
       "      <td>Stone, Mrs. George Nelson (Martha Evelyn)</td>\n",
       "      <td>female</td>\n",
       "      <td>62.0</td>\n",
       "      <td>0</td>\n",
       "      <td>0</td>\n",
       "      <td>113572</td>\n",
       "      <td>80.0000</td>\n",
       "      <td>B28</td>\n",
       "      <td>NaN</td>\n",
       "    </tr>\n",
       "    <tr>\n",
       "      <th>144</th>\n",
       "      <td>843</td>\n",
       "      <td>844</td>\n",
       "      <td>0</td>\n",
       "      <td>3</td>\n",
       "      <td>Lemberopolous, Mr. Peter L</td>\n",
       "      <td>male</td>\n",
       "      <td>34.5</td>\n",
       "      <td>0</td>\n",
       "      <td>0</td>\n",
       "      <td>2683</td>\n",
       "      <td>6.4375</td>\n",
       "      <td>NaN</td>\n",
       "      <td>C</td>\n",
       "    </tr>\n",
       "    <tr>\n",
       "      <th>145</th>\n",
       "      <td>851</td>\n",
       "      <td>852</td>\n",
       "      <td>0</td>\n",
       "      <td>3</td>\n",
       "      <td>Svensson, Mr. Johan</td>\n",
       "      <td>male</td>\n",
       "      <td>74.0</td>\n",
       "      <td>0</td>\n",
       "      <td>0</td>\n",
       "      <td>347060</td>\n",
       "      <td>7.7750</td>\n",
       "      <td>NaN</td>\n",
       "      <td>S</td>\n",
       "    </tr>\n",
       "    <tr>\n",
       "      <th>146</th>\n",
       "      <td>879</td>\n",
       "      <td>880</td>\n",
       "      <td>1</td>\n",
       "      <td>1</td>\n",
       "      <td>Potter, Mrs. Thomas Jr (Lily Alexenia Wilson)</td>\n",
       "      <td>female</td>\n",
       "      <td>56.0</td>\n",
       "      <td>0</td>\n",
       "      <td>1</td>\n",
       "      <td>11767</td>\n",
       "      <td>83.1583</td>\n",
       "      <td>C50</td>\n",
       "      <td>C</td>\n",
       "    </tr>\n",
       "  </tbody>\n",
       "</table>\n",
       "</div>"
      ],
      "text/plain": [
       "     index  PassengerId  Survived  Pclass  \\\n",
       "142    819          820         0       3   \n",
       "143    829          830         1       1   \n",
       "144    843          844         0       3   \n",
       "145    851          852         0       3   \n",
       "146    879          880         1       1   \n",
       "\n",
       "                                              Name     Sex   Age  SibSp  \\\n",
       "142                   Skoog, Master. Karl Thorsten    male  10.0      3   \n",
       "143      Stone, Mrs. George Nelson (Martha Evelyn)  female  62.0      0   \n",
       "144                     Lemberopolous, Mr. Peter L    male  34.5      0   \n",
       "145                            Svensson, Mr. Johan    male  74.0      0   \n",
       "146  Potter, Mrs. Thomas Jr (Lily Alexenia Wilson)  female  56.0      0   \n",
       "\n",
       "     Parch  Ticket     Fare Cabin Embarked  \n",
       "142      2  347088  27.9000   NaN        S  \n",
       "143      0  113572  80.0000   B28      NaN  \n",
       "144      0    2683   6.4375   NaN        C  \n",
       "145      0  347060   7.7750   NaN        S  \n",
       "146      1   11767  83.1583   C50        C  "
      ]
     },
     "execution_count": 40,
     "metadata": {},
     "output_type": "execute_result"
    }
   ],
   "source": [
    "df_without_duplicates.reset_index().tail()"
   ]
  },
  {
   "cell_type": "code",
   "execution_count": 41,
   "metadata": {
    "colab": {
     "base_uri": "https://localhost:8080/",
     "height": 206
    },
    "executionInfo": {
     "elapsed": 520,
     "status": "ok",
     "timestamp": 1709047578960,
     "user": {
      "displayName": "Ignacio Soteras",
      "userId": "02050793736257155229"
     },
     "user_tz": -60
    },
    "id": "iEBf_hgEQcvW",
    "outputId": "17cd343c-63ff-48bb-fd9a-47657cd6ce9c"
   },
   "outputs": [
    {
     "data": {
      "text/html": [
       "<div>\n",
       "<style scoped>\n",
       "    .dataframe tbody tr th:only-of-type {\n",
       "        vertical-align: middle;\n",
       "    }\n",
       "\n",
       "    .dataframe tbody tr th {\n",
       "        vertical-align: top;\n",
       "    }\n",
       "\n",
       "    .dataframe thead th {\n",
       "        text-align: right;\n",
       "    }\n",
       "</style>\n",
       "<table border=\"1\" class=\"dataframe\">\n",
       "  <thead>\n",
       "    <tr style=\"text-align: right;\">\n",
       "      <th></th>\n",
       "      <th>PassengerId</th>\n",
       "      <th>Survived</th>\n",
       "      <th>Pclass</th>\n",
       "      <th>Name</th>\n",
       "      <th>Sex</th>\n",
       "      <th>Age</th>\n",
       "      <th>SibSp</th>\n",
       "      <th>Parch</th>\n",
       "      <th>Ticket</th>\n",
       "      <th>Fare</th>\n",
       "      <th>Cabin</th>\n",
       "      <th>Embarked</th>\n",
       "    </tr>\n",
       "  </thead>\n",
       "  <tbody>\n",
       "    <tr>\n",
       "      <th>142</th>\n",
       "      <td>820</td>\n",
       "      <td>0</td>\n",
       "      <td>3</td>\n",
       "      <td>Skoog, Master. Karl Thorsten</td>\n",
       "      <td>male</td>\n",
       "      <td>10.0</td>\n",
       "      <td>3</td>\n",
       "      <td>2</td>\n",
       "      <td>347088</td>\n",
       "      <td>27.9000</td>\n",
       "      <td>NaN</td>\n",
       "      <td>S</td>\n",
       "    </tr>\n",
       "    <tr>\n",
       "      <th>143</th>\n",
       "      <td>830</td>\n",
       "      <td>1</td>\n",
       "      <td>1</td>\n",
       "      <td>Stone, Mrs. George Nelson (Martha Evelyn)</td>\n",
       "      <td>female</td>\n",
       "      <td>62.0</td>\n",
       "      <td>0</td>\n",
       "      <td>0</td>\n",
       "      <td>113572</td>\n",
       "      <td>80.0000</td>\n",
       "      <td>B28</td>\n",
       "      <td>NaN</td>\n",
       "    </tr>\n",
       "    <tr>\n",
       "      <th>144</th>\n",
       "      <td>844</td>\n",
       "      <td>0</td>\n",
       "      <td>3</td>\n",
       "      <td>Lemberopolous, Mr. Peter L</td>\n",
       "      <td>male</td>\n",
       "      <td>34.5</td>\n",
       "      <td>0</td>\n",
       "      <td>0</td>\n",
       "      <td>2683</td>\n",
       "      <td>6.4375</td>\n",
       "      <td>NaN</td>\n",
       "      <td>C</td>\n",
       "    </tr>\n",
       "    <tr>\n",
       "      <th>145</th>\n",
       "      <td>852</td>\n",
       "      <td>0</td>\n",
       "      <td>3</td>\n",
       "      <td>Svensson, Mr. Johan</td>\n",
       "      <td>male</td>\n",
       "      <td>74.0</td>\n",
       "      <td>0</td>\n",
       "      <td>0</td>\n",
       "      <td>347060</td>\n",
       "      <td>7.7750</td>\n",
       "      <td>NaN</td>\n",
       "      <td>S</td>\n",
       "    </tr>\n",
       "    <tr>\n",
       "      <th>146</th>\n",
       "      <td>880</td>\n",
       "      <td>1</td>\n",
       "      <td>1</td>\n",
       "      <td>Potter, Mrs. Thomas Jr (Lily Alexenia Wilson)</td>\n",
       "      <td>female</td>\n",
       "      <td>56.0</td>\n",
       "      <td>0</td>\n",
       "      <td>1</td>\n",
       "      <td>11767</td>\n",
       "      <td>83.1583</td>\n",
       "      <td>C50</td>\n",
       "      <td>C</td>\n",
       "    </tr>\n",
       "  </tbody>\n",
       "</table>\n",
       "</div>"
      ],
      "text/plain": [
       "     PassengerId  Survived  Pclass  \\\n",
       "142          820         0       3   \n",
       "143          830         1       1   \n",
       "144          844         0       3   \n",
       "145          852         0       3   \n",
       "146          880         1       1   \n",
       "\n",
       "                                              Name     Sex   Age  SibSp  \\\n",
       "142                   Skoog, Master. Karl Thorsten    male  10.0      3   \n",
       "143      Stone, Mrs. George Nelson (Martha Evelyn)  female  62.0      0   \n",
       "144                     Lemberopolous, Mr. Peter L    male  34.5      0   \n",
       "145                            Svensson, Mr. Johan    male  74.0      0   \n",
       "146  Potter, Mrs. Thomas Jr (Lily Alexenia Wilson)  female  56.0      0   \n",
       "\n",
       "     Parch  Ticket     Fare Cabin Embarked  \n",
       "142      2  347088  27.9000   NaN        S  \n",
       "143      0  113572  80.0000   B28      NaN  \n",
       "144      0    2683   6.4375   NaN        C  \n",
       "145      0  347060   7.7750   NaN        S  \n",
       "146      1   11767  83.1583   C50        C  "
      ]
     },
     "execution_count": 41,
     "metadata": {},
     "output_type": "execute_result"
    }
   ],
   "source": [
    "df_without_duplicates.reset_index(drop=True).tail()"
   ]
  },
  {
   "cell_type": "code",
   "execution_count": 42,
   "metadata": {
    "colab": {
     "base_uri": "https://localhost:8080/",
     "height": 206
    },
    "executionInfo": {
     "elapsed": 33,
     "status": "ok",
     "timestamp": 1709047578960,
     "user": {
      "displayName": "Ignacio Soteras",
      "userId": "02050793736257155229"
     },
     "user_tz": -60
    },
    "id": "B_JerwJXQtE9",
    "outputId": "22d2a355-eef5-4687-a220-f27e22303b7c"
   },
   "outputs": [
    {
     "data": {
      "text/html": [
       "<div>\n",
       "<style scoped>\n",
       "    .dataframe tbody tr th:only-of-type {\n",
       "        vertical-align: middle;\n",
       "    }\n",
       "\n",
       "    .dataframe tbody tr th {\n",
       "        vertical-align: top;\n",
       "    }\n",
       "\n",
       "    .dataframe thead th {\n",
       "        text-align: right;\n",
       "    }\n",
       "</style>\n",
       "<table border=\"1\" class=\"dataframe\">\n",
       "  <thead>\n",
       "    <tr style=\"text-align: right;\">\n",
       "      <th></th>\n",
       "      <th>PassengerId</th>\n",
       "      <th>Survived</th>\n",
       "      <th>Pclass</th>\n",
       "      <th>Name</th>\n",
       "      <th>Sex</th>\n",
       "      <th>Age</th>\n",
       "      <th>SibSp</th>\n",
       "      <th>Parch</th>\n",
       "      <th>Ticket</th>\n",
       "      <th>Fare</th>\n",
       "      <th>Cabin</th>\n",
       "      <th>Embarked</th>\n",
       "    </tr>\n",
       "  </thead>\n",
       "  <tbody>\n",
       "    <tr>\n",
       "      <th>142</th>\n",
       "      <td>820</td>\n",
       "      <td>0</td>\n",
       "      <td>3</td>\n",
       "      <td>Skoog, Master. Karl Thorsten</td>\n",
       "      <td>male</td>\n",
       "      <td>10.0</td>\n",
       "      <td>3</td>\n",
       "      <td>2</td>\n",
       "      <td>347088</td>\n",
       "      <td>27.9000</td>\n",
       "      <td>NaN</td>\n",
       "      <td>S</td>\n",
       "    </tr>\n",
       "    <tr>\n",
       "      <th>143</th>\n",
       "      <td>830</td>\n",
       "      <td>1</td>\n",
       "      <td>1</td>\n",
       "      <td>Stone, Mrs. George Nelson (Martha Evelyn)</td>\n",
       "      <td>female</td>\n",
       "      <td>62.0</td>\n",
       "      <td>0</td>\n",
       "      <td>0</td>\n",
       "      <td>113572</td>\n",
       "      <td>80.0000</td>\n",
       "      <td>B28</td>\n",
       "      <td>NaN</td>\n",
       "    </tr>\n",
       "    <tr>\n",
       "      <th>144</th>\n",
       "      <td>844</td>\n",
       "      <td>0</td>\n",
       "      <td>3</td>\n",
       "      <td>Lemberopolous, Mr. Peter L</td>\n",
       "      <td>male</td>\n",
       "      <td>34.5</td>\n",
       "      <td>0</td>\n",
       "      <td>0</td>\n",
       "      <td>2683</td>\n",
       "      <td>6.4375</td>\n",
       "      <td>NaN</td>\n",
       "      <td>C</td>\n",
       "    </tr>\n",
       "    <tr>\n",
       "      <th>145</th>\n",
       "      <td>852</td>\n",
       "      <td>0</td>\n",
       "      <td>3</td>\n",
       "      <td>Svensson, Mr. Johan</td>\n",
       "      <td>male</td>\n",
       "      <td>74.0</td>\n",
       "      <td>0</td>\n",
       "      <td>0</td>\n",
       "      <td>347060</td>\n",
       "      <td>7.7750</td>\n",
       "      <td>NaN</td>\n",
       "      <td>S</td>\n",
       "    </tr>\n",
       "    <tr>\n",
       "      <th>146</th>\n",
       "      <td>880</td>\n",
       "      <td>1</td>\n",
       "      <td>1</td>\n",
       "      <td>Potter, Mrs. Thomas Jr (Lily Alexenia Wilson)</td>\n",
       "      <td>female</td>\n",
       "      <td>56.0</td>\n",
       "      <td>0</td>\n",
       "      <td>1</td>\n",
       "      <td>11767</td>\n",
       "      <td>83.1583</td>\n",
       "      <td>C50</td>\n",
       "      <td>C</td>\n",
       "    </tr>\n",
       "  </tbody>\n",
       "</table>\n",
       "</div>"
      ],
      "text/plain": [
       "     PassengerId  Survived  Pclass  \\\n",
       "142          820         0       3   \n",
       "143          830         1       1   \n",
       "144          844         0       3   \n",
       "145          852         0       3   \n",
       "146          880         1       1   \n",
       "\n",
       "                                              Name     Sex   Age  SibSp  \\\n",
       "142                   Skoog, Master. Karl Thorsten    male  10.0      3   \n",
       "143      Stone, Mrs. George Nelson (Martha Evelyn)  female  62.0      0   \n",
       "144                     Lemberopolous, Mr. Peter L    male  34.5      0   \n",
       "145                            Svensson, Mr. Johan    male  74.0      0   \n",
       "146  Potter, Mrs. Thomas Jr (Lily Alexenia Wilson)  female  56.0      0   \n",
       "\n",
       "     Parch  Ticket     Fare Cabin Embarked  \n",
       "142      2  347088  27.9000   NaN        S  \n",
       "143      0  113572  80.0000   B28      NaN  \n",
       "144      0    2683   6.4375   NaN        C  \n",
       "145      0  347060   7.7750   NaN        S  \n",
       "146      1   11767  83.1583   C50        C  "
      ]
     },
     "execution_count": 42,
     "metadata": {},
     "output_type": "execute_result"
    }
   ],
   "source": [
    "df_without_duplicates.reset_index(drop=True, inplace=True)\n",
    "df_without_duplicates.tail()"
   ]
  },
  {
   "cell_type": "markdown",
   "metadata": {
    "id": "OtsD503BQtE9"
   },
   "source": [
    "## Formatting Data"
   ]
  },
  {
   "cell_type": "markdown",
   "metadata": {
    "id": "aZfNL4-3QtE-"
   },
   "source": [
    "### Formatting Numeric Values"
   ]
  },
  {
   "cell_type": "markdown",
   "metadata": {
    "id": "uirIKhtqQtE-"
   },
   "source": [
    "\n",
    "1. `round()` Method:\n",
    "   - Rounds numeric values to a specified number of decimal places.\n",
    "\n",
    "2. `format()` Method:\n",
    "   - Formats numeric values as strings for better representation."
   ]
  },
  {
   "cell_type": "code",
   "execution_count": 43,
   "metadata": {
    "executionInfo": {
     "elapsed": 31,
     "status": "ok",
     "timestamp": 1709047578960,
     "user": {
      "displayName": "Ignacio Soteras",
      "userId": "02050793736257155229"
     },
     "user_tz": -60
    },
    "id": "-SRAQcpGQtE-"
   },
   "outputs": [],
   "source": [
    "num = 123456.78910"
   ]
  },
  {
   "cell_type": "code",
   "execution_count": 44,
   "metadata": {
    "colab": {
     "base_uri": "https://localhost:8080/"
    },
    "executionInfo": {
     "elapsed": 32,
     "status": "ok",
     "timestamp": 1709047578961,
     "user": {
      "displayName": "Ignacio Soteras",
      "userId": "02050793736257155229"
     },
     "user_tz": -60
    },
    "id": "S_mExpg-QtE-",
    "outputId": "97d6509e-4768-4a3b-ad5c-5a01760db5cc"
   },
   "outputs": [
    {
     "data": {
      "text/plain": [
       "123456.79"
      ]
     },
     "execution_count": 44,
     "metadata": {},
     "output_type": "execute_result"
    }
   ],
   "source": [
    "round(num,2)"
   ]
  },
  {
   "cell_type": "code",
   "execution_count": 45,
   "metadata": {
    "colab": {
     "base_uri": "https://localhost:8080/",
     "height": 35
    },
    "executionInfo": {
     "elapsed": 30,
     "status": "ok",
     "timestamp": 1709047578961,
     "user": {
      "displayName": "Ignacio Soteras",
      "userId": "02050793736257155229"
     },
     "user_tz": -60
    },
    "id": "MiNGpKUbQtE-",
    "outputId": "826bb0cc-f716-43ca-fb70-48029438b03a"
   },
   "outputs": [
    {
     "data": {
      "text/plain": [
       "'123456.8'"
      ]
     },
     "execution_count": 45,
     "metadata": {},
     "output_type": "execute_result"
    }
   ],
   "source": [
    "format(num, '.1f') # .1f"
   ]
  },
  {
   "cell_type": "markdown",
   "metadata": {
    "id": "pgdsSI39QtE_"
   },
   "source": [
    "### Formatting Strings"
   ]
  },
  {
   "cell_type": "markdown",
   "metadata": {
    "id": "N2WVWM1jQtE_"
   },
   "source": [
    "Check the data structures lesson for more string operations and formatting. Here we'll just look at some of them."
   ]
  },
  {
   "cell_type": "markdown",
   "metadata": {
    "id": "c89hWyM6QtE_"
   },
   "source": [
    "1. **Using f-strings (formatted string literals):**\n",
    "   - f-strings are introduced in Python 3.6 and provide a concise and readable way to format strings.\n",
    "   - Place variables or expressions inside curly braces `{}` in the string, preceded by the `f` character."
   ]
  },
  {
   "cell_type": "code",
   "execution_count": 46,
   "metadata": {
    "colab": {
     "base_uri": "https://localhost:8080/"
    },
    "executionInfo": {
     "elapsed": 28,
     "status": "ok",
     "timestamp": 1709047578961,
     "user": {
      "displayName": "Ignacio Soteras",
      "userId": "02050793736257155229"
     },
     "user_tz": -60
    },
    "id": "iFQsPdziQtE_",
    "outputId": "b30a3b60-1eb5-4b22-9b28-b0e2d8eade8a"
   },
   "outputs": [
    {
     "name": "stdout",
     "output_type": "stream",
     "text": [
      "My name is John and I am 30 years old.\n"
     ]
    }
   ],
   "source": [
    "name = \"John\"\n",
    "age = 30\n",
    "print(f\"My name is {name} and I am {age} years old.\")"
   ]
  },
  {
   "cell_type": "markdown",
   "metadata": {
    "id": "dqUx656eQtFA"
   },
   "source": [
    "2. **Using the `format()` method:**\n",
    "   - The `format()` method can be applied to a string and accepts positional or keyword arguments to replace placeholders.\n",
    "   - Placeholders are represented by curly braces `{}` and can be indexed or named."
   ]
  },
  {
   "cell_type": "code",
   "execution_count": 47,
   "metadata": {
    "colab": {
     "base_uri": "https://localhost:8080/"
    },
    "executionInfo": {
     "elapsed": 25,
     "status": "ok",
     "timestamp": 1709047578961,
     "user": {
      "displayName": "Ignacio Soteras",
      "userId": "02050793736257155229"
     },
     "user_tz": -60
    },
    "id": "3SDcxHvGQtFA",
    "outputId": "1c2a1890-d450-44cb-ac95-8aa0a561c815"
   },
   "outputs": [
    {
     "name": "stdout",
     "output_type": "stream",
     "text": [
      "My name is John and I am 30 years old.\n"
     ]
    }
   ],
   "source": [
    "print(\"My name is {} and I am {} years old.\".format(name, age))"
   ]
  },
  {
   "cell_type": "markdown",
   "metadata": {
    "id": "lVvNk2PCQtFA"
   },
   "source": [
    "3. **Using `%` formatting:**\n",
    "   - `%` formatting is an older method, similar to C-style formatting, but less recommended due to its limitations and lack of flexibility.\n",
    "   - Placeholders are represented by `%` followed by format specifiers, like `%s` for strings and `%d` for integers."
   ]
  },
  {
   "cell_type": "code",
   "execution_count": 48,
   "metadata": {
    "colab": {
     "base_uri": "https://localhost:8080/"
    },
    "executionInfo": {
     "elapsed": 22,
     "status": "ok",
     "timestamp": 1709047578961,
     "user": {
      "displayName": "Ignacio Soteras",
      "userId": "02050793736257155229"
     },
     "user_tz": -60
    },
    "id": "Wz41kWZOQtFA",
    "outputId": "72c40465-9a59-4ce2-b572-7b786673ecda"
   },
   "outputs": [
    {
     "name": "stdout",
     "output_type": "stream",
     "text": [
      "My name is John and I am 30 years old.\n"
     ]
    }
   ],
   "source": [
    "print(\"My name is %s and I am %d years old.\" % (name, age))"
   ]
  },
  {
   "cell_type": "markdown",
   "metadata": {
    "id": "HxJohFwPQtFB"
   },
   "source": [
    "Let's look at some methods for formatting strings."
   ]
  },
  {
   "cell_type": "code",
   "execution_count": 85,
   "metadata": {
    "executionInfo": {
     "elapsed": 19,
     "status": "ok",
     "timestamp": 1709047578961,
     "user": {
      "displayName": "Ignacio Soteras",
      "userId": "02050793736257155229"
     },
     "user_tz": -60
    },
    "id": "89yNqD3YQtFB"
   },
   "outputs": [],
   "source": [
    "string = 'HELLO, world'"
   ]
  },
  {
   "cell_type": "code",
   "execution_count": 50,
   "metadata": {
    "colab": {
     "base_uri": "https://localhost:8080/",
     "height": 35
    },
    "executionInfo": {
     "elapsed": 19,
     "status": "ok",
     "timestamp": 1709047578961,
     "user": {
      "displayName": "Ignacio Soteras",
      "userId": "02050793736257155229"
     },
     "user_tz": -60
    },
    "id": "0FS5khP3QtFB",
    "outputId": "97e23a81-89a9-485b-dbbf-72311bd8db47"
   },
   "outputs": [
    {
     "data": {
      "text/plain": [
       "'hello world'"
      ]
     },
     "execution_count": 50,
     "metadata": {},
     "output_type": "execute_result"
    }
   ],
   "source": [
    "string.lower()"
   ]
  },
  {
   "cell_type": "code",
   "execution_count": 51,
   "metadata": {
    "colab": {
     "base_uri": "https://localhost:8080/",
     "height": 35
    },
    "executionInfo": {
     "elapsed": 19,
     "status": "ok",
     "timestamp": 1709047578962,
     "user": {
      "displayName": "Ignacio Soteras",
      "userId": "02050793736257155229"
     },
     "user_tz": -60
    },
    "id": "ZKg45GAHQtFB",
    "outputId": "0a3d3bd3-f93b-47f8-8ff0-a54feedaff79"
   },
   "outputs": [
    {
     "data": {
      "text/plain": [
       "'HELLO WORLD'"
      ]
     },
     "execution_count": 51,
     "metadata": {},
     "output_type": "execute_result"
    }
   ],
   "source": [
    "string.upper()"
   ]
  },
  {
   "cell_type": "code",
   "execution_count": 52,
   "metadata": {
    "colab": {
     "base_uri": "https://localhost:8080/",
     "height": 35
    },
    "executionInfo": {
     "elapsed": 618,
     "status": "ok",
     "timestamp": 1709047579563,
     "user": {
      "displayName": "Ignacio Soteras",
      "userId": "02050793736257155229"
     },
     "user_tz": -60
    },
    "id": "OM2Z8OqcQtFB",
    "outputId": "33c952f8-80fc-4e19-8530-e81250d5e931"
   },
   "outputs": [
    {
     "data": {
      "text/plain": [
       "'Hello World'"
      ]
     },
     "execution_count": 52,
     "metadata": {},
     "output_type": "execute_result"
    }
   ],
   "source": [
    "string.title()"
   ]
  },
  {
   "cell_type": "code",
   "execution_count": 53,
   "metadata": {
    "colab": {
     "base_uri": "https://localhost:8080/"
    },
    "executionInfo": {
     "elapsed": 149,
     "status": "ok",
     "timestamp": 1709047579563,
     "user": {
      "displayName": "Ignacio Soteras",
      "userId": "02050793736257155229"
     },
     "user_tz": -60
    },
    "id": "YKCAlodKQtFB",
    "outputId": "c64ad5c1-0ca9-455a-d03b-b1962a194e0d"
   },
   "outputs": [
    {
     "data": {
      "text/plain": [
       "11"
      ]
     },
     "execution_count": 53,
     "metadata": {},
     "output_type": "execute_result"
    }
   ],
   "source": [
    "len(string)"
   ]
  },
  {
   "cell_type": "code",
   "execution_count": 54,
   "metadata": {
    "colab": {
     "base_uri": "https://localhost:8080/",
     "height": 35
    },
    "executionInfo": {
     "elapsed": 149,
     "status": "ok",
     "timestamp": 1709047579570,
     "user": {
      "displayName": "Ignacio Soteras",
      "userId": "02050793736257155229"
     },
     "user_tz": -60
    },
    "id": "va-LyTGyQtFB",
    "outputId": "19c1bbd4-fb38-40e2-d063-c4cb5ebe6351"
   },
   "outputs": [
    {
     "data": {
      "text/plain": [
       "'Hello World   '"
      ]
     },
     "execution_count": 54,
     "metadata": {},
     "output_type": "execute_result"
    }
   ],
   "source": [
    "'   Hello World   '.lstrip()"
   ]
  },
  {
   "cell_type": "code",
   "execution_count": 55,
   "metadata": {
    "colab": {
     "base_uri": "https://localhost:8080/",
     "height": 35
    },
    "executionInfo": {
     "elapsed": 148,
     "status": "ok",
     "timestamp": 1709047579571,
     "user": {
      "displayName": "Ignacio Soteras",
      "userId": "02050793736257155229"
     },
     "user_tz": -60
    },
    "id": "vpeeIrhCQtFC",
    "outputId": "bc79fac2-7504-4563-dc74-60b8b4c0fef2"
   },
   "outputs": [
    {
     "data": {
      "text/plain": [
       "'   Hello World'"
      ]
     },
     "execution_count": 55,
     "metadata": {},
     "output_type": "execute_result"
    }
   ],
   "source": [
    "'   Hello World   '.rstrip()"
   ]
  },
  {
   "cell_type": "code",
   "execution_count": 56,
   "metadata": {
    "colab": {
     "base_uri": "https://localhost:8080/",
     "height": 35
    },
    "executionInfo": {
     "elapsed": 142,
     "status": "ok",
     "timestamp": 1709047579571,
     "user": {
      "displayName": "Ignacio Soteras",
      "userId": "02050793736257155229"
     },
     "user_tz": -60
    },
    "id": "Vp339ANCQtFD",
    "outputId": "e895f801-659e-4057-8304-497286af382d"
   },
   "outputs": [
    {
     "data": {
      "text/plain": [
       "'Hello World'"
      ]
     },
     "execution_count": 56,
     "metadata": {},
     "output_type": "execute_result"
    }
   ],
   "source": [
    "'   Hello World   '.strip()"
   ]
  },
  {
   "cell_type": "code",
   "execution_count": 86,
   "metadata": {
    "colab": {
     "base_uri": "https://localhost:8080/"
    },
    "executionInfo": {
     "elapsed": 136,
     "status": "ok",
     "timestamp": 1709047579571,
     "user": {
      "displayName": "Ignacio Soteras",
      "userId": "02050793736257155229"
     },
     "user_tz": -60
    },
    "id": "kXErUYtTQtFD",
    "outputId": "3ffefaa5-3a34-4075-d243-202a808b97dc"
   },
   "outputs": [
    {
     "data": {
      "text/plain": [
       "['HELLO,', 'world']"
      ]
     },
     "execution_count": 86,
     "metadata": {},
     "output_type": "execute_result"
    }
   ],
   "source": [
    "string.split(\" \")"
   ]
  },
  {
   "cell_type": "code",
   "execution_count": 58,
   "metadata": {
    "colab": {
     "base_uri": "https://localhost:8080/",
     "height": 35
    },
    "executionInfo": {
     "elapsed": 126,
     "status": "ok",
     "timestamp": 1709047579571,
     "user": {
      "displayName": "Ignacio Soteras",
      "userId": "02050793736257155229"
     },
     "user_tz": -60
    },
    "id": "NORbVmw1QtFD",
    "outputId": "73151763-2366-44f6-9246-c4fc7d40987e"
   },
   "outputs": [
    {
     "data": {
      "text/plain": [
       "'Hola world'"
      ]
     },
     "execution_count": 58,
     "metadata": {},
     "output_type": "execute_result"
    }
   ],
   "source": [
    "string.replace('HELLO','Hola')"
   ]
  },
  {
   "cell_type": "markdown",
   "metadata": {
    "id": "GyYoFgXzQtFD"
   },
   "source": [
    "### Formatting Dates"
   ]
  },
  {
   "cell_type": "markdown",
   "metadata": {
    "id": "F0T_PEDZQtFE"
   },
   "source": [
    "We will study this in another Notebook."
   ]
  },
  {
   "cell_type": "markdown",
   "metadata": {
    "id": "SkTZ0ctbQtFE"
   },
   "source": [
    "## Cleaning Column Names"
   ]
  },
  {
   "cell_type": "markdown",
   "metadata": {
    "id": "Vcw-nQaQQtFE"
   },
   "source": [
    "We can acccess the columns using `df.columns`"
   ]
  },
  {
   "cell_type": "code",
   "execution_count": 59,
   "metadata": {
    "colab": {
     "base_uri": "https://localhost:8080/"
    },
    "executionInfo": {
     "elapsed": 130,
     "status": "ok",
     "timestamp": 1709047579577,
     "user": {
      "displayName": "Ignacio Soteras",
      "userId": "02050793736257155229"
     },
     "user_tz": -60
    },
    "id": "_4dT-BLZQtFE",
    "outputId": "3bee7043-1e59-4474-ad79-eadf2a9c23dd"
   },
   "outputs": [
    {
     "data": {
      "text/plain": [
       "Index(['PassengerId', 'Survived', 'Pclass', 'Name', 'Sex', 'Age', 'SibSp',\n",
       "       'Parch', 'Ticket', 'Fare', 'Cabin', 'Embarked'],\n",
       "      dtype='object')"
      ]
     },
     "execution_count": 59,
     "metadata": {},
     "output_type": "execute_result"
    }
   ],
   "source": [
    "df.columns"
   ]
  },
  {
   "cell_type": "markdown",
   "metadata": {
    "id": "UoumDUVkQtFE"
   },
   "source": [
    "In order to modify them, we can assign new column names to `df.columns` by doing `df.columns = [list_of_new_column_names]` or we can use the `rename()` method to just modify a few of them."
   ]
  },
  {
   "cell_type": "code",
   "execution_count": 60,
   "metadata": {
    "colab": {
     "base_uri": "https://localhost:8080/"
    },
    "executionInfo": {
     "elapsed": 115,
     "status": "ok",
     "timestamp": 1709047579577,
     "user": {
      "displayName": "Ignacio Soteras",
      "userId": "02050793736257155229"
     },
     "user_tz": -60
    },
    "id": "JEkv2BofQtFE",
    "outputId": "7347e34f-80fa-414f-c301-388559197231"
   },
   "outputs": [
    {
     "data": {
      "text/plain": [
       "Index(['passenger_id', 'Survived', 'Pclass', 'Name', 'Sex', 'Age', 'SibSP',\n",
       "       'Parch', 'Ticket', 'Fare', 'Cabin', 'Embarked'],\n",
       "      dtype='object')"
      ]
     },
     "execution_count": 60,
     "metadata": {},
     "output_type": "execute_result"
    }
   ],
   "source": [
    "# We need the whole list of new column names\n",
    "# just modified SibSP to sib_sp\n",
    "\n",
    "df.columns = ['passenger_id', 'Survived', 'Pclass', 'Name', 'Sex', 'Age', 'SibSP',\n",
    "       'Parch', 'Ticket', 'Fare', 'Cabin', 'Embarked']\n",
    "\n",
    "df.columns"
   ]
  },
  {
   "cell_type": "code",
   "execution_count": 61,
   "metadata": {},
   "outputs": [],
   "source": [
    "#how to change all? by comprehension\n",
    "\n",
    "#df.columns = [col.lower() for col in df.columns]\n",
    "#df.columns"
   ]
  },
  {
   "cell_type": "code",
   "execution_count": 62,
   "metadata": {
    "colab": {
     "base_uri": "https://localhost:8080/"
    },
    "executionInfo": {
     "elapsed": 110,
     "status": "ok",
     "timestamp": 1709047579577,
     "user": {
      "displayName": "Ignacio Soteras",
      "userId": "02050793736257155229"
     },
     "user_tz": -60
    },
    "id": "HO0ILj-KQtFF",
    "outputId": "cb6944ab-1f11-400d-cfa0-70641bc7509f"
   },
   "outputs": [
    {
     "name": "stdout",
     "output_type": "stream",
     "text": [
      "Index(['PassengerId', 'Survived', 'Pclass', 'Name', 'Sex', 'Age', 'SibSP',\n",
      "       'Parch', 'Ticket', 'Fare', 'Cabin', 'Embarked'],\n",
      "      dtype='object')\n"
     ]
    }
   ],
   "source": [
    "# We just need a dictionary with the columns we want to modify\n",
    "# Getting the name back as it was\n",
    "\n",
    "# df.rename(columns={\"old_column_name1\": \"new_column_name1\", \"old_column_name2\": \"new_column_name2\",...})\n",
    "# df.rename(columns={ col: col.replace(\" \",\"_\").lower() for col in df.columns })\n",
    "df.rename(columns= {'passenger_id': 'PassengerId'}, inplace=True)\n",
    "print(df.columns)"
   ]
  },
  {
   "cell_type": "code",
   "execution_count": 63,
   "metadata": {
    "colab": {
     "base_uri": "https://localhost:8080/",
     "height": 106
    },
    "executionInfo": {
     "elapsed": 103,
     "status": "error",
     "timestamp": 1709047579578,
     "user": {
      "displayName": "Ignacio Soteras",
      "userId": "02050793736257155229"
     },
     "user_tz": -60
    },
    "id": "UUDASPDRal3J",
    "outputId": "8e61a941-f5cf-43b7-d1db-fc54bad9a3c7"
   },
   "outputs": [],
   "source": [
    "def clean_col1(df: pd.DataFrame):\n",
    "    ...\n",
    "    df2 = df.copy()\n",
    "    return df2\n",
    "\n",
    "def clean_col2(df: pd.DataFrame):\n",
    "    ...\n",
    "    df2 = df.copy()\n",
    "    return df2\n",
    "\n",
    "def clean_col2(df: pd.DataFrame):\n",
    "    ...\n",
    "    df2 = df.copy()\n",
    "    return df2\n",
    "\n",
    "def clean_df(df: pd.DataFrame):\n",
    "    df2 = df.copy()\n",
    "    df2 = clean_col1(df2)\n",
    "    df2 = clean_col2(df2)\n",
    "    df2 = clean_col3(df3)\n",
    "    ...\n",
    "    return df2"
   ]
  },
  {
   "cell_type": "markdown",
   "metadata": {
    "id": "vqzj00MjQtFF"
   },
   "source": [
    "# Using `apply()`, `map()`, and `applymap()`\n",
    "\n",
    "- `apply()`\n",
    "    - Apply a custom function to a Series.\n",
    "    - Useful for element-wise transformations.\n",
    "    - Example: `df['squared_numbers'] = df['numbers'].apply(lambda x: x ** 2)`\n",
    "\n",
    "- `map()`\n",
    "    - Transform Series elements based on a dictionary.\n",
    "    - Replaces elements with corresponding dictionary values.\n",
    "    - Example: `df['gender_mapped'] = df['gender'].map({'M': 'Male', 'F': 'Female'})`\n",
    "\n",
    "- `applymap()`\n",
    "    - Apply a custom function to every element in a DataFrame.\n",
    "    - Useful for element-wise transformations on entire DataFrames.\n",
    "    - Example: `df = df.applymap(lambda x: x.upper())`\n"
   ]
  },
  {
   "cell_type": "markdown",
   "metadata": {
    "id": "HIECx9DnQtFF"
   },
   "source": [
    "### `Apply()`"
   ]
  },
  {
   "cell_type": "code",
   "execution_count": 64,
   "metadata": {
    "colab": {
     "base_uri": "https://localhost:8080/",
     "height": 178
    },
    "executionInfo": {
     "elapsed": 444,
     "status": "ok",
     "timestamp": 1709047589076,
     "user": {
      "displayName": "Ignacio Soteras",
      "userId": "02050793736257155229"
     },
     "user_tz": -60
    },
    "id": "bcRJSjiLQtFG",
    "outputId": "dcd2eeff-ce40-48cd-86df-e14dfedcb52b"
   },
   "outputs": [
    {
     "data": {
      "text/html": [
       "<div>\n",
       "<style scoped>\n",
       "    .dataframe tbody tr th:only-of-type {\n",
       "        vertical-align: middle;\n",
       "    }\n",
       "\n",
       "    .dataframe tbody tr th {\n",
       "        vertical-align: top;\n",
       "    }\n",
       "\n",
       "    .dataframe thead th {\n",
       "        text-align: right;\n",
       "    }\n",
       "</style>\n",
       "<table border=\"1\" class=\"dataframe\">\n",
       "  <thead>\n",
       "    <tr style=\"text-align: right;\">\n",
       "      <th></th>\n",
       "      <th>PassengerId</th>\n",
       "      <th>Survived</th>\n",
       "      <th>Pclass</th>\n",
       "      <th>Name</th>\n",
       "      <th>Sex</th>\n",
       "      <th>Age</th>\n",
       "      <th>SibSP</th>\n",
       "      <th>Parch</th>\n",
       "      <th>Ticket</th>\n",
       "      <th>Fare</th>\n",
       "      <th>Cabin</th>\n",
       "      <th>Embarked</th>\n",
       "      <th>yob</th>\n",
       "    </tr>\n",
       "  </thead>\n",
       "  <tbody>\n",
       "    <tr>\n",
       "      <th>0</th>\n",
       "      <td>1</td>\n",
       "      <td>0</td>\n",
       "      <td>3</td>\n",
       "      <td>Braund, Mr. Owen Harris</td>\n",
       "      <td>male</td>\n",
       "      <td>22.0</td>\n",
       "      <td>1</td>\n",
       "      <td>0</td>\n",
       "      <td>A/5 21171</td>\n",
       "      <td>7.2500</td>\n",
       "      <td>NaN</td>\n",
       "      <td>S</td>\n",
       "      <td>1890.0</td>\n",
       "    </tr>\n",
       "    <tr>\n",
       "      <th>1</th>\n",
       "      <td>2</td>\n",
       "      <td>1</td>\n",
       "      <td>1</td>\n",
       "      <td>Cumings, Mrs. John Bradley (Florence Briggs Th...</td>\n",
       "      <td>female</td>\n",
       "      <td>38.0</td>\n",
       "      <td>1</td>\n",
       "      <td>0</td>\n",
       "      <td>PC 17599</td>\n",
       "      <td>71.2833</td>\n",
       "      <td>C85</td>\n",
       "      <td>C</td>\n",
       "      <td>1874.0</td>\n",
       "    </tr>\n",
       "    <tr>\n",
       "      <th>2</th>\n",
       "      <td>3</td>\n",
       "      <td>1</td>\n",
       "      <td>3</td>\n",
       "      <td>Heikkinen, Miss. Laina</td>\n",
       "      <td>female</td>\n",
       "      <td>26.0</td>\n",
       "      <td>0</td>\n",
       "      <td>0</td>\n",
       "      <td>STON/O2. 3101282</td>\n",
       "      <td>7.9250</td>\n",
       "      <td>NaN</td>\n",
       "      <td>S</td>\n",
       "      <td>1886.0</td>\n",
       "    </tr>\n",
       "  </tbody>\n",
       "</table>\n",
       "</div>"
      ],
      "text/plain": [
       "   PassengerId  Survived  Pclass  \\\n",
       "0            1         0       3   \n",
       "1            2         1       1   \n",
       "2            3         1       3   \n",
       "\n",
       "                                                Name     Sex   Age  SibSP  \\\n",
       "0                            Braund, Mr. Owen Harris    male  22.0      1   \n",
       "1  Cumings, Mrs. John Bradley (Florence Briggs Th...  female  38.0      1   \n",
       "2                             Heikkinen, Miss. Laina  female  26.0      0   \n",
       "\n",
       "   Parch            Ticket     Fare Cabin Embarked     yob  \n",
       "0      0         A/5 21171   7.2500   NaN        S  1890.0  \n",
       "1      0          PC 17599  71.2833   C85        C  1874.0  \n",
       "2      0  STON/O2. 3101282   7.9250   NaN        S  1886.0  "
      ]
     },
     "execution_count": 64,
     "metadata": {},
     "output_type": "execute_result"
    }
   ],
   "source": [
    "# Applying a custom function using apply()\n",
    "def get_yob(age):\n",
    "    return 1912-age #titanic sank in 1912, we will assume is when Age was recorded\n",
    "\n",
    "df['yob'] = df['Age'].apply(get_yob)\n",
    "df.head(3)"
   ]
  },
  {
   "cell_type": "code",
   "execution_count": 65,
   "metadata": {
    "executionInfo": {
     "elapsed": 7,
     "status": "ok",
     "timestamp": 1709047590221,
     "user": {
      "displayName": "Ignacio Soteras",
      "userId": "02050793736257155229"
     },
     "user_tz": -60
    },
    "id": "4CuF1a4_QtFH"
   },
   "outputs": [],
   "source": [
    "# Apply and applymap are great for using lambda! This is the same as above\n",
    "\n",
    "df['yob'] = df['Age'].apply(lambda age: 1912-age)"
   ]
  },
  {
   "cell_type": "markdown",
   "metadata": {
    "id": "z39GKWMwQtFI"
   },
   "source": [
    "In the example above, we can see that to create a new column in pandas, we can simply assign a new Series or list to a new column name within the DataFrame."
   ]
  },
  {
   "cell_type": "markdown",
   "metadata": {
    "id": "3mWmGSuyQtFI"
   },
   "source": [
    "To edit the information in a whole column in pandas, you can simply assign a new list or array of values to the column you want to modify."
   ]
  },
  {
   "cell_type": "code",
   "execution_count": 66,
   "metadata": {
    "colab": {
     "base_uri": "https://localhost:8080/"
    },
    "executionInfo": {
     "elapsed": 397,
     "status": "ok",
     "timestamp": 1709047593914,
     "user": {
      "displayName": "Ignacio Soteras",
      "userId": "02050793736257155229"
     },
     "user_tz": -60
    },
    "id": "1lz20IAwQtFJ",
    "outputId": "40a9c41e-4588-49f4-831d-6df82a9f0ed1"
   },
   "outputs": [
    {
     "data": {
      "text/plain": [
       "0       7.25\n",
       "1      71.28\n",
       "2       7.92\n",
       "3      53.10\n",
       "4       8.05\n",
       "       ...  \n",
       "886    13.00\n",
       "887    30.00\n",
       "888    23.45\n",
       "889    30.00\n",
       "890     7.75\n",
       "Name: Fare, Length: 891, dtype: float64"
      ]
     },
     "execution_count": 66,
     "metadata": {},
     "output_type": "execute_result"
    }
   ],
   "source": [
    "df['Fare'] = df['Fare'].apply(lambda num: round(num, 2))\n",
    "df['Fare']"
   ]
  },
  {
   "cell_type": "markdown",
   "metadata": {
    "id": "kWckDgusQtFJ"
   },
   "source": [
    "### `Map()`"
   ]
  },
  {
   "cell_type": "code",
   "execution_count": 67,
   "metadata": {
    "colab": {
     "base_uri": "https://localhost:8080/",
     "height": 275
    },
    "executionInfo": {
     "elapsed": 469,
     "status": "ok",
     "timestamp": 1709047597325,
     "user": {
      "displayName": "Ignacio Soteras",
      "userId": "02050793736257155229"
     },
     "user_tz": -60
    },
    "id": "DL6okbKIQtFJ",
    "outputId": "c6b32dd5-f189-49a5-8237-27faf5cd92f4"
   },
   "outputs": [
    {
     "data": {
      "text/html": [
       "<div>\n",
       "<style scoped>\n",
       "    .dataframe tbody tr th:only-of-type {\n",
       "        vertical-align: middle;\n",
       "    }\n",
       "\n",
       "    .dataframe tbody tr th {\n",
       "        vertical-align: top;\n",
       "    }\n",
       "\n",
       "    .dataframe thead th {\n",
       "        text-align: right;\n",
       "    }\n",
       "</style>\n",
       "<table border=\"1\" class=\"dataframe\">\n",
       "  <thead>\n",
       "    <tr style=\"text-align: right;\">\n",
       "      <th></th>\n",
       "      <th>PassengerId</th>\n",
       "      <th>Survived</th>\n",
       "      <th>Pclass</th>\n",
       "      <th>Name</th>\n",
       "      <th>Sex</th>\n",
       "      <th>Age</th>\n",
       "      <th>SibSP</th>\n",
       "      <th>Parch</th>\n",
       "      <th>Ticket</th>\n",
       "      <th>Fare</th>\n",
       "      <th>Cabin</th>\n",
       "      <th>Embarked</th>\n",
       "      <th>yob</th>\n",
       "      <th>Gender_mapped</th>\n",
       "    </tr>\n",
       "  </thead>\n",
       "  <tbody>\n",
       "    <tr>\n",
       "      <th>0</th>\n",
       "      <td>1</td>\n",
       "      <td>0</td>\n",
       "      <td>3</td>\n",
       "      <td>Braund, Mr. Owen Harris</td>\n",
       "      <td>male</td>\n",
       "      <td>22.0</td>\n",
       "      <td>1</td>\n",
       "      <td>0</td>\n",
       "      <td>A/5 21171</td>\n",
       "      <td>7.25</td>\n",
       "      <td>NaN</td>\n",
       "      <td>S</td>\n",
       "      <td>1890.0</td>\n",
       "      <td>0</td>\n",
       "    </tr>\n",
       "    <tr>\n",
       "      <th>1</th>\n",
       "      <td>2</td>\n",
       "      <td>1</td>\n",
       "      <td>1</td>\n",
       "      <td>Cumings, Mrs. John Bradley (Florence Briggs Th...</td>\n",
       "      <td>female</td>\n",
       "      <td>38.0</td>\n",
       "      <td>1</td>\n",
       "      <td>0</td>\n",
       "      <td>PC 17599</td>\n",
       "      <td>71.28</td>\n",
       "      <td>C85</td>\n",
       "      <td>C</td>\n",
       "      <td>1874.0</td>\n",
       "      <td>1</td>\n",
       "    </tr>\n",
       "    <tr>\n",
       "      <th>2</th>\n",
       "      <td>3</td>\n",
       "      <td>1</td>\n",
       "      <td>3</td>\n",
       "      <td>Heikkinen, Miss. Laina</td>\n",
       "      <td>female</td>\n",
       "      <td>26.0</td>\n",
       "      <td>0</td>\n",
       "      <td>0</td>\n",
       "      <td>STON/O2. 3101282</td>\n",
       "      <td>7.92</td>\n",
       "      <td>NaN</td>\n",
       "      <td>S</td>\n",
       "      <td>1886.0</td>\n",
       "      <td>1</td>\n",
       "    </tr>\n",
       "    <tr>\n",
       "      <th>3</th>\n",
       "      <td>4</td>\n",
       "      <td>1</td>\n",
       "      <td>1</td>\n",
       "      <td>Futrelle, Mrs. Jacques Heath (Lily May Peel)</td>\n",
       "      <td>female</td>\n",
       "      <td>35.0</td>\n",
       "      <td>1</td>\n",
       "      <td>0</td>\n",
       "      <td>113803</td>\n",
       "      <td>53.10</td>\n",
       "      <td>C123</td>\n",
       "      <td>S</td>\n",
       "      <td>1877.0</td>\n",
       "      <td>1</td>\n",
       "    </tr>\n",
       "    <tr>\n",
       "      <th>4</th>\n",
       "      <td>5</td>\n",
       "      <td>0</td>\n",
       "      <td>3</td>\n",
       "      <td>Allen, Mr. William Henry</td>\n",
       "      <td>male</td>\n",
       "      <td>35.0</td>\n",
       "      <td>0</td>\n",
       "      <td>0</td>\n",
       "      <td>373450</td>\n",
       "      <td>8.05</td>\n",
       "      <td>NaN</td>\n",
       "      <td>S</td>\n",
       "      <td>1877.0</td>\n",
       "      <td>0</td>\n",
       "    </tr>\n",
       "  </tbody>\n",
       "</table>\n",
       "</div>"
      ],
      "text/plain": [
       "   PassengerId  Survived  Pclass  \\\n",
       "0            1         0       3   \n",
       "1            2         1       1   \n",
       "2            3         1       3   \n",
       "3            4         1       1   \n",
       "4            5         0       3   \n",
       "\n",
       "                                                Name     Sex   Age  SibSP  \\\n",
       "0                            Braund, Mr. Owen Harris    male  22.0      1   \n",
       "1  Cumings, Mrs. John Bradley (Florence Briggs Th...  female  38.0      1   \n",
       "2                             Heikkinen, Miss. Laina  female  26.0      0   \n",
       "3       Futrelle, Mrs. Jacques Heath (Lily May Peel)  female  35.0      1   \n",
       "4                           Allen, Mr. William Henry    male  35.0      0   \n",
       "\n",
       "   Parch            Ticket   Fare Cabin Embarked     yob  Gender_mapped  \n",
       "0      0         A/5 21171   7.25   NaN        S  1890.0              0  \n",
       "1      0          PC 17599  71.28   C85        C  1874.0              1  \n",
       "2      0  STON/O2. 3101282   7.92   NaN        S  1886.0              1  \n",
       "3      0            113803  53.10  C123        S  1877.0              1  \n",
       "4      0            373450   8.05   NaN        S  1877.0              0  "
      ]
     },
     "execution_count": 67,
     "metadata": {},
     "output_type": "execute_result"
    }
   ],
   "source": [
    "# Using map() to transform the 'Sex' column\n",
    "# male, Maaale, Mela, Male, ....\n",
    "# df['Sex'] = df['Sex'].apply(lambda x: \"male\" if x[0].lower() == \"m\" else \"female\")\n",
    "# def clean_gender(x):\n",
    "#   if x[0].lower() == \"f\":\n",
    "#        return 1\n",
    "#    elif x[0].lower() == \"m\":\n",
    "#        return 0\n",
    "#.   else:\n",
    "#        return 2\n",
    "gender_mapping = {'male': 0, 'female': 1} # { key: value for key, value in zip(df[col].unique(), range(df[col].nunique()))}\n",
    "df['Gender_mapped'] = df['Sex'].map(gender_mapping)\n",
    "df.head()"
   ]
  },
  {
   "cell_type": "code",
   "execution_count": 68,
   "metadata": {
    "colab": {
     "base_uri": "https://localhost:8080/"
    },
    "executionInfo": {
     "elapsed": 452,
     "status": "ok",
     "timestamp": 1709047601204,
     "user": {
      "displayName": "Ignacio Soteras",
      "userId": "02050793736257155229"
     },
     "user_tz": -60
    },
    "id": "sJhyMk1FQtFJ",
    "outputId": "0289ee34-c9ec-4242-cab1-6c36072fabd2"
   },
   "outputs": [
    {
     "data": {
      "text/plain": [
       "0      0\n",
       "1      1\n",
       "2      1\n",
       "3      1\n",
       "4      0\n",
       "      ..\n",
       "886    0\n",
       "887    1\n",
       "888    1\n",
       "889    0\n",
       "890    0\n",
       "Name: Sex, Length: 891, dtype: int64"
      ]
     },
     "execution_count": 68,
     "metadata": {},
     "output_type": "execute_result"
    }
   ],
   "source": [
    "# Lets do the same with apply and lambda\n",
    "df.Sex.apply(lambda x: 0 if x==\"male\" else 1)"
   ]
  },
  {
   "cell_type": "markdown",
   "metadata": {
    "id": "z3mlX1HKQtFJ"
   },
   "source": [
    "### `applyMap()`"
   ]
  },
  {
   "cell_type": "code",
   "execution_count": 69,
   "metadata": {
    "colab": {
     "base_uri": "https://localhost:8080/",
     "height": 328
    },
    "executionInfo": {
     "elapsed": 7,
     "status": "ok",
     "timestamp": 1709047603964,
     "user": {
      "displayName": "Ignacio Soteras",
      "userId": "02050793736257155229"
     },
     "user_tz": -60
    },
    "id": "e7EfLBq-QtFJ",
    "outputId": "e4d919c5-0213-4cc2-9de8-cf82f582b3aa"
   },
   "outputs": [
    {
     "name": "stderr",
     "output_type": "stream",
     "text": [
      "/var/folders/h0/_mcwfc4x16ddx_v9ng5p106r0000gn/T/ipykernel_68651/989853513.py:2: FutureWarning: DataFrame.applymap has been deprecated. Use DataFrame.map instead.\n",
      "  df = df.applymap(lambda x: x.upper() if isinstance(x, str) else x)\n"
     ]
    },
    {
     "data": {
      "text/html": [
       "<div>\n",
       "<style scoped>\n",
       "    .dataframe tbody tr th:only-of-type {\n",
       "        vertical-align: middle;\n",
       "    }\n",
       "\n",
       "    .dataframe tbody tr th {\n",
       "        vertical-align: top;\n",
       "    }\n",
       "\n",
       "    .dataframe thead th {\n",
       "        text-align: right;\n",
       "    }\n",
       "</style>\n",
       "<table border=\"1\" class=\"dataframe\">\n",
       "  <thead>\n",
       "    <tr style=\"text-align: right;\">\n",
       "      <th></th>\n",
       "      <th>PassengerId</th>\n",
       "      <th>Survived</th>\n",
       "      <th>Pclass</th>\n",
       "      <th>Name</th>\n",
       "      <th>Sex</th>\n",
       "      <th>Age</th>\n",
       "      <th>SibSP</th>\n",
       "      <th>Parch</th>\n",
       "      <th>Ticket</th>\n",
       "      <th>Fare</th>\n",
       "      <th>Cabin</th>\n",
       "      <th>Embarked</th>\n",
       "      <th>yob</th>\n",
       "      <th>Gender_mapped</th>\n",
       "    </tr>\n",
       "  </thead>\n",
       "  <tbody>\n",
       "    <tr>\n",
       "      <th>0</th>\n",
       "      <td>1</td>\n",
       "      <td>0</td>\n",
       "      <td>3</td>\n",
       "      <td>BRAUND, MR. OWEN HARRIS</td>\n",
       "      <td>MALE</td>\n",
       "      <td>22.0</td>\n",
       "      <td>1</td>\n",
       "      <td>0</td>\n",
       "      <td>A/5 21171</td>\n",
       "      <td>7.25</td>\n",
       "      <td>NaN</td>\n",
       "      <td>S</td>\n",
       "      <td>1890.0</td>\n",
       "      <td>0</td>\n",
       "    </tr>\n",
       "    <tr>\n",
       "      <th>1</th>\n",
       "      <td>2</td>\n",
       "      <td>1</td>\n",
       "      <td>1</td>\n",
       "      <td>CUMINGS, MRS. JOHN BRADLEY (FLORENCE BRIGGS TH...</td>\n",
       "      <td>FEMALE</td>\n",
       "      <td>38.0</td>\n",
       "      <td>1</td>\n",
       "      <td>0</td>\n",
       "      <td>PC 17599</td>\n",
       "      <td>71.28</td>\n",
       "      <td>C85</td>\n",
       "      <td>C</td>\n",
       "      <td>1874.0</td>\n",
       "      <td>1</td>\n",
       "    </tr>\n",
       "    <tr>\n",
       "      <th>2</th>\n",
       "      <td>3</td>\n",
       "      <td>1</td>\n",
       "      <td>3</td>\n",
       "      <td>HEIKKINEN, MISS. LAINA</td>\n",
       "      <td>FEMALE</td>\n",
       "      <td>26.0</td>\n",
       "      <td>0</td>\n",
       "      <td>0</td>\n",
       "      <td>STON/O2. 3101282</td>\n",
       "      <td>7.92</td>\n",
       "      <td>NaN</td>\n",
       "      <td>S</td>\n",
       "      <td>1886.0</td>\n",
       "      <td>1</td>\n",
       "    </tr>\n",
       "    <tr>\n",
       "      <th>3</th>\n",
       "      <td>4</td>\n",
       "      <td>1</td>\n",
       "      <td>1</td>\n",
       "      <td>FUTRELLE, MRS. JACQUES HEATH (LILY MAY PEEL)</td>\n",
       "      <td>FEMALE</td>\n",
       "      <td>35.0</td>\n",
       "      <td>1</td>\n",
       "      <td>0</td>\n",
       "      <td>113803</td>\n",
       "      <td>53.10</td>\n",
       "      <td>C123</td>\n",
       "      <td>S</td>\n",
       "      <td>1877.0</td>\n",
       "      <td>1</td>\n",
       "    </tr>\n",
       "    <tr>\n",
       "      <th>4</th>\n",
       "      <td>5</td>\n",
       "      <td>0</td>\n",
       "      <td>3</td>\n",
       "      <td>ALLEN, MR. WILLIAM HENRY</td>\n",
       "      <td>MALE</td>\n",
       "      <td>35.0</td>\n",
       "      <td>0</td>\n",
       "      <td>0</td>\n",
       "      <td>373450</td>\n",
       "      <td>8.05</td>\n",
       "      <td>NaN</td>\n",
       "      <td>S</td>\n",
       "      <td>1877.0</td>\n",
       "      <td>0</td>\n",
       "    </tr>\n",
       "  </tbody>\n",
       "</table>\n",
       "</div>"
      ],
      "text/plain": [
       "   PassengerId  Survived  Pclass  \\\n",
       "0            1         0       3   \n",
       "1            2         1       1   \n",
       "2            3         1       3   \n",
       "3            4         1       1   \n",
       "4            5         0       3   \n",
       "\n",
       "                                                Name     Sex   Age  SibSP  \\\n",
       "0                            BRAUND, MR. OWEN HARRIS    MALE  22.0      1   \n",
       "1  CUMINGS, MRS. JOHN BRADLEY (FLORENCE BRIGGS TH...  FEMALE  38.0      1   \n",
       "2                             HEIKKINEN, MISS. LAINA  FEMALE  26.0      0   \n",
       "3       FUTRELLE, MRS. JACQUES HEATH (LILY MAY PEEL)  FEMALE  35.0      1   \n",
       "4                           ALLEN, MR. WILLIAM HENRY    MALE  35.0      0   \n",
       "\n",
       "   Parch            Ticket   Fare Cabin Embarked     yob  Gender_mapped  \n",
       "0      0         A/5 21171   7.25   NaN        S  1890.0              0  \n",
       "1      0          PC 17599  71.28   C85        C  1874.0              1  \n",
       "2      0  STON/O2. 3101282   7.92   NaN        S  1886.0              1  \n",
       "3      0            113803  53.10  C123        S  1877.0              1  \n",
       "4      0            373450   8.05   NaN        S  1877.0              0  "
      ]
     },
     "execution_count": 69,
     "metadata": {},
     "output_type": "execute_result"
    }
   ],
   "source": [
    "# Using applymap() to convert all string columns to uppercase\n",
    "df = df.applymap(lambda x: x.upper() if isinstance(x, str) else x)\n",
    "\n",
    "# Displaying the modified DataFrame\n",
    "df.head()"
   ]
  },
  {
   "cell_type": "markdown",
   "metadata": {
    "id": "H7yjJBbQQtFK"
   },
   "source": [
    "### More examples"
   ]
  },
  {
   "cell_type": "markdown",
   "metadata": {
    "id": "tmLW2Y4FQtFK"
   },
   "source": [
    "#### Comparing Map and Apply"
   ]
  },
  {
   "cell_type": "markdown",
   "metadata": {
    "id": "0yI0JDkGQtFK"
   },
   "source": [
    "We have a column called \"Embarked\" containing three possible values: 'C', 'Q', and 'S'. We want to map these values to 0, 1 and 2. In this case, `apply()` with a lambda function would be complex due to the if-elif-else conditions, but `map()` can handle it more easily."
   ]
  },
  {
   "cell_type": "code",
   "execution_count": 70,
   "metadata": {
    "colab": {
     "base_uri": "https://localhost:8080/",
     "height": 206
    },
    "executionInfo": {
     "elapsed": 398,
     "status": "ok",
     "timestamp": 1709047607694,
     "user": {
      "displayName": "Ignacio Soteras",
      "userId": "02050793736257155229"
     },
     "user_tz": -60
    },
    "id": "Q0oJXD0hQtFK",
    "outputId": "47047f27-07de-4667-a56e-30913fa56606"
   },
   "outputs": [
    {
     "data": {
      "text/html": [
       "<div>\n",
       "<style scoped>\n",
       "    .dataframe tbody tr th:only-of-type {\n",
       "        vertical-align: middle;\n",
       "    }\n",
       "\n",
       "    .dataframe tbody tr th {\n",
       "        vertical-align: top;\n",
       "    }\n",
       "\n",
       "    .dataframe thead th {\n",
       "        text-align: right;\n",
       "    }\n",
       "</style>\n",
       "<table border=\"1\" class=\"dataframe\">\n",
       "  <thead>\n",
       "    <tr style=\"text-align: right;\">\n",
       "      <th></th>\n",
       "      <th>Name</th>\n",
       "      <th>Embarked_nr</th>\n",
       "    </tr>\n",
       "  </thead>\n",
       "  <tbody>\n",
       "    <tr>\n",
       "      <th>0</th>\n",
       "      <td>BRAUND, MR. OWEN HARRIS</td>\n",
       "      <td>2.0</td>\n",
       "    </tr>\n",
       "    <tr>\n",
       "      <th>1</th>\n",
       "      <td>CUMINGS, MRS. JOHN BRADLEY (FLORENCE BRIGGS TH...</td>\n",
       "      <td>0.0</td>\n",
       "    </tr>\n",
       "    <tr>\n",
       "      <th>2</th>\n",
       "      <td>HEIKKINEN, MISS. LAINA</td>\n",
       "      <td>2.0</td>\n",
       "    </tr>\n",
       "    <tr>\n",
       "      <th>3</th>\n",
       "      <td>FUTRELLE, MRS. JACQUES HEATH (LILY MAY PEEL)</td>\n",
       "      <td>2.0</td>\n",
       "    </tr>\n",
       "    <tr>\n",
       "      <th>4</th>\n",
       "      <td>ALLEN, MR. WILLIAM HENRY</td>\n",
       "      <td>2.0</td>\n",
       "    </tr>\n",
       "  </tbody>\n",
       "</table>\n",
       "</div>"
      ],
      "text/plain": [
       "                                                Name  Embarked_nr\n",
       "0                            BRAUND, MR. OWEN HARRIS          2.0\n",
       "1  CUMINGS, MRS. JOHN BRADLEY (FLORENCE BRIGGS TH...          0.0\n",
       "2                             HEIKKINEN, MISS. LAINA          2.0\n",
       "3       FUTRELLE, MRS. JACQUES HEATH (LILY MAY PEEL)          2.0\n",
       "4                           ALLEN, MR. WILLIAM HENRY          2.0"
      ]
     },
     "execution_count": 70,
     "metadata": {},
     "output_type": "execute_result"
    }
   ],
   "source": [
    "# Mapping 'Embarked' values to their full names using map()\n",
    "embarked_mapping = {'C': 0, 'Q': 1, 'S': 2}\n",
    "df['Embarked_nr'] = df['Embarked'].map(embarked_mapping)\n",
    "\n",
    "# Display the first few rows of the updated DataFrame\n",
    "df[['Name', 'Embarked_nr']].head()"
   ]
  },
  {
   "cell_type": "markdown",
   "metadata": {
    "id": "3WnDuPoLQtFK"
   },
   "source": [
    "Why is it a float?"
   ]
  },
  {
   "cell_type": "code",
   "execution_count": 71,
   "metadata": {
    "colab": {
     "base_uri": "https://localhost:8080/"
    },
    "executionInfo": {
     "elapsed": 532,
     "status": "ok",
     "timestamp": 1709047610767,
     "user": {
      "displayName": "Ignacio Soteras",
      "userId": "02050793736257155229"
     },
     "user_tz": -60
    },
    "id": "Uu4Hduf0QtFK",
    "outputId": "e42c7d8a-41ca-4532-cbe6-df2a4f20cc68"
   },
   "outputs": [
    {
     "data": {
      "text/plain": [
       "PassengerId        0\n",
       "Survived           0\n",
       "Pclass             0\n",
       "Name               0\n",
       "Sex                0\n",
       "Age              177\n",
       "SibSP              0\n",
       "Parch              0\n",
       "Ticket             0\n",
       "Fare               0\n",
       "Cabin            687\n",
       "Embarked           2\n",
       "yob              177\n",
       "Gender_mapped      0\n",
       "Embarked_nr        2\n",
       "dtype: int64"
      ]
     },
     "execution_count": 71,
     "metadata": {},
     "output_type": "execute_result"
    }
   ],
   "source": [
    "df.isna().sum() # Because Embarked has null values and it converted it to float to handle NaN value"
   ]
  },
  {
   "cell_type": "code",
   "execution_count": 72,
   "metadata": {
    "colab": {
     "base_uri": "https://localhost:8080/"
    },
    "executionInfo": {
     "elapsed": 579,
     "status": "ok",
     "timestamp": 1709047614846,
     "user": {
      "displayName": "Ignacio Soteras",
      "userId": "02050793736257155229"
     },
     "user_tz": -60
    },
    "id": "_DCQFgbXQtFK",
    "outputId": "b66f7474-30ed-4f4c-cfaf-1a2a8e878238"
   },
   "outputs": [
    {
     "data": {
      "text/plain": [
       "0      2\n",
       "1      0\n",
       "2      2\n",
       "3      2\n",
       "4      2\n",
       "      ..\n",
       "886    2\n",
       "887    2\n",
       "888    2\n",
       "889    0\n",
       "890    1\n",
       "Name: Embarked, Length: 891, dtype: int64"
      ]
     },
     "execution_count": 72,
     "metadata": {},
     "output_type": "execute_result"
    }
   ],
   "source": [
    "# Mapping 'Embarked' values to their full names using apply() and a lambda function\n",
    "df['Embarked'].apply(lambda x: 0 if x == 'C' else (1 if x == 'Q' else 2))\n",
    "\n",
    "#Note that here it doesn't convert it to float"
   ]
  },
  {
   "cell_type": "markdown",
   "metadata": {
    "id": "sTXdjis6QtFK"
   },
   "source": [
    "#### Calculating the length of the name"
   ]
  },
  {
   "cell_type": "markdown",
   "metadata": {
    "id": "efltDgD8QtFK"
   },
   "source": [
    "What if we wanted to create a new column with the length of the name?"
   ]
  },
  {
   "cell_type": "code",
   "execution_count": 73,
   "metadata": {
    "colab": {
     "base_uri": "https://localhost:8080/",
     "height": 504
    },
    "executionInfo": {
     "elapsed": 443,
     "status": "ok",
     "timestamp": 1709047618199,
     "user": {
      "displayName": "Ignacio Soteras",
      "userId": "02050793736257155229"
     },
     "user_tz": -60
    },
    "id": "6nsCM5wMQtFL",
    "outputId": "f73a281d-021b-4dae-a47e-b74d20814410"
   },
   "outputs": [
    {
     "data": {
      "text/html": [
       "<div>\n",
       "<style scoped>\n",
       "    .dataframe tbody tr th:only-of-type {\n",
       "        vertical-align: middle;\n",
       "    }\n",
       "\n",
       "    .dataframe tbody tr th {\n",
       "        vertical-align: top;\n",
       "    }\n",
       "\n",
       "    .dataframe thead th {\n",
       "        text-align: right;\n",
       "    }\n",
       "</style>\n",
       "<table border=\"1\" class=\"dataframe\">\n",
       "  <thead>\n",
       "    <tr style=\"text-align: right;\">\n",
       "      <th></th>\n",
       "      <th>PassengerId</th>\n",
       "      <th>Survived</th>\n",
       "      <th>Pclass</th>\n",
       "      <th>Name</th>\n",
       "      <th>Sex</th>\n",
       "      <th>Age</th>\n",
       "      <th>SibSP</th>\n",
       "      <th>Parch</th>\n",
       "      <th>Ticket</th>\n",
       "      <th>Fare</th>\n",
       "      <th>Cabin</th>\n",
       "      <th>Embarked</th>\n",
       "      <th>yob</th>\n",
       "      <th>Gender_mapped</th>\n",
       "      <th>Embarked_nr</th>\n",
       "      <th>Name_length</th>\n",
       "    </tr>\n",
       "  </thead>\n",
       "  <tbody>\n",
       "    <tr>\n",
       "      <th>0</th>\n",
       "      <td>1</td>\n",
       "      <td>0</td>\n",
       "      <td>3</td>\n",
       "      <td>BRAUND, MR. OWEN HARRIS</td>\n",
       "      <td>MALE</td>\n",
       "      <td>22.0</td>\n",
       "      <td>1</td>\n",
       "      <td>0</td>\n",
       "      <td>A/5 21171</td>\n",
       "      <td>7.25</td>\n",
       "      <td>NaN</td>\n",
       "      <td>S</td>\n",
       "      <td>1890.0</td>\n",
       "      <td>0</td>\n",
       "      <td>2.0</td>\n",
       "      <td>23</td>\n",
       "    </tr>\n",
       "    <tr>\n",
       "      <th>1</th>\n",
       "      <td>2</td>\n",
       "      <td>1</td>\n",
       "      <td>1</td>\n",
       "      <td>CUMINGS, MRS. JOHN BRADLEY (FLORENCE BRIGGS TH...</td>\n",
       "      <td>FEMALE</td>\n",
       "      <td>38.0</td>\n",
       "      <td>1</td>\n",
       "      <td>0</td>\n",
       "      <td>PC 17599</td>\n",
       "      <td>71.28</td>\n",
       "      <td>C85</td>\n",
       "      <td>C</td>\n",
       "      <td>1874.0</td>\n",
       "      <td>1</td>\n",
       "      <td>0.0</td>\n",
       "      <td>51</td>\n",
       "    </tr>\n",
       "    <tr>\n",
       "      <th>2</th>\n",
       "      <td>3</td>\n",
       "      <td>1</td>\n",
       "      <td>3</td>\n",
       "      <td>HEIKKINEN, MISS. LAINA</td>\n",
       "      <td>FEMALE</td>\n",
       "      <td>26.0</td>\n",
       "      <td>0</td>\n",
       "      <td>0</td>\n",
       "      <td>STON/O2. 3101282</td>\n",
       "      <td>7.92</td>\n",
       "      <td>NaN</td>\n",
       "      <td>S</td>\n",
       "      <td>1886.0</td>\n",
       "      <td>1</td>\n",
       "      <td>2.0</td>\n",
       "      <td>22</td>\n",
       "    </tr>\n",
       "    <tr>\n",
       "      <th>3</th>\n",
       "      <td>4</td>\n",
       "      <td>1</td>\n",
       "      <td>1</td>\n",
       "      <td>FUTRELLE, MRS. JACQUES HEATH (LILY MAY PEEL)</td>\n",
       "      <td>FEMALE</td>\n",
       "      <td>35.0</td>\n",
       "      <td>1</td>\n",
       "      <td>0</td>\n",
       "      <td>113803</td>\n",
       "      <td>53.10</td>\n",
       "      <td>C123</td>\n",
       "      <td>S</td>\n",
       "      <td>1877.0</td>\n",
       "      <td>1</td>\n",
       "      <td>2.0</td>\n",
       "      <td>44</td>\n",
       "    </tr>\n",
       "    <tr>\n",
       "      <th>4</th>\n",
       "      <td>5</td>\n",
       "      <td>0</td>\n",
       "      <td>3</td>\n",
       "      <td>ALLEN, MR. WILLIAM HENRY</td>\n",
       "      <td>MALE</td>\n",
       "      <td>35.0</td>\n",
       "      <td>0</td>\n",
       "      <td>0</td>\n",
       "      <td>373450</td>\n",
       "      <td>8.05</td>\n",
       "      <td>NaN</td>\n",
       "      <td>S</td>\n",
       "      <td>1877.0</td>\n",
       "      <td>0</td>\n",
       "      <td>2.0</td>\n",
       "      <td>24</td>\n",
       "    </tr>\n",
       "  </tbody>\n",
       "</table>\n",
       "</div>"
      ],
      "text/plain": [
       "   PassengerId  Survived  Pclass  \\\n",
       "0            1         0       3   \n",
       "1            2         1       1   \n",
       "2            3         1       3   \n",
       "3            4         1       1   \n",
       "4            5         0       3   \n",
       "\n",
       "                                                Name     Sex   Age  SibSP  \\\n",
       "0                            BRAUND, MR. OWEN HARRIS    MALE  22.0      1   \n",
       "1  CUMINGS, MRS. JOHN BRADLEY (FLORENCE BRIGGS TH...  FEMALE  38.0      1   \n",
       "2                             HEIKKINEN, MISS. LAINA  FEMALE  26.0      0   \n",
       "3       FUTRELLE, MRS. JACQUES HEATH (LILY MAY PEEL)  FEMALE  35.0      1   \n",
       "4                           ALLEN, MR. WILLIAM HENRY    MALE  35.0      0   \n",
       "\n",
       "   Parch            Ticket   Fare Cabin Embarked     yob  Gender_mapped  \\\n",
       "0      0         A/5 21171   7.25   NaN        S  1890.0              0   \n",
       "1      0          PC 17599  71.28   C85        C  1874.0              1   \n",
       "2      0  STON/O2. 3101282   7.92   NaN        S  1886.0              1   \n",
       "3      0            113803  53.10  C123        S  1877.0              1   \n",
       "4      0            373450   8.05   NaN        S  1877.0              0   \n",
       "\n",
       "   Embarked_nr  Name_length  \n",
       "0          2.0           23  \n",
       "1          0.0           51  \n",
       "2          2.0           22  \n",
       "3          2.0           44  \n",
       "4          2.0           24  "
      ]
     },
     "execution_count": 73,
     "metadata": {},
     "output_type": "execute_result"
    }
   ],
   "source": [
    "df['Name_length'] = df.Name.apply(len)\n",
    "df.head()"
   ]
  },
  {
   "cell_type": "markdown",
   "metadata": {
    "id": "eNv87wuGQtFL"
   },
   "source": [
    "#### Converting to float some columns with applymap()"
   ]
  },
  {
   "cell_type": "markdown",
   "metadata": {
    "id": "uhGUn45mQtFL"
   },
   "source": [
    "Lets look just as an example, how to make float all the following columns: \"PassengerId\", \"Survived\", \"Pclass\""
   ]
  },
  {
   "cell_type": "code",
   "execution_count": null,
   "metadata": {
    "colab": {
     "base_uri": "https://localhost:8080/",
     "height": 423
    },
    "executionInfo": {
     "elapsed": 418,
     "status": "ok",
     "timestamp": 1709047622036,
     "user": {
      "displayName": "Ignacio Soteras",
      "userId": "02050793736257155229"
     },
     "user_tz": -60
    },
    "id": "58P8VdbHQtFL",
    "outputId": "0a695d6e-1f1f-4705-fc5e-d95ee2693112"
   },
   "outputs": [],
   "source": [
    "df[[\"PassengerId\", \"Survived\", \"Pclass\"]].map(float)"
   ]
  },
  {
   "cell_type": "markdown",
   "metadata": {
    "id": "VWi3980eQtFL"
   },
   "source": [
    "#### Modifying cloumns names with apply()"
   ]
  },
  {
   "cell_type": "code",
   "execution_count": 75,
   "metadata": {
    "colab": {
     "base_uri": "https://localhost:8080/"
    },
    "executionInfo": {
     "elapsed": 498,
     "status": "ok",
     "timestamp": 1709047625292,
     "user": {
      "displayName": "Ignacio Soteras",
      "userId": "02050793736257155229"
     },
     "user_tz": -60
    },
    "id": "ACQlq7fGQtFL",
    "outputId": "2c74e69c-b670-4fa3-d2b1-a92a000c1133"
   },
   "outputs": [
    {
     "data": {
      "text/plain": [
       "0       passengerid\n",
       "1          survived\n",
       "2            pclass\n",
       "3              name\n",
       "4               sex\n",
       "5               age\n",
       "6             sibsp\n",
       "7             parch\n",
       "8            ticket\n",
       "9              fare\n",
       "10            cabin\n",
       "11         embarked\n",
       "12              yob\n",
       "13    gender_mapped\n",
       "14      embarked_nr\n",
       "15      name_length\n",
       "dtype: object"
      ]
     },
     "execution_count": 75,
     "metadata": {},
     "output_type": "execute_result"
    }
   ],
   "source": [
    "# I could also use the apply function by converting df.columns to Series\n",
    "pd.Series(df.columns).apply(lambda col: col.lower())"
   ]
  },
  {
   "cell_type": "markdown",
   "metadata": {
    "id": "2gNGDqpjQtFL"
   },
   "source": [
    "### 💡 Check for understanding"
   ]
  },
  {
   "cell_type": "markdown",
   "metadata": {
    "id": "0aeuFTc-QtFL"
   },
   "source": [
    "Make the column Embarked_nr as an integer type.\n",
    "\n",
    "- If you get an error, read the error, and think how you should proceed.\n",
    "- If you decide to fill the null values, use the mode() since its a categorical variable.\n",
    "- If you get another error, look at what mode() is returning in order to fix the error and convert to integer the Embarked_nr column."
   ]
  },
  {
   "cell_type": "code",
   "execution_count": null,
   "metadata": {
    "executionInfo": {
     "elapsed": 385,
     "status": "ok",
     "timestamp": 1709047630838,
     "user": {
      "displayName": "Ignacio Soteras",
      "userId": "02050793736257155229"
     },
     "user_tz": -60
    },
    "id": "RlXP6l2Ez77r"
   },
   "outputs": [],
   "source": [
    "df['Embarked_nr'].apply(int)"
   ]
  },
  {
   "cell_type": "code",
   "execution_count": 78,
   "metadata": {
    "colab": {
     "base_uri": "https://localhost:8080/"
    },
    "executionInfo": {
     "elapsed": 667,
     "status": "ok",
     "timestamp": 1709047632902,
     "user": {
      "displayName": "Ignacio Soteras",
      "userId": "02050793736257155229"
     },
     "user_tz": -60
    },
    "id": "wTTK-Osq0GaJ",
    "outputId": "68225be0-c47d-43b1-c166-5c3488d657b5"
   },
   "outputs": [
    {
     "data": {
      "text/plain": [
       "0      2\n",
       "1      0\n",
       "2      2\n",
       "3      2\n",
       "4      2\n",
       "      ..\n",
       "886    2\n",
       "887    2\n",
       "888    2\n",
       "889    0\n",
       "890    1\n",
       "Name: Embarked_nr, Length: 891, dtype: int64"
      ]
     },
     "execution_count": 78,
     "metadata": {},
     "output_type": "execute_result"
    }
   ],
   "source": [
    "df['Embarked_nr'].fillna(df['Embarked_nr'].mode()[0]).apply(int)"
   ]
  },
  {
   "cell_type": "markdown",
   "metadata": {
    "id": "4XHknv_tQtFL"
   },
   "source": [
    "### 💡 Check for understanding"
   ]
  },
  {
   "cell_type": "markdown",
   "metadata": {
    "id": "mFjykI_pQtFL"
   },
   "source": [
    "You are given a dataset of students' exam scores here: https://raw.githubusercontent.com/data-bootcamp-v4/data/main/student_performance.csv. Your task is to perform the following operations using pandas:\n",
    "\n",
    "1. Read the CSV file into a DataFrame.\n",
    "2. Create a new column \"total_score\" that calculates the total score for each student by summing their \"math score,\" \"reading score,\" and \"writing score.\"\n",
    "3. Create a new column \"grade\" that assigns a grade to each student based on the following criteria:\n",
    "   - If the total score is >= 90, the grade is \"A.\"\n",
    "   - If the total score is >= 80 and < 90, the grade is \"B.\"\n",
    "   - If the total score is >= 70 and < 80, the grade is \"C.\"\n",
    "   - If the total score is >= 60 and < 70, the grade is \"D.\"\n",
    "   - If the total score is < 60, the grade is \"F.\"\n",
    "4. Convert all student names in the \"gender\" column to uppercase.\n",
    "5. Create a new column \"is_passed\" that indicates whether each student has passed the exam or not. If the total score is >= 60, the student has passed; otherwise, they have failed.\n"
   ]
  },
  {
   "cell_type": "code",
   "execution_count": null,
   "metadata": {
    "colab": {
     "base_uri": "https://localhost:8080/",
     "height": 206
    },
    "executionInfo": {
     "elapsed": 1023,
     "status": "ok",
     "timestamp": 1709047637168,
     "user": {
      "displayName": "Ignacio Soteras",
      "userId": "02050793736257155229"
     },
     "user_tz": -60
    },
    "id": "eKpY-M-fQtFL",
    "outputId": "291340a3-428e-4f6f-feb6-b229f60f43a4"
   },
   "outputs": [],
   "source": [
    "# 1.\n",
    "df_students = pd.read_csv(\"https://raw.githubusercontent.com/data-bootcamp-v4/data/main/student_performance.csv\")\n",
    "df_students.head()"
   ]
  },
  {
   "cell_type": "code",
   "execution_count": null,
   "metadata": {
    "colab": {
     "base_uri": "https://localhost:8080/",
     "height": 223
    },
    "executionInfo": {
     "elapsed": 447,
     "status": "ok",
     "timestamp": 1709047641012,
     "user": {
      "displayName": "Ignacio Soteras",
      "userId": "02050793736257155229"
     },
     "user_tz": -60
    },
    "id": "3OkVXlyA5muU",
    "outputId": "c58558b0-077e-44b3-a1cc-68824ead2193"
   },
   "outputs": [],
   "source": [
    "# 2.\n",
    "df_students['total_score'] = df_students['math score'] + df_students['reading score'] + df_students['writing score']\n",
    "df_students.head()"
   ]
  },
  {
   "cell_type": "code",
   "execution_count": null,
   "metadata": {
    "colab": {
     "base_uri": "https://localhost:8080/",
     "height": 223
    },
    "executionInfo": {
     "elapsed": 515,
     "status": "ok",
     "timestamp": 1709047644246,
     "user": {
      "displayName": "Ignacio Soteras",
      "userId": "02050793736257155229"
     },
     "user_tz": -60
    },
    "id": "9aMxNwG_54HB",
    "outputId": "abe19bd3-cd1f-4adf-d79c-8354c8e60a6c"
   },
   "outputs": [],
   "source": [
    "# 3.\n",
    "\n",
    "def grade(x):\n",
    "    if x >= 90:\n",
    "        return \"A\"\n",
    "    elif (x >= 80) and (x < 90):\n",
    "        return \"B\"\n",
    "    elif (x >= 70) and (x < 80):\n",
    "        return \"C\"\n",
    "    elif (x >= 60) and (x < 70):\n",
    "        return \"D\"\n",
    "    else:\n",
    "        return \"F\"\n",
    "\n",
    "df_students['grade'] = df_students['total_score'].apply(grade)\n",
    "\n",
    "df_students.head()"
   ]
  },
  {
   "cell_type": "code",
   "execution_count": null,
   "metadata": {
    "colab": {
     "base_uri": "https://localhost:8080/",
     "height": 223
    },
    "executionInfo": {
     "elapsed": 441,
     "status": "ok",
     "timestamp": 1709047648384,
     "user": {
      "displayName": "Ignacio Soteras",
      "userId": "02050793736257155229"
     },
     "user_tz": -60
    },
    "id": "vOEjGtYJ6xHy",
    "outputId": "32b4e48d-4dfd-43be-ffcb-5d2b435ccad2"
   },
   "outputs": [],
   "source": [
    "# 4.\n",
    "df_students['gender'] = df_students['gender'].apply(lambda x: x.upper())\n",
    "df_students.head()"
   ]
  },
  {
   "cell_type": "code",
   "execution_count": null,
   "metadata": {
    "colab": {
     "base_uri": "https://localhost:8080/",
     "height": 223
    },
    "executionInfo": {
     "elapsed": 399,
     "status": "ok",
     "timestamp": 1709047651925,
     "user": {
      "displayName": "Ignacio Soteras",
      "userId": "02050793736257155229"
     },
     "user_tz": -60
    },
    "id": "szeFXbJa7G5u",
    "outputId": "0f318a5a-1553-49e0-d76d-866bb6f07185"
   },
   "outputs": [],
   "source": [
    "# 5.\n",
    "df_students[\"is_passed\"] = df_students['total_score'].apply(lambda x: \"Passed\" if x>= 60 else \"Failed\")\n",
    "\n",
    "df_students.head()"
   ]
  },
  {
   "cell_type": "markdown",
   "metadata": {
    "id": "Wl1IDFdBQtFL"
   },
   "source": [
    "# Filtering Data\n",
    "\n",
    "One of the primary tasks in dataset analysis is filtering rows.\n",
    "\n",
    "When filtering DataFrames in Pandas, you can use boolean indexing to select specific rows based on certain conditions. Here's a step-by-step explanation:\n",
    "\n",
    "1. Identify the column(s) you want to use as a filter condition. For example, in `housing_df` the column named 'SalePrice'.\n",
    "\n",
    "2. Create a condition using a comparison operator (e.g., `>`, `<`, `==`, etc.) and the column(s) you want to filter. For instance, to filter all rows where the 'SalePrice' is greater than 10000, you would use `condition = housing_df['SalePrice'] > 10000`.\n",
    "\n",
    "3. Use the condition to filter the DataFrame. You can do this by passing the condition inside square brackets to the DataFrame. For example, `filtered_df = housing_df[condition]` will create a new DataFrame `filtered_df` containing only the rows where the 'SalePrice' is greater than 10000.\n",
    "\n",
    "Keep in mind that the condition should evaluate to a boolean Series with the same length as the DataFrame, indicating which rows to include (True) or exclude (False).\n",
    "\n",
    "You can also combine multiple conditions using logical operators like `&` for 'and' and `|` for 'or'. For instance, to filter rows where the 'SalePrice' is greater than 10000 and the 'FullBath' is more than 1, you can use `condition = (housing_df['SalePrice'] > 10000) & (housing_df['FullBath'] > 1)`.\n",
    "\n",
    "Filtering allows you to extract specific subsets of data from your DataFrame, making it easier to analyze and work with the data that meets your criteria.\n"
   ]
  },
  {
   "cell_type": "markdown",
   "metadata": {
    "id": "tQSJffkTQtFM"
   },
   "source": [
    "### Creating a condition"
   ]
  },
  {
   "cell_type": "code",
   "execution_count": 79,
   "metadata": {
    "colab": {
     "base_uri": "https://localhost:8080/"
    },
    "executionInfo": {
     "elapsed": 442,
     "status": "ok",
     "timestamp": 1709047655757,
     "user": {
      "displayName": "Ignacio Soteras",
      "userId": "02050793736257155229"
     },
     "user_tz": -60
    },
    "id": "39MxPzRtQtFM",
    "outputId": "32b91dd6-3310-4d27-ae5d-eadc11d069d2"
   },
   "outputs": [
    {
     "data": {
      "text/plain": [
       "0       7.25\n",
       "1      71.28\n",
       "2       7.92\n",
       "3      53.10\n",
       "4       8.05\n",
       "       ...  \n",
       "886    13.00\n",
       "887    30.00\n",
       "888    23.45\n",
       "889    30.00\n",
       "890     7.75\n",
       "Name: Fare, Length: 891, dtype: float64"
      ]
     },
     "execution_count": 79,
     "metadata": {},
     "output_type": "execute_result"
    }
   ],
   "source": [
    "df.Fare"
   ]
  },
  {
   "cell_type": "code",
   "execution_count": 80,
   "metadata": {
    "colab": {
     "base_uri": "https://localhost:8080/"
    },
    "executionInfo": {
     "elapsed": 393,
     "status": "ok",
     "timestamp": 1709047659066,
     "user": {
      "displayName": "Ignacio Soteras",
      "userId": "02050793736257155229"
     },
     "user_tz": -60
    },
    "id": "SFwZym2_QtFM",
    "outputId": "79b11387-6677-4f99-fc2d-a1e5041762d2"
   },
   "outputs": [
    {
     "data": {
      "text/plain": [
       "32.204175084175084"
      ]
     },
     "execution_count": 80,
     "metadata": {},
     "output_type": "execute_result"
    }
   ],
   "source": [
    "df.Fare.mean()"
   ]
  },
  {
   "cell_type": "code",
   "execution_count": 81,
   "metadata": {
    "colab": {
     "base_uri": "https://localhost:8080/"
    },
    "executionInfo": {
     "elapsed": 1141,
     "status": "ok",
     "timestamp": 1709047661858,
     "user": {
      "displayName": "Ignacio Soteras",
      "userId": "02050793736257155229"
     },
     "user_tz": -60
    },
    "id": "6GPU16mQQtFM",
    "outputId": "84dce705-e0c9-4dbc-d794-ee11cebbc5e9"
   },
   "outputs": [
    {
     "data": {
      "text/plain": [
       "0      False\n",
       "1       True\n",
       "2      False\n",
       "3       True\n",
       "4      False\n",
       "       ...  \n",
       "886    False\n",
       "887    False\n",
       "888    False\n",
       "889    False\n",
       "890    False\n",
       "Name: Fare, Length: 891, dtype: bool"
      ]
     },
     "execution_count": 81,
     "metadata": {},
     "output_type": "execute_result"
    }
   ],
   "source": [
    "condition = df.Fare > df.Fare.mean()\n",
    "condition"
   ]
  },
  {
   "cell_type": "markdown",
   "metadata": {
    "id": "pcEtP0LUQtFM"
   },
   "source": [
    "### Filtering df"
   ]
  },
  {
   "cell_type": "code",
   "execution_count": 82,
   "metadata": {
    "colab": {
     "base_uri": "https://localhost:8080/",
     "height": 1000
    },
    "executionInfo": {
     "elapsed": 462,
     "status": "ok",
     "timestamp": 1709047664824,
     "user": {
      "displayName": "Ignacio Soteras",
      "userId": "02050793736257155229"
     },
     "user_tz": -60
    },
    "id": "cDMzVRzOQtFM",
    "outputId": "2b39007a-fd76-46ad-861b-99f2dc2fc35d",
    "scrolled": true
   },
   "outputs": [
    {
     "data": {
      "text/html": [
       "<div>\n",
       "<style scoped>\n",
       "    .dataframe tbody tr th:only-of-type {\n",
       "        vertical-align: middle;\n",
       "    }\n",
       "\n",
       "    .dataframe tbody tr th {\n",
       "        vertical-align: top;\n",
       "    }\n",
       "\n",
       "    .dataframe thead th {\n",
       "        text-align: right;\n",
       "    }\n",
       "</style>\n",
       "<table border=\"1\" class=\"dataframe\">\n",
       "  <thead>\n",
       "    <tr style=\"text-align: right;\">\n",
       "      <th></th>\n",
       "      <th>PassengerId</th>\n",
       "      <th>Survived</th>\n",
       "      <th>Pclass</th>\n",
       "      <th>Name</th>\n",
       "      <th>Sex</th>\n",
       "      <th>Age</th>\n",
       "      <th>SibSP</th>\n",
       "      <th>Parch</th>\n",
       "      <th>Ticket</th>\n",
       "      <th>Fare</th>\n",
       "      <th>Cabin</th>\n",
       "      <th>Embarked</th>\n",
       "      <th>yob</th>\n",
       "      <th>Gender_mapped</th>\n",
       "      <th>Embarked_nr</th>\n",
       "      <th>Name_length</th>\n",
       "    </tr>\n",
       "  </thead>\n",
       "  <tbody>\n",
       "    <tr>\n",
       "      <th>1</th>\n",
       "      <td>2</td>\n",
       "      <td>1</td>\n",
       "      <td>1</td>\n",
       "      <td>CUMINGS, MRS. JOHN BRADLEY (FLORENCE BRIGGS TH...</td>\n",
       "      <td>FEMALE</td>\n",
       "      <td>38.0</td>\n",
       "      <td>1</td>\n",
       "      <td>0</td>\n",
       "      <td>PC 17599</td>\n",
       "      <td>71.28</td>\n",
       "      <td>C85</td>\n",
       "      <td>C</td>\n",
       "      <td>1874.0</td>\n",
       "      <td>1</td>\n",
       "      <td>0.0</td>\n",
       "      <td>51</td>\n",
       "    </tr>\n",
       "    <tr>\n",
       "      <th>3</th>\n",
       "      <td>4</td>\n",
       "      <td>1</td>\n",
       "      <td>1</td>\n",
       "      <td>FUTRELLE, MRS. JACQUES HEATH (LILY MAY PEEL)</td>\n",
       "      <td>FEMALE</td>\n",
       "      <td>35.0</td>\n",
       "      <td>1</td>\n",
       "      <td>0</td>\n",
       "      <td>113803</td>\n",
       "      <td>53.10</td>\n",
       "      <td>C123</td>\n",
       "      <td>S</td>\n",
       "      <td>1877.0</td>\n",
       "      <td>1</td>\n",
       "      <td>2.0</td>\n",
       "      <td>44</td>\n",
       "    </tr>\n",
       "    <tr>\n",
       "      <th>6</th>\n",
       "      <td>7</td>\n",
       "      <td>0</td>\n",
       "      <td>1</td>\n",
       "      <td>MCCARTHY, MR. TIMOTHY J</td>\n",
       "      <td>MALE</td>\n",
       "      <td>54.0</td>\n",
       "      <td>0</td>\n",
       "      <td>0</td>\n",
       "      <td>17463</td>\n",
       "      <td>51.86</td>\n",
       "      <td>E46</td>\n",
       "      <td>S</td>\n",
       "      <td>1858.0</td>\n",
       "      <td>0</td>\n",
       "      <td>2.0</td>\n",
       "      <td>23</td>\n",
       "    </tr>\n",
       "    <tr>\n",
       "      <th>23</th>\n",
       "      <td>24</td>\n",
       "      <td>1</td>\n",
       "      <td>1</td>\n",
       "      <td>SLOPER, MR. WILLIAM THOMPSON</td>\n",
       "      <td>MALE</td>\n",
       "      <td>28.0</td>\n",
       "      <td>0</td>\n",
       "      <td>0</td>\n",
       "      <td>113788</td>\n",
       "      <td>35.50</td>\n",
       "      <td>A6</td>\n",
       "      <td>S</td>\n",
       "      <td>1884.0</td>\n",
       "      <td>0</td>\n",
       "      <td>2.0</td>\n",
       "      <td>28</td>\n",
       "    </tr>\n",
       "    <tr>\n",
       "      <th>27</th>\n",
       "      <td>28</td>\n",
       "      <td>0</td>\n",
       "      <td>1</td>\n",
       "      <td>FORTUNE, MR. CHARLES ALEXANDER</td>\n",
       "      <td>MALE</td>\n",
       "      <td>19.0</td>\n",
       "      <td>3</td>\n",
       "      <td>2</td>\n",
       "      <td>19950</td>\n",
       "      <td>263.00</td>\n",
       "      <td>C23 C25 C27</td>\n",
       "      <td>S</td>\n",
       "      <td>1893.0</td>\n",
       "      <td>0</td>\n",
       "      <td>2.0</td>\n",
       "      <td>30</td>\n",
       "    </tr>\n",
       "    <tr>\n",
       "      <th>...</th>\n",
       "      <td>...</td>\n",
       "      <td>...</td>\n",
       "      <td>...</td>\n",
       "      <td>...</td>\n",
       "      <td>...</td>\n",
       "      <td>...</td>\n",
       "      <td>...</td>\n",
       "      <td>...</td>\n",
       "      <td>...</td>\n",
       "      <td>...</td>\n",
       "      <td>...</td>\n",
       "      <td>...</td>\n",
       "      <td>...</td>\n",
       "      <td>...</td>\n",
       "      <td>...</td>\n",
       "      <td>...</td>\n",
       "    </tr>\n",
       "    <tr>\n",
       "      <th>856</th>\n",
       "      <td>857</td>\n",
       "      <td>1</td>\n",
       "      <td>1</td>\n",
       "      <td>WICK, MRS. GEORGE DENNICK (MARY HITCHCOCK)</td>\n",
       "      <td>FEMALE</td>\n",
       "      <td>45.0</td>\n",
       "      <td>1</td>\n",
       "      <td>1</td>\n",
       "      <td>36928</td>\n",
       "      <td>164.87</td>\n",
       "      <td>NaN</td>\n",
       "      <td>S</td>\n",
       "      <td>1867.0</td>\n",
       "      <td>1</td>\n",
       "      <td>2.0</td>\n",
       "      <td>42</td>\n",
       "    </tr>\n",
       "    <tr>\n",
       "      <th>863</th>\n",
       "      <td>864</td>\n",
       "      <td>0</td>\n",
       "      <td>3</td>\n",
       "      <td>SAGE, MISS. DOROTHY EDITH \"DOLLY\"</td>\n",
       "      <td>FEMALE</td>\n",
       "      <td>NaN</td>\n",
       "      <td>8</td>\n",
       "      <td>2</td>\n",
       "      <td>CA. 2343</td>\n",
       "      <td>69.55</td>\n",
       "      <td>NaN</td>\n",
       "      <td>S</td>\n",
       "      <td>NaN</td>\n",
       "      <td>1</td>\n",
       "      <td>2.0</td>\n",
       "      <td>33</td>\n",
       "    </tr>\n",
       "    <tr>\n",
       "      <th>867</th>\n",
       "      <td>868</td>\n",
       "      <td>0</td>\n",
       "      <td>1</td>\n",
       "      <td>ROEBLING, MR. WASHINGTON AUGUSTUS II</td>\n",
       "      <td>MALE</td>\n",
       "      <td>31.0</td>\n",
       "      <td>0</td>\n",
       "      <td>0</td>\n",
       "      <td>PC 17590</td>\n",
       "      <td>50.50</td>\n",
       "      <td>A24</td>\n",
       "      <td>S</td>\n",
       "      <td>1881.0</td>\n",
       "      <td>0</td>\n",
       "      <td>2.0</td>\n",
       "      <td>36</td>\n",
       "    </tr>\n",
       "    <tr>\n",
       "      <th>871</th>\n",
       "      <td>872</td>\n",
       "      <td>1</td>\n",
       "      <td>1</td>\n",
       "      <td>BECKWITH, MRS. RICHARD LEONARD (SALLIE MONYPENY)</td>\n",
       "      <td>FEMALE</td>\n",
       "      <td>47.0</td>\n",
       "      <td>1</td>\n",
       "      <td>1</td>\n",
       "      <td>11751</td>\n",
       "      <td>52.55</td>\n",
       "      <td>D35</td>\n",
       "      <td>S</td>\n",
       "      <td>1865.0</td>\n",
       "      <td>1</td>\n",
       "      <td>2.0</td>\n",
       "      <td>48</td>\n",
       "    </tr>\n",
       "    <tr>\n",
       "      <th>879</th>\n",
       "      <td>880</td>\n",
       "      <td>1</td>\n",
       "      <td>1</td>\n",
       "      <td>POTTER, MRS. THOMAS JR (LILY ALEXENIA WILSON)</td>\n",
       "      <td>FEMALE</td>\n",
       "      <td>56.0</td>\n",
       "      <td>0</td>\n",
       "      <td>1</td>\n",
       "      <td>11767</td>\n",
       "      <td>83.16</td>\n",
       "      <td>C50</td>\n",
       "      <td>C</td>\n",
       "      <td>1856.0</td>\n",
       "      <td>1</td>\n",
       "      <td>0.0</td>\n",
       "      <td>45</td>\n",
       "    </tr>\n",
       "  </tbody>\n",
       "</table>\n",
       "<p>211 rows × 16 columns</p>\n",
       "</div>"
      ],
      "text/plain": [
       "     PassengerId  Survived  Pclass  \\\n",
       "1              2         1       1   \n",
       "3              4         1       1   \n",
       "6              7         0       1   \n",
       "23            24         1       1   \n",
       "27            28         0       1   \n",
       "..           ...       ...     ...   \n",
       "856          857         1       1   \n",
       "863          864         0       3   \n",
       "867          868         0       1   \n",
       "871          872         1       1   \n",
       "879          880         1       1   \n",
       "\n",
       "                                                  Name     Sex   Age  SibSP  \\\n",
       "1    CUMINGS, MRS. JOHN BRADLEY (FLORENCE BRIGGS TH...  FEMALE  38.0      1   \n",
       "3         FUTRELLE, MRS. JACQUES HEATH (LILY MAY PEEL)  FEMALE  35.0      1   \n",
       "6                              MCCARTHY, MR. TIMOTHY J    MALE  54.0      0   \n",
       "23                        SLOPER, MR. WILLIAM THOMPSON    MALE  28.0      0   \n",
       "27                      FORTUNE, MR. CHARLES ALEXANDER    MALE  19.0      3   \n",
       "..                                                 ...     ...   ...    ...   \n",
       "856         WICK, MRS. GEORGE DENNICK (MARY HITCHCOCK)  FEMALE  45.0      1   \n",
       "863                  SAGE, MISS. DOROTHY EDITH \"DOLLY\"  FEMALE   NaN      8   \n",
       "867               ROEBLING, MR. WASHINGTON AUGUSTUS II    MALE  31.0      0   \n",
       "871   BECKWITH, MRS. RICHARD LEONARD (SALLIE MONYPENY)  FEMALE  47.0      1   \n",
       "879      POTTER, MRS. THOMAS JR (LILY ALEXENIA WILSON)  FEMALE  56.0      0   \n",
       "\n",
       "     Parch    Ticket    Fare        Cabin Embarked     yob  Gender_mapped  \\\n",
       "1        0  PC 17599   71.28          C85        C  1874.0              1   \n",
       "3        0    113803   53.10         C123        S  1877.0              1   \n",
       "6        0     17463   51.86          E46        S  1858.0              0   \n",
       "23       0    113788   35.50           A6        S  1884.0              0   \n",
       "27       2     19950  263.00  C23 C25 C27        S  1893.0              0   \n",
       "..     ...       ...     ...          ...      ...     ...            ...   \n",
       "856      1     36928  164.87          NaN        S  1867.0              1   \n",
       "863      2  CA. 2343   69.55          NaN        S     NaN              1   \n",
       "867      0  PC 17590   50.50          A24        S  1881.0              0   \n",
       "871      1     11751   52.55          D35        S  1865.0              1   \n",
       "879      1     11767   83.16          C50        C  1856.0              1   \n",
       "\n",
       "     Embarked_nr  Name_length  \n",
       "1            0.0           51  \n",
       "3            2.0           44  \n",
       "6            2.0           23  \n",
       "23           2.0           28  \n",
       "27           2.0           30  \n",
       "..           ...          ...  \n",
       "856          2.0           42  \n",
       "863          2.0           33  \n",
       "867          2.0           36  \n",
       "871          2.0           48  \n",
       "879          0.0           45  \n",
       "\n",
       "[211 rows x 16 columns]"
      ]
     },
     "execution_count": 82,
     "metadata": {},
     "output_type": "execute_result"
    }
   ],
   "source": [
    "filtered_df = df[condition]\n",
    "filtered_df"
   ]
  },
  {
   "cell_type": "code",
   "execution_count": 83,
   "metadata": {
    "colab": {
     "base_uri": "https://localhost:8080/",
     "height": 1000
    },
    "executionInfo": {
     "elapsed": 459,
     "status": "ok",
     "timestamp": 1709047669126,
     "user": {
      "displayName": "Ignacio Soteras",
      "userId": "02050793736257155229"
     },
     "user_tz": -60
    },
    "id": "sW8jHhQXQtFM",
    "outputId": "099e2a81-7db9-4a39-9bf0-c7008775f260",
    "scrolled": true
   },
   "outputs": [
    {
     "data": {
      "text/html": [
       "<div>\n",
       "<style scoped>\n",
       "    .dataframe tbody tr th:only-of-type {\n",
       "        vertical-align: middle;\n",
       "    }\n",
       "\n",
       "    .dataframe tbody tr th {\n",
       "        vertical-align: top;\n",
       "    }\n",
       "\n",
       "    .dataframe thead th {\n",
       "        text-align: right;\n",
       "    }\n",
       "</style>\n",
       "<table border=\"1\" class=\"dataframe\">\n",
       "  <thead>\n",
       "    <tr style=\"text-align: right;\">\n",
       "      <th></th>\n",
       "      <th>PassengerId</th>\n",
       "      <th>Survived</th>\n",
       "      <th>Pclass</th>\n",
       "      <th>Name</th>\n",
       "      <th>Sex</th>\n",
       "      <th>Age</th>\n",
       "      <th>SibSP</th>\n",
       "      <th>Parch</th>\n",
       "      <th>Ticket</th>\n",
       "      <th>Fare</th>\n",
       "      <th>Cabin</th>\n",
       "      <th>Embarked</th>\n",
       "      <th>yob</th>\n",
       "      <th>Gender_mapped</th>\n",
       "      <th>Embarked_nr</th>\n",
       "      <th>Name_length</th>\n",
       "    </tr>\n",
       "  </thead>\n",
       "  <tbody>\n",
       "    <tr>\n",
       "      <th>1</th>\n",
       "      <td>2</td>\n",
       "      <td>1</td>\n",
       "      <td>1</td>\n",
       "      <td>CUMINGS, MRS. JOHN BRADLEY (FLORENCE BRIGGS TH...</td>\n",
       "      <td>FEMALE</td>\n",
       "      <td>38.0</td>\n",
       "      <td>1</td>\n",
       "      <td>0</td>\n",
       "      <td>PC 17599</td>\n",
       "      <td>71.28</td>\n",
       "      <td>C85</td>\n",
       "      <td>C</td>\n",
       "      <td>1874.0</td>\n",
       "      <td>1</td>\n",
       "      <td>0.0</td>\n",
       "      <td>51</td>\n",
       "    </tr>\n",
       "    <tr>\n",
       "      <th>3</th>\n",
       "      <td>4</td>\n",
       "      <td>1</td>\n",
       "      <td>1</td>\n",
       "      <td>FUTRELLE, MRS. JACQUES HEATH (LILY MAY PEEL)</td>\n",
       "      <td>FEMALE</td>\n",
       "      <td>35.0</td>\n",
       "      <td>1</td>\n",
       "      <td>0</td>\n",
       "      <td>113803</td>\n",
       "      <td>53.10</td>\n",
       "      <td>C123</td>\n",
       "      <td>S</td>\n",
       "      <td>1877.0</td>\n",
       "      <td>1</td>\n",
       "      <td>2.0</td>\n",
       "      <td>44</td>\n",
       "    </tr>\n",
       "    <tr>\n",
       "      <th>6</th>\n",
       "      <td>7</td>\n",
       "      <td>0</td>\n",
       "      <td>1</td>\n",
       "      <td>MCCARTHY, MR. TIMOTHY J</td>\n",
       "      <td>MALE</td>\n",
       "      <td>54.0</td>\n",
       "      <td>0</td>\n",
       "      <td>0</td>\n",
       "      <td>17463</td>\n",
       "      <td>51.86</td>\n",
       "      <td>E46</td>\n",
       "      <td>S</td>\n",
       "      <td>1858.0</td>\n",
       "      <td>0</td>\n",
       "      <td>2.0</td>\n",
       "      <td>23</td>\n",
       "    </tr>\n",
       "    <tr>\n",
       "      <th>23</th>\n",
       "      <td>24</td>\n",
       "      <td>1</td>\n",
       "      <td>1</td>\n",
       "      <td>SLOPER, MR. WILLIAM THOMPSON</td>\n",
       "      <td>MALE</td>\n",
       "      <td>28.0</td>\n",
       "      <td>0</td>\n",
       "      <td>0</td>\n",
       "      <td>113788</td>\n",
       "      <td>35.50</td>\n",
       "      <td>A6</td>\n",
       "      <td>S</td>\n",
       "      <td>1884.0</td>\n",
       "      <td>0</td>\n",
       "      <td>2.0</td>\n",
       "      <td>28</td>\n",
       "    </tr>\n",
       "    <tr>\n",
       "      <th>27</th>\n",
       "      <td>28</td>\n",
       "      <td>0</td>\n",
       "      <td>1</td>\n",
       "      <td>FORTUNE, MR. CHARLES ALEXANDER</td>\n",
       "      <td>MALE</td>\n",
       "      <td>19.0</td>\n",
       "      <td>3</td>\n",
       "      <td>2</td>\n",
       "      <td>19950</td>\n",
       "      <td>263.00</td>\n",
       "      <td>C23 C25 C27</td>\n",
       "      <td>S</td>\n",
       "      <td>1893.0</td>\n",
       "      <td>0</td>\n",
       "      <td>2.0</td>\n",
       "      <td>30</td>\n",
       "    </tr>\n",
       "    <tr>\n",
       "      <th>...</th>\n",
       "      <td>...</td>\n",
       "      <td>...</td>\n",
       "      <td>...</td>\n",
       "      <td>...</td>\n",
       "      <td>...</td>\n",
       "      <td>...</td>\n",
       "      <td>...</td>\n",
       "      <td>...</td>\n",
       "      <td>...</td>\n",
       "      <td>...</td>\n",
       "      <td>...</td>\n",
       "      <td>...</td>\n",
       "      <td>...</td>\n",
       "      <td>...</td>\n",
       "      <td>...</td>\n",
       "      <td>...</td>\n",
       "    </tr>\n",
       "    <tr>\n",
       "      <th>856</th>\n",
       "      <td>857</td>\n",
       "      <td>1</td>\n",
       "      <td>1</td>\n",
       "      <td>WICK, MRS. GEORGE DENNICK (MARY HITCHCOCK)</td>\n",
       "      <td>FEMALE</td>\n",
       "      <td>45.0</td>\n",
       "      <td>1</td>\n",
       "      <td>1</td>\n",
       "      <td>36928</td>\n",
       "      <td>164.87</td>\n",
       "      <td>NaN</td>\n",
       "      <td>S</td>\n",
       "      <td>1867.0</td>\n",
       "      <td>1</td>\n",
       "      <td>2.0</td>\n",
       "      <td>42</td>\n",
       "    </tr>\n",
       "    <tr>\n",
       "      <th>863</th>\n",
       "      <td>864</td>\n",
       "      <td>0</td>\n",
       "      <td>3</td>\n",
       "      <td>SAGE, MISS. DOROTHY EDITH \"DOLLY\"</td>\n",
       "      <td>FEMALE</td>\n",
       "      <td>NaN</td>\n",
       "      <td>8</td>\n",
       "      <td>2</td>\n",
       "      <td>CA. 2343</td>\n",
       "      <td>69.55</td>\n",
       "      <td>NaN</td>\n",
       "      <td>S</td>\n",
       "      <td>NaN</td>\n",
       "      <td>1</td>\n",
       "      <td>2.0</td>\n",
       "      <td>33</td>\n",
       "    </tr>\n",
       "    <tr>\n",
       "      <th>867</th>\n",
       "      <td>868</td>\n",
       "      <td>0</td>\n",
       "      <td>1</td>\n",
       "      <td>ROEBLING, MR. WASHINGTON AUGUSTUS II</td>\n",
       "      <td>MALE</td>\n",
       "      <td>31.0</td>\n",
       "      <td>0</td>\n",
       "      <td>0</td>\n",
       "      <td>PC 17590</td>\n",
       "      <td>50.50</td>\n",
       "      <td>A24</td>\n",
       "      <td>S</td>\n",
       "      <td>1881.0</td>\n",
       "      <td>0</td>\n",
       "      <td>2.0</td>\n",
       "      <td>36</td>\n",
       "    </tr>\n",
       "    <tr>\n",
       "      <th>871</th>\n",
       "      <td>872</td>\n",
       "      <td>1</td>\n",
       "      <td>1</td>\n",
       "      <td>BECKWITH, MRS. RICHARD LEONARD (SALLIE MONYPENY)</td>\n",
       "      <td>FEMALE</td>\n",
       "      <td>47.0</td>\n",
       "      <td>1</td>\n",
       "      <td>1</td>\n",
       "      <td>11751</td>\n",
       "      <td>52.55</td>\n",
       "      <td>D35</td>\n",
       "      <td>S</td>\n",
       "      <td>1865.0</td>\n",
       "      <td>1</td>\n",
       "      <td>2.0</td>\n",
       "      <td>48</td>\n",
       "    </tr>\n",
       "    <tr>\n",
       "      <th>879</th>\n",
       "      <td>880</td>\n",
       "      <td>1</td>\n",
       "      <td>1</td>\n",
       "      <td>POTTER, MRS. THOMAS JR (LILY ALEXENIA WILSON)</td>\n",
       "      <td>FEMALE</td>\n",
       "      <td>56.0</td>\n",
       "      <td>0</td>\n",
       "      <td>1</td>\n",
       "      <td>11767</td>\n",
       "      <td>83.16</td>\n",
       "      <td>C50</td>\n",
       "      <td>C</td>\n",
       "      <td>1856.0</td>\n",
       "      <td>1</td>\n",
       "      <td>0.0</td>\n",
       "      <td>45</td>\n",
       "    </tr>\n",
       "  </tbody>\n",
       "</table>\n",
       "<p>211 rows × 16 columns</p>\n",
       "</div>"
      ],
      "text/plain": [
       "     PassengerId  Survived  Pclass  \\\n",
       "1              2         1       1   \n",
       "3              4         1       1   \n",
       "6              7         0       1   \n",
       "23            24         1       1   \n",
       "27            28         0       1   \n",
       "..           ...       ...     ...   \n",
       "856          857         1       1   \n",
       "863          864         0       3   \n",
       "867          868         0       1   \n",
       "871          872         1       1   \n",
       "879          880         1       1   \n",
       "\n",
       "                                                  Name     Sex   Age  SibSP  \\\n",
       "1    CUMINGS, MRS. JOHN BRADLEY (FLORENCE BRIGGS TH...  FEMALE  38.0      1   \n",
       "3         FUTRELLE, MRS. JACQUES HEATH (LILY MAY PEEL)  FEMALE  35.0      1   \n",
       "6                              MCCARTHY, MR. TIMOTHY J    MALE  54.0      0   \n",
       "23                        SLOPER, MR. WILLIAM THOMPSON    MALE  28.0      0   \n",
       "27                      FORTUNE, MR. CHARLES ALEXANDER    MALE  19.0      3   \n",
       "..                                                 ...     ...   ...    ...   \n",
       "856         WICK, MRS. GEORGE DENNICK (MARY HITCHCOCK)  FEMALE  45.0      1   \n",
       "863                  SAGE, MISS. DOROTHY EDITH \"DOLLY\"  FEMALE   NaN      8   \n",
       "867               ROEBLING, MR. WASHINGTON AUGUSTUS II    MALE  31.0      0   \n",
       "871   BECKWITH, MRS. RICHARD LEONARD (SALLIE MONYPENY)  FEMALE  47.0      1   \n",
       "879      POTTER, MRS. THOMAS JR (LILY ALEXENIA WILSON)  FEMALE  56.0      0   \n",
       "\n",
       "     Parch    Ticket    Fare        Cabin Embarked     yob  Gender_mapped  \\\n",
       "1        0  PC 17599   71.28          C85        C  1874.0              1   \n",
       "3        0    113803   53.10         C123        S  1877.0              1   \n",
       "6        0     17463   51.86          E46        S  1858.0              0   \n",
       "23       0    113788   35.50           A6        S  1884.0              0   \n",
       "27       2     19950  263.00  C23 C25 C27        S  1893.0              0   \n",
       "..     ...       ...     ...          ...      ...     ...            ...   \n",
       "856      1     36928  164.87          NaN        S  1867.0              1   \n",
       "863      2  CA. 2343   69.55          NaN        S     NaN              1   \n",
       "867      0  PC 17590   50.50          A24        S  1881.0              0   \n",
       "871      1     11751   52.55          D35        S  1865.0              1   \n",
       "879      1     11767   83.16          C50        C  1856.0              1   \n",
       "\n",
       "     Embarked_nr  Name_length  \n",
       "1            0.0           51  \n",
       "3            2.0           44  \n",
       "6            2.0           23  \n",
       "23           2.0           28  \n",
       "27           2.0           30  \n",
       "..           ...          ...  \n",
       "856          2.0           42  \n",
       "863          2.0           33  \n",
       "867          2.0           36  \n",
       "871          2.0           48  \n",
       "879          0.0           45  \n",
       "\n",
       "[211 rows x 16 columns]"
      ]
     },
     "execution_count": 83,
     "metadata": {},
     "output_type": "execute_result"
    }
   ],
   "source": [
    "# or what is the same, inside the brackets I give True/False Series in order to filter\n",
    "df[df.Fare > df.Fare.mean()]"
   ]
  },
  {
   "cell_type": "markdown",
   "metadata": {
    "id": "qNZvscvgQtFM"
   },
   "source": [
    "### Using multiple conditions"
   ]
  },
  {
   "cell_type": "code",
   "execution_count": null,
   "metadata": {
    "colab": {
     "base_uri": "https://localhost:8080/",
     "height": 1000
    },
    "executionInfo": {
     "elapsed": 754,
     "status": "ok",
     "timestamp": 1709047673942,
     "user": {
      "displayName": "Ignacio Soteras",
      "userId": "02050793736257155229"
     },
     "user_tz": -60
    },
    "id": "5OBJGqyNQtFM",
    "outputId": "6e3b0705-d14d-4c6d-de6d-5e4b8b3722f7"
   },
   "outputs": [],
   "source": [
    "# We can combine boolean operators with filters to add conditions\n",
    "# boolean operators: and is &, or is |\n",
    "df[(df.Fare > df.Fare.mean()) & (df.Fare <= 50)]\n"
   ]
  },
  {
   "cell_type": "code",
   "execution_count": null,
   "metadata": {
    "colab": {
     "base_uri": "https://localhost:8080/",
     "height": 53
    },
    "executionInfo": {
     "elapsed": 399,
     "status": "ok",
     "timestamp": 1709047677968,
     "user": {
      "displayName": "Ignacio Soteras",
      "userId": "02050793736257155229"
     },
     "user_tz": -60
    },
    "id": "3BUCuF4XQtFN",
    "outputId": "d3677545-e9c0-4241-9fc1-a0947d3eff9a"
   },
   "outputs": [],
   "source": [
    "# To avoid using many filters we can also use .isin()\n",
    "#df[(df['Fare'] > 100) & ( (df['Pclass']==3) or (df['Pclass']==2) )]\n",
    "df[(df['Fare'] > 100) & (df['Pclass'].isin([2,3]))]\n"
   ]
  },
  {
   "cell_type": "code",
   "execution_count": null,
   "metadata": {
    "executionInfo": {
     "elapsed": 3224,
     "status": "aborted",
     "timestamp": 1709047578968,
     "user": {
      "displayName": "Ignacio Soteras",
      "userId": "02050793736257155229"
     },
     "user_tz": -60
    },
    "id": "JKZZRhgCQtFN"
   },
   "outputs": [],
   "source": [
    "# We can also use between()\n",
    "\n",
    "df[df['Fare'].between(90,100)]"
   ]
  },
  {
   "cell_type": "markdown",
   "metadata": {
    "id": "NJXt4HleQtFN"
   },
   "source": [
    "# More Data Manipulation\n",
    "\n",
    "\n"
   ]
  },
  {
   "cell_type": "markdown",
   "metadata": {
    "id": "-rqLdi8jQtFN"
   },
   "source": [
    "## Setting the index"
   ]
  },
  {
   "cell_type": "markdown",
   "metadata": {
    "id": "4PG9jxcpQtFN"
   },
   "source": [
    "To set an index in pandas, you can use the `set_index()` method of the DataFrame. This method allows you to specify which column you want to use as the index for the DataFrame."
   ]
  },
  {
   "cell_type": "code",
   "execution_count": null,
   "metadata": {
    "colab": {
     "base_uri": "https://localhost:8080/",
     "height": 535
    },
    "executionInfo": {
     "elapsed": 472,
     "status": "ok",
     "timestamp": 1709047682572,
     "user": {
      "displayName": "Ignacio Soteras",
      "userId": "02050793736257155229"
     },
     "user_tz": -60
    },
    "id": "w9uzyag-QtFN",
    "outputId": "a055acd6-28e0-4099-ba00-56647d866c00"
   },
   "outputs": [],
   "source": [
    "df.set_index('PassengerId',inplace=True)\n",
    "df.head()"
   ]
  },
  {
   "cell_type": "markdown",
   "metadata": {
    "id": "1eloLWnYQtFN"
   },
   "source": [
    "## Adding/removing rows and/or columns\n",
    "\n",
    "To add or remove rows and/or columns from a pandas DataFrame, you can use the following methods:\n",
    "\n",
    "1. Adding rows:\n",
    "   - Use the `append()` method to add rows to the DataFrame.\n",
    "\n",
    "2. Removing rows:\n",
    "   - Use the `drop()` method with the row index or label to remove specific rows.\n",
    "\n",
    "3. Adding columns:\n",
    "   - Using `df[new_column]`, you simply assign a list, Series, or scalar value to the new column name\n",
    "   - Assign a new column to the DataFrame using bracket notation or the `assign()` method.\n",
    "\n",
    "4. Removing columns:\n",
    "   - Use the `drop()` method with the column name and `axis=1` to remove specific columns.\n",
    "   - Alternatively, you can use the `del` keyword to remove a column in-place."
   ]
  },
  {
   "cell_type": "code",
   "execution_count": null,
   "metadata": {
    "colab": {
     "base_uri": "https://localhost:8080/",
     "height": 1000
    },
    "executionInfo": {
     "elapsed": 393,
     "status": "ok",
     "timestamp": 1709047686938,
     "user": {
      "displayName": "Ignacio Soteras",
      "userId": "02050793736257155229"
     },
     "user_tz": -60
    },
    "id": "Ryy03oAEQtFN",
    "outputId": "71d0c803-5808-4737-8223-7d50c98202cd"
   },
   "outputs": [],
   "source": [
    "display(df.head())\n",
    "display(df.drop(1).head()) # This deletes the row with index 1\n"
   ]
  },
  {
   "cell_type": "code",
   "execution_count": null,
   "metadata": {
    "colab": {
     "base_uri": "https://localhost:8080/",
     "height": 255
    },
    "executionInfo": {
     "elapsed": 482,
     "status": "ok",
     "timestamp": 1709047690782,
     "user": {
      "displayName": "Ignacio Soteras",
      "userId": "02050793736257155229"
     },
     "user_tz": -60
    },
    "id": "Wc4Z4JLxQtFN",
    "outputId": "fb6d9216-9ff1-4d19-f70a-73e55aa8b9c6"
   },
   "outputs": [],
   "source": [
    "# This deletes a column\n",
    "\n",
    "df.drop('Name',axis=1,inplace=True)\n",
    "df.head()"
   ]
  },
  {
   "cell_type": "code",
   "execution_count": null,
   "metadata": {
    "colab": {
     "base_uri": "https://localhost:8080/",
     "height": 510
    },
    "executionInfo": {
     "elapsed": 541,
     "status": "ok",
     "timestamp": 1709047694560,
     "user": {
      "displayName": "Ignacio Soteras",
      "userId": "02050793736257155229"
     },
     "user_tz": -60
    },
    "id": "Wt_b4DrBQtFO",
    "outputId": "1860ec19-793c-40c6-d363-691692329594"
   },
   "outputs": [],
   "source": [
    "# This creates a new column\n",
    "\n",
    "df[\"Survived_bool\"] = df['Survived'].map({0: False, 1: True})\n",
    "df"
   ]
  },
  {
   "cell_type": "markdown",
   "metadata": {
    "id": "2CKwHJ3tQtFP"
   },
   "source": [
    "## 💡 Check for understanding"
   ]
  },
  {
   "cell_type": "markdown",
   "metadata": {
    "id": "SpVQaMg6QtFP"
   },
   "source": [
    "Use the `supermarket_sales.csv` file for this task.\n",
    "\n",
    "1. **Load the Data**: Use pandas to load the `supermarket_sales.csv` file into a DataFrame.\n",
    "\n",
    "2. **Null Values**: Check if the DataFrame has any null values. If there are any, count the number of null values in each column.\n",
    "\n",
    "5. **Formatting Data**: Round any floating point numbers in the DataFrame to two decimal places.\n",
    "\n",
    "6. **Cleaning Column Names**: Ensure all column names are in lowercase and replace any spaces in the column names with underscores.\n",
    "\n",
    "7. **Using `apply()`, `map()`, and `applymap()`**: Create a new column called 'total_cost' which is the product of the 'quantity' and 'unit_price' columns (assuming these columns exist in your dataset). Use the `apply()` function for this.\n",
    "\n",
    "8. **Filtering Data**: Filter the DataFrame to only include rows where 'total_cost' is greater than the average 'total_cost'.\n",
    "\n",
    "9. **Setting the Index**: Set the 'invoice_id' column (or any other unique identifier) as the index of the DataFrame.\n",
    "\n"
   ]
  },
  {
   "cell_type": "code",
   "execution_count": null,
   "metadata": {
    "executionInfo": {
     "elapsed": 561,
     "status": "ok",
     "timestamp": 1709047752848,
     "user": {
      "displayName": "Ignacio Soteras",
      "userId": "02050793736257155229"
     },
     "user_tz": -60
    },
    "id": "LU31I5GSQtFP"
   },
   "outputs": [],
   "source": [
    "url = 'https://raw.githubusercontent.com/data-bootcamp-v4/data/main/supermarket_sales.csv'"
   ]
  },
  {
   "cell_type": "code",
   "execution_count": null,
   "metadata": {
    "colab": {
     "base_uri": "https://localhost:8080/",
     "height": 348
    },
    "executionInfo": {
     "elapsed": 631,
     "status": "ok",
     "timestamp": 1709047754792,
     "user": {
      "displayName": "Ignacio Soteras",
      "userId": "02050793736257155229"
     },
     "user_tz": -60
    },
    "id": "edvpbgEMQtFP",
    "outputId": "cf64e015-f93b-46ff-a6ee-844bbd36b66b"
   },
   "outputs": [],
   "source": [
    "# Your code goes here\n",
    "# 1.\n",
    "data = pd.read_csv(url)\n",
    "data.head()"
   ]
  },
  {
   "cell_type": "code",
   "execution_count": null,
   "metadata": {
    "executionInfo": {
     "elapsed": 4,
     "status": "ok",
     "timestamp": 1709047851752,
     "user": {
      "displayName": "Ignacio Soteras",
      "userId": "02050793736257155229"
     },
     "user_tz": -60
    },
    "id": "D9sxZF7GL0ds"
   },
   "outputs": [],
   "source": [
    "# 2.\n",
    "if data.isna().sum().sum() != 0:\n",
    "    data.isna().sum()"
   ]
  },
  {
   "cell_type": "code",
   "execution_count": null,
   "metadata": {
    "colab": {
     "base_uri": "https://localhost:8080/",
     "height": 348
    },
    "executionInfo": {
     "elapsed": 432,
     "status": "ok",
     "timestamp": 1709047925930,
     "user": {
      "displayName": "Ignacio Soteras",
      "userId": "02050793736257155229"
     },
     "user_tz": -60
    },
    "id": "PkV-fQZTMMRL",
    "outputId": "c3e818e8-2dda-4505-ca51-524ffd52887a"
   },
   "outputs": [],
   "source": [
    "# 3.\n",
    "data = data.applymap(lambda x: round(x,2) if isinstance(x, float) else x)\n",
    "data.head()"
   ]
  },
  {
   "cell_type": "code",
   "execution_count": null,
   "metadata": {
    "colab": {
     "base_uri": "https://localhost:8080/"
    },
    "executionInfo": {
     "elapsed": 398,
     "status": "ok",
     "timestamp": 1709047983954,
     "user": {
      "displayName": "Ignacio Soteras",
      "userId": "02050793736257155229"
     },
     "user_tz": -60
    },
    "id": "YoC0I2E0MeXS",
    "outputId": "8a0c8ee4-db7c-4f74-8bda-b8e0f3fc9855"
   },
   "outputs": [],
   "source": [
    "# 4.\n",
    "data.columns = [ col.replace(\" \",\"_\").lower() for col in data.columns ]\n",
    "data.columns"
   ]
  },
  {
   "cell_type": "code",
   "execution_count": null,
   "metadata": {
    "executionInfo": {
     "elapsed": 419,
     "status": "ok",
     "timestamp": 1709052282600,
     "user": {
      "displayName": "Ignacio Soteras",
      "userId": "02050793736257155229"
     },
     "user_tz": -60
    },
    "id": "GEo9zx3CMsY8"
   },
   "outputs": [],
   "source": [
    "# 5.\n",
    "def compute(x,y):\n",
    "    return x*y\n",
    "data['total_cost'] = data['quantity'] * data['unit_price']\n",
    "\n",
    "data['total_cost'] = list(map(lambda x, y : x*y, data['quantity'], data['unit_price']))\n",
    "data['total_cost'] = compute(data[\"quantity\"].to_numpy(),data[\"unit_price\"].to_numpy())\n",
    "data['total_cost'] = data[['quantity','unit_price']].apply(lambda x: x.quantity * x.unit_price, axis=1)"
   ]
  },
  {
   "cell_type": "code",
   "execution_count": null,
   "metadata": {
    "executionInfo": {
     "elapsed": 434,
     "status": "ok",
     "timestamp": 1709052286922,
     "user": {
      "displayName": "Ignacio Soteras",
      "userId": "02050793736257155229"
     },
     "user_tz": -60
    },
    "id": "wYRQ3GNJOENt"
   },
   "outputs": [],
   "source": [
    "# 6.\n",
    "data = data[data['total_cost'] > data['total_cost'].mean() ]"
   ]
  },
  {
   "cell_type": "code",
   "execution_count": null,
   "metadata": {
    "colab": {
     "base_uri": "https://localhost:8080/",
     "height": 344
    },
    "executionInfo": {
     "elapsed": 471,
     "status": "ok",
     "timestamp": 1709052295845,
     "user": {
      "displayName": "Ignacio Soteras",
      "userId": "02050793736257155229"
     },
     "user_tz": -60
    },
    "id": "yPXbX6KxOOTy",
    "outputId": "7654fdaa-441a-4c4f-b128-cc482eb4fb13"
   },
   "outputs": [],
   "source": [
    "# 7.\n",
    "data = data.set_index('invoice_id')\n",
    "data.head()"
   ]
  },
  {
   "cell_type": "markdown",
   "metadata": {
    "id": "0YwO9eazQtFP"
   },
   "source": [
    "# Summary"
   ]
  },
  {
   "cell_type": "markdown",
   "metadata": {
    "id": "_vNdEciwQtFQ"
   },
   "source": [
    "1. Null Values:\n",
    "   - Null values (also known as missing values) can hinder data analysis and modeling.\n",
    "   - Use `isnull()` or `isna()` to check for null values in a DataFrame or Series.\n",
    "   - Use `any()` and `sum()` to efficiently assess data quality.\n",
    "   - Use `dropna()` to remove rows or columns with null values from a DataFrame.\n",
    "   - Parameters like subset, how, and thresh can control the behavior of dropping rows or columns.\n",
    "   - Use `fillna()` to replace null values with specific values, such as `mean()`, `median()`, or forward/backward fill.\n",
    "\n",
    "5. Formatting Data:\n",
    "   - Use `round()` and `format()` to format numeric values.\n",
    "   - Use f-strings, `format()` or % to format strings and use string methods like `lower()`, `upper()`, `title()`, `strip()`, `split()`, and `replace()`.\n",
    "\n",
    "6. Cleaning Column Names:\n",
    "   - Use df.columns to access column names.\n",
    "   - Modify column names using df.columns or `rename()`.\n",
    "\n",
    "7. Using `apply()`, `map()`, and `applymap()`:\n",
    "   - `apply()`: Applies a custom function to a Series.\n",
    "   - `map()`: Transforms Series elements based on a dictionary.\n",
    "   - `applymap()`: Applies a custom function to every element in a DataFrame.\n",
    "\n",
    "8. Filtering Data:\n",
    "   - Filter rows in a DataFrame using boolean indexing.\n",
    "   - Use comparison operators (<, >, ==) to create conditions.\n",
    "   - Combine multiple conditions using logical operators (& for 'and', | for 'or').\n",
    "\n",
    "9. Setting the Index:\n",
    "   - Use `set_index()` to set an index for the DataFrame.\n",
    "\n",
    "10. Adding/Removing Rows and Columns:\n",
    "   - Use `append()` to add rows to the DataFrame.\n",
    "   - Use `drop()` with the row index/label to remove specific rows.\n",
    "   - Use bracket notation, `assign()`, or `drop()` with axis=1 to add/remove columns."
   ]
  }
 ],
 "metadata": {
  "colab": {
   "provenance": []
  },
  "kernelspec": {
   "display_name": "Python 3 (ipykernel)",
   "language": "python",
   "name": "python3"
  },
  "language_info": {
   "codemirror_mode": {
    "name": "ipython",
    "version": 3
   },
   "file_extension": ".py",
   "mimetype": "text/x-python",
   "name": "python",
   "nbconvert_exporter": "python",
   "pygments_lexer": "ipython3",
   "version": "3.11.8"
  },
  "toc": {
   "base_numbering": 1,
   "nav_menu": {},
   "number_sections": true,
   "sideBar": true,
   "skip_h1_title": false,
   "title_cell": "Table of Contents",
   "title_sidebar": "Contents",
   "toc_cell": true,
   "toc_position": {
    "height": "537.273px",
    "left": "459.996px",
    "top": "290.824px",
    "width": "260px"
   },
   "toc_section_display": true,
   "toc_window_display": true
  }
 },
 "nbformat": 4,
 "nbformat_minor": 4
}
